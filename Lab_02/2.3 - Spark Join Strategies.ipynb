{
 "cells": [
  {
   "cell_type": "code",
   "execution_count": 0,
   "metadata": {
    "application/vnd.databricks.v1+cell": {
     "cellMetadata": {
      "byteLimit": 2048000,
      "rowLimit": 10000
     },
     "inputWidgets": {},
     "nuid": "b066cdd9-0531-469a-b119-c695dd5c4c27",
     "showTitle": false,
     "tableResultSettingsMap": {},
     "title": ""
    }
   },
   "outputs": [
    {
     "output_type": "display_data",
     "data": {
      "text/html": [
       "\n",
       "            <div>\n",
       "                <p><b>SparkSession - hive</b></p>\n",
       "                \n",
       "        <div>\n",
       "            <p><b>SparkContext</b></p>\n",
       "\n",
       "            <p><a href=\"/?o=2935262652118254#setting/sparkui/1101-185609-6qkb96eu/driver-3684270375913434541\">Spark UI</a></p>\n",
       "\n",
       "            <dl>\n",
       "              <dt>Version</dt>\n",
       "                <dd><code>v3.3.2</code></dd>\n",
       "              <dt>Master</dt>\n",
       "                <dd><code>local[8]</code></dd>\n",
       "              <dt>AppName</dt>\n",
       "                <dd><code>Databricks Shell</code></dd>\n",
       "            </dl>\n",
       "        </div>\n",
       "        \n",
       "            </div>\n",
       "        "
      ]
     },
     "metadata": {
      "application/vnd.databricks.v1+output": {
       "addedWidgets": {},
       "arguments": {},
       "data": "\n            <div>\n                <p><b>SparkSession - hive</b></p>\n                \n        <div>\n            <p><b>SparkContext</b></p>\n\n            <p><a href=\"/?o=2935262652118254#setting/sparkui/1101-185609-6qkb96eu/driver-3684270375913434541\">Spark UI</a></p>\n\n            <dl>\n              <dt>Version</dt>\n                <dd><code>v3.3.2</code></dd>\n              <dt>Master</dt>\n                <dd><code>local[8]</code></dd>\n              <dt>AppName</dt>\n                <dd><code>Databricks Shell</code></dd>\n            </dl>\n        </div>\n        \n            </div>\n        ",
       "datasetInfos": [],
       "metadata": {},
       "removedWidgets": [],
       "textData": null,
       "type": "htmlSandbox"
      }
     },
     "output_type": "display_data"
    }
   ],
   "source": [
    "from pyspark.sql import SparkSession\n",
    "from pyspark.sql.types import *\n",
    "from pyspark.sql.functions import *\n",
    "\n",
    "spark = (\n",
    "            SparkSession\n",
    "                .builder\n",
    "                .appName(\"SparkJoinsApp\")\n",
    "                .master(\"local[4]\")\n",
    "    \n",
    "                .config(\"spark.dynamicAllocation.enabled\", \"false\")\n",
    "                .config(\"spark.sql.adaptive.enabled\", \"false\")\n",
    "    \n",
    "                .enableHiveSupport()\n",
    "                \n",
    "                .getOrCreate()\n",
    "        )\n",
    "\n",
    "sc = spark.sparkContext\n",
    "\n",
    "spark"
   ]
  },
  {
   "cell_type": "code",
   "execution_count": 0,
   "metadata": {
    "application/vnd.databricks.v1+cell": {
     "cellMetadata": {
      "byteLimit": 2048000,
      "rowLimit": 10000
     },
     "inputWidgets": {},
     "nuid": "509177a3-83a4-4c8c-8971-266233ba03da",
     "showTitle": false,
     "tableResultSettingsMap": {},
     "title": ""
    }
   },
   "outputs": [
    {
     "output_type": "display_data",
     "data": {
      "text/html": [
       "<style>pre { white-space: pre !important; }</style>"
      ]
     },
     "metadata": {
      "application/vnd.databricks.v1+output": {
       "addedWidgets": {},
       "arguments": {},
       "data": "<style>pre { white-space: pre !important; }</style>",
       "datasetInfos": [],
       "metadata": {},
       "removedWidgets": [],
       "textData": null,
       "type": "htmlSandbox"
      }
     },
     "output_type": "display_data"
    }
   ],
   "source": [
    "from IPython.display import *\n",
    "display(HTML(\"<style>pre { white-space: pre !important; }</style>\"))"
   ]
  },
  {
   "cell_type": "markdown",
   "metadata": {
    "application/vnd.databricks.v1+cell": {
     "cellMetadata": {
      "byteLimit": 2048000,
      "rowLimit": 10000
     },
     "inputWidgets": {},
     "nuid": "61417617-051b-4f11-af23-550aab91094b",
     "showTitle": false,
     "tableResultSettingsMap": {},
     "title": ""
    }
   },
   "source": [
    "### Change Auto Broadcast setting\n",
    "\n",
    "In real-life scenario, only disable if there is a specific use case, otherwise keep it enabled"
   ]
  },
  {
   "cell_type": "code",
   "execution_count": 0,
   "metadata": {
    "application/vnd.databricks.v1+cell": {
     "cellMetadata": {
      "byteLimit": 2048000,
      "rowLimit": 10000
     },
     "inputWidgets": {},
     "nuid": "475b7da8-9c73-4351-8c0a-5e60ce3a204c",
     "showTitle": false,
     "tableResultSettingsMap": {},
     "title": ""
    }
   },
   "outputs": [
    {
     "output_type": "stream",
     "name": "stdout",
     "output_type": "stream",
     "text": [
      "Out[32]: '10485760b'"
     ]
    }
   ],
   "source": [
    "# Check default value\n",
    "\n",
    "spark.conf.get( \"spark.sql.autoBroadcastJoinThreshold\" )"
   ]
  },
  {
   "cell_type": "code",
   "execution_count": 0,
   "metadata": {
    "application/vnd.databricks.v1+cell": {
     "cellMetadata": {
      "byteLimit": 2048000,
      "rowLimit": 10000
     },
     "inputWidgets": {},
     "nuid": "60ee2c37-1f9b-4fcb-accb-759ea4cab729",
     "showTitle": false,
     "tableResultSettingsMap": {},
     "title": ""
    }
   },
   "outputs": [],
   "source": [
    "# Disable auto broadcast by setting value to -1\n",
    "\n",
    "spark.conf.set( \"spark.sql.autoBroadcastJoinThreshold\", \"-1\" )"
   ]
  },
  {
   "cell_type": "markdown",
   "metadata": {
    "application/vnd.databricks.v1+cell": {
     "cellMetadata": {
      "byteLimit": 2048000,
      "rowLimit": 10000
     },
     "inputWidgets": {},
     "nuid": "dbea77c5-9264-4159-965d-eaf5a0aab0ef",
     "showTitle": false,
     "tableResultSettingsMap": {},
     "title": ""
    }
   },
   "source": [
    "### Read files"
   ]
  },
  {
   "cell_type": "code",
   "execution_count": 0,
   "metadata": {
    "application/vnd.databricks.v1+cell": {
     "cellMetadata": {
      "byteLimit": 2048000,
      "rowLimit": 10000
     },
     "inputWidgets": {},
     "nuid": "17c9f912-0c3a-43e7-8fb9-85dbbda370bc",
     "showTitle": false,
     "tableResultSettingsMap": {},
     "title": ""
    }
   },
   "outputs": [
    {
     "output_type": "stream",
     "name": "stdout",
     "output_type": "stream",
     "text": [
      "Out[34]: 3675412"
     ]
    }
   ],
   "source": [
    "# Create schema for Yellow Taxi Data\n",
    "\n",
    "yellowTaxiSchema = (\n",
    "                        StructType\n",
    "                        ([ \n",
    "                            StructField(\"VendorId\"               , IntegerType()   , True),\n",
    "                            StructField(\"PickupTime\"             , TimestampType() , True),\n",
    "                            StructField(\"DropTime\"               , TimestampType() , True),                            \n",
    "                            StructField(\"PassengerCount\"         , DoubleType()    , True),\n",
    "                            StructField(\"TripDistance\"           , DoubleType()    , True),\n",
    "                            StructField(\"RateCodeId\"             , DoubleType()    , True),                            \n",
    "                            StructField(\"StoreAndFwdFlag\"        , StringType()    , True),\n",
    "                            StructField(\"PickupLocationId\"       , IntegerType()   , True),\n",
    "                            StructField(\"DropLocationId\"         , IntegerType()   , True),                            \n",
    "                            StructField(\"PaymentType\"            , IntegerType()   , True),                            \n",
    "                            StructField(\"FareAmount\"             , DoubleType()    , True),\n",
    "                            StructField(\"Extra\"                  , DoubleType()    , True),\n",
    "                            StructField(\"MtaTax\"                 , DoubleType()    , True),\n",
    "                            StructField(\"TipAmount\"              , DoubleType()    , True),\n",
    "                            StructField(\"TollsAmount\"            , DoubleType()    , True),\n",
    "                            StructField(\"ImprovementSurcharge\"   , DoubleType()    , True),\n",
    "                            StructField(\"TotalAmount\"            , DoubleType()    , True),\n",
    "                            StructField(\"CongestionSurcharge\"    , DoubleType()    , True),\n",
    "                            StructField(\"AirportFee\"             , DoubleType()    , True)\n",
    "                        ])\n",
    "                   )\n",
    "\n",
    "yellowTaxiDF = (\n",
    "                  spark\n",
    "                    .read\n",
    "                    .option(\"header\", \"true\")    \n",
    "                    .schema(yellowTaxiSchema)    \n",
    "                    .csv(\"/FileStore/tables/YellowTaxis_202210.csv\")\n",
    "               )\n",
    "\n",
    "yellowTaxiDF.count()"
   ]
  },
  {
   "cell_type": "code",
   "execution_count": 0,
   "metadata": {
    "application/vnd.databricks.v1+cell": {
     "cellMetadata": {
      "byteLimit": 2048000,
      "rowLimit": 10000
     },
     "inputWidgets": {},
     "nuid": "eebedfa0-5914-498f-97a2-1442290cf537",
     "showTitle": false,
     "tableResultSettingsMap": {},
     "title": ""
    }
   },
   "outputs": [
    {
     "output_type": "stream",
     "name": "stdout",
     "output_type": "stream",
     "text": [
      "Out[35]: 265"
     ]
    }
   ],
   "source": [
    "taxiZonesSchema = \"PickupLocationId INT, Borough STRING, Zone STRING, ServiceZone STRING\"\n",
    "\n",
    "taxiZonesDF = (\n",
    "                  spark\n",
    "                    .read                    \n",
    "                    .schema(taxiZonesSchema)\n",
    "                    .csv(\"/FileStore/tables/TaxiZones.csv\")\n",
    "              )\n",
    "\n",
    "taxiZonesDF.count()"
   ]
  },
  {
   "cell_type": "markdown",
   "metadata": {
    "application/vnd.databricks.v1+cell": {
     "cellMetadata": {
      "byteLimit": 2048000,
      "rowLimit": 10000
     },
     "inputWidgets": {},
     "nuid": "a7c7ff4d-1b1c-4911-8363-d53ff31eb6d5",
     "showTitle": false,
     "tableResultSettingsMap": {},
     "title": ""
    }
   },
   "source": [
    "### Join large and small datasets\n",
    "\n",
    "Auto-broadcast is already disabled"
   ]
  },
  {
   "cell_type": "code",
   "execution_count": 0,
   "metadata": {
    "application/vnd.databricks.v1+cell": {
     "cellMetadata": {
      "byteLimit": 2048000,
      "rowLimit": 10000
     },
     "inputWidgets": {},
     "nuid": "4f8c2086-18fc-4101-972c-0e652cb2a02d",
     "showTitle": false,
     "tableResultSettingsMap": {},
     "title": ""
    }
   },
   "outputs": [
    {
     "output_type": "stream",
     "name": "stdout",
     "output_type": "stream",
     "text": [
      "+--------+-------------------+-------------------+--------------+------------+----------+---------------+----------------+--------------+-----------+----------+-----+------+---------+-----------+--------------------+-----------+-------------------+----------+----------------+---------+---------------+-----------+\n|VendorId|         PickupTime|           DropTime|PassengerCount|TripDistance|RateCodeId|StoreAndFwdFlag|PickupLocationId|DropLocationId|PaymentType|FareAmount|Extra|MtaTax|TipAmount|TollsAmount|ImprovementSurcharge|TotalAmount|CongestionSurcharge|AirportFee|PickupLocationId|  Borough|           Zone|ServiceZone|\n+--------+-------------------+-------------------+--------------+------------+----------+---------------+----------------+--------------+-----------+----------+-----+------+---------+-----------+--------------------+-----------+-------------------+----------+----------------+---------+---------------+-----------+\n|       1|2022-10-01 00:39:18|2022-10-01 00:53:51|           1.0|         2.7|       1.0|              N|             148|           186|          1|      11.5|  3.0|   0.5|      3.8|        0.0|                 0.3|       19.1|                2.5|       0.0|             148|Manhattan|Lower East Side|Yellow Zone|\n|       1|2022-10-01 00:32:43|2022-10-01 00:40:22|           1.0|         0.9|       1.0|              N|             148|            87|          4|       6.5|  3.0|   0.5|      0.0|        0.0|                 0.3|       10.3|                2.5|       0.0|             148|Manhattan|Lower East Side|Yellow Zone|\n|       2|2022-10-01 00:47:08|2022-10-01 00:58:18|           5.0|        1.75|       1.0|              N|             148|           114|          1|       9.0|  0.5|   0.5|     2.56|        0.0|                 0.3|      15.36|                2.5|       0.0|             148|Manhattan|Lower East Side|Yellow Zone|\n|       2|2022-10-01 01:09:39|2022-10-01 01:23:49|           5.0|        2.62|       1.0|              N|             148|           233|          1|      11.5|  0.5|   0.5|     3.06|        0.0|                 0.3|      18.36|                2.5|       0.0|             148|Manhattan|Lower East Side|Yellow Zone|\n|       1|2022-10-01 00:06:36|2022-10-01 00:33:08|           2.0|         4.0|       1.0|              N|             148|           225|          1|      19.0|  3.0|   0.5|     4.55|        0.0|                 0.3|      27.35|                2.5|       0.0|             148|Manhattan|Lower East Side|Yellow Zone|\n|       2|2022-10-01 00:28:58|2022-10-01 00:41:32|           2.0|        2.02|       1.0|              N|             148|           170|          1|      10.0|  0.5|   0.5|      2.0|        0.0|                 0.3|       15.8|                2.5|       0.0|             148|Manhattan|Lower East Side|Yellow Zone|\n|       2|2022-10-01 00:18:16|2022-10-01 00:36:07|           1.0|        2.33|       1.0|              N|             148|           158|          1|      12.5|  0.5|   0.5|     3.26|        0.0|                 0.3|      19.56|                2.5|       0.0|             148|Manhattan|Lower East Side|Yellow Zone|\n|       2|2022-10-01 00:33:23|2022-10-01 00:47:00|           1.0|        4.17|       1.0|              N|             148|           163|          1|      14.5|  0.5|   0.5|      1.5|        0.0|                 0.3|       19.8|                2.5|       0.0|             148|Manhattan|Lower East Side|Yellow Zone|\n|       2|2022-10-01 00:50:59|2022-10-01 01:05:08|           1.0|        3.43|       1.0|              N|             148|           233|          2|      13.0|  0.5|   0.5|      0.0|        0.0|                 0.3|       16.8|                2.5|       0.0|             148|Manhattan|Lower East Side|Yellow Zone|\n|       1|2022-10-01 00:46:56|2022-10-01 00:55:09|           1.0|         1.8|       1.0|              N|             148|           233|          1|       7.5|  3.0|   0.5|     2.25|        0.0|                 0.3|      13.55|                2.5|       0.0|             148|Manhattan|Lower East Side|Yellow Zone|\n|       2|2022-10-01 00:50:01|2022-10-01 00:59:56|           1.0|         1.3|       1.0|              N|             148|            79|          1|       8.0|  0.5|   0.5|     2.36|        0.0|                 0.3|      14.16|                2.5|       0.0|             148|Manhattan|Lower East Side|Yellow Zone|\n|       2|2022-10-01 00:11:51|2022-10-01 00:37:21|           1.0|       10.63|       1.0|              N|             148|           178|          1|      31.0|  0.5|   0.5|      8.7|        0.0|                 0.3|       43.5|                2.5|       0.0|             148|Manhattan|Lower East Side|Yellow Zone|\n|       2|2022-10-01 00:14:36|2022-10-01 00:42:47|           2.0|        5.86|       1.0|              N|             148|           239|          1|      22.5|  0.5|   0.5|     7.89|        0.0|                 0.3|      34.19|                2.5|       0.0|             148|Manhattan|Lower East Side|Yellow Zone|\n|       2|2022-10-01 00:30:41|2022-10-01 00:55:11|           1.0|        4.69|       1.0|              N|             148|            50|          1|      19.5|  0.5|   0.5|     4.66|        0.0|                 0.3|      27.96|                2.5|       0.0|             148|Manhattan|Lower East Side|Yellow Zone|\n|       2|2022-10-01 00:15:06|2022-10-01 00:26:18|           1.0|        1.45|       1.0|              N|             148|             4|          1|       8.5|  0.5|   0.5|      4.0|        0.0|                 0.3|       16.3|                2.5|       0.0|             148|Manhattan|Lower East Side|Yellow Zone|\n|       2|2022-10-01 00:15:37|2022-10-01 00:30:28|           1.0|        2.17|       1.0|              N|             148|           107|          1|      11.5|  0.5|   0.5|     3.06|        0.0|                 0.3|      18.36|                2.5|       0.0|             148|Manhattan|Lower East Side|Yellow Zone|\n|       2|2022-10-01 00:43:54|2022-10-01 01:03:12|           1.0|        4.64|       1.0|              N|             148|            62|          1|      17.5|  0.5|   0.5|      4.0|        0.0|                 0.3|       25.3|                2.5|       0.0|             148|Manhattan|Lower East Side|Yellow Zone|\n|       1|2022-10-01 00:05:00|2022-10-01 00:18:03|           2.0|         2.7|       1.0|              N|             148|           229|          1|      11.5|  3.0|   0.5|      2.0|        0.0|                 0.3|       17.3|                2.5|       0.0|             148|Manhattan|Lower East Side|Yellow Zone|\n|       2|2022-10-01 00:35:33|2022-10-01 00:48:38|           1.0|        4.77|       1.0|              N|             148|           256|          2|      16.0|  0.5|   0.5|      0.0|        0.0|                 0.3|       19.8|                2.5|       0.0|             148|Manhattan|Lower East Side|Yellow Zone|\n|       2|2022-10-01 00:46:09|2022-10-01 01:00:50|           1.0|        2.45|       1.0|              N|             148|           158|          1|      11.0|  0.5|   0.5|      1.5|        0.0|                 0.3|       16.3|                2.5|       0.0|             148|Manhattan|Lower East Side|Yellow Zone|\n+--------+-------------------+-------------------+--------------+------------+----------+---------------+----------------+--------------+-----------+----------+-----+------+---------+-----------+--------------------+-----------+-------------------+----------+----------------+---------+---------------+-----------+\nonly showing top 20 rows\n\n"
     ]
    }
   ],
   "source": [
    "joinedDF = (\n",
    "                yellowTaxiDF\n",
    "                    .join\n",
    "                    (\n",
    "                        taxiZonesDF,\n",
    "                        \n",
    "                        yellowTaxiDF.PickupLocationId == taxiZonesDF.PickupLocationId,\n",
    "                        \n",
    "                        \"inner\"\n",
    "                    )\n",
    "            )\n",
    "\n",
    "joinedDF.show()"
   ]
  },
  {
   "cell_type": "markdown",
   "metadata": {
    "application/vnd.databricks.v1+cell": {
     "cellMetadata": {
      "byteLimit": 2048000,
      "rowLimit": 10000
     },
     "inputWidgets": {},
     "nuid": "3a7b753a-3796-483a-b0e5-516ca0f792ba",
     "showTitle": false,
     "tableResultSettingsMap": {},
     "title": ""
    }
   },
   "source": [
    "### Option 1 - Broadcast Hash Join: Set join threshold"
   ]
  },
  {
   "cell_type": "code",
   "execution_count": 0,
   "metadata": {
    "application/vnd.databricks.v1+cell": {
     "cellMetadata": {
      "byteLimit": 2048000,
      "rowLimit": 10000
     },
     "inputWidgets": {},
     "nuid": "aacd7ce0-a270-4522-b984-0d8ef6ec91b9",
     "showTitle": false,
     "tableResultSettingsMap": {},
     "title": ""
    }
   },
   "outputs": [],
   "source": [
    "# Will not run. Will manually perform broadcast\n",
    "\n",
    "spark.conf.set(\"spark.sql.autoBroadcastJoinThreshold\", \"10485760b\")\n"
   ]
  },
  {
   "cell_type": "markdown",
   "metadata": {
    "application/vnd.databricks.v1+cell": {
     "cellMetadata": {
      "byteLimit": 2048000,
      "rowLimit": 10000
     },
     "inputWidgets": {},
     "nuid": "ec552448-97f9-417a-b378-a744fffc3c02",
     "showTitle": false,
     "tableResultSettingsMap": {},
     "title": ""
    }
   },
   "source": [
    "### Option 2 - Broadcast Hash Join: Manually broadcast small dataset\n",
    "\n",
    "In case below, Taxi Zones is smaller dataset, so manually broadcast it. <br/>\n",
    "\n",
    "Perform broadcast manually if \"smaller\" dataset size is bigger than auto threshold size."
   ]
  },
  {
   "cell_type": "code",
   "execution_count": 0,
   "metadata": {
    "application/vnd.databricks.v1+cell": {
     "cellMetadata": {
      "byteLimit": 2048000,
      "rowLimit": 10000
     },
     "inputWidgets": {},
     "nuid": "0a1dd975-8875-4077-9988-b7c5827e420d",
     "showTitle": false,
     "tableResultSettingsMap": {},
     "title": ""
    }
   },
   "outputs": [
    {
     "output_type": "stream",
     "name": "stdout",
     "output_type": "stream",
     "text": [
      "+--------+-------------------+-------------------+--------------+------------+----------+---------------+----------------+--------------+-----------+----------+-----+------+---------+-----------+--------------------+-----------+-------------------+----------+----------------+---------+--------------------+-----------+\n|VendorId|         PickupTime|           DropTime|PassengerCount|TripDistance|RateCodeId|StoreAndFwdFlag|PickupLocationId|DropLocationId|PaymentType|FareAmount|Extra|MtaTax|TipAmount|TollsAmount|ImprovementSurcharge|TotalAmount|CongestionSurcharge|AirportFee|PickupLocationId|  Borough|                Zone|ServiceZone|\n+--------+-------------------+-------------------+--------------+------------+----------+---------------+----------------+--------------+-----------+----------+-----+------+---------+-----------+--------------------+-----------+-------------------+----------+----------------+---------+--------------------+-----------+\n|       1|2022-10-01 00:03:41|2022-10-01 00:18:39|           1.0|         1.7|       1.0|              N|             249|           107|          1|       9.5|  3.0|   0.5|     2.65|        0.0|                 0.3|      15.95|                2.5|       0.0|             249|Manhattan|        West Village|Yellow Zone|\n|       2|2022-10-01 00:14:30|2022-10-01 00:19:48|           2.0|        0.72|       1.0|              N|             151|           238|          2|       5.5|  0.5|   0.5|      0.0|        0.0|                 0.3|        9.3|                2.5|       0.0|             151|Manhattan|    Manhattan Valley|Yellow Zone|\n|       2|2022-10-01 00:27:13|2022-10-01 00:37:41|           1.0|        1.74|       1.0|              N|             238|           166|          1|       9.0|  0.5|   0.5|     2.06|        0.0|                 0.3|      12.36|                0.0|       0.0|             238|Manhattan|Upper West Side N...|Yellow Zone|\n|       1|2022-10-01 00:32:53|2022-10-01 00:38:55|           0.0|         1.3|       1.0|              N|             142|           239|          1|       6.5|  3.0|   0.5|     2.05|        0.0|                 0.3|      12.35|                2.5|       0.0|             142|Manhattan| Lincoln Square East|Yellow Zone|\n|       1|2022-10-01 00:44:55|2022-10-01 00:50:21|           0.0|         1.0|       1.0|              N|             238|           166|          1|       6.0|  0.5|   0.5|      1.8|        0.0|                 0.3|        9.1|                0.0|       0.0|             238|Manhattan|Upper West Side N...|Yellow Zone|\n|       1|2022-10-01 00:22:52|2022-10-01 00:52:14|           1.0|         6.8|       1.0|              Y|             186|            41|          2|      25.5|  3.0|   0.5|      0.0|        0.0|                 0.3|       29.3|                2.5|       0.0|             186|Manhattan|Penn Station/Madi...|Yellow Zone|\n|       2|2022-10-01 00:33:19|2022-10-01 00:44:51|           3.0|        1.88|       1.0|              N|             162|           145|          2|      10.5|  0.5|   0.5|      0.0|        0.0|                 0.3|       14.3|                2.5|       0.0|             162|Manhattan|        Midtown East|Yellow Zone|\n|       1|2022-10-01 00:02:42|2022-10-01 00:50:01|           1.0|        12.2|       1.0|              N|             100|            22|          1|      41.0|  3.0|   0.5|      3.0|        0.0|                 0.3|       47.8|                2.5|       0.0|             100|Manhattan|    Garment District|Yellow Zone|\n|       2|2022-10-01 00:06:35|2022-10-01 00:24:38|           1.0|        7.79|       1.0|              N|             138|           112|          1|      23.5|  0.5|   0.5|     4.96|        0.0|                 0.3|      31.01|                0.0|      1.25|             138|   Queens|   LaGuardia Airport|   Airports|\n|       2|2022-10-01 00:29:25|2022-10-01 00:43:15|           1.0|        4.72|       1.0|              N|             145|            75|          1|      14.5|  0.5|   0.5|      1.5|        0.0|                 0.3|       19.8|                2.5|       0.0|             145|   Queens|Long Island City/...|  Boro Zone|\n|       1|2022-10-01 00:01:55|2022-10-01 00:20:16|           1.0|         8.8|       1.0|              N|             138|           236|          1|      26.0| 4.25|   0.5|     5.64|       6.55|                 0.3|      43.24|                2.5|      1.25|             138|   Queens|   LaGuardia Airport|   Airports|\n|       1|2022-10-01 00:27:48|2022-10-01 00:59:50|           1.0|         8.6|       1.0|              N|             140|            36|          1|      29.5|  3.0|   0.5|      6.0|        0.0|                 0.3|       39.3|                2.5|       0.0|             140|Manhattan|     Lenox Hill East|Yellow Zone|\n|       1|2022-10-01 00:05:27|2022-10-01 00:35:33|           4.0|        12.0|       1.0|              N|              70|           230|          2|      36.5|  3.0|   0.5|      0.0|       6.55|                 0.3|      46.85|                2.5|       0.0|              70|   Queens|       East Elmhurst|  Boro Zone|\n|       1|2022-10-01 00:38:53|2022-10-01 00:48:13|           2.0|         1.4|       1.0|              N|             230|            68|          1|       8.5|  3.0|   0.5|     3.05|        0.0|                 0.3|      15.35|                2.5|       0.0|             230|Manhattan|Times Sq/Theatre ...|Yellow Zone|\n|       2|2022-10-01 00:24:40|2022-10-01 00:30:23|           1.0|        0.76|       1.0|              N|              79|           113|          1|       5.5|  0.5|   0.5|     0.93|        0.0|                 0.3|      10.23|                2.5|       0.0|              79|Manhattan|        East Village|Yellow Zone|\n|       2|2022-10-01 00:32:22|2022-10-01 00:58:55|           1.0|         7.8|       1.0|              N|             113|           116|          1|      26.5|  0.5|   0.5|     6.06|        0.0|                 0.3|      36.36|                2.5|       0.0|             113|Manhattan|Greenwich Village...|Yellow Zone|\n|       2|2022-10-01 00:17:08|2022-10-01 00:30:50|           2.0|         2.9|       1.0|              N|              13|           249|          1|      12.0|  0.5|   0.5|      2.8|        0.0|                 0.3|       18.6|                2.5|       0.0|              13|Manhattan|   Battery Park City|Yellow Zone|\n|       2|2022-10-01 00:32:14|2022-10-01 00:44:35|           1.0|        1.71|       1.0|              N|             249|            79|          1|       9.0|  0.5|   0.5|     2.56|        0.0|                 0.3|      15.36|                2.5|       0.0|             249|Manhattan|        West Village|Yellow Zone|\n|       2|2022-10-01 00:09:24|2022-10-01 00:21:45|           1.0|         2.3|       1.0|              N|              48|           249|          1|      10.0|  0.5|   0.5|     2.76|        0.0|                 0.3|      16.56|                2.5|       0.0|              48|Manhattan|        Clinton East|Yellow Zone|\n|       2|2022-10-01 00:22:29|2022-10-01 00:33:53|           2.0|        1.67|       1.0|              N|             249|           224|          1|       8.5|  0.5|   0.5|     2.46|        0.0|                 0.3|      14.76|                2.5|       0.0|             249|Manhattan|        West Village|Yellow Zone|\n+--------+-------------------+-------------------+--------------+------------+----------+---------------+----------------+--------------+-----------+----------+-----+------+---------+-----------+--------------------+-----------+-------------------+----------+----------------+---------+--------------------+-----------+\nonly showing top 20 rows\n\n"
     ]
    }
   ],
   "source": [
    "# Manually broadcast Taxi Zones\n",
    "\n",
    "joinedDF = (\n",
    "                yellowTaxiDF\n",
    "                    .join\n",
    "                    (\n",
    "                        broadcast(taxiZonesDF),\n",
    "                        \n",
    "                        yellowTaxiDF.PickupLocationId == taxiZonesDF.PickupLocationId,\n",
    "                        \"inner\"\n",
    "                    )\n",
    "            )\n",
    "\n",
    "joinedDF.show()"
   ]
  },
  {
   "cell_type": "code",
   "execution_count": 0,
   "metadata": {
    "application/vnd.databricks.v1+cell": {
     "cellMetadata": {
      "byteLimit": 2048000,
      "rowLimit": 10000
     },
     "inputWidgets": {},
     "nuid": "8bc4f24c-3c7a-4db3-9d4e-ede451c54774",
     "showTitle": false,
     "tableResultSettingsMap": {},
     "title": ""
    }
   },
   "outputs": [],
   "source": []
  },
  {
   "cell_type": "markdown",
   "metadata": {
    "application/vnd.databricks.v1+cell": {
     "cellMetadata": {
      "byteLimit": 2048000,
      "rowLimit": 10000
     },
     "inputWidgets": {},
     "nuid": "673f773b-7774-452e-97e2-66f78e09fdc6",
     "showTitle": false,
     "tableResultSettingsMap": {},
     "title": ""
    }
   },
   "source": [
    "### Optimize shuffle sort merge join performance with Bucketing"
   ]
  },
  {
   "cell_type": "markdown",
   "metadata": {
    "application/vnd.databricks.v1+cell": {
     "cellMetadata": {
      "byteLimit": 2048000,
      "rowLimit": 10000
     },
     "inputWidgets": {},
     "nuid": "249f6de0-c3aa-43fc-a0ba-d648b10c1ad8",
     "showTitle": false,
     "tableResultSettingsMap": {},
     "title": ""
    }
   },
   "source": [
    "### Create two views on a large DataFrame\n",
    "\n",
    "Note using same DataFrame for joining is for demo purpose only. <br/>\n",
    "In real-life scenario, you would be (likely) joining two different datasets."
   ]
  },
  {
   "cell_type": "code",
   "execution_count": 0,
   "metadata": {
    "application/vnd.databricks.v1+cell": {
     "cellMetadata": {
      "byteLimit": 2048000,
      "rowLimit": 10000
     },
     "inputWidgets": {},
     "nuid": "3bfeed57-aa31-4b59-8a41-7f107247e5fa",
     "showTitle": false,
     "tableResultSettingsMap": {},
     "title": ""
    }
   },
   "outputs": [],
   "source": [
    "\n",
    "yellowTaxiDF.createOrReplaceTempView(\"YellowTaxis1_Unbucketed\")\n",
    "\n",
    "yellowTaxiDF.createOrReplaceTempView(\"YellowTaxis2_Unbucketed\")"
   ]
  },
  {
   "cell_type": "markdown",
   "metadata": {
    "application/vnd.databricks.v1+cell": {
     "cellMetadata": {
      "byteLimit": 2048000,
      "rowLimit": 10000
     },
     "inputWidgets": {},
     "nuid": "f73454a7-b0ae-48ce-be40-70c11174722e",
     "showTitle": false,
     "tableResultSettingsMap": {},
     "title": ""
    }
   },
   "source": [
    "### Join two unbucketed datasets\n",
    "\n",
    "This should perform Shuffle Sort Merge Join"
   ]
  },
  {
   "cell_type": "code",
   "execution_count": 0,
   "metadata": {
    "application/vnd.databricks.v1+cell": {
     "cellMetadata": {
      "byteLimit": 2048000,
      "rowLimit": 10000
     },
     "inputWidgets": {},
     "nuid": "30e4edc9-707a-46dc-b70b-1ee26371cc20",
     "showTitle": false,
     "tableResultSettingsMap": {},
     "title": ""
    }
   },
   "outputs": [
    {
     "output_type": "stream",
     "name": "stdout",
     "output_type": "stream",
     "text": [
      "+--------+-------------------+-------------------+--------------+------------+----------+---------------+----------------+--------------+-----------+----------+-----+------+---------+-----------+--------------------+-----------+-------------------+----------+--------+-------------------+-------------------+--------------+------------+----------+---------------+----------------+--------------+-----------+----------+-----+------+---------+-----------+--------------------+-----------+-------------------+----------+\n|VendorId|         PickupTime|           DropTime|PassengerCount|TripDistance|RateCodeId|StoreAndFwdFlag|PickupLocationId|DropLocationId|PaymentType|FareAmount|Extra|MtaTax|TipAmount|TollsAmount|ImprovementSurcharge|TotalAmount|CongestionSurcharge|AirportFee|VendorId|         PickupTime|           DropTime|PassengerCount|TripDistance|RateCodeId|StoreAndFwdFlag|PickupLocationId|DropLocationId|PaymentType|FareAmount|Extra|MtaTax|TipAmount|TollsAmount|ImprovementSurcharge|TotalAmount|CongestionSurcharge|AirportFee|\n+--------+-------------------+-------------------+--------------+------------+----------+---------------+----------------+--------------+-----------+----------+-----+------+---------+-----------+--------------------+-----------+-------------------+----------+--------+-------------------+-------------------+--------------+------------+----------+---------------+----------------+--------------+-----------+----------+-----+------+---------+-----------+--------------------+-----------+-------------------+----------+\n|       1|2022-10-01 00:39:18|2022-10-01 00:53:51|           1.0|         2.7|       1.0|              N|             148|           186|          1|      11.5|  3.0|   0.5|      3.8|        0.0|                 0.3|       19.1|                2.5|       0.0|       2|2022-10-01 00:59:34|2022-10-01 01:07:40|           5.0|         0.8|       1.0|              N|             114|           148|          1|       6.5|  0.5|   0.5|     2.06|        0.0|                 0.3|      12.36|                2.5|       0.0|\n|       1|2022-10-01 00:39:18|2022-10-01 00:53:51|           1.0|         2.7|       1.0|              N|             148|           186|          1|      11.5|  3.0|   0.5|      3.8|        0.0|                 0.3|       19.1|                2.5|       0.0|       2|2022-10-01 00:11:48|2022-10-01 00:34:02|           1.0|         5.3|       1.0|              N|             141|           148|          1|      20.0|  0.5|   0.5|     4.76|        0.0|                 0.3|      28.56|                2.5|       0.0|\n|       1|2022-10-01 00:39:18|2022-10-01 00:53:51|           1.0|         2.7|       1.0|              N|             148|           186|          1|      11.5|  3.0|   0.5|      3.8|        0.0|                 0.3|       19.1|                2.5|       0.0|       1|2022-10-01 00:54:29|2022-10-01 01:09:11|           1.0|         2.3|       1.0|              N|             234|           148|          1|      11.5|  3.0|   0.5|     3.05|        0.0|                 0.3|      18.35|                2.5|       0.0|\n|       1|2022-10-01 00:39:18|2022-10-01 00:53:51|           1.0|         2.7|       1.0|              N|             148|           186|          1|      11.5|  3.0|   0.5|      3.8|        0.0|                 0.3|       19.1|                2.5|       0.0|       2|2022-10-01 00:02:12|2022-10-01 00:16:26|           1.0|        1.44|       1.0|              N|             231|           148|          1|      10.5|  0.5|   0.5|     2.86|        0.0|                 0.3|      17.16|                2.5|       0.0|\n|       1|2022-10-01 00:39:18|2022-10-01 00:53:51|           1.0|         2.7|       1.0|              N|             148|           186|          1|      11.5|  3.0|   0.5|      3.8|        0.0|                 0.3|       19.1|                2.5|       0.0|       2|2022-10-01 00:03:25|2022-10-01 00:32:20|           1.0|        4.07|       1.0|              N|             163|           148|          1|      19.5|  0.5|   0.5|      4.0|        0.0|                 0.3|       27.3|                2.5|       0.0|\n|       1|2022-10-01 00:39:18|2022-10-01 00:53:51|           1.0|         2.7|       1.0|              N|             148|           186|          1|      11.5|  3.0|   0.5|      3.8|        0.0|                 0.3|       19.1|                2.5|       0.0|       2|2022-10-01 00:45:04|2022-10-01 01:11:43|           2.0|       18.13|       2.0|              N|             132|           148|          2|      52.0|  0.0|   0.5|      0.0|        0.0|                 0.3|       55.3|                2.5|       0.0|\n|       1|2022-10-01 00:39:18|2022-10-01 00:53:51|           1.0|         2.7|       1.0|              N|             148|           186|          1|      11.5|  3.0|   0.5|      3.8|        0.0|                 0.3|       19.1|                2.5|       0.0|       1|2022-10-01 00:33:24|2022-10-01 00:46:54|           1.0|         2.3|       1.0|              N|             246|           148|          1|       9.0|  3.0|   0.5|      1.0|        0.0|                 0.3|       13.8|                2.5|       0.0|\n|       1|2022-10-01 00:39:18|2022-10-01 00:53:51|           1.0|         2.7|       1.0|              N|             148|           186|          1|      11.5|  3.0|   0.5|      3.8|        0.0|                 0.3|       19.1|                2.5|       0.0|       2|2022-10-01 00:18:22|2022-10-01 00:28:59|           1.0|        1.88|       1.0|              N|             234|           148|          1|       9.5|  0.5|   0.5|     2.66|        0.0|                 0.3|      15.96|                2.5|       0.0|\n|       1|2022-10-01 00:39:18|2022-10-01 00:53:51|           1.0|         2.7|       1.0|              N|             148|           186|          1|      11.5|  3.0|   0.5|      3.8|        0.0|                 0.3|       19.1|                2.5|       0.0|       2|2022-10-01 00:06:15|2022-10-01 00:14:12|           1.0|        1.17|       1.0|              N|             231|           148|          1|       7.0|  0.5|   0.5|     2.16|        0.0|                 0.3|      12.96|                2.5|       0.0|\n|       1|2022-10-01 00:39:18|2022-10-01 00:53:51|           1.0|         2.7|       1.0|              N|             148|           186|          1|      11.5|  3.0|   0.5|      3.8|        0.0|                 0.3|       19.1|                2.5|       0.0|       2|2022-10-01 00:37:14|2022-10-01 00:41:38|           1.0|        0.67|       1.0|              N|              79|           148|          1|       5.0|  0.5|   0.5|      2.2|        0.0|                 0.3|       11.0|                2.5|       0.0|\n|       1|2022-10-01 00:39:18|2022-10-01 00:53:51|           1.0|         2.7|       1.0|              N|             148|           186|          1|      11.5|  3.0|   0.5|      3.8|        0.0|                 0.3|       19.1|                2.5|       0.0|       2|2022-10-01 00:07:36|2022-10-01 00:32:28|           2.0|        4.64|       1.0|              N|              48|           148|          1|      19.0|  0.5|   0.5|      5.7|        0.0|                 0.3|       28.5|                2.5|       0.0|\n|       1|2022-10-01 00:39:18|2022-10-01 00:53:51|           1.0|         2.7|       1.0|              N|             148|           186|          1|      11.5|  3.0|   0.5|      3.8|        0.0|                 0.3|       19.1|                2.5|       0.0|       1|2022-10-01 00:54:09|2022-10-01 01:10:31|           1.0|         2.9|       1.0|              N|             164|           148|          2|      13.5|  3.0|   0.5|      0.0|        0.0|                 0.3|       17.3|                2.5|       0.0|\n|       1|2022-10-01 00:39:18|2022-10-01 00:53:51|           1.0|         2.7|       1.0|              N|             148|           186|          1|      11.5|  3.0|   0.5|      3.8|        0.0|                 0.3|       19.1|                2.5|       0.0|       1|2022-10-01 00:03:49|2022-10-01 00:42:02|           2.0|         6.3|       1.0|              N|             237|           148|          2|      28.0|  3.0|   0.5|      0.0|        0.0|                 0.3|       31.8|                2.5|       0.0|\n|       1|2022-10-01 00:39:18|2022-10-01 00:53:51|           1.0|         2.7|       1.0|              N|             148|           186|          1|      11.5|  3.0|   0.5|      3.8|        0.0|                 0.3|       19.1|                2.5|       0.0|       2|2022-10-01 00:17:35|2022-10-01 00:36:05|           1.0|        1.88|       1.0|              N|             158|           148|          1|      12.5|  0.5|   0.5|     4.08|        0.0|                 0.3|      20.38|                2.5|       0.0|\n|       1|2022-10-01 00:39:18|2022-10-01 00:53:51|           1.0|         2.7|       1.0|              N|             148|           186|          1|      11.5|  3.0|   0.5|      3.8|        0.0|                 0.3|       19.1|                2.5|       0.0|       1|2022-10-01 00:47:00|2022-10-01 00:55:18|           2.0|         1.5|       1.0|              N|             231|           148|          1|       8.0|  2.5|   0.5|      0.0|        0.0|                 0.3|       11.3|                2.5|       0.0|\n|       1|2022-10-01 00:39:18|2022-10-01 00:53:51|           1.0|         2.7|       1.0|              N|             148|           186|          1|      11.5|  3.0|   0.5|      3.8|        0.0|                 0.3|       19.1|                2.5|       0.0|       2|2022-10-01 00:17:10|2022-10-01 00:29:31|           1.0|        2.01|       1.0|              N|             234|           148|          1|      10.0|  0.5|   0.5|     3.45|        0.0|                 0.3|      17.25|                2.5|       0.0|\n|       1|2022-10-01 00:39:18|2022-10-01 00:53:51|           1.0|         2.7|       1.0|              N|             148|           186|          1|      11.5|  3.0|   0.5|      3.8|        0.0|                 0.3|       19.1|                2.5|       0.0|       2|2022-10-01 00:07:35|2022-10-01 00:15:43|           1.0|        1.06|       1.0|              N|              45|           148|          1|       7.0|  0.5|   0.5|     3.24|        0.0|                 0.3|      14.04|                2.5|       0.0|\n|       1|2022-10-01 00:39:18|2022-10-01 00:53:51|           1.0|         2.7|       1.0|              N|             148|           186|          1|      11.5|  3.0|   0.5|      3.8|        0.0|                 0.3|       19.1|                2.5|       0.0|       2|2022-10-01 00:36:56|2022-10-01 00:49:26|           1.0|        1.81|       1.0|              N|              90|           148|          1|      10.0|  0.5|   0.5|      1.0|        0.0|                 0.3|       14.8|                2.5|       0.0|\n|       1|2022-10-01 00:39:18|2022-10-01 00:53:51|           1.0|         2.7|       1.0|              N|             148|           186|          1|      11.5|  3.0|   0.5|      3.8|        0.0|                 0.3|       19.1|                2.5|       0.0|       1|2022-10-01 00:01:04|2022-10-01 00:10:08|           1.0|         0.8|       1.0|              N|             148|           148|          1|       7.0|  3.0|   0.5|     2.15|        0.0|                 0.3|      12.95|                2.5|       0.0|\n|       1|2022-10-01 00:39:18|2022-10-01 00:53:51|           1.0|         2.7|       1.0|              N|             148|           186|          1|      11.5|  3.0|   0.5|      3.8|        0.0|                 0.3|       19.1|                2.5|       0.0|       2|2022-10-01 00:31:35|2022-10-01 00:50:02|           1.0|        6.06|       1.0|              N|             237|           148|          1|      20.0|  0.5|   0.5|     5.95|        0.0|                 0.3|      29.75|                2.5|       0.0|\n+--------+-------------------+-------------------+--------------+------------+----------+---------------+----------------+--------------+-----------+----------+-----+------+---------+-----------+--------------------+-----------+-------------------+----------+--------+-------------------+-------------------+--------------+------------+----------+---------------+----------------+--------------+-----------+----------+-----+------+---------+-----------+--------------------+-----------+-------------------+----------+\nonly showing top 20 rows\n\n"
     ]
    }
   ],
   "source": [
    "spark.sql(\"\"\"\n",
    "\n",
    "SELECT *\n",
    "\n",
    "FROM YellowTaxis1_Unbucketed b1\n",
    "\n",
    "    JOIN YellowTaxis2_Unbucketed b2 ON b1.PickupLocationId = b2.DropLocationId\n",
    "\n",
    "\"\"\").show()"
   ]
  },
  {
   "cell_type": "markdown",
   "metadata": {
    "application/vnd.databricks.v1+cell": {
     "cellMetadata": {
      "byteLimit": 2048000,
      "rowLimit": 10000
     },
     "inputWidgets": {},
     "nuid": "81f693d1-5cf4-4e2e-a470-ea4638b2182d",
     "showTitle": false,
     "tableResultSettingsMap": {},
     "title": ""
    }
   },
   "source": [
    "### Write datasets as tables with bucketing\n",
    "\n",
    "1. Bucketing should be on columns that would be used in joins <br/>\n",
    "2. Both datasets should be stored with same number of buckets"
   ]
  },
  {
   "cell_type": "code",
   "execution_count": 0,
   "metadata": {
    "application/vnd.databricks.v1+cell": {
     "cellMetadata": {
      "byteLimit": 2048000,
      "rowLimit": 10000
     },
     "inputWidgets": {},
     "nuid": "31d9a4b1-909f-4388-998d-a108752370ba",
     "showTitle": false,
     "tableResultSettingsMap": {},
     "title": ""
    }
   },
   "outputs": [],
   "source": [
    "(\n",
    "    yellowTaxiDF\n",
    "            .write\n",
    "    \n",
    "            .bucketBy(4, \"PickupLocationId\")\n",
    "    \n",
    "            #.sortBy(\"PickupLocationId\")      Optionally sort the data\n",
    "            \n",
    "            .option(\"header\", \"true\")\n",
    "            .option(\"dateFormat\", \"yyyy-MM-dd HH:mm:ss.S\")    \n",
    "            .mode(\"overwrite\")    \n",
    "            .format(\"csv\")\n",
    "    \n",
    "            .saveAsTable(\"YellowTaxis_PickupBucket\")\n",
    ")\n",
    "\n",
    "(\n",
    "    yellowTaxiDF\n",
    "            .write\n",
    "    \n",
    "            .bucketBy(4, \"DropLocationId\")\n",
    "    \n",
    "            #.sortBy(\"DropLocationId\")       Optionally sort the data\n",
    "    \n",
    "            .option(\"header\", \"true\")\n",
    "            .option(\"dateFormat\", \"yyyy-MM-dd HH:mm:ss.S\")    \n",
    "            .mode(\"overwrite\")    \n",
    "            .format(\"csv\")\n",
    "    \n",
    "            .saveAsTable(\"YellowTaxis_DropBucket\")\n",
    ")"
   ]
  },
  {
   "cell_type": "markdown",
   "metadata": {
    "application/vnd.databricks.v1+cell": {
     "cellMetadata": {
      "byteLimit": 2048000,
      "rowLimit": 10000
     },
     "inputWidgets": {},
     "nuid": "175eca49-5992-49ff-91cd-02b7af909790",
     "showTitle": false,
     "tableResultSettingsMap": {},
     "title": ""
    }
   },
   "source": [
    "### Join two bucketed tables\n",
    "\n",
    "1. Bucketing is on columns being used in joins <br/>\n",
    "2. Both tables have same number of buckets"
   ]
  },
  {
   "cell_type": "code",
   "execution_count": 0,
   "metadata": {
    "application/vnd.databricks.v1+cell": {
     "cellMetadata": {
      "byteLimit": 2048000,
      "rowLimit": 10000
     },
     "inputWidgets": {},
     "nuid": "d67d0ce4-e843-41fa-97e4-8fd43281863f",
     "showTitle": false,
     "tableResultSettingsMap": {},
     "title": ""
    }
   },
   "outputs": [
    {
     "output_type": "stream",
     "name": "stdout",
     "output_type": "stream",
     "text": [
      "+--------+-------------------+-------------------+--------------+------------+----------+---------------+----------------+--------------+-----------+----------+-----+------+---------+-----------+--------------------+-----------+-------------------+----------+--------+-------------------+-------------------+--------------+------------+----------+---------------+----------------+--------------+-----------+----------+-----+------+---------+-----------+--------------------+-----------+-------------------+----------+\n|VendorId|         PickupTime|           DropTime|PassengerCount|TripDistance|RateCodeId|StoreAndFwdFlag|PickupLocationId|DropLocationId|PaymentType|FareAmount|Extra|MtaTax|TipAmount|TollsAmount|ImprovementSurcharge|TotalAmount|CongestionSurcharge|AirportFee|VendorId|         PickupTime|           DropTime|PassengerCount|TripDistance|RateCodeId|StoreAndFwdFlag|PickupLocationId|DropLocationId|PaymentType|FareAmount|Extra|MtaTax|TipAmount|TollsAmount|ImprovementSurcharge|TotalAmount|CongestionSurcharge|AirportFee|\n+--------+-------------------+-------------------+--------------+------------+----------+---------------+----------------+--------------+-----------+----------+-----+------+---------+-----------+--------------------+-----------+-------------------+----------+--------+-------------------+-------------------+--------------+------------+----------+---------------+----------------+--------------+-----------+----------+-----+------+---------+-----------+--------------------+-----------+-------------------+----------+\n|       2|2022-10-01 01:02:06|2022-10-01 01:13:58|           1.0|        4.26|       1.0|              N|              12|            52|          2|      14.0|  0.5|   0.5|      0.0|        0.0|                 0.3|       17.8|                2.5|       0.0|       2|2022-10-01 00:53:19|2022-10-01 00:57:10|           1.0|        0.81|       1.0|              N|              87|            12|          1|       5.0|  0.5|   0.5|     1.76|        0.0|                 0.3|      10.56|                2.5|       0.0|\n|       2|2022-10-01 01:02:06|2022-10-01 01:13:58|           1.0|        4.26|       1.0|              N|              12|            52|          2|      14.0|  0.5|   0.5|      0.0|        0.0|                 0.3|       17.8|                2.5|       0.0|       2|2022-10-01 02:31:00|2022-10-01 02:43:39|           1.0|        2.85|       1.0|              N|              79|            12|          2|      11.5|  0.5|   0.5|      0.0|        0.0|                 0.3|       15.3|                2.5|       0.0|\n|       2|2022-10-01 01:02:06|2022-10-01 01:13:58|           1.0|        4.26|       1.0|              N|              12|            52|          2|      14.0|  0.5|   0.5|      0.0|        0.0|                 0.3|       17.8|                2.5|       0.0|       1|2022-10-01 07:49:02|2022-10-01 08:00:42|           1.0|         2.6|       1.0|              N|             249|            12|          3|      11.0|  2.5|   0.5|      0.0|        0.0|                 0.3|       14.3|                2.5|       0.0|\n|       2|2022-10-01 01:02:06|2022-10-01 01:13:58|           1.0|        4.26|       1.0|              N|              12|            52|          2|      14.0|  0.5|   0.5|      0.0|        0.0|                 0.3|       17.8|                2.5|       0.0|       2|2022-10-01 07:51:55|2022-10-01 08:15:35|           1.0|        5.32|       1.0|              N|              48|            12|          2|      21.0|  0.0|   0.5|      0.0|        0.0|                 0.3|       24.3|                2.5|       0.0|\n|       2|2022-10-01 01:02:06|2022-10-01 01:13:58|           1.0|        4.26|       1.0|              N|              12|            52|          2|      14.0|  0.5|   0.5|      0.0|        0.0|                 0.3|       17.8|                2.5|       0.0|       2|2022-10-01 07:59:54|2022-10-01 08:16:58|           1.0|        4.09|       1.0|              N|             186|            12|          1|      15.5|  0.0|   0.5|     5.64|        0.0|                 0.3|      24.44|                2.5|       0.0|\n|       2|2022-10-01 01:02:06|2022-10-01 01:13:58|           1.0|        4.26|       1.0|              N|              12|            52|          2|      14.0|  0.5|   0.5|      0.0|        0.0|                 0.3|       17.8|                2.5|       0.0|       1|2022-10-01 08:41:57|2022-10-01 09:07:08|           1.0|         4.6|       1.0|              N|             230|            12|          4|      14.0|  2.5|   0.5|      0.0|        0.0|                 0.3|       17.3|                2.5|       0.0|\n|       2|2022-10-01 01:02:06|2022-10-01 01:13:58|           1.0|        4.26|       1.0|              N|              12|            52|          2|      14.0|  0.5|   0.5|      0.0|        0.0|                 0.3|       17.8|                2.5|       0.0|       2|2022-10-01 08:09:45|2022-10-01 08:35:25|           1.0|        6.07|       1.0|              N|             239|            12|          1|      22.5|  0.0|   0.5|     6.45|        0.0|                 0.3|      32.25|                2.5|       0.0|\n|       2|2022-10-01 01:02:06|2022-10-01 01:13:58|           1.0|        4.26|       1.0|              N|              12|            52|          2|      14.0|  0.5|   0.5|      0.0|        0.0|                 0.3|       17.8|                2.5|       0.0|       2|2022-10-01 08:24:54|2022-10-01 08:29:01|           5.0|        0.68|       1.0|              N|             261|            12|          2|       5.0|  0.0|   0.5|      0.0|        0.0|                 0.3|        8.3|                2.5|       0.0|\n|       2|2022-10-01 01:02:06|2022-10-01 01:13:58|           1.0|        4.26|       1.0|              N|              12|            52|          2|      14.0|  0.5|   0.5|      0.0|        0.0|                 0.3|       17.8|                2.5|       0.0|       2|2022-10-01 08:03:57|2022-10-01 08:26:58|           1.0|        5.44|       1.0|              N|              48|            12|          1|      20.5|  0.0|   0.5|      0.0|        0.0|                 0.3|       23.8|                2.5|       0.0|\n|       2|2022-10-01 01:02:06|2022-10-01 01:13:58|           1.0|        4.26|       1.0|              N|              12|            52|          2|      14.0|  0.5|   0.5|      0.0|        0.0|                 0.3|       17.8|                2.5|       0.0|       2|2022-10-01 08:52:14|2022-10-01 09:14:16|           1.0|        4.92|       1.0|              N|             230|            12|          2|      19.0|  0.0|   0.5|      0.0|        0.0|                 0.3|       22.3|                2.5|       0.0|\n|       2|2022-10-01 01:02:06|2022-10-01 01:13:58|           1.0|        4.26|       1.0|              N|              12|            52|          2|      14.0|  0.5|   0.5|      0.0|        0.0|                 0.3|       17.8|                2.5|       0.0|       1|2022-10-01 08:16:04|2022-10-01 08:39:47|           1.0|         5.3|       1.0|              N|             161|            12|          1|      20.0|  2.5|   0.5|      5.0|        0.0|                 0.3|       28.3|                2.5|       0.0|\n|       2|2022-10-01 01:02:06|2022-10-01 01:13:58|           1.0|        4.26|       1.0|              N|              12|            52|          2|      14.0|  0.5|   0.5|      0.0|        0.0|                 0.3|       17.8|                2.5|       0.0|       2|2022-10-01 08:09:45|2022-10-01 08:32:01|           1.0|        5.17|       1.0|              N|             230|            12|          1|      20.0|  0.0|   0.5|     4.66|        0.0|                 0.3|      27.96|                2.5|       0.0|\n|       2|2022-10-01 01:02:06|2022-10-01 01:13:58|           1.0|        4.26|       1.0|              N|              12|            52|          2|      14.0|  0.5|   0.5|      0.0|        0.0|                 0.3|       17.8|                2.5|       0.0|       1|2022-10-01 08:27:46|2022-10-01 08:46:42|           1.0|         7.0|       1.0|              N|             230|            12|          1|      23.0|  2.5|   0.5|      5.0|        0.0|                 0.3|       31.3|                2.5|       0.0|\n|       2|2022-10-01 01:02:06|2022-10-01 01:13:58|           1.0|        4.26|       1.0|              N|              12|            52|          2|      14.0|  0.5|   0.5|      0.0|        0.0|                 0.3|       17.8|                2.5|       0.0|       2|2022-10-01 09:26:54|2022-10-01 09:51:21|           1.0|         5.7|       1.0|              N|              48|            12|          2|      21.5|  0.0|   0.5|      0.0|        0.0|                 0.3|       24.8|                2.5|       0.0|\n|       2|2022-10-01 01:02:06|2022-10-01 01:13:58|           1.0|        4.26|       1.0|              N|              12|            52|          2|      14.0|  0.5|   0.5|      0.0|        0.0|                 0.3|       17.8|                2.5|       0.0|       2|2022-10-01 09:17:08|2022-10-01 09:36:16|           1.0|        6.24|       1.0|              N|             100|            12|          1|      21.5|  0.0|   0.5|     4.96|        0.0|                 0.3|      29.76|                2.5|       0.0|\n|       2|2022-10-01 01:02:06|2022-10-01 01:13:58|           1.0|        4.26|       1.0|              N|              12|            52|          2|      14.0|  0.5|   0.5|      0.0|        0.0|                 0.3|       17.8|                2.5|       0.0|       1|2022-10-01 09:27:42|2022-10-01 09:50:12|           2.0|         5.4|       1.0|              N|             170|            12|          2|      20.5|  2.5|   0.5|      0.0|        0.0|                 0.3|       23.8|                2.5|       0.0|\n|       2|2022-10-01 01:02:06|2022-10-01 01:13:58|           1.0|        4.26|       1.0|              N|              12|            52|          2|      14.0|  0.5|   0.5|      0.0|        0.0|                 0.3|       17.8|                2.5|       0.0|       2|2022-10-01 09:08:32|2022-10-01 09:32:05|           2.0|        5.03|       1.0|              N|              48|            12|          1|      20.0|  0.0|   0.5|      2.0|        0.0|                 0.3|       25.3|                2.5|       0.0|\n|       2|2022-10-01 01:02:06|2022-10-01 01:13:58|           1.0|        4.26|       1.0|              N|              12|            52|          2|      14.0|  0.5|   0.5|      0.0|        0.0|                 0.3|       17.8|                2.5|       0.0|       2|2022-10-01 09:07:34|2022-10-01 09:21:52|           1.0|        3.54|       1.0|              N|             186|            12|          1|      13.5|  0.0|   0.5|     3.36|        0.0|                 0.3|      20.16|                2.5|       0.0|\n|       2|2022-10-01 01:02:06|2022-10-01 01:13:58|           1.0|        4.26|       1.0|              N|              12|            52|          2|      14.0|  0.5|   0.5|      0.0|        0.0|                 0.3|       17.8|                2.5|       0.0|       2|2022-10-01 09:24:57|2022-10-01 09:26:55|           1.0|        0.35|       1.0|              N|              13|            12|          1|       3.5|  0.0|   0.5|     1.36|        0.0|                 0.3|       8.16|                2.5|       0.0|\n|       2|2022-10-01 01:02:06|2022-10-01 01:13:58|           1.0|        4.26|       1.0|              N|              12|            52|          2|      14.0|  0.5|   0.5|      0.0|        0.0|                 0.3|       17.8|                2.5|       0.0|       2|2022-10-01 09:40:38|2022-10-01 10:00:25|           4.0|        4.72|       1.0|              N|              50|            12|          1|      18.5|  0.0|   0.5|     4.36|        0.0|                 0.3|      26.16|                2.5|       0.0|\n+--------+-------------------+-------------------+--------------+------------+----------+---------------+----------------+--------------+-----------+----------+-----+------+---------+-----------+--------------------+-----------+-------------------+----------+--------+-------------------+-------------------+--------------+------------+----------+---------------+----------------+--------------+-----------+----------+-----+------+---------+-----------+--------------------+-----------+-------------------+----------+\nonly showing top 20 rows\n\n"
     ]
    }
   ],
   "source": [
    "spark.sql(\"\"\"\n",
    "\n",
    "SELECT *\n",
    "\n",
    "FROM YellowTaxis_PickupBucket b1\n",
    "\n",
    "    JOIN YellowTaxis_DropBucket b2 ON b1.PickupLocationId = b2.DropLocationId\n",
    "\n",
    "\"\"\").show().toPandas()"
   ]
  },
  {
   "cell_type": "code",
   "execution_count": 0,
   "metadata": {
    "application/vnd.databricks.v1+cell": {
     "cellMetadata": {
      "byteLimit": 2048000,
      "rowLimit": 10000
     },
     "inputWidgets": {},
     "nuid": "dab24ca7-c80e-4375-983c-791e1375d35a",
     "showTitle": false,
     "tableResultSettingsMap": {},
     "title": ""
    }
   },
   "outputs": [],
   "source": []
  },
  {
   "cell_type": "code",
   "execution_count": 0,
   "metadata": {
    "application/vnd.databricks.v1+cell": {
     "cellMetadata": {
      "byteLimit": 2048000,
      "rowLimit": 10000
     },
     "inputWidgets": {},
     "nuid": "bb71b556-6d80-4330-a64f-8bb79607ba65",
     "showTitle": false,
     "tableResultSettingsMap": {},
     "title": ""
    }
   },
   "outputs": [],
   "source": []
  },
  {
   "cell_type": "code",
   "execution_count": 0,
   "metadata": {
    "application/vnd.databricks.v1+cell": {
     "cellMetadata": {
      "byteLimit": 2048000,
      "rowLimit": 10000
     },
     "inputWidgets": {},
     "nuid": "0e3649b3-74d9-492a-a955-3a5ceccfbc9a",
     "showTitle": false,
     "tableResultSettingsMap": {},
     "title": ""
    }
   },
   "outputs": [],
   "source": []
  },
  {
   "cell_type": "code",
   "execution_count": 0,
   "metadata": {
    "application/vnd.databricks.v1+cell": {
     "cellMetadata": {
      "byteLimit": 2048000,
      "rowLimit": 10000
     },
     "inputWidgets": {},
     "nuid": "867043ab-664e-4d56-b4c1-976a167a0bf7",
     "showTitle": false,
     "tableResultSettingsMap": {},
     "title": ""
    }
   },
   "outputs": [],
   "source": []
  },
  {
   "cell_type": "code",
   "execution_count": 0,
   "metadata": {
    "application/vnd.databricks.v1+cell": {
     "cellMetadata": {
      "byteLimit": 2048000,
      "rowLimit": 10000
     },
     "inputWidgets": {},
     "nuid": "27b7cb24-0c76-4e80-8cbb-5c21e7f9c918",
     "showTitle": false,
     "tableResultSettingsMap": {},
     "title": ""
    }
   },
   "outputs": [],
   "source": []
  },
  {
   "cell_type": "code",
   "execution_count": 0,
   "metadata": {
    "application/vnd.databricks.v1+cell": {
     "cellMetadata": {
      "byteLimit": 2048000,
      "rowLimit": 10000
     },
     "inputWidgets": {},
     "nuid": "166114ab-a018-4b13-80a0-66c9a6cad28b",
     "showTitle": false,
     "tableResultSettingsMap": {},
     "title": ""
    }
   },
   "outputs": [],
   "source": []
  },
  {
   "cell_type": "code",
   "execution_count": 0,
   "metadata": {
    "application/vnd.databricks.v1+cell": {
     "cellMetadata": {
      "byteLimit": 2048000,
      "rowLimit": 10000
     },
     "inputWidgets": {},
     "nuid": "f1a01358-8336-4261-bf3f-63cc3920c519",
     "showTitle": false,
     "tableResultSettingsMap": {},
     "title": ""
    }
   },
   "outputs": [],
   "source": []
  },
  {
   "cell_type": "code",
   "execution_count": 0,
   "metadata": {
    "application/vnd.databricks.v1+cell": {
     "cellMetadata": {
      "byteLimit": 2048000,
      "rowLimit": 10000
     },
     "inputWidgets": {},
     "nuid": "543c447f-fbac-4dad-ac20-90ac58b2800b",
     "showTitle": false,
     "tableResultSettingsMap": {},
     "title": ""
    }
   },
   "outputs": [],
   "source": []
  },
  {
   "cell_type": "code",
   "execution_count": 0,
   "metadata": {
    "application/vnd.databricks.v1+cell": {
     "cellMetadata": {
      "byteLimit": 2048000,
      "rowLimit": 10000
     },
     "inputWidgets": {},
     "nuid": "59628103-6546-4285-b049-dfdd7bc47a6e",
     "showTitle": false,
     "tableResultSettingsMap": {},
     "title": ""
    }
   },
   "outputs": [],
   "source": []
  }
 ],
 "metadata": {
  "application/vnd.databricks.v1+notebook": {
   "dashboards": [],
   "environmentMetadata": null,
   "language": "python",
   "notebookMetadata": {
    "pythonIndentUnit": 4
   },
   "notebookName": "2.3 - Spark Join Strategies",
   "widgets": {}
  },
  "kernelspec": {
   "display_name": "Python 3 (ipykernel)",
   "language": "python",
   "name": "python3"
  },
  "language_info": {
   "codemirror_mode": {
    "name": "ipython",
    "version": 3
   },
   "file_extension": ".py",
   "mimetype": "text/x-python",
   "name": "python",
   "nbconvert_exporter": "python",
   "pygments_lexer": "ipython3",
   "version": "3.10.9"
  }
 },
 "nbformat": 4,
 "nbformat_minor": 0
}
