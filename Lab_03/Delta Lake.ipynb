{
 "cells": [
  {
   "cell_type": "code",
   "execution_count": 18,
   "id": "4de815f8",
   "metadata": {},
   "outputs": [
    {
     "data": {
      "text/html": [
       "<style>pre { white-space: pre !important; }</style>"
      ],
      "text/plain": [
       "<IPython.core.display.HTML object>"
      ]
     },
     "metadata": {},
     "output_type": "display_data"
    }
   ],
   "source": [
    "import findspark\n",
    "findspark.init()\n",
    "findspark.find()\n",
    "\n",
    "from IPython.display import *\n",
    "display(HTML(\"<style>pre { white-space: pre !important; }</style>\"))"
   ]
  },
  {
   "cell_type": "code",
   "execution_count": 19,
   "id": "1bb178a4",
   "metadata": {},
   "outputs": [
    {
     "name": "stdout",
     "output_type": "stream",
     "text": [
      "3.5.2\n"
     ]
    }
   ],
   "source": [
    "import pyspark\n",
    "print(pyspark.__version__)"
   ]
  },
  {
   "cell_type": "code",
   "execution_count": 20,
   "id": "14e87df1",
   "metadata": {},
   "outputs": [],
   "source": [
    "from pyspark.sql import SparkSession\n",
    "from pyspark.sql.types import *\n",
    "from pyspark.sql.functions import *\n",
    "from delta import *\n",
    "\n",
    "builder = SparkSession.builder.appName(\"DeltaLakeApp\") \\\n",
    "    .config(\"spark.sql.extensions\", \"io.delta.sql.DeltaSparkSessionExtension\") \\\n",
    "    .config(\"spark.sql.catalog.spark_catalog\", \"org.apache.spark.sql.delta.catalog.DeltaCatalog\")\\\n",
    "   .config(\"spark.jars.packages\", \"io.delta:delta-core_2.12:3.2.0\")\n",
    " \n",
    "\n",
    "\n",
    "spark = configure_spark_with_delta_pip(builder).getOrCreate()\n",
    "sc = spark.sparkContext\n"
   ]
  },
  {
   "cell_type": "code",
   "execution_count": 21,
   "id": "58003ab9",
   "metadata": {},
   "outputs": [
    {
     "name": "stdout",
     "output_type": "stream",
     "text": [
      "root\n",
      " |-- VendorId: integer (nullable = true)\n",
      " |-- PickupTime: timestamp (nullable = true)\n",
      " |-- DropTime: timestamp (nullable = true)\n",
      " |-- PassengerCount: double (nullable = true)\n",
      " |-- TripDistance: double (nullable = true)\n",
      " |-- RateCodeId: double (nullable = true)\n",
      " |-- StoreAndFwdFlag: string (nullable = true)\n",
      " |-- PickupLocationId: integer (nullable = true)\n",
      " |-- DropLocationId: integer (nullable = true)\n",
      " |-- PaymentType: integer (nullable = true)\n",
      " |-- FareAmount: double (nullable = true)\n",
      " |-- Extra: double (nullable = true)\n",
      " |-- MtaTax: double (nullable = true)\n",
      " |-- TipAmount: double (nullable = true)\n",
      " |-- TollsAmount: double (nullable = true)\n",
      " |-- ImprovementSurcharge: double (nullable = true)\n",
      " |-- TotalAmount: double (nullable = true)\n",
      " |-- CongestionSurcharge: double (nullable = true)\n",
      " |-- AirportFee: double (nullable = true)\n",
      "\n"
     ]
    }
   ],
   "source": [
    "# Create schema for Yellow Taxi data\n",
    "yellowTaxiSchema = (\n",
    "                        StructType\n",
    "                        ([ \n",
    "                            StructField(\"VendorId\"               , IntegerType()   , True),\n",
    "                            StructField(\"PickupTime\"             , TimestampType() , True),\n",
    "                            StructField(\"DropTime\"               , TimestampType() , True),\n",
    "                            StructField(\"PassengerCount\"         , DoubleType()    , True),\n",
    "                            StructField(\"TripDistance\"           , DoubleType()    , True),\n",
    "                            StructField(\"RateCodeId\"             , DoubleType()    , True),\n",
    "                            StructField(\"StoreAndFwdFlag\"        , StringType()    , True),\n",
    "                            StructField(\"PickupLocationId\"       , IntegerType()   , True),\n",
    "                            StructField(\"DropLocationId\"         , IntegerType()   , True),\n",
    "                            StructField(\"PaymentType\"            , IntegerType()   , True),\n",
    "                            StructField(\"FareAmount\"             , DoubleType()    , True),\n",
    "                            StructField(\"Extra\"                  , DoubleType()    , True),\n",
    "                            StructField(\"MtaTax\"                 , DoubleType()    , True),\n",
    "                            StructField(\"TipAmount\"              , DoubleType()    , True),\n",
    "                            StructField(\"TollsAmount\"            , DoubleType()    , True),\n",
    "                            StructField(\"ImprovementSurcharge\"   , DoubleType()    , True),\n",
    "                            StructField(\"TotalAmount\"            , DoubleType()    , True),\n",
    "                            StructField(\"CongestionSurcharge\"    , DoubleType()    , True),\n",
    "                            StructField(\"AirportFee\"             , DoubleType()    , True)\n",
    "                        ])\n",
    "                   )\n",
    "\n",
    "\n",
    "# Read Yellow Taxis file\n",
    "yellowTaxiDF = (\n",
    "                  spark\n",
    "                    .read\n",
    "                    .option(\"header\", \"true\")    \n",
    "                    .schema(yellowTaxiSchema)    \n",
    "                    .csv(r\"C:\\Users\\MonierAshraf\\Desktop\\2Btest\\Raw\\YellowTaxis_202210.csv\")\n",
    "               )\n",
    "\n",
    "\n",
    "# Print schema of DataFrame\n",
    "yellowTaxiDF.printSchema()"
   ]
  },
  {
   "cell_type": "markdown",
   "id": "6df7ea16",
   "metadata": {},
   "source": [
    "### Create database in metastore"
   ]
  },
  {
   "cell_type": "code",
   "execution_count": 22,
   "id": "ac588738",
   "metadata": {},
   "outputs": [
    {
     "data": {
      "text/plain": [
       "DataFrame[]"
      ]
     },
     "execution_count": 22,
     "metadata": {},
     "output_type": "execute_result"
    }
   ],
   "source": [
    "spark.sql(\"\"\"CREATE DATABASE IF NOT EXISTS TaxisDB\n",
    "\"\"\")"
   ]
  },
  {
   "cell_type": "markdown",
   "id": "34e81385",
   "metadata": {},
   "source": [
    "### Parquet format: Save DataFrame as a Table"
   ]
  },
  {
   "cell_type": "code",
   "execution_count": 23,
   "id": "361f1524",
   "metadata": {},
   "outputs": [],
   "source": [
    "(\n",
    "    yellowTaxiDF\n",
    "            .write    \n",
    "            .mode(\"overwrite\")\n",
    "    \n",
    "            .partitionBy(\"VendorId\")\n",
    "    \n",
    "            .format(\"parquet\")\n",
    "    \n",
    "            .option(\"path\", \"C:\\Output\\YellowTaxis.parquet\")\n",
    "    \n",
    "            .saveAsTable(\"TaxisDB.YellowTaxisParquet\")\n",
    ")"
   ]
  },
  {
   "cell_type": "markdown",
   "id": "7e1584bd",
   "metadata": {},
   "source": [
    "### Delta format: Save DataFrame as Table"
   ]
  },
  {
   "cell_type": "code",
   "execution_count": 24,
   "id": "05749f52",
   "metadata": {},
   "outputs": [],
   "source": [
    "# If you have already run this command, and want to start from beginning,\n",
    "# delete folder from file system first\n",
    "\n",
    "from delta import *\n",
    "\n",
    "(\n",
    "    yellowTaxiDF\n",
    "            .write    \n",
    "            .mode(\"overwrite\")\n",
    "    \n",
    "            .partitionBy(\"VendorId\")\n",
    "    \n",
    "            .format(\"delta\")\n",
    "    \n",
    "            .option(\"path\", \"C:\\Output\\YellowTaxis.delta\")\n",
    "    \n",
    "            .saveAsTable(\"TaxisDB.YellowTaxis\")\n",
    ")"
   ]
  },
  {
   "cell_type": "code",
   "execution_count": 25,
   "id": "c0dafe48",
   "metadata": {},
   "outputs": [
    {
     "name": "stdout",
     "output_type": "stream",
     "text": [
      "+--------+\n",
      "|count(1)|\n",
      "+--------+\n",
      "| 3675412|\n",
      "+--------+\n",
      "\n"
     ]
    }
   ],
   "source": [
    "spark.sql(\"\"\"\n",
    "\n",
    "SELECT COUNT(*)\n",
    "FROM TaxisDB.YellowTaxis\n",
    "\n",
    "\"\"\").show()"
   ]
  },
  {
   "cell_type": "markdown",
   "id": "7c63ea14",
   "metadata": {},
   "source": [
    "### Audit History of Delta Table\n",
    "\n",
    "This shows transaction log of Delta Table"
   ]
  },
  {
   "cell_type": "code",
   "execution_count": 26,
   "id": "ca47c782",
   "metadata": {},
   "outputs": [
    {
     "name": "stdout",
     "output_type": "stream",
     "text": [
      "+-------+-------------------+------+--------+---------------------------------+---------------------------------------------------------------------------------------------------------+----+--------+---------+-----------+--------------+-------------+----------------------------------------------------------------------+------------+-----------------------------------+\n",
      "|version|timestamp          |userId|userName|operation                        |operationParameters                                                                                      |job |notebook|clusterId|readVersion|isolationLevel|isBlindAppend|operationMetrics                                                      |userMetadata|engineInfo                         |\n",
      "+-------+-------------------+------+--------+---------------------------------+---------------------------------------------------------------------------------------------------------+----+--------+---------+-----------+--------------+-------------+----------------------------------------------------------------------+------------+-----------------------------------+\n",
      "|0      |2024-11-16 00:30:29|NULL  |NULL    |CREATE OR REPLACE TABLE AS SELECT|{partitionBy -> [\"VendorId\"], clusterBy -> [], description -> NULL, isManaged -> false, properties -> {}}|NULL|NULL    |NULL     |NULL       |Serializable  |false        |{numFiles -> 33, numOutputRows -> 3675412, numOutputBytes -> 81722236}|NULL        |Apache-Spark/3.5.2 Delta-Lake/3.2.0|\n",
      "+-------+-------------------+------+--------+---------------------------------+---------------------------------------------------------------------------------------------------------+----+--------+---------+-----------+--------------+-------------+----------------------------------------------------------------------+------------+-----------------------------------+\n",
      "\n"
     ]
    }
   ],
   "source": [
    "spark.sql(\"\"\"\n",
    "\n",
    "DESCRIBE HISTORY TaxisDB.YellowTaxis\n",
    "\n",
    "\"\"\").show(truncate=False)"
   ]
  },
  {
   "cell_type": "markdown",
   "id": "2caff3a3",
   "metadata": {},
   "source": [
    "### Overwrite data in Delta table"
   ]
  },
  {
   "cell_type": "code",
   "execution_count": 27,
   "id": "3e86f82e",
   "metadata": {},
   "outputs": [],
   "source": [
    "# Overwrite data by re-running the command\n",
    "\n",
    "(\n",
    "    yellowTaxiDF\n",
    "            .write    \n",
    "            .mode(\"overwrite\")\n",
    "    \n",
    "            .partitionBy(\"VendorId\")\n",
    "    \n",
    "            .format(\"delta\")\n",
    "    \n",
    "            .option(\"path\", \"C:\\Output\\YellowTaxis.delta\")\n",
    "    \n",
    "            .saveAsTable(\"TaxisDB.YellowTaxis\")\n",
    ")"
   ]
  },
  {
   "cell_type": "code",
   "execution_count": 28,
   "id": "820f4d5b",
   "metadata": {},
   "outputs": [
    {
     "name": "stdout",
     "output_type": "stream",
     "text": [
      "+-------+-----------------------+------+--------+---------------------------------+---------------------------------------------------------------------------------------------------------+----+--------+---------+-----------+--------------+-------------+----------------------------------------------------------------------+------------+-----------------------------------+\n",
      "|version|timestamp              |userId|userName|operation                        |operationParameters                                                                                      |job |notebook|clusterId|readVersion|isolationLevel|isBlindAppend|operationMetrics                                                      |userMetadata|engineInfo                         |\n",
      "+-------+-----------------------+------+--------+---------------------------------+---------------------------------------------------------------------------------------------------------+----+--------+---------+-----------+--------------+-------------+----------------------------------------------------------------------+------------+-----------------------------------+\n",
      "|1      |2024-11-16 00:30:38.757|NULL  |NULL    |CREATE OR REPLACE TABLE AS SELECT|{partitionBy -> [\"VendorId\"], clusterBy -> [], description -> NULL, isManaged -> false, properties -> {}}|NULL|NULL    |NULL     |0          |Serializable  |false        |{numFiles -> 33, numOutputRows -> 3675412, numOutputBytes -> 81722236}|NULL        |Apache-Spark/3.5.2 Delta-Lake/3.2.0|\n",
      "|0      |2024-11-16 00:30:29    |NULL  |NULL    |CREATE OR REPLACE TABLE AS SELECT|{partitionBy -> [\"VendorId\"], clusterBy -> [], description -> NULL, isManaged -> false, properties -> {}}|NULL|NULL    |NULL     |NULL       |Serializable  |false        |{numFiles -> 33, numOutputRows -> 3675412, numOutputBytes -> 81722236}|NULL        |Apache-Spark/3.5.2 Delta-Lake/3.2.0|\n",
      "+-------+-----------------------+------+--------+---------------------------------+---------------------------------------------------------------------------------------------------------+----+--------+---------+-----------+--------------+-------------+----------------------------------------------------------------------+------------+-----------------------------------+\n",
      "\n"
     ]
    }
   ],
   "source": [
    "spark.sql(\"\"\"\n",
    "\n",
    "DESCRIBE HISTORY TaxisDB.YellowTaxis\n",
    "\n",
    "\"\"\").show(truncate=False)"
   ]
  },
  {
   "cell_type": "code",
   "execution_count": 29,
   "id": "c18d59fa",
   "metadata": {},
   "outputs": [
    {
     "data": {
      "text/plain": [
       "DataFrame[]"
      ]
     },
     "execution_count": 29,
     "metadata": {},
     "output_type": "execute_result"
    }
   ],
   "source": [
    "spark.sql(\"\"\"\n",
    "\n",
    "DROP TABLE TaxisDB.YellowTaxis\n",
    "\n",
    "\"\"\")"
   ]
  },
  {
   "cell_type": "markdown",
   "id": "5d6100a3",
   "metadata": {},
   "source": [
    "### Create Table Definition\n",
    "\n",
    "Create table using DDL command, and later add the data"
   ]
  },
  {
   "cell_type": "code",
   "execution_count": 31,
   "id": "e4a4dde6",
   "metadata": {},
   "outputs": [
    {
     "data": {
      "text/plain": [
       "DataFrame[]"
      ]
     },
     "execution_count": 31,
     "metadata": {},
     "output_type": "execute_result"
    }
   ],
   "source": [
    "spark.sql(\"\"\"\n",
    "\n",
    "CREATE TABLE TaxisDB.YellowTaxis\n",
    "(\n",
    "    VendorId                INT               COMMENT 'Vendor providing the ride',\n",
    "    \n",
    "    PickupTime              TIMESTAMP,\n",
    "    DropTime                TIMESTAMP,\n",
    "    \n",
    "    PickupLocationId        INT               NOT NULL,\n",
    "    DropLocationId          INT,\n",
    "    \n",
    "    PassengerCount          DOUBLE,\n",
    "    TripDistance            DOUBLE,\n",
    "    \n",
    "    RateCodeId              DOUBLE,\n",
    "    StoreAndFwdFlag         STRING,\n",
    "    PaymentType             INT,\n",
    "    \n",
    "    FareAmount              DOUBLE,\n",
    "    Extra                   DOUBLE,\n",
    "    MtaTax                  DOUBLE,\n",
    "    TipAmount               DOUBLE,\n",
    "    TollsAmount             DOUBLE,\n",
    "    ImprovementSurcharge    DOUBLE,\n",
    "    TotalAmount             DOUBLE,\n",
    "    CongestionSurcharge     DOUBLE,\n",
    "    AirportFee              DOUBLE\n",
    ")\n",
    "\n",
    "USING DELTA                  -- default is Parquet\n",
    "\n",
    "LOCATION \"C:/Output/YellowTaxis.delta\"\n",
    "\n",
    "PARTITIONED BY (VendorId)    -- optional\n",
    "\n",
    "COMMENT 'This table stores ride information for Yellow Taxis'\n",
    "\n",
    "\"\"\")"
   ]
  },
  {
   "cell_type": "code",
   "execution_count": 32,
   "id": "231c079b",
   "metadata": {},
   "outputs": [
    {
     "name": "stdout",
     "output_type": "stream",
     "text": [
      "+-----------------------+---------+-------------------------+\n",
      "|col_name               |data_type|comment                  |\n",
      "+-----------------------+---------+-------------------------+\n",
      "|VendorId               |int      |Vendor providing the ride|\n",
      "|PickupTime             |timestamp|NULL                     |\n",
      "|DropTime               |timestamp|NULL                     |\n",
      "|PickupLocationId       |int      |NULL                     |\n",
      "|DropLocationId         |int      |NULL                     |\n",
      "|PassengerCount         |double   |NULL                     |\n",
      "|TripDistance           |double   |NULL                     |\n",
      "|RateCodeId             |double   |NULL                     |\n",
      "|StoreAndFwdFlag        |string   |NULL                     |\n",
      "|PaymentType            |int      |NULL                     |\n",
      "|FareAmount             |double   |NULL                     |\n",
      "|Extra                  |double   |NULL                     |\n",
      "|MtaTax                 |double   |NULL                     |\n",
      "|TipAmount              |double   |NULL                     |\n",
      "|TollsAmount            |double   |NULL                     |\n",
      "|ImprovementSurcharge   |double   |NULL                     |\n",
      "|TotalAmount            |double   |NULL                     |\n",
      "|CongestionSurcharge    |double   |NULL                     |\n",
      "|AirportFee             |double   |NULL                     |\n",
      "|# Partition Information|         |                         |\n",
      "+-----------------------+---------+-------------------------+\n",
      "only showing top 20 rows\n",
      "\n"
     ]
    }
   ],
   "source": [
    "spark.sql(\"\"\"\n",
    "DESCRIBE TABLE  EXTENDED TaxisDB.YellowTaxis\n",
    "\n",
    "\"\"\").show(truncate=False)"
   ]
  },
  {
   "cell_type": "code",
   "execution_count": 33,
   "id": "7e311bc2",
   "metadata": {},
   "outputs": [
    {
     "name": "stdout",
     "output_type": "stream",
     "text": [
      "+----------------------------+---------------------------------------------------+-------------------------+\n",
      "|col_name                    |data_type                                          |comment                  |\n",
      "+----------------------------+---------------------------------------------------+-------------------------+\n",
      "|VendorId                    |int                                                |Vendor providing the ride|\n",
      "|PickupTime                  |timestamp                                          |NULL                     |\n",
      "|DropTime                    |timestamp                                          |NULL                     |\n",
      "|PickupLocationId            |int                                                |NULL                     |\n",
      "|DropLocationId              |int                                                |NULL                     |\n",
      "|PassengerCount              |double                                             |NULL                     |\n",
      "|TripDistance                |double                                             |NULL                     |\n",
      "|RateCodeId                  |double                                             |NULL                     |\n",
      "|StoreAndFwdFlag             |string                                             |NULL                     |\n",
      "|PaymentType                 |int                                                |NULL                     |\n",
      "|FareAmount                  |double                                             |NULL                     |\n",
      "|Extra                       |double                                             |NULL                     |\n",
      "|MtaTax                      |double                                             |NULL                     |\n",
      "|TipAmount                   |double                                             |NULL                     |\n",
      "|TollsAmount                 |double                                             |NULL                     |\n",
      "|ImprovementSurcharge        |double                                             |NULL                     |\n",
      "|TotalAmount                 |double                                             |NULL                     |\n",
      "|CongestionSurcharge         |double                                             |NULL                     |\n",
      "|AirportFee                  |double                                             |NULL                     |\n",
      "|# Partition Information     |                                                   |                         |\n",
      "|# col_name                  |data_type                                          |comment                  |\n",
      "|VendorId                    |int                                                |Vendor providing the ride|\n",
      "|                            |                                                   |                         |\n",
      "|# Detailed Table Information|                                                   |                         |\n",
      "|Name                        |spark_catalog.taxisdb.yellowtaxis                  |                         |\n",
      "|Type                        |EXTERNAL                                           |                         |\n",
      "|Comment                     |This table stores ride information for Yellow Taxis|                         |\n",
      "|Location                    |file:/C:/Output/YellowTaxis.delta                  |                         |\n",
      "|Provider                    |delta                                              |                         |\n",
      "|Table Properties            |[delta.minReaderVersion=1,delta.minWriterVersion=2]|                         |\n",
      "+----------------------------+---------------------------------------------------+-------------------------+\n",
      "\n"
     ]
    }
   ],
   "source": [
    "spark.sql(\"\"\"\n",
    "\n",
    "DESCRIBE TABLE EXTENDED TaxisDB.YellowTaxis\n",
    "\n",
    "\"\"\").show(53, truncate=False)"
   ]
  },
  {
   "cell_type": "markdown",
   "id": "6acb1329",
   "metadata": {},
   "source": [
    "### Options to Add Data to Delta Table"
   ]
  },
  {
   "cell_type": "markdown",
   "id": "d59dcfb5",
   "metadata": {},
   "source": [
    "#### Option 1: Insert command\n",
    "\n",
    "Use typical SQL Insert command to add data to table"
   ]
  },
  {
   "cell_type": "code",
   "execution_count": 34,
   "id": "5bab52cb",
   "metadata": {},
   "outputs": [
    {
     "data": {
      "text/plain": [
       "DataFrame[]"
      ]
     },
     "execution_count": 34,
     "metadata": {},
     "output_type": "execute_result"
    }
   ],
   "source": [
    "spark.sql(\"\"\"\n",
    "\n",
    "INSERT INTO TaxisDB.YellowTaxis\n",
    "\n",
    "-- (VendorId, PickupTime, DropTime, PickupLocationId, DropLocationId, PassengerCount, TripDistance, RateCodeId, StoreAndFwdFlag, PaymentType, FareAmount, Extra, MtaTax, TipAmount, TollsAmount, ImprovementSurcharge, TotalAmount, CongestionSurcharge, AirportFee)\n",
    "\n",
    "VALUES (3, '2022-12-01T00:00:00.000Z', '2022-12-01T00:15:34.000Z', 170, 140, 1.0, 2.9, 1.0, '1', 1, 13.0, 0.5, 0.5, 1.0, 0.0, 0.3, 15.3, 0.0, 0.0)\n",
    "\n",
    "\"\"\")"
   ]
  },
  {
   "cell_type": "code",
   "execution_count": 35,
   "id": "3471e45b",
   "metadata": {},
   "outputs": [
    {
     "name": "stdout",
     "output_type": "stream",
     "text": [
      "+--------+-------------------+-------------------+----------------+--------------+--------------+------------+----------+---------------+-----------+----------+-----+------+---------+-----------+--------------------+-----------+-------------------+----------+\n",
      "|VendorId|PickupTime         |DropTime           |PickupLocationId|DropLocationId|PassengerCount|TripDistance|RateCodeId|StoreAndFwdFlag|PaymentType|FareAmount|Extra|MtaTax|TipAmount|TollsAmount|ImprovementSurcharge|TotalAmount|CongestionSurcharge|AirportFee|\n",
      "+--------+-------------------+-------------------+----------------+--------------+--------------+------------+----------+---------------+-----------+----------+-----+------+---------+-----------+--------------------+-----------+-------------------+----------+\n",
      "|3       |2022-12-01 02:00:00|2022-12-01 02:15:34|170             |140           |1.0           |2.9         |1.0       |1              |1          |13.0      |0.5  |0.5   |1.0      |0.0        |0.3                 |15.3       |0.0                |0.0       |\n",
      "+--------+-------------------+-------------------+----------------+--------------+--------------+------------+----------+---------------+-----------+----------+-----+------+---------+-----------+--------------------+-----------+-------------------+----------+\n",
      "\n"
     ]
    }
   ],
   "source": [
    "spark.sql(\"\"\"\n",
    "\n",
    "SELECT * FROM TaxisDB.YellowTaxis\n",
    "\n",
    "\"\"\").show(truncate=False)"
   ]
  },
  {
   "cell_type": "code",
   "execution_count": 36,
   "id": "8f613a5b",
   "metadata": {},
   "outputs": [
    {
     "name": "stdout",
     "output_type": "stream",
     "text": [
      "+-------+-----------------------+------+--------+------------+--------------------------------------------------------------------------------------------------------------------------------------------------------+----+--------+---------+-----------+--------------+-------------+-----------------------------------------------------------+------------+-----------------------------------+\n",
      "|version|timestamp              |userId|userName|operation   |operationParameters                                                                                                                                     |job |notebook|clusterId|readVersion|isolationLevel|isBlindAppend|operationMetrics                                           |userMetadata|engineInfo                         |\n",
      "+-------+-----------------------+------+--------+------------+--------------------------------------------------------------------------------------------------------------------------------------------------------+----+--------+---------+-----------+--------------+-------------+-----------------------------------------------------------+------------+-----------------------------------+\n",
      "|1      |2024-11-16 00:32:05.936|NULL  |NULL    |WRITE       |{mode -> Append, partitionBy -> []}                                                                                                                     |NULL|NULL    |NULL     |0          |Serializable  |true         |{numFiles -> 1, numOutputRows -> 1, numOutputBytes -> 5096}|NULL        |Apache-Spark/3.5.2 Delta-Lake/3.2.0|\n",
      "|0      |2024-11-16 00:31:47.963|NULL  |NULL    |CREATE TABLE|{partitionBy -> [\"VendorId\"], clusterBy -> [], description -> This table stores ride information for Yellow Taxis, isManaged -> false, properties -> {}}|NULL|NULL    |NULL     |NULL       |Serializable  |true         |{}                                                         |NULL        |Apache-Spark/3.5.2 Delta-Lake/3.2.0|\n",
      "+-------+-----------------------+------+--------+------------+--------------------------------------------------------------------------------------------------------------------------------------------------------+----+--------+---------+-----------+--------------+-------------+-----------------------------------------------------------+------------+-----------------------------------+\n",
      "\n"
     ]
    }
   ],
   "source": [
    "spark.sql(\"\"\"\n",
    "\n",
    "DESCRIBE HISTORY TaxisDB.YellowTaxis\n",
    "\n",
    "\"\"\").show(truncate=False)"
   ]
  },
  {
   "cell_type": "markdown",
   "id": "cfe4e950",
   "metadata": {},
   "source": [
    "#### Option 2: Append a DataFrame\n",
    "\n",
    "Read data as a DataFrame and append to Delta Table using PySpark"
   ]
  },
  {
   "cell_type": "code",
   "execution_count": 37,
   "id": "b2393465",
   "metadata": {},
   "outputs": [
    {
     "name": "stdout",
     "output_type": "stream",
     "text": [
      "+--------+-------------------+-------------------+--------------+------------+----------+---------------+----------------+--------------+-----------+----------+-----+------+---------+-----------+--------------------+-----------+-------------------+----------+\n",
      "|VendorId|         PickupTime|           DropTime|PassengerCount|TripDistance|RateCodeId|StoreAndFwdFlag|PickupLocationId|DropLocationId|PaymentType|FareAmount|Extra|MtaTax|TipAmount|TollsAmount|ImprovementSurcharge|TotalAmount|CongestionSurcharge|AirportFee|\n",
      "+--------+-------------------+-------------------+--------------+------------+----------+---------------+----------------+--------------+-----------+----------+-----+------+---------+-----------+--------------------+-----------+-------------------+----------+\n",
      "|       3|2022-10-01 02:03:41|2022-10-01 02:18:39|           1.0|         1.7|       1.0|              N|             249|           107|          1|       9.5|  3.0|   0.5|     2.65|        0.0|                 0.3|      15.95|                2.5|       0.0|\n",
      "|       3|2022-10-01 02:14:30|2022-10-01 02:19:48|           2.0|        0.72|       1.0|              N|             151|           238|          2|       5.5|  0.5|   0.5|      0.0|        0.0|                 0.3|        9.3|                2.5|       0.0|\n",
      "|       3|2022-10-01 02:27:13|2022-10-01 02:37:41|           1.0|        1.74|       1.0|              N|             238|           166|          1|       9.0|  0.5|   0.5|     2.06|        0.0|                 0.3|      12.36|                0.0|       0.0|\n",
      "+--------+-------------------+-------------------+--------------+------------+----------+---------------+----------------+--------------+-----------+----------+-----+------+---------+-----------+--------------------+-----------+-------------------+----------+\n",
      "\n"
     ]
    }
   ],
   "source": [
    "# Extract new records from Storage/Data Lake\n",
    "\n",
    "yellowTaxisAppendDF = (\n",
    "                          spark\n",
    "                            .read\n",
    "                            .option(\"header\", \"true\")\n",
    "                            .schema(yellowTaxiSchema)\n",
    "                            .csv(r\"C:\\Users\\MonierAshraf\\Desktop\\2Btest\\Raw\\YellowTaxis_append.csv\")\n",
    "                      )\n",
    "\n",
    "yellowTaxisAppendDF.show()"
   ]
  },
  {
   "cell_type": "code",
   "execution_count": 38,
   "id": "ff00dbc8",
   "metadata": {},
   "outputs": [],
   "source": [
    "# Append to data lake in delta format\n",
    "\n",
    "(\n",
    "    yellowTaxisAppendDF\n",
    "        .write\n",
    "  \n",
    "        .mode(\"append\")\n",
    "  \n",
    "        .partitionBy(\"VendorId\")  \n",
    "        .format(\"delta\")           \n",
    "        .save(\"C:\\Output\\YellowTaxis.delta\")\n",
    ")"
   ]
  },
  {
   "cell_type": "code",
   "execution_count": 39,
   "id": "2341ec8c",
   "metadata": {},
   "outputs": [
    {
     "name": "stdout",
     "output_type": "stream",
     "text": [
      "+--------+-------------------+-------------------+----------------+--------------+--------------+------------+----------+---------------+-----------+----------+-----+------+---------+-----------+--------------------+-----------+-------------------+----------+\n",
      "|VendorId|         PickupTime|           DropTime|PickupLocationId|DropLocationId|PassengerCount|TripDistance|RateCodeId|StoreAndFwdFlag|PaymentType|FareAmount|Extra|MtaTax|TipAmount|TollsAmount|ImprovementSurcharge|TotalAmount|CongestionSurcharge|AirportFee|\n",
      "+--------+-------------------+-------------------+----------------+--------------+--------------+------------+----------+---------------+-----------+----------+-----+------+---------+-----------+--------------------+-----------+-------------------+----------+\n",
      "|       3|2022-10-01 02:03:41|2022-10-01 02:18:39|             249|           107|           1.0|         1.7|       1.0|              N|          1|       9.5|  3.0|   0.5|     2.65|        0.0|                 0.3|      15.95|                2.5|       0.0|\n",
      "|       3|2022-10-01 02:14:30|2022-10-01 02:19:48|             151|           238|           2.0|        0.72|       1.0|              N|          2|       5.5|  0.5|   0.5|      0.0|        0.0|                 0.3|        9.3|                2.5|       0.0|\n",
      "|       3|2022-10-01 02:27:13|2022-10-01 02:37:41|             238|           166|           1.0|        1.74|       1.0|              N|          1|       9.0|  0.5|   0.5|     2.06|        0.0|                 0.3|      12.36|                0.0|       0.0|\n",
      "|       3|2022-12-01 02:00:00|2022-12-01 02:15:34|             170|           140|           1.0|         2.9|       1.0|              1|          1|      13.0|  0.5|   0.5|      1.0|        0.0|                 0.3|       15.3|                0.0|       0.0|\n",
      "+--------+-------------------+-------------------+----------------+--------------+--------------+------------+----------+---------------+-----------+----------+-----+------+---------+-----------+--------------------+-----------+-------------------+----------+\n",
      "\n"
     ]
    }
   ],
   "source": [
    "spark.sql(\"\"\"\n",
    "\n",
    "SELECT * \n",
    "FROM TaxisDB.YellowTaxis\n",
    "\n",
    "\"\"\").show()"
   ]
  },
  {
   "cell_type": "code",
   "execution_count": 40,
   "id": "fe09a708",
   "metadata": {},
   "outputs": [
    {
     "name": "stdout",
     "output_type": "stream",
     "text": [
      "+-------+-----------------------+------+--------+------------+--------------------------------------------------------------------------------------------------------------------------------------------------------+----+--------+---------+-----------+--------------+-------------+-----------------------------------------------------------+------------+-----------------------------------+\n",
      "|version|timestamp              |userId|userName|operation   |operationParameters                                                                                                                                     |job |notebook|clusterId|readVersion|isolationLevel|isBlindAppend|operationMetrics                                           |userMetadata|engineInfo                         |\n",
      "+-------+-----------------------+------+--------+------------+--------------------------------------------------------------------------------------------------------------------------------------------------------+----+--------+---------+-----------+--------------+-------------+-----------------------------------------------------------+------------+-----------------------------------+\n",
      "|2      |2024-11-16 00:32:11.577|NULL  |NULL    |WRITE       |{mode -> Append, partitionBy -> [\"VendorId\"]}                                                                                                           |NULL|NULL    |NULL     |1          |Serializable  |true         |{numFiles -> 1, numOutputRows -> 3, numOutputBytes -> 5469}|NULL        |Apache-Spark/3.5.2 Delta-Lake/3.2.0|\n",
      "|1      |2024-11-16 00:32:05.936|NULL  |NULL    |WRITE       |{mode -> Append, partitionBy -> []}                                                                                                                     |NULL|NULL    |NULL     |0          |Serializable  |true         |{numFiles -> 1, numOutputRows -> 1, numOutputBytes -> 5096}|NULL        |Apache-Spark/3.5.2 Delta-Lake/3.2.0|\n",
      "|0      |2024-11-16 00:31:47.963|NULL  |NULL    |CREATE TABLE|{partitionBy -> [\"VendorId\"], clusterBy -> [], description -> This table stores ride information for Yellow Taxis, isManaged -> false, properties -> {}}|NULL|NULL    |NULL     |NULL       |Serializable  |true         |{}                                                         |NULL        |Apache-Spark/3.5.2 Delta-Lake/3.2.0|\n",
      "+-------+-----------------------+------+--------+------------+--------------------------------------------------------------------------------------------------------------------------------------------------------+----+--------+---------+-----------+--------------+-------------+-----------------------------------------------------------+------------+-----------------------------------+\n",
      "\n"
     ]
    }
   ],
   "source": [
    "spark.sql(\"\"\"\n",
    "\n",
    "DESCRIBE HISTORY TaxisDB.YellowTaxis\n",
    "\n",
    "\"\"\").show(truncate=False)"
   ]
  },
  {
   "cell_type": "code",
   "execution_count": 41,
   "id": "c150833a",
   "metadata": {},
   "outputs": [],
   "source": [
    "# Append to data lake in delta format\n",
    "(\n",
    "    yellowTaxiDF\n",
    "        .write\n",
    "  \n",
    "        .mode(\"append\")\n",
    "  \n",
    "        .partitionBy(\"VendorId\")  \n",
    "        .format(\"delta\")\n",
    "        .save(\"C:\\Output\\YellowTaxis.delta\")\n",
    ")"
   ]
  },
  {
   "cell_type": "code",
   "execution_count": 42,
   "id": "8431d044",
   "metadata": {},
   "outputs": [
    {
     "name": "stdout",
     "output_type": "stream",
     "text": [
      "+--------+\n",
      "|count(1)|\n",
      "+--------+\n",
      "| 3675416|\n",
      "+--------+\n",
      "\n"
     ]
    }
   ],
   "source": [
    "spark.sql(\"\"\"\n",
    "\n",
    "SELECT COUNT(1)\n",
    "FROM TaxisDB.YellowTaxis\n",
    "\n",
    "\"\"\").show()"
   ]
  },
  {
   "cell_type": "markdown",
   "id": "0780fa4e",
   "metadata": {},
   "source": [
    "### Check files holding the data"
   ]
  },
  {
   "cell_type": "code",
   "execution_count": 43,
   "id": "fd28da4a",
   "metadata": {},
   "outputs": [
    {
     "name": "stdout",
     "output_type": "stream",
     "text": [
      "+----------------------------------------------------------------------------------------------------------------+--------+----------------+--------------+\n",
      "|input_file_name()                                                                                               |VendorId|PickupLocationId|PassengerCount|\n",
      "+----------------------------------------------------------------------------------------------------------------+--------+----------------+--------------+\n",
      "|file:/C:/Output/YellowTaxis.delta/VendorId=3/part-00000-6a4a84b6-5603-4be7-9d7d-7dfb84f8deee.c000.snappy.parquet|3       |249             |1.0           |\n",
      "|file:/C:/Output/YellowTaxis.delta/VendorId=3/part-00000-6a4a84b6-5603-4be7-9d7d-7dfb84f8deee.c000.snappy.parquet|3       |151             |2.0           |\n",
      "|file:/C:/Output/YellowTaxis.delta/VendorId=3/part-00000-6a4a84b6-5603-4be7-9d7d-7dfb84f8deee.c000.snappy.parquet|3       |238             |1.0           |\n",
      "|file:/C:/Output/YellowTaxis.delta/VendorId=3/part-00000-01a86f79-5eee-4566-9269-75c16dc5fc3f.c000.snappy.parquet|3       |170             |1.0           |\n",
      "+----------------------------------------------------------------------------------------------------------------+--------+----------------+--------------+\n",
      "\n"
     ]
    }
   ],
   "source": [
    "spark.sql(\"\"\"\n",
    "\n",
    "SELECT INPUT_FILE_NAME()\n",
    "     \n",
    "     , VendorId\n",
    "     , PickupLocationId\n",
    "     , PassengerCount\n",
    "     \n",
    "FROM TaxisDB.YellowTaxis\n",
    "\n",
    "WHERE VendorId = 3\n",
    "\n",
    "\"\"\").show(truncate=False)"
   ]
  },
  {
   "cell_type": "markdown",
   "id": "7a7b1a87",
   "metadata": {},
   "source": [
    "### UPDATE command"
   ]
  },
  {
   "cell_type": "code",
   "execution_count": 44,
   "id": "975cd2d7",
   "metadata": {},
   "outputs": [
    {
     "name": "stdout",
     "output_type": "stream",
     "text": [
      "+--------+----------------+--------------+\n",
      "|VendorId|PickupLocationId|PassengerCount|\n",
      "+--------+----------------+--------------+\n",
      "|       3|             249|           1.0|\n",
      "+--------+----------------+--------------+\n",
      "\n"
     ]
    }
   ],
   "source": [
    "# Check passenger count\n",
    "\n",
    "spark.sql(\"\"\"\n",
    "\n",
    "SELECT VendorId\n",
    "     , PickupLocationId\n",
    "     , PassengerCount\n",
    "\n",
    "FROM TaxisDB.YellowTaxis\n",
    "\n",
    "WHERE VendorId = 3\n",
    "    AND PickupLocationId = 249\n",
    "\n",
    "\"\"\").show()"
   ]
  },
  {
   "cell_type": "code",
   "execution_count": 45,
   "id": "fdddd99c",
   "metadata": {},
   "outputs": [
    {
     "name": "stdout",
     "output_type": "stream",
     "text": [
      "+-----------------+\n",
      "|num_affected_rows|\n",
      "+-----------------+\n",
      "|                1|\n",
      "+-----------------+\n",
      "\n"
     ]
    }
   ],
   "source": [
    "# Run update statement to change passenger count\n",
    "\n",
    "spark.sql(\"\"\"\n",
    "\n",
    "UPDATE TaxisDB.YellowTaxis\n",
    "\n",
    "SET PassengerCount = 2\n",
    "\n",
    "WHERE VendorId = 3\n",
    "    AND PickupLocationId = 249\n",
    "\n",
    "\"\"\").show()"
   ]
  },
  {
   "cell_type": "code",
   "execution_count": 46,
   "id": "ad1c2854",
   "metadata": {},
   "outputs": [
    {
     "name": "stdout",
     "output_type": "stream",
     "text": [
      "+--------+----------------+--------------+\n",
      "|VendorId|PickupLocationId|PassengerCount|\n",
      "+--------+----------------+--------------+\n",
      "|       3|             249|           2.0|\n",
      "+--------+----------------+--------------+\n",
      "\n"
     ]
    }
   ],
   "source": [
    "# Check passenger count after update\n",
    "\n",
    "spark.sql(\"\"\"\n",
    "\n",
    "SELECT VendorId\n",
    "     , PickupLocationId\n",
    "     , PassengerCount\n",
    "\n",
    "FROM TaxisDB.YellowTaxis\n",
    "\n",
    "WHERE VendorId = 3\n",
    "    AND PickupLocationId = 249\n",
    "\n",
    "\"\"\").show()"
   ]
  },
  {
   "cell_type": "code",
   "execution_count": 47,
   "id": "d7c696d2",
   "metadata": {},
   "outputs": [
    {
     "name": "stdout",
     "output_type": "stream",
     "text": [
      "+-------+-----------------------+------+--------+------------+--------------------------------------------------------------------------------------------------------------------------------------------------------+----+--------+---------+-----------+--------------+-------------+----------------------------------------------------------------------------------------------------------------------------------------------------------------------------------------------------------------------------------------------------------------------------------------------------------------------------+------------+-----------------------------------+\n",
      "|version|timestamp              |userId|userName|operation   |operationParameters                                                                                                                                     |job |notebook|clusterId|readVersion|isolationLevel|isBlindAppend|operationMetrics                                                                                                                                                                                                                                                                                                            |userMetadata|engineInfo                         |\n",
      "+-------+-----------------------+------+--------+------------+--------------------------------------------------------------------------------------------------------------------------------------------------------+----+--------+---------+-----------+--------------+-------------+----------------------------------------------------------------------------------------------------------------------------------------------------------------------------------------------------------------------------------------------------------------------------------------------------------------------------+------------+-----------------------------------+\n",
      "|4      |2024-11-16 00:32:24.483|NULL  |NULL    |UPDATE      |{predicate -> [\"((VendorId#13944 = 3) AND (PickupLocationId#13947 = 249))\"]}                                                                            |NULL|NULL    |NULL     |3          |Serializable  |false        |{numRemovedFiles -> 1, numRemovedBytes -> 5469, numCopiedRows -> 2, numDeletionVectorsAdded -> 0, numDeletionVectorsRemoved -> 0, numAddedChangeFiles -> 0, executionTimeMs -> 768, numDeletionVectorsUpdated -> 0, scanTimeMs -> 522, numAddedFiles -> 1, numUpdatedRows -> 1, numAddedBytes -> 5469, rewriteTimeMs -> 245}|NULL        |Apache-Spark/3.5.2 Delta-Lake/3.2.0|\n",
      "|3      |2024-11-16 00:32:21.448|NULL  |NULL    |WRITE       |{mode -> Append, partitionBy -> [\"VendorId\"]}                                                                                                           |NULL|NULL    |NULL     |2          |Serializable  |true         |{numFiles -> 33, numOutputRows -> 3675412, numOutputBytes -> 81722236}                                                                                                                                                                                                                                                      |NULL        |Apache-Spark/3.5.2 Delta-Lake/3.2.0|\n",
      "|2      |2024-11-16 00:32:11.577|NULL  |NULL    |WRITE       |{mode -> Append, partitionBy -> [\"VendorId\"]}                                                                                                           |NULL|NULL    |NULL     |1          |Serializable  |true         |{numFiles -> 1, numOutputRows -> 3, numOutputBytes -> 5469}                                                                                                                                                                                                                                                                 |NULL        |Apache-Spark/3.5.2 Delta-Lake/3.2.0|\n",
      "|1      |2024-11-16 00:32:05.936|NULL  |NULL    |WRITE       |{mode -> Append, partitionBy -> []}                                                                                                                     |NULL|NULL    |NULL     |0          |Serializable  |true         |{numFiles -> 1, numOutputRows -> 1, numOutputBytes -> 5096}                                                                                                                                                                                                                                                                 |NULL        |Apache-Spark/3.5.2 Delta-Lake/3.2.0|\n",
      "|0      |2024-11-16 00:31:47.963|NULL  |NULL    |CREATE TABLE|{partitionBy -> [\"VendorId\"], clusterBy -> [], description -> This table stores ride information for Yellow Taxis, isManaged -> false, properties -> {}}|NULL|NULL    |NULL     |NULL       |Serializable  |true         |{}                                                                                                                                                                                                                                                                                                                          |NULL        |Apache-Spark/3.5.2 Delta-Lake/3.2.0|\n",
      "+-------+-----------------------+------+--------+------------+--------------------------------------------------------------------------------------------------------------------------------------------------------+----+--------+---------+-----------+--------------+-------------+----------------------------------------------------------------------------------------------------------------------------------------------------------------------------------------------------------------------------------------------------------------------------------------------------------------------------+------------+-----------------------------------+\n",
      "\n"
     ]
    }
   ],
   "source": [
    "spark.sql(\"\"\"\n",
    "\n",
    "DESCRIBE HISTORY TaxisDB.YellowTaxis\n",
    "\n",
    "\"\"\").show(truncate=False)"
   ]
  },
  {
   "cell_type": "markdown",
   "id": "37baa2d3",
   "metadata": {},
   "source": [
    "### DELETE command"
   ]
  },
  {
   "cell_type": "code",
   "execution_count": 48,
   "id": "d5b0f277",
   "metadata": {},
   "outputs": [
    {
     "name": "stdout",
     "output_type": "stream",
     "text": [
      "+--------+----------------+--------------+\n",
      "|VendorId|PickupLocationId|PassengerCount|\n",
      "+--------+----------------+--------------+\n",
      "|       3|             151|           2.0|\n",
      "+--------+----------------+--------------+\n",
      "\n"
     ]
    }
   ],
   "source": [
    "# Check if record exist\n",
    "\n",
    "spark.sql(\"\"\"\n",
    "\n",
    "SELECT VendorId\n",
    "     , PickupLocationId\n",
    "     , PassengerCount\n",
    "\n",
    "FROM TaxisDB.YellowTaxis\n",
    "\n",
    "WHERE VendorId = 3\n",
    "    AND PickupLocationId = 151\n",
    "\n",
    "\"\"\").show()"
   ]
  },
  {
   "cell_type": "code",
   "execution_count": 49,
   "id": "5cb297ba",
   "metadata": {},
   "outputs": [
    {
     "name": "stdout",
     "output_type": "stream",
     "text": [
      "+-----------------+\n",
      "|num_affected_rows|\n",
      "+-----------------+\n",
      "|                1|\n",
      "+-----------------+\n",
      "\n"
     ]
    }
   ],
   "source": [
    "# Delete the record\n",
    "\n",
    "spark.sql(\"\"\"\n",
    "\n",
    "DELETE FROM TaxisDB.YellowTaxis\n",
    "\n",
    "WHERE VendorId = 3\n",
    "    AND PickupLocationId = 151\n",
    "\n",
    "\"\"\").show()"
   ]
  },
  {
   "cell_type": "code",
   "execution_count": 50,
   "id": "adc510da",
   "metadata": {},
   "outputs": [
    {
     "name": "stdout",
     "output_type": "stream",
     "text": [
      "+--------+----------------+--------------+\n",
      "|VendorId|PickupLocationId|PassengerCount|\n",
      "+--------+----------------+--------------+\n",
      "+--------+----------------+--------------+\n",
      "\n"
     ]
    }
   ],
   "source": [
    "# Check if record exist after delete operation\n",
    "\n",
    "spark.sql(\"\"\"\n",
    "\n",
    "SELECT VendorId\n",
    "     , PickupLocationId\n",
    "     , PassengerCount\n",
    "\n",
    "FROM TaxisDB.YellowTaxis\n",
    "\n",
    "WHERE VendorId = 3\n",
    "    AND PickupLocationId = 151\n",
    "\n",
    "\"\"\").show()"
   ]
  },
  {
   "cell_type": "code",
   "execution_count": 51,
   "id": "44901e0d",
   "metadata": {},
   "outputs": [
    {
     "name": "stdout",
     "output_type": "stream",
     "text": [
      "+-------+-----------------------+------+--------+------------+--------------------------------------------------------------------------------------------------------------------------------------------------------+----+--------+---------+-----------+--------------+-------------+----------------------------------------------------------------------------------------------------------------------------------------------------------------------------------------------------------------------------------------------------------------------------------------------------------------------------+------------+-----------------------------------+\n",
      "|version|timestamp              |userId|userName|operation   |operationParameters                                                                                                                                     |job |notebook|clusterId|readVersion|isolationLevel|isBlindAppend|operationMetrics                                                                                                                                                                                                                                                                                                            |userMetadata|engineInfo                         |\n",
      "+-------+-----------------------+------+--------+------------+--------------------------------------------------------------------------------------------------------------------------------------------------------+----+--------+---------+-----------+--------------+-------------+----------------------------------------------------------------------------------------------------------------------------------------------------------------------------------------------------------------------------------------------------------------------------------------------------------------------------+------------+-----------------------------------+\n",
      "|5      |2024-11-16 00:32:26.853|NULL  |NULL    |DELETE      |{predicate -> [\"((VendorId#15366 = 3) AND (PickupLocationId#15369 = 151))\"]}                                                                            |NULL|NULL    |NULL     |4          |Serializable  |false        |{numRemovedFiles -> 1, numRemovedBytes -> 5469, numCopiedRows -> 2, numDeletionVectorsAdded -> 0, numDeletionVectorsRemoved -> 0, numAddedChangeFiles -> 0, executionTimeMs -> 800, numDeletionVectorsUpdated -> 0, numDeletedRows -> 1, scanTimeMs -> 636, numAddedFiles -> 1, numAddedBytes -> 5309, rewriteTimeMs -> 164}|NULL        |Apache-Spark/3.5.2 Delta-Lake/3.2.0|\n",
      "|4      |2024-11-16 00:32:24.483|NULL  |NULL    |UPDATE      |{predicate -> [\"((VendorId#13944 = 3) AND (PickupLocationId#13947 = 249))\"]}                                                                            |NULL|NULL    |NULL     |3          |Serializable  |false        |{numRemovedFiles -> 1, numRemovedBytes -> 5469, numCopiedRows -> 2, numDeletionVectorsAdded -> 0, numDeletionVectorsRemoved -> 0, numAddedChangeFiles -> 0, executionTimeMs -> 768, numDeletionVectorsUpdated -> 0, scanTimeMs -> 522, numAddedFiles -> 1, numUpdatedRows -> 1, numAddedBytes -> 5469, rewriteTimeMs -> 245}|NULL        |Apache-Spark/3.5.2 Delta-Lake/3.2.0|\n",
      "|3      |2024-11-16 00:32:21.448|NULL  |NULL    |WRITE       |{mode -> Append, partitionBy -> [\"VendorId\"]}                                                                                                           |NULL|NULL    |NULL     |2          |Serializable  |true         |{numFiles -> 33, numOutputRows -> 3675412, numOutputBytes -> 81722236}                                                                                                                                                                                                                                                      |NULL        |Apache-Spark/3.5.2 Delta-Lake/3.2.0|\n",
      "|2      |2024-11-16 00:32:11.577|NULL  |NULL    |WRITE       |{mode -> Append, partitionBy -> [\"VendorId\"]}                                                                                                           |NULL|NULL    |NULL     |1          |Serializable  |true         |{numFiles -> 1, numOutputRows -> 3, numOutputBytes -> 5469}                                                                                                                                                                                                                                                                 |NULL        |Apache-Spark/3.5.2 Delta-Lake/3.2.0|\n",
      "|1      |2024-11-16 00:32:05.936|NULL  |NULL    |WRITE       |{mode -> Append, partitionBy -> []}                                                                                                                     |NULL|NULL    |NULL     |0          |Serializable  |true         |{numFiles -> 1, numOutputRows -> 1, numOutputBytes -> 5096}                                                                                                                                                                                                                                                                 |NULL        |Apache-Spark/3.5.2 Delta-Lake/3.2.0|\n",
      "|0      |2024-11-16 00:31:47.963|NULL  |NULL    |CREATE TABLE|{partitionBy -> [\"VendorId\"], clusterBy -> [], description -> This table stores ride information for Yellow Taxis, isManaged -> false, properties -> {}}|NULL|NULL    |NULL     |NULL       |Serializable  |true         |{}                                                                                                                                                                                                                                                                                                                          |NULL        |Apache-Spark/3.5.2 Delta-Lake/3.2.0|\n",
      "+-------+-----------------------+------+--------+------------+--------------------------------------------------------------------------------------------------------------------------------------------------------+----+--------+---------+-----------+--------------+-------------+----------------------------------------------------------------------------------------------------------------------------------------------------------------------------------------------------------------------------------------------------------------------------------------------------------------------------+------------+-----------------------------------+\n",
      "\n"
     ]
    }
   ],
   "source": [
    "spark.sql(\"\"\"\n",
    "\n",
    "DESCRIBE HISTORY TaxisDB.YellowTaxis\n",
    "\n",
    "\"\"\").show(truncate=False)"
   ]
  },
  {
   "cell_type": "markdown",
   "id": "499bb621",
   "metadata": {},
   "source": [
    "### MERGE command"
   ]
  },
  {
   "cell_type": "code",
   "execution_count": 52,
   "id": "399ea04a",
   "metadata": {},
   "outputs": [
    {
     "name": "stdout",
     "output_type": "stream",
     "text": [
      "+--------+-------------------+-------------------+--------------+------------+----------+---------------+----------------+--------------+-----------+----------+-----+------+---------+-----------+--------------------+-----------+-------------------+----------+\n",
      "|VendorId|         PickupTime|           DropTime|PassengerCount|TripDistance|RateCodeId|StoreAndFwdFlag|PickupLocationId|DropLocationId|PaymentType|FareAmount|Extra|MtaTax|TipAmount|TollsAmount|ImprovementSurcharge|TotalAmount|CongestionSurcharge|AirportFee|\n",
      "+--------+-------------------+-------------------+--------------+------------+----------+---------------+----------------+--------------+-----------+----------+-----+------+---------+-----------+--------------------+-----------+-------------------+----------+\n",
      "|       3|2022-10-01 02:03:41|2022-10-01 02:18:39|           1.0|         1.7|       1.0|              N|             249|           107|          3|       9.5|  3.0|   0.5|     2.65|        0.0|                 0.3|      15.95|                2.5|       0.0|\n",
      "|       3|2022-10-01 02:14:30|2022-10-01 02:19:48|           2.0|        0.72|       1.0|              N|             170|           140|          3|       5.5|  0.5|   0.5|      0.0|        0.0|                 0.3|        9.3|                2.5|       0.0|\n",
      "|       3|2022-10-01 02:27:13|2022-10-01 02:37:41|           1.0|        1.74|       1.0|              N|             238|           166|          3|       9.0|  0.5|   0.5|     2.06|        0.0|                 0.3|      12.36|                0.0|       0.0|\n",
      "|       3|2022-10-01 02:35:13|2022-10-01 02:37:41|           0.0|        1.74|       1.0|              N|               1|           166|          3|       9.0|  0.5|   0.5|     2.06|        0.0|                 0.3|      12.36|                0.0|       0.0|\n",
      "+--------+-------------------+-------------------+--------------+------------+----------+---------------+----------------+--------------+-----------+----------+-----+------+---------+-----------+--------------------+-----------+-------------------+----------+\n",
      "\n"
     ]
    }
   ],
   "source": [
    "# Extract changed records from Storage/Data Lake\n",
    "\n",
    "yellowTaxiChangesDF = (\n",
    "                          spark\n",
    "                            .read\n",
    "                            .option(\"header\", \"true\")\n",
    "                            .schema(yellowTaxiSchema)\n",
    "                            .csv(r\"C:\\Users\\MonierAshraf\\Desktop\\2Btest\\Raw\\YellowTaxis_changes.csv\")\n",
    "                      )\n",
    "\n",
    "yellowTaxiChangesDF.show()"
   ]
  },
  {
   "cell_type": "code",
   "execution_count": 53,
   "id": "87d6265c",
   "metadata": {},
   "outputs": [],
   "source": [
    "yellowTaxiChangesDF.createOrReplaceTempView(\"YellowTaxiChanges\")"
   ]
  },
  {
   "cell_type": "code",
   "execution_count": 54,
   "id": "58137217",
   "metadata": {},
   "outputs": [
    {
     "name": "stdout",
     "output_type": "stream",
     "text": [
      "+--------+-------------------+-------------------+--------------+------------+----------+---------------+----------------+--------------+-----------+----------+-----+------+---------+-----------+--------------------+-----------+-------------------+----------+\n",
      "|VendorId|         PickupTime|           DropTime|PassengerCount|TripDistance|RateCodeId|StoreAndFwdFlag|PickupLocationId|DropLocationId|PaymentType|FareAmount|Extra|MtaTax|TipAmount|TollsAmount|ImprovementSurcharge|TotalAmount|CongestionSurcharge|AirportFee|\n",
      "+--------+-------------------+-------------------+--------------+------------+----------+---------------+----------------+--------------+-----------+----------+-----+------+---------+-----------+--------------------+-----------+-------------------+----------+\n",
      "|       3|2022-10-01 02:03:41|2022-10-01 02:18:39|           1.0|         1.7|       1.0|              N|             249|           107|          3|       9.5|  3.0|   0.5|     2.65|        0.0|                 0.3|      15.95|                2.5|       0.0|\n",
      "|       3|2022-10-01 02:14:30|2022-10-01 02:19:48|           2.0|        0.72|       1.0|              N|             170|           140|          3|       5.5|  0.5|   0.5|      0.0|        0.0|                 0.3|        9.3|                2.5|       0.0|\n",
      "|       3|2022-10-01 02:27:13|2022-10-01 02:37:41|           1.0|        1.74|       1.0|              N|             238|           166|          3|       9.0|  0.5|   0.5|     2.06|        0.0|                 0.3|      12.36|                0.0|       0.0|\n",
      "|       3|2022-10-01 02:35:13|2022-10-01 02:37:41|           0.0|        1.74|       1.0|              N|               1|           166|          3|       9.0|  0.5|   0.5|     2.06|        0.0|                 0.3|      12.36|                0.0|       0.0|\n",
      "+--------+-------------------+-------------------+--------------+------------+----------+---------------+----------------+--------------+-----------+----------+-----+------+---------+-----------+--------------------+-----------+-------------------+----------+\n",
      "\n"
     ]
    }
   ],
   "source": [
    "spark.sql(\"\"\"\n",
    "\n",
    "SELECT *\n",
    "FROM YellowTaxiChanges\n",
    "\n",
    "\"\"\").show()"
   ]
  },
  {
   "cell_type": "code",
   "execution_count": 55,
   "id": "f52c63f2",
   "metadata": {},
   "outputs": [
    {
     "name": "stdout",
     "output_type": "stream",
     "text": [
      "+-----------------+----------------+----------------+-----------------+\n",
      "|num_affected_rows|num_updated_rows|num_deleted_rows|num_inserted_rows|\n",
      "+-----------------+----------------+----------------+-----------------+\n",
      "|                4|               3|               0|                1|\n",
      "+-----------------+----------------+----------------+-----------------+\n",
      "\n"
     ]
    }
   ],
   "source": [
    "spark.sql(\"\"\"\n",
    "\n",
    "MERGE INTO TaxisDB.YellowTaxis tgt\n",
    "\n",
    "    USING YellowTaxiChanges    src\n",
    "\n",
    "        ON    tgt.VendorId          =  src.VendorId\n",
    "          AND tgt.PickupLocationId  =  src.PickupLocationId\n",
    "  \n",
    "-- Update row if join conditions match\n",
    "WHEN MATCHED\n",
    "      \n",
    "      THEN  \n",
    "          UPDATE SET    tgt.PaymentType = src.PaymentType   \n",
    "          \n",
    "                                                      -- Use 'UPDATE SET *' to update all columns\n",
    "\n",
    "-- Insert row if row is not present in target table\n",
    "WHEN NOT MATCHED \n",
    "      AND PickupTime >= '2022-03-01'\n",
    "\n",
    "      THEN \n",
    "          INSERT (VendorId, PickupTime, DropTime, PickupLocationId, DropLocationId, PassengerCount, TripDistance, \n",
    "                  RateCodeId, StoreAndFwdFlag, PaymentType, FareAmount, Extra, MtaTax, TipAmount, TollsAmount, \n",
    "                  ImprovementSurcharge, TotalAmount, CongestionSurcharge, AirportFee)\n",
    "          \n",
    "          VALUES (VendorId, PickupTime, DropTime, PickupLocationId, DropLocationId, PassengerCount, TripDistance,\n",
    "                  RateCodeId, StoreAndFwdFlag, PaymentType, FareAmount, Extra, MtaTax, TipAmount, TollsAmount, \n",
    "                  ImprovementSurcharge, TotalAmount, CongestionSurcharge, AirportFee)\n",
    "                                                                         \n",
    "\n",
    "\n",
    "\"\"\").show()"
   ]
  },
  {
   "cell_type": "code",
   "execution_count": 56,
   "id": "4525af55",
   "metadata": {},
   "outputs": [
    {
     "name": "stdout",
     "output_type": "stream",
     "text": [
      "+-------+-----------------------+------+--------+------------+-----------------------------------------------------------------------------------------------------------------------------------------------------------------------------------------------------------------------------------------------------------------------------------------------------------+----+--------+---------+-----------+--------------+-------------+--------------------------------------------------------------------------------------------------------------------------------------------------------------------------------------------------------------------------------------------------------------------------------------------------------------------------------------------------------------------------------------------------------------------------------------------------------------------------------------------------------------------------------------------------------------------------------------------------------------------------------------------------------+------------+-----------------------------------+\n",
      "|version|timestamp              |userId|userName|operation   |operationParameters                                                                                                                                                                                                                                                                                        |job |notebook|clusterId|readVersion|isolationLevel|isBlindAppend|operationMetrics                                                                                                                                                                                                                                                                                                                                                                                                                                                                                                                                                                                                                                        |userMetadata|engineInfo                         |\n",
      "+-------+-----------------------+------+--------+------------+-----------------------------------------------------------------------------------------------------------------------------------------------------------------------------------------------------------------------------------------------------------------------------------------------------------+----+--------+---------+-----------+--------------+-------------+--------------------------------------------------------------------------------------------------------------------------------------------------------------------------------------------------------------------------------------------------------------------------------------------------------------------------------------------------------------------------------------------------------------------------------------------------------------------------------------------------------------------------------------------------------------------------------------------------------------------------------------------------------+------------+-----------------------------------+\n",
      "|6      |2024-11-16 00:32:31.291|NULL  |NULL    |MERGE       |{predicate -> [\"((VendorId#17367 = VendorId#17117) AND (PickupLocationId#17370 = PickupLocationId#17124))\"], matchedPredicates -> [{\"actionType\":\"update\"}], notMatchedPredicates -> [{\"predicate\":\"(PickupTime#17118 >= 2022-03-01 00:00:00)\",\"actionType\":\"insert\"}], notMatchedBySourcePredicates -> []}|NULL|NULL    |NULL     |5          |Serializable  |false        |{numTargetRowsCopied -> 0, numTargetRowsDeleted -> 0, numTargetFilesAdded -> 1, numTargetBytesAdded -> 5637, numTargetBytesRemoved -> 10405, numTargetDeletionVectorsAdded -> 0, numTargetRowsMatchedUpdated -> 3, executionTimeMs -> 1545, numTargetRowsInserted -> 1, numTargetRowsMatchedDeleted -> 0, numTargetDeletionVectorsUpdated -> 0, scanTimeMs -> 1047, numTargetRowsUpdated -> 3, numOutputRows -> 4, numTargetDeletionVectorsRemoved -> 0, numTargetRowsNotMatchedBySourceUpdated -> 0, numTargetChangeFilesAdded -> 0, numSourceRows -> 4, numTargetFilesRemoved -> 2, numTargetRowsNotMatchedBySourceDeleted -> 0, rewriteTimeMs -> 419}|NULL        |Apache-Spark/3.5.2 Delta-Lake/3.2.0|\n",
      "|5      |2024-11-16 00:32:26.853|NULL  |NULL    |DELETE      |{predicate -> [\"((VendorId#15366 = 3) AND (PickupLocationId#15369 = 151))\"]}                                                                                                                                                                                                                               |NULL|NULL    |NULL     |4          |Serializable  |false        |{numRemovedFiles -> 1, numRemovedBytes -> 5469, numCopiedRows -> 2, numDeletionVectorsAdded -> 0, numDeletionVectorsRemoved -> 0, numAddedChangeFiles -> 0, executionTimeMs -> 800, numDeletionVectorsUpdated -> 0, numDeletedRows -> 1, scanTimeMs -> 636, numAddedFiles -> 1, numAddedBytes -> 5309, rewriteTimeMs -> 164}                                                                                                                                                                                                                                                                                                                            |NULL        |Apache-Spark/3.5.2 Delta-Lake/3.2.0|\n",
      "|4      |2024-11-16 00:32:24.483|NULL  |NULL    |UPDATE      |{predicate -> [\"((VendorId#13944 = 3) AND (PickupLocationId#13947 = 249))\"]}                                                                                                                                                                                                                               |NULL|NULL    |NULL     |3          |Serializable  |false        |{numRemovedFiles -> 1, numRemovedBytes -> 5469, numCopiedRows -> 2, numDeletionVectorsAdded -> 0, numDeletionVectorsRemoved -> 0, numAddedChangeFiles -> 0, executionTimeMs -> 768, numDeletionVectorsUpdated -> 0, scanTimeMs -> 522, numAddedFiles -> 1, numUpdatedRows -> 1, numAddedBytes -> 5469, rewriteTimeMs -> 245}                                                                                                                                                                                                                                                                                                                            |NULL        |Apache-Spark/3.5.2 Delta-Lake/3.2.0|\n",
      "|3      |2024-11-16 00:32:21.448|NULL  |NULL    |WRITE       |{mode -> Append, partitionBy -> [\"VendorId\"]}                                                                                                                                                                                                                                                              |NULL|NULL    |NULL     |2          |Serializable  |true         |{numFiles -> 33, numOutputRows -> 3675412, numOutputBytes -> 81722236}                                                                                                                                                                                                                                                                                                                                                                                                                                                                                                                                                                                  |NULL        |Apache-Spark/3.5.2 Delta-Lake/3.2.0|\n",
      "|2      |2024-11-16 00:32:11.577|NULL  |NULL    |WRITE       |{mode -> Append, partitionBy -> [\"VendorId\"]}                                                                                                                                                                                                                                                              |NULL|NULL    |NULL     |1          |Serializable  |true         |{numFiles -> 1, numOutputRows -> 3, numOutputBytes -> 5469}                                                                                                                                                                                                                                                                                                                                                                                                                                                                                                                                                                                             |NULL        |Apache-Spark/3.5.2 Delta-Lake/3.2.0|\n",
      "|1      |2024-11-16 00:32:05.936|NULL  |NULL    |WRITE       |{mode -> Append, partitionBy -> []}                                                                                                                                                                                                                                                                        |NULL|NULL    |NULL     |0          |Serializable  |true         |{numFiles -> 1, numOutputRows -> 1, numOutputBytes -> 5096}                                                                                                                                                                                                                                                                                                                                                                                                                                                                                                                                                                                             |NULL        |Apache-Spark/3.5.2 Delta-Lake/3.2.0|\n",
      "|0      |2024-11-16 00:31:47.963|NULL  |NULL    |CREATE TABLE|{partitionBy -> [\"VendorId\"], clusterBy -> [], description -> This table stores ride information for Yellow Taxis, isManaged -> false, properties -> {}}                                                                                                                                                   |NULL|NULL    |NULL     |NULL       |Serializable  |true         |{}                                                                                                                                                                                                                                                                                                                                                                                                                                                                                                                                                                                                                                                      |NULL        |Apache-Spark/3.5.2 Delta-Lake/3.2.0|\n",
      "+-------+-----------------------+------+--------+------------+-----------------------------------------------------------------------------------------------------------------------------------------------------------------------------------------------------------------------------------------------------------------------------------------------------------+----+--------+---------+-----------+--------------+-------------+--------------------------------------------------------------------------------------------------------------------------------------------------------------------------------------------------------------------------------------------------------------------------------------------------------------------------------------------------------------------------------------------------------------------------------------------------------------------------------------------------------------------------------------------------------------------------------------------------------------------------------------------------------+------------+-----------------------------------+\n",
      "\n"
     ]
    }
   ],
   "source": [
    "spark.sql(\"\"\" \n",
    "DESCRIBE HISTORY TaxisDB.YellowTaxis\n",
    "\n",
    "\"\"\").show(truncate=False)"
   ]
  },
  {
   "cell_type": "markdown",
   "id": "b9130c3a",
   "metadata": {},
   "source": [
    "### Constraints on Delta Table"
   ]
  },
  {
   "cell_type": "markdown",
   "id": "1e46f18e",
   "metadata": {},
   "source": [
    "#### NOT NULL constraint\n",
    "\n",
    "Drop the constraint here which was previously created\n",
    "\n",
    "<i>- Define NOT NULL constraint on column to avoid insertion of NULL values </i> <br/>"
   ]
  },
  {
   "cell_type": "code",
   "execution_count": 64,
   "id": "6b2db65c",
   "metadata": {},
   "outputs": [
    {
     "ename": "AnalysisException",
     "evalue": "Cannot change nullable column to non-nullable: PickupLocationId.; line 3 pos 0;\nAlterColumn resolvedfieldname(StructField(PickupLocationId,IntegerType,true)), false\n+- ResolvedTable org.apache.spark.sql.delta.catalog.DeltaCatalog@38fc9810, TaxisDB.YellowTaxis, DeltaTableV2(org.apache.spark.sql.SparkSession@49b156cf,file:/C:/Output/YellowTaxis.delta,Some(CatalogTable(\nCatalog: spark_catalog\nDatabase: taxisdb\nTable: yellowtaxis\nCreated Time: Sat Nov 16 00:31:47 EET 2024\nLast Access: UNKNOWN\nCreated By: Spark 3.5.2\nType: EXTERNAL\nProvider: delta\nComment: This table stores ride information for Yellow Taxis\nLocation: file:/C:/Output/YellowTaxis.delta\nPartition Provider: Catalog)),Some(TaxisDB.YellowTaxis),None,Map()), [VendorId#20031, PickupTime#20032, DropTime#20033, PickupLocationId#20034, DropLocationId#20035, PassengerCount#20036, TripDistance#20037, RateCodeId#20038, StoreAndFwdFlag#20039, PaymentType#20040, FareAmount#20041, Extra#20042, MtaTax#20043, TipAmount#20044, TollsAmount#20045, ImprovementSurcharge#20046, TotalAmount#20047, CongestionSurcharge#20048, AirportFee#20049]\n",
     "output_type": "error",
     "traceback": [
      "\u001b[1;31m---------------------------------------------------------------------------\u001b[0m",
      "\u001b[1;31mAnalysisException\u001b[0m                         Traceback (most recent call last)",
      "Cell \u001b[1;32mIn[64], line 1\u001b[0m\n\u001b[1;32m----> 1\u001b[0m spark\u001b[38;5;241m.\u001b[39msql(\u001b[38;5;124m\"\"\"\u001b[39m\n\u001b[0;32m      2\u001b[0m \n\u001b[0;32m      3\u001b[0m \u001b[38;5;124mALTER TABLE TaxisDB.YellowTaxis\u001b[39m\n\u001b[0;32m      4\u001b[0m \n\u001b[0;32m      5\u001b[0m \u001b[38;5;124m      CHANGE COLUMN PickupLocationId SET NOT NULL\u001b[39m\n\u001b[0;32m      6\u001b[0m \n\u001b[0;32m      7\u001b[0m \u001b[38;5;124m\"\"\"\u001b[39m)\u001b[38;5;241m.\u001b[39mshow()\n",
      "File \u001b[1;32mC:\\spark\\spark-3.5.2-bin-hadoop3\\python\\pyspark\\sql\\session.py:1631\u001b[0m, in \u001b[0;36mSparkSession.sql\u001b[1;34m(self, sqlQuery, args, **kwargs)\u001b[0m\n\u001b[0;32m   1627\u001b[0m         \u001b[38;5;28;01massert\u001b[39;00m \u001b[38;5;28mself\u001b[39m\u001b[38;5;241m.\u001b[39m_jvm \u001b[38;5;129;01mis\u001b[39;00m \u001b[38;5;129;01mnot\u001b[39;00m \u001b[38;5;28;01mNone\u001b[39;00m\n\u001b[0;32m   1628\u001b[0m         litArgs \u001b[38;5;241m=\u001b[39m \u001b[38;5;28mself\u001b[39m\u001b[38;5;241m.\u001b[39m_jvm\u001b[38;5;241m.\u001b[39mPythonUtils\u001b[38;5;241m.\u001b[39mtoArray(\n\u001b[0;32m   1629\u001b[0m             [_to_java_column(lit(v)) \u001b[38;5;28;01mfor\u001b[39;00m v \u001b[38;5;129;01min\u001b[39;00m (args \u001b[38;5;129;01mor\u001b[39;00m [])]\n\u001b[0;32m   1630\u001b[0m         )\n\u001b[1;32m-> 1631\u001b[0m     \u001b[38;5;28;01mreturn\u001b[39;00m DataFrame(\u001b[38;5;28mself\u001b[39m\u001b[38;5;241m.\u001b[39m_jsparkSession\u001b[38;5;241m.\u001b[39msql(sqlQuery, litArgs), \u001b[38;5;28mself\u001b[39m)\n\u001b[0;32m   1632\u001b[0m \u001b[38;5;28;01mfinally\u001b[39;00m:\n\u001b[0;32m   1633\u001b[0m     \u001b[38;5;28;01mif\u001b[39;00m \u001b[38;5;28mlen\u001b[39m(kwargs) \u001b[38;5;241m>\u001b[39m \u001b[38;5;241m0\u001b[39m:\n",
      "File \u001b[1;32mC:\\spark\\spark-3.5.2-bin-hadoop3\\python\\lib\\py4j-0.10.9.7-src.zip\\py4j\\java_gateway.py:1322\u001b[0m, in \u001b[0;36mJavaMember.__call__\u001b[1;34m(self, *args)\u001b[0m\n\u001b[0;32m   1316\u001b[0m command \u001b[38;5;241m=\u001b[39m proto\u001b[38;5;241m.\u001b[39mCALL_COMMAND_NAME \u001b[38;5;241m+\u001b[39m\\\n\u001b[0;32m   1317\u001b[0m     \u001b[38;5;28mself\u001b[39m\u001b[38;5;241m.\u001b[39mcommand_header \u001b[38;5;241m+\u001b[39m\\\n\u001b[0;32m   1318\u001b[0m     args_command \u001b[38;5;241m+\u001b[39m\\\n\u001b[0;32m   1319\u001b[0m     proto\u001b[38;5;241m.\u001b[39mEND_COMMAND_PART\n\u001b[0;32m   1321\u001b[0m answer \u001b[38;5;241m=\u001b[39m \u001b[38;5;28mself\u001b[39m\u001b[38;5;241m.\u001b[39mgateway_client\u001b[38;5;241m.\u001b[39msend_command(command)\n\u001b[1;32m-> 1322\u001b[0m return_value \u001b[38;5;241m=\u001b[39m get_return_value(\n\u001b[0;32m   1323\u001b[0m     answer, \u001b[38;5;28mself\u001b[39m\u001b[38;5;241m.\u001b[39mgateway_client, \u001b[38;5;28mself\u001b[39m\u001b[38;5;241m.\u001b[39mtarget_id, \u001b[38;5;28mself\u001b[39m\u001b[38;5;241m.\u001b[39mname)\n\u001b[0;32m   1325\u001b[0m \u001b[38;5;28;01mfor\u001b[39;00m temp_arg \u001b[38;5;129;01min\u001b[39;00m temp_args:\n\u001b[0;32m   1326\u001b[0m     \u001b[38;5;28;01mif\u001b[39;00m \u001b[38;5;28mhasattr\u001b[39m(temp_arg, \u001b[38;5;124m\"\u001b[39m\u001b[38;5;124m_detach\u001b[39m\u001b[38;5;124m\"\u001b[39m):\n",
      "File \u001b[1;32mC:\\spark\\spark-3.5.2-bin-hadoop3\\python\\pyspark\\errors\\exceptions\\captured.py:185\u001b[0m, in \u001b[0;36mcapture_sql_exception.<locals>.deco\u001b[1;34m(*a, **kw)\u001b[0m\n\u001b[0;32m    181\u001b[0m converted \u001b[38;5;241m=\u001b[39m convert_exception(e\u001b[38;5;241m.\u001b[39mjava_exception)\n\u001b[0;32m    182\u001b[0m \u001b[38;5;28;01mif\u001b[39;00m \u001b[38;5;129;01mnot\u001b[39;00m \u001b[38;5;28misinstance\u001b[39m(converted, UnknownException):\n\u001b[0;32m    183\u001b[0m     \u001b[38;5;66;03m# Hide where the exception came from that shows a non-Pythonic\u001b[39;00m\n\u001b[0;32m    184\u001b[0m     \u001b[38;5;66;03m# JVM exception message.\u001b[39;00m\n\u001b[1;32m--> 185\u001b[0m     \u001b[38;5;28;01mraise\u001b[39;00m converted \u001b[38;5;28;01mfrom\u001b[39;00m \u001b[38;5;28;01mNone\u001b[39;00m\n\u001b[0;32m    186\u001b[0m \u001b[38;5;28;01melse\u001b[39;00m:\n\u001b[0;32m    187\u001b[0m     \u001b[38;5;28;01mraise\u001b[39;00m\n",
      "\u001b[1;31mAnalysisException\u001b[0m: Cannot change nullable column to non-nullable: PickupLocationId.; line 3 pos 0;\nAlterColumn resolvedfieldname(StructField(PickupLocationId,IntegerType,true)), false\n+- ResolvedTable org.apache.spark.sql.delta.catalog.DeltaCatalog@38fc9810, TaxisDB.YellowTaxis, DeltaTableV2(org.apache.spark.sql.SparkSession@49b156cf,file:/C:/Output/YellowTaxis.delta,Some(CatalogTable(\nCatalog: spark_catalog\nDatabase: taxisdb\nTable: yellowtaxis\nCreated Time: Sat Nov 16 00:31:47 EET 2024\nLast Access: UNKNOWN\nCreated By: Spark 3.5.2\nType: EXTERNAL\nProvider: delta\nComment: This table stores ride information for Yellow Taxis\nLocation: file:/C:/Output/YellowTaxis.delta\nPartition Provider: Catalog)),Some(TaxisDB.YellowTaxis),None,Map()), [VendorId#20031, PickupTime#20032, DropTime#20033, PickupLocationId#20034, DropLocationId#20035, PassengerCount#20036, TripDistance#20037, RateCodeId#20038, StoreAndFwdFlag#20039, PaymentType#20040, FareAmount#20041, Extra#20042, MtaTax#20043, TipAmount#20044, TollsAmount#20045, ImprovementSurcharge#20046, TotalAmount#20047, CongestionSurcharge#20048, AirportFee#20049]\n"
     ]
    }
   ],
   "source": [
    "spark.sql(\"\"\"\n",
    "\n",
    "ALTER TABLE TaxisDB.YellowTaxis\n",
    "\n",
    "      CHANGE COLUMN PickupLocationId SET NOT NULL\n",
    "\n",
    "\"\"\").show()"
   ]
  },
  {
   "cell_type": "code",
   "execution_count": 59,
   "id": "84e1418b",
   "metadata": {},
   "outputs": [
    {
     "name": "stdout",
     "output_type": "stream",
     "text": [
      "+-------+-----------------------+------+--------+-------------+-----------------------------------------------------------------------------------------------------------------------------------------------------------------------------------------------------------------------------------------------------------------------------------------------------------+----+--------+---------+-----------+--------------+-------------+--------------------------------------------------------------------------------------------------------------------------------------------------------------------------------------------------------------------------------------------------------------------------------------------------------------------------------------------------------------------------------------------------------------------------------------------------------------------------------------------------------------------------------------------------------------------------------------------------------------------------------------------------------+------------+-----------------------------------+\n",
      "|version|timestamp              |userId|userName|operation    |operationParameters                                                                                                                                                                                                                                                                                        |job |notebook|clusterId|readVersion|isolationLevel|isBlindAppend|operationMetrics                                                                                                                                                                                                                                                                                                                                                                                                                                                                                                                                                                                                                                        |userMetadata|engineInfo                         |\n",
      "+-------+-----------------------+------+--------+-------------+-----------------------------------------------------------------------------------------------------------------------------------------------------------------------------------------------------------------------------------------------------------------------------------------------------------+----+--------+---------+-----------+--------------+-------------+--------------------------------------------------------------------------------------------------------------------------------------------------------------------------------------------------------------------------------------------------------------------------------------------------------------------------------------------------------------------------------------------------------------------------------------------------------------------------------------------------------------------------------------------------------------------------------------------------------------------------------------------------------+------------+-----------------------------------+\n",
      "|7      |2024-11-16 00:32:37.744|NULL  |NULL    |CHANGE COLUMN|{column -> {\"name\":\"PickupLocationId\",\"type\":\"integer\",\"nullable\":false,\"metadata\":{}}}                                                                                                                                                                                                                    |NULL|NULL    |NULL     |6          |Serializable  |true         |{}                                                                                                                                                                                                                                                                                                                                                                                                                                                                                                                                                                                                                                                      |NULL        |Apache-Spark/3.5.2 Delta-Lake/3.2.0|\n",
      "|6      |2024-11-16 00:32:31.291|NULL  |NULL    |MERGE        |{predicate -> [\"((VendorId#17367 = VendorId#17117) AND (PickupLocationId#17370 = PickupLocationId#17124))\"], matchedPredicates -> [{\"actionType\":\"update\"}], notMatchedPredicates -> [{\"predicate\":\"(PickupTime#17118 >= 2022-03-01 00:00:00)\",\"actionType\":\"insert\"}], notMatchedBySourcePredicates -> []}|NULL|NULL    |NULL     |5          |Serializable  |false        |{numTargetRowsCopied -> 0, numTargetRowsDeleted -> 0, numTargetFilesAdded -> 1, numTargetBytesAdded -> 5637, numTargetBytesRemoved -> 10405, numTargetDeletionVectorsAdded -> 0, numTargetRowsMatchedUpdated -> 3, executionTimeMs -> 1545, numTargetRowsInserted -> 1, numTargetRowsMatchedDeleted -> 0, numTargetDeletionVectorsUpdated -> 0, scanTimeMs -> 1047, numTargetRowsUpdated -> 3, numOutputRows -> 4, numTargetDeletionVectorsRemoved -> 0, numTargetRowsNotMatchedBySourceUpdated -> 0, numTargetChangeFilesAdded -> 0, numSourceRows -> 4, numTargetFilesRemoved -> 2, numTargetRowsNotMatchedBySourceDeleted -> 0, rewriteTimeMs -> 419}|NULL        |Apache-Spark/3.5.2 Delta-Lake/3.2.0|\n",
      "|5      |2024-11-16 00:32:26.853|NULL  |NULL    |DELETE       |{predicate -> [\"((VendorId#15366 = 3) AND (PickupLocationId#15369 = 151))\"]}                                                                                                                                                                                                                               |NULL|NULL    |NULL     |4          |Serializable  |false        |{numRemovedFiles -> 1, numRemovedBytes -> 5469, numCopiedRows -> 2, numDeletionVectorsAdded -> 0, numDeletionVectorsRemoved -> 0, numAddedChangeFiles -> 0, executionTimeMs -> 800, numDeletionVectorsUpdated -> 0, numDeletedRows -> 1, scanTimeMs -> 636, numAddedFiles -> 1, numAddedBytes -> 5309, rewriteTimeMs -> 164}                                                                                                                                                                                                                                                                                                                            |NULL        |Apache-Spark/3.5.2 Delta-Lake/3.2.0|\n",
      "|4      |2024-11-16 00:32:24.483|NULL  |NULL    |UPDATE       |{predicate -> [\"((VendorId#13944 = 3) AND (PickupLocationId#13947 = 249))\"]}                                                                                                                                                                                                                               |NULL|NULL    |NULL     |3          |Serializable  |false        |{numRemovedFiles -> 1, numRemovedBytes -> 5469, numCopiedRows -> 2, numDeletionVectorsAdded -> 0, numDeletionVectorsRemoved -> 0, numAddedChangeFiles -> 0, executionTimeMs -> 768, numDeletionVectorsUpdated -> 0, scanTimeMs -> 522, numAddedFiles -> 1, numUpdatedRows -> 1, numAddedBytes -> 5469, rewriteTimeMs -> 245}                                                                                                                                                                                                                                                                                                                            |NULL        |Apache-Spark/3.5.2 Delta-Lake/3.2.0|\n",
      "|3      |2024-11-16 00:32:21.448|NULL  |NULL    |WRITE        |{mode -> Append, partitionBy -> [\"VendorId\"]}                                                                                                                                                                                                                                                              |NULL|NULL    |NULL     |2          |Serializable  |true         |{numFiles -> 33, numOutputRows -> 3675412, numOutputBytes -> 81722236}                                                                                                                                                                                                                                                                                                                                                                                                                                                                                                                                                                                  |NULL        |Apache-Spark/3.5.2 Delta-Lake/3.2.0|\n",
      "|2      |2024-11-16 00:32:11.577|NULL  |NULL    |WRITE        |{mode -> Append, partitionBy -> [\"VendorId\"]}                                                                                                                                                                                                                                                              |NULL|NULL    |NULL     |1          |Serializable  |true         |{numFiles -> 1, numOutputRows -> 3, numOutputBytes -> 5469}                                                                                                                                                                                                                                                                                                                                                                                                                                                                                                                                                                                             |NULL        |Apache-Spark/3.5.2 Delta-Lake/3.2.0|\n",
      "|1      |2024-11-16 00:32:05.936|NULL  |NULL    |WRITE        |{mode -> Append, partitionBy -> []}                                                                                                                                                                                                                                                                        |NULL|NULL    |NULL     |0          |Serializable  |true         |{numFiles -> 1, numOutputRows -> 1, numOutputBytes -> 5096}                                                                                                                                                                                                                                                                                                                                                                                                                                                                                                                                                                                             |NULL        |Apache-Spark/3.5.2 Delta-Lake/3.2.0|\n",
      "|0      |2024-11-16 00:31:47.963|NULL  |NULL    |CREATE TABLE |{partitionBy -> [\"VendorId\"], clusterBy -> [], description -> This table stores ride information for Yellow Taxis, isManaged -> false, properties -> {}}                                                                                                                                                   |NULL|NULL    |NULL     |NULL       |Serializable  |true         |{}                                                                                                                                                                                                                                                                                                                                                                                                                                                                                                                                                                                                                                                      |NULL        |Apache-Spark/3.5.2 Delta-Lake/3.2.0|\n",
      "+-------+-----------------------+------+--------+-------------+-----------------------------------------------------------------------------------------------------------------------------------------------------------------------------------------------------------------------------------------------------------------------------------------------------------+----+--------+---------+-----------+--------------+-------------+--------------------------------------------------------------------------------------------------------------------------------------------------------------------------------------------------------------------------------------------------------------------------------------------------------------------------------------------------------------------------------------------------------------------------------------------------------------------------------------------------------------------------------------------------------------------------------------------------------------------------------------------------------+------------+-----------------------------------+\n",
      "\n"
     ]
    }
   ],
   "source": [
    "spark.sql(\"\"\"\n",
    "\n",
    "DESCRIBE HISTORY TaxisDB.YellowTaxis\n",
    "\n",
    "\"\"\").show(truncate=False)"
   ]
  },
  {
   "cell_type": "code",
   "execution_count": 70,
   "id": "0ca78a8a",
   "metadata": {},
   "outputs": [
    {
     "name": "stdout",
     "output_type": "stream",
     "text": [
      "++\n",
      "||\n",
      "++\n",
      "++\n",
      "\n"
     ]
    }
   ],
   "source": [
    "spark.sql(\"\"\"\n",
    "\n",
    "ALTER TABLE TaxisDB.YellowTaxis\n",
    "\n",
    "      CHANGE COLUMN PickupLocationId DROP NOT NULL\n",
    "\n",
    "\"\"\").show()\n",
    "\n",
    "# ALTER TABLE TaxisDB.YellowTaxis\n",
    "#      CHANGE COLUMN PickupLocationId SET NOT NULL"
   ]
  },
  {
   "cell_type": "code",
   "execution_count": 71,
   "id": "540621b3",
   "metadata": {},
   "outputs": [
    {
     "name": "stdout",
     "output_type": "stream",
     "text": [
      "+-------+-----------------------+------+--------+-------------+-----------------------------------------------------------------------------------------------------------------------------------------------------------------------------------------------------------------------------------------------------------------------------------------------------------+----+--------+---------+-----------+--------------+-------------+--------------------------------------------------------------------------------------------------------------------------------------------------------------------------------------------------------------------------------------------------------------------------------------------------------------------------------------------------------------------------------------------------------------------------------------------------------------------------------------------------------------------------------------------------------------------------------------------------------------------------------------------------------+------------+-----------------------------------+\n",
      "|version|timestamp              |userId|userName|operation    |operationParameters                                                                                                                                                                                                                                                                                        |job |notebook|clusterId|readVersion|isolationLevel|isBlindAppend|operationMetrics                                                                                                                                                                                                                                                                                                                                                                                                                                                                                                                                                                                                                                        |userMetadata|engineInfo                         |\n",
      "+-------+-----------------------+------+--------+-------------+-----------------------------------------------------------------------------------------------------------------------------------------------------------------------------------------------------------------------------------------------------------------------------------------------------------+----+--------+---------+-----------+--------------+-------------+--------------------------------------------------------------------------------------------------------------------------------------------------------------------------------------------------------------------------------------------------------------------------------------------------------------------------------------------------------------------------------------------------------------------------------------------------------------------------------------------------------------------------------------------------------------------------------------------------------------------------------------------------------+------------+-----------------------------------+\n",
      "|11     |2024-11-16 00:34:40.692|NULL  |NULL    |CHANGE COLUMN|{column -> {\"name\":\"PickupLocationId\",\"type\":\"integer\",\"nullable\":true,\"metadata\":{}}}                                                                                                                                                                                                                     |NULL|NULL    |NULL     |10         |Serializable  |true         |{}                                                                                                                                                                                                                                                                                                                                                                                                                                                                                                                                                                                                                                                      |NULL        |Apache-Spark/3.5.2 Delta-Lake/3.2.0|\n",
      "|10     |2024-11-16 00:34:26.938|NULL  |NULL    |CHANGE COLUMN|{column -> {\"name\":\"PickupLocationId\",\"type\":\"integer\",\"nullable\":true,\"metadata\":{}}}                                                                                                                                                                                                                     |NULL|NULL    |NULL     |9          |Serializable  |true         |{}                                                                                                                                                                                                                                                                                                                                                                                                                                                                                                                                                                                                                                                      |NULL        |Apache-Spark/3.5.2 Delta-Lake/3.2.0|\n",
      "|9      |2024-11-16 00:34:07.69 |NULL  |NULL    |CHANGE COLUMN|{column -> {\"name\":\"PickupLocationId\",\"type\":\"integer\",\"nullable\":true,\"metadata\":{}}}                                                                                                                                                                                                                     |NULL|NULL    |NULL     |8          |Serializable  |true         |{}                                                                                                                                                                                                                                                                                                                                                                                                                                                                                                                                                                                                                                                      |NULL        |Apache-Spark/3.5.2 Delta-Lake/3.2.0|\n",
      "|8      |2024-11-16 00:33:02.221|NULL  |NULL    |CHANGE COLUMN|{column -> {\"name\":\"PickupLocationId\",\"type\":\"integer\",\"nullable\":true,\"metadata\":{}}}                                                                                                                                                                                                                     |NULL|NULL    |NULL     |7          |Serializable  |true         |{}                                                                                                                                                                                                                                                                                                                                                                                                                                                                                                                                                                                                                                                      |NULL        |Apache-Spark/3.5.2 Delta-Lake/3.2.0|\n",
      "|7      |2024-11-16 00:32:37.744|NULL  |NULL    |CHANGE COLUMN|{column -> {\"name\":\"PickupLocationId\",\"type\":\"integer\",\"nullable\":false,\"metadata\":{}}}                                                                                                                                                                                                                    |NULL|NULL    |NULL     |6          |Serializable  |true         |{}                                                                                                                                                                                                                                                                                                                                                                                                                                                                                                                                                                                                                                                      |NULL        |Apache-Spark/3.5.2 Delta-Lake/3.2.0|\n",
      "|6      |2024-11-16 00:32:31.291|NULL  |NULL    |MERGE        |{predicate -> [\"((VendorId#17367 = VendorId#17117) AND (PickupLocationId#17370 = PickupLocationId#17124))\"], matchedPredicates -> [{\"actionType\":\"update\"}], notMatchedPredicates -> [{\"predicate\":\"(PickupTime#17118 >= 2022-03-01 00:00:00)\",\"actionType\":\"insert\"}], notMatchedBySourcePredicates -> []}|NULL|NULL    |NULL     |5          |Serializable  |false        |{numTargetRowsCopied -> 0, numTargetRowsDeleted -> 0, numTargetFilesAdded -> 1, numTargetBytesAdded -> 5637, numTargetBytesRemoved -> 10405, numTargetDeletionVectorsAdded -> 0, numTargetRowsMatchedUpdated -> 3, executionTimeMs -> 1545, numTargetRowsInserted -> 1, numTargetRowsMatchedDeleted -> 0, numTargetDeletionVectorsUpdated -> 0, scanTimeMs -> 1047, numTargetRowsUpdated -> 3, numOutputRows -> 4, numTargetDeletionVectorsRemoved -> 0, numTargetRowsNotMatchedBySourceUpdated -> 0, numTargetChangeFilesAdded -> 0, numSourceRows -> 4, numTargetFilesRemoved -> 2, numTargetRowsNotMatchedBySourceDeleted -> 0, rewriteTimeMs -> 419}|NULL        |Apache-Spark/3.5.2 Delta-Lake/3.2.0|\n",
      "|5      |2024-11-16 00:32:26.853|NULL  |NULL    |DELETE       |{predicate -> [\"((VendorId#15366 = 3) AND (PickupLocationId#15369 = 151))\"]}                                                                                                                                                                                                                               |NULL|NULL    |NULL     |4          |Serializable  |false        |{numRemovedFiles -> 1, numRemovedBytes -> 5469, numCopiedRows -> 2, numDeletionVectorsAdded -> 0, numDeletionVectorsRemoved -> 0, numAddedChangeFiles -> 0, executionTimeMs -> 800, numDeletionVectorsUpdated -> 0, numDeletedRows -> 1, scanTimeMs -> 636, numAddedFiles -> 1, numAddedBytes -> 5309, rewriteTimeMs -> 164}                                                                                                                                                                                                                                                                                                                            |NULL        |Apache-Spark/3.5.2 Delta-Lake/3.2.0|\n",
      "|4      |2024-11-16 00:32:24.483|NULL  |NULL    |UPDATE       |{predicate -> [\"((VendorId#13944 = 3) AND (PickupLocationId#13947 = 249))\"]}                                                                                                                                                                                                                               |NULL|NULL    |NULL     |3          |Serializable  |false        |{numRemovedFiles -> 1, numRemovedBytes -> 5469, numCopiedRows -> 2, numDeletionVectorsAdded -> 0, numDeletionVectorsRemoved -> 0, numAddedChangeFiles -> 0, executionTimeMs -> 768, numDeletionVectorsUpdated -> 0, scanTimeMs -> 522, numAddedFiles -> 1, numUpdatedRows -> 1, numAddedBytes -> 5469, rewriteTimeMs -> 245}                                                                                                                                                                                                                                                                                                                            |NULL        |Apache-Spark/3.5.2 Delta-Lake/3.2.0|\n",
      "|3      |2024-11-16 00:32:21.448|NULL  |NULL    |WRITE        |{mode -> Append, partitionBy -> [\"VendorId\"]}                                                                                                                                                                                                                                                              |NULL|NULL    |NULL     |2          |Serializable  |true         |{numFiles -> 33, numOutputRows -> 3675412, numOutputBytes -> 81722236}                                                                                                                                                                                                                                                                                                                                                                                                                                                                                                                                                                                  |NULL        |Apache-Spark/3.5.2 Delta-Lake/3.2.0|\n",
      "|2      |2024-11-16 00:32:11.577|NULL  |NULL    |WRITE        |{mode -> Append, partitionBy -> [\"VendorId\"]}                                                                                                                                                                                                                                                              |NULL|NULL    |NULL     |1          |Serializable  |true         |{numFiles -> 1, numOutputRows -> 3, numOutputBytes -> 5469}                                                                                                                                                                                                                                                                                                                                                                                                                                                                                                                                                                                             |NULL        |Apache-Spark/3.5.2 Delta-Lake/3.2.0|\n",
      "|1      |2024-11-16 00:32:05.936|NULL  |NULL    |WRITE        |{mode -> Append, partitionBy -> []}                                                                                                                                                                                                                                                                        |NULL|NULL    |NULL     |0          |Serializable  |true         |{numFiles -> 1, numOutputRows -> 1, numOutputBytes -> 5096}                                                                                                                                                                                                                                                                                                                                                                                                                                                                                                                                                                                             |NULL        |Apache-Spark/3.5.2 Delta-Lake/3.2.0|\n",
      "|0      |2024-11-16 00:31:47.963|NULL  |NULL    |CREATE TABLE |{partitionBy -> [\"VendorId\"], clusterBy -> [], description -> This table stores ride information for Yellow Taxis, isManaged -> false, properties -> {}}                                                                                                                                                   |NULL|NULL    |NULL     |NULL       |Serializable  |true         |{}                                                                                                                                                                                                                                                                                                                                                                                                                                                                                                                                                                                                                                                      |NULL        |Apache-Spark/3.5.2 Delta-Lake/3.2.0|\n",
      "+-------+-----------------------+------+--------+-------------+-----------------------------------------------------------------------------------------------------------------------------------------------------------------------------------------------------------------------------------------------------------------------------------------------------------+----+--------+---------+-----------+--------------+-------------+--------------------------------------------------------------------------------------------------------------------------------------------------------------------------------------------------------------------------------------------------------------------------------------------------------------------------------------------------------------------------------------------------------------------------------------------------------------------------------------------------------------------------------------------------------------------------------------------------------------------------------------------------------+------------+-----------------------------------+\n",
      "\n"
     ]
    }
   ],
   "source": [
    "spark.sql(\"\"\"\n",
    "\n",
    "DESCRIBE HISTORY TaxisDB.YellowTaxis\n",
    "\n",
    "\"\"\").show(truncate=False)"
   ]
  },
  {
   "cell_type": "markdown",
   "id": "dd41a2fd",
   "metadata": {},
   "source": [
    "#### CHECK constraint\n",
    "\n",
    "Check constraint helps to enforce certain conditions on the table"
   ]
  },
  {
   "cell_type": "code",
   "execution_count": 72,
   "id": "20f5332b",
   "metadata": {},
   "outputs": [
    {
     "ename": "AnalysisException",
     "evalue": "[DELTA_NEW_CHECK_CONSTRAINT_VIOLATION] 170881 rows in spark_catalog.taxisdb.yellowtaxis violate the new CHECK constraint (PassengerCount <= 5)",
     "output_type": "error",
     "traceback": [
      "\u001b[1;31m---------------------------------------------------------------------------\u001b[0m",
      "\u001b[1;31mAnalysisException\u001b[0m                         Traceback (most recent call last)",
      "Cell \u001b[1;32mIn[72], line 1\u001b[0m\n\u001b[1;32m----> 1\u001b[0m spark\u001b[38;5;241m.\u001b[39msql(\u001b[38;5;124m\"\"\"\u001b[39m\n\u001b[0;32m      2\u001b[0m \n\u001b[0;32m      3\u001b[0m \u001b[38;5;124mALTER TABLE TaxisDB.YellowTaxis\u001b[39m\n\u001b[0;32m      4\u001b[0m \n\u001b[0;32m      5\u001b[0m \u001b[38;5;124m    ADD CONSTRAINT PassengerCountCheck CHECK (PassengerCount <= 5)\u001b[39m\n\u001b[0;32m      6\u001b[0m \n\u001b[0;32m      7\u001b[0m \u001b[38;5;124m\"\"\"\u001b[39m)\u001b[38;5;241m.\u001b[39mshow()\n",
      "File \u001b[1;32mC:\\spark\\spark-3.5.2-bin-hadoop3\\python\\pyspark\\sql\\session.py:1631\u001b[0m, in \u001b[0;36mSparkSession.sql\u001b[1;34m(self, sqlQuery, args, **kwargs)\u001b[0m\n\u001b[0;32m   1627\u001b[0m         \u001b[38;5;28;01massert\u001b[39;00m \u001b[38;5;28mself\u001b[39m\u001b[38;5;241m.\u001b[39m_jvm \u001b[38;5;129;01mis\u001b[39;00m \u001b[38;5;129;01mnot\u001b[39;00m \u001b[38;5;28;01mNone\u001b[39;00m\n\u001b[0;32m   1628\u001b[0m         litArgs \u001b[38;5;241m=\u001b[39m \u001b[38;5;28mself\u001b[39m\u001b[38;5;241m.\u001b[39m_jvm\u001b[38;5;241m.\u001b[39mPythonUtils\u001b[38;5;241m.\u001b[39mtoArray(\n\u001b[0;32m   1629\u001b[0m             [_to_java_column(lit(v)) \u001b[38;5;28;01mfor\u001b[39;00m v \u001b[38;5;129;01min\u001b[39;00m (args \u001b[38;5;129;01mor\u001b[39;00m [])]\n\u001b[0;32m   1630\u001b[0m         )\n\u001b[1;32m-> 1631\u001b[0m     \u001b[38;5;28;01mreturn\u001b[39;00m DataFrame(\u001b[38;5;28mself\u001b[39m\u001b[38;5;241m.\u001b[39m_jsparkSession\u001b[38;5;241m.\u001b[39msql(sqlQuery, litArgs), \u001b[38;5;28mself\u001b[39m)\n\u001b[0;32m   1632\u001b[0m \u001b[38;5;28;01mfinally\u001b[39;00m:\n\u001b[0;32m   1633\u001b[0m     \u001b[38;5;28;01mif\u001b[39;00m \u001b[38;5;28mlen\u001b[39m(kwargs) \u001b[38;5;241m>\u001b[39m \u001b[38;5;241m0\u001b[39m:\n",
      "File \u001b[1;32mC:\\spark\\spark-3.5.2-bin-hadoop3\\python\\lib\\py4j-0.10.9.7-src.zip\\py4j\\java_gateway.py:1322\u001b[0m, in \u001b[0;36mJavaMember.__call__\u001b[1;34m(self, *args)\u001b[0m\n\u001b[0;32m   1316\u001b[0m command \u001b[38;5;241m=\u001b[39m proto\u001b[38;5;241m.\u001b[39mCALL_COMMAND_NAME \u001b[38;5;241m+\u001b[39m\\\n\u001b[0;32m   1317\u001b[0m     \u001b[38;5;28mself\u001b[39m\u001b[38;5;241m.\u001b[39mcommand_header \u001b[38;5;241m+\u001b[39m\\\n\u001b[0;32m   1318\u001b[0m     args_command \u001b[38;5;241m+\u001b[39m\\\n\u001b[0;32m   1319\u001b[0m     proto\u001b[38;5;241m.\u001b[39mEND_COMMAND_PART\n\u001b[0;32m   1321\u001b[0m answer \u001b[38;5;241m=\u001b[39m \u001b[38;5;28mself\u001b[39m\u001b[38;5;241m.\u001b[39mgateway_client\u001b[38;5;241m.\u001b[39msend_command(command)\n\u001b[1;32m-> 1322\u001b[0m return_value \u001b[38;5;241m=\u001b[39m get_return_value(\n\u001b[0;32m   1323\u001b[0m     answer, \u001b[38;5;28mself\u001b[39m\u001b[38;5;241m.\u001b[39mgateway_client, \u001b[38;5;28mself\u001b[39m\u001b[38;5;241m.\u001b[39mtarget_id, \u001b[38;5;28mself\u001b[39m\u001b[38;5;241m.\u001b[39mname)\n\u001b[0;32m   1325\u001b[0m \u001b[38;5;28;01mfor\u001b[39;00m temp_arg \u001b[38;5;129;01min\u001b[39;00m temp_args:\n\u001b[0;32m   1326\u001b[0m     \u001b[38;5;28;01mif\u001b[39;00m \u001b[38;5;28mhasattr\u001b[39m(temp_arg, \u001b[38;5;124m\"\u001b[39m\u001b[38;5;124m_detach\u001b[39m\u001b[38;5;124m\"\u001b[39m):\n",
      "File \u001b[1;32mC:\\spark\\spark-3.5.2-bin-hadoop3\\python\\pyspark\\errors\\exceptions\\captured.py:185\u001b[0m, in \u001b[0;36mcapture_sql_exception.<locals>.deco\u001b[1;34m(*a, **kw)\u001b[0m\n\u001b[0;32m    181\u001b[0m converted \u001b[38;5;241m=\u001b[39m convert_exception(e\u001b[38;5;241m.\u001b[39mjava_exception)\n\u001b[0;32m    182\u001b[0m \u001b[38;5;28;01mif\u001b[39;00m \u001b[38;5;129;01mnot\u001b[39;00m \u001b[38;5;28misinstance\u001b[39m(converted, UnknownException):\n\u001b[0;32m    183\u001b[0m     \u001b[38;5;66;03m# Hide where the exception came from that shows a non-Pythonic\u001b[39;00m\n\u001b[0;32m    184\u001b[0m     \u001b[38;5;66;03m# JVM exception message.\u001b[39;00m\n\u001b[1;32m--> 185\u001b[0m     \u001b[38;5;28;01mraise\u001b[39;00m converted \u001b[38;5;28;01mfrom\u001b[39;00m \u001b[38;5;28;01mNone\u001b[39;00m\n\u001b[0;32m    186\u001b[0m \u001b[38;5;28;01melse\u001b[39;00m:\n\u001b[0;32m    187\u001b[0m     \u001b[38;5;28;01mraise\u001b[39;00m\n",
      "\u001b[1;31mAnalysisException\u001b[0m: [DELTA_NEW_CHECK_CONSTRAINT_VIOLATION] 170881 rows in spark_catalog.taxisdb.yellowtaxis violate the new CHECK constraint (PassengerCount <= 5)"
     ]
    }
   ],
   "source": [
    "spark.sql(\"\"\"\n",
    "\n",
    "ALTER TABLE TaxisDB.YellowTaxis\n",
    "\n",
    "    ADD CONSTRAINT PassengerCountCheck CHECK (PassengerCount <= 5)\n",
    "\n",
    "\"\"\").show()"
   ]
  },
  {
   "cell_type": "code",
   "execution_count": 73,
   "id": "a2b0f01b",
   "metadata": {},
   "outputs": [
    {
     "data": {
      "text/plain": [
       "DataFrame[]"
      ]
     },
     "execution_count": 73,
     "metadata": {},
     "output_type": "execute_result"
    }
   ],
   "source": [
    "spark.sql(\"\"\"\n",
    "\n",
    "ALTER TABLE TaxisDB.YellowTaxis\n",
    "\n",
    "    ADD CONSTRAINT PassengerCheck CHECK (PassengerCount <= 9 OR PassengerCount IS NULL)\n",
    "\n",
    "\"\"\")"
   ]
  },
  {
   "cell_type": "code",
   "execution_count": 74,
   "id": "6f496f9c",
   "metadata": {},
   "outputs": [
    {
     "ename": "Py4JJavaError",
     "evalue": "An error occurred while calling o33.sql.\n: org.apache.spark.sql.delta.schema.DeltaInvariantViolationException: [DELTA_VIOLATE_CONSTRAINT_WITH_VALUES] CHECK constraint passengercheck ((PassengerCount <= 9) OR (PassengerCount IS NULL)) violated by row with values:\n - PassengerCount : 20.0\r\n\tat org.apache.spark.sql.delta.schema.DeltaInvariantViolationException$.getConstraintViolationWithValuesException(InvariantViolationException.scala:75)\r\n\tat org.apache.spark.sql.delta.schema.DeltaInvariantViolationException$.apply(InvariantViolationException.scala:101)\r\n\tat org.apache.spark.sql.delta.schema.DeltaInvariantViolationException$.apply(InvariantViolationException.scala:112)\r\n\tat org.apache.spark.sql.delta.schema.DeltaInvariantViolationException.apply(InvariantViolationException.scala)\r\n\tat org.apache.spark.sql.catalyst.expressions.GeneratedClass$SpecificUnsafeProjection.apply(Unknown Source)\r\n\tat org.apache.spark.sql.delta.constraints.DeltaInvariantCheckerExec.$anonfun$doExecute$3(DeltaInvariantCheckerExec.scala:89)\r\n\tat scala.collection.Iterator$$anon$10.next(Iterator.scala:461)\r\n\tat org.apache.spark.sql.execution.UnsafeExternalRowSorter.sort(UnsafeExternalRowSorter.java:226)\r\n\tat org.apache.spark.sql.execution.SortExec.$anonfun$doExecute$1(SortExec.scala:119)\r\n\tat org.apache.spark.rdd.RDD.$anonfun$mapPartitionsInternal$2(RDD.scala:893)\r\n\tat org.apache.spark.rdd.RDD.$anonfun$mapPartitionsInternal$2$adapted(RDD.scala:893)\r\n\tat org.apache.spark.rdd.MapPartitionsRDD.compute(MapPartitionsRDD.scala:52)\r\n\tat org.apache.spark.rdd.RDD.computeOrReadCheckpoint(RDD.scala:367)\r\n\tat org.apache.spark.rdd.RDD.iterator(RDD.scala:331)\r\n\tat org.apache.spark.scheduler.ResultTask.runTask(ResultTask.scala:93)\r\n\tat org.apache.spark.TaskContext.runTaskWithListeners(TaskContext.scala:166)\r\n\tat org.apache.spark.scheduler.Task.run(Task.scala:141)\r\n\tat org.apache.spark.executor.Executor$TaskRunner.$anonfun$run$4(Executor.scala:620)\r\n\tat org.apache.spark.util.SparkErrorUtils.tryWithSafeFinally(SparkErrorUtils.scala:64)\r\n\tat org.apache.spark.util.SparkErrorUtils.tryWithSafeFinally$(SparkErrorUtils.scala:61)\r\n\tat org.apache.spark.util.Utils$.tryWithSafeFinally(Utils.scala:94)\r\n\tat org.apache.spark.executor.Executor$TaskRunner.run(Executor.scala:623)\r\n\tat java.base/java.util.concurrent.ThreadPoolExecutor.runWorker(ThreadPoolExecutor.java:1128)\r\n\tat java.base/java.util.concurrent.ThreadPoolExecutor$Worker.run(ThreadPoolExecutor.java:628)\r\n\tat java.base/java.lang.Thread.run(Thread.java:834)\r\n",
     "output_type": "error",
     "traceback": [
      "\u001b[1;31m---------------------------------------------------------------------------\u001b[0m",
      "\u001b[1;31mPy4JJavaError\u001b[0m                             Traceback (most recent call last)",
      "Cell \u001b[1;32mIn[74], line 1\u001b[0m\n\u001b[1;32m----> 1\u001b[0m spark\u001b[38;5;241m.\u001b[39msql(\u001b[38;5;124m\"\"\"\u001b[39m\n\u001b[0;32m      2\u001b[0m \n\u001b[0;32m      3\u001b[0m \u001b[38;5;124mINSERT INTO TaxisDB.YellowTaxis\u001b[39m\n\u001b[0;32m      4\u001b[0m \n\u001b[0;32m      5\u001b[0m \u001b[38;5;124m--(VendorId, PickupTime, DropTime, PickupLocationId, DropLocationId, PassengerCount, TripDistance, RateCodeId, StoreAndFwdFlag, PaymentType, FareAmount, Extra, MtaTax, TipAmount, TollsAmount, ImprovementSurcharge, TotalAmount, CongestionSurcharge, AirportFee)\u001b[39m\n\u001b[0;32m      6\u001b[0m \n\u001b[0;32m      7\u001b[0m \u001b[38;5;124mVALUES (3, \u001b[39m\u001b[38;5;124m'\u001b[39m\u001b[38;5;124m2022-12-01T00:00:00.000Z\u001b[39m\u001b[38;5;124m'\u001b[39m\u001b[38;5;124m, \u001b[39m\u001b[38;5;124m'\u001b[39m\u001b[38;5;124m2022-12-01T00:15:34.000Z\u001b[39m\u001b[38;5;124m'\u001b[39m\u001b[38;5;124m, 170, 140, \u001b[39m\n\u001b[0;32m      8\u001b[0m \n\u001b[0;32m      9\u001b[0m \u001b[38;5;124m        20,  -- PassengerCount\u001b[39m\n\u001b[0;32m     10\u001b[0m \n\u001b[0;32m     11\u001b[0m \u001b[38;5;124m        2.9, 1.0, \u001b[39m\u001b[38;5;124m'\u001b[39m\u001b[38;5;124m1\u001b[39m\u001b[38;5;124m'\u001b[39m\u001b[38;5;124m, 1, 13.0, 0.5, 0.5, 1.0, 0.0, 0.3, 15.3, 0.0, 0.0)\u001b[39m\n\u001b[0;32m     12\u001b[0m \n\u001b[0;32m     13\u001b[0m \u001b[38;5;124m\"\"\"\u001b[39m)\n",
      "File \u001b[1;32mC:\\spark\\spark-3.5.2-bin-hadoop3\\python\\pyspark\\sql\\session.py:1631\u001b[0m, in \u001b[0;36mSparkSession.sql\u001b[1;34m(self, sqlQuery, args, **kwargs)\u001b[0m\n\u001b[0;32m   1627\u001b[0m         \u001b[38;5;28;01massert\u001b[39;00m \u001b[38;5;28mself\u001b[39m\u001b[38;5;241m.\u001b[39m_jvm \u001b[38;5;129;01mis\u001b[39;00m \u001b[38;5;129;01mnot\u001b[39;00m \u001b[38;5;28;01mNone\u001b[39;00m\n\u001b[0;32m   1628\u001b[0m         litArgs \u001b[38;5;241m=\u001b[39m \u001b[38;5;28mself\u001b[39m\u001b[38;5;241m.\u001b[39m_jvm\u001b[38;5;241m.\u001b[39mPythonUtils\u001b[38;5;241m.\u001b[39mtoArray(\n\u001b[0;32m   1629\u001b[0m             [_to_java_column(lit(v)) \u001b[38;5;28;01mfor\u001b[39;00m v \u001b[38;5;129;01min\u001b[39;00m (args \u001b[38;5;129;01mor\u001b[39;00m [])]\n\u001b[0;32m   1630\u001b[0m         )\n\u001b[1;32m-> 1631\u001b[0m     \u001b[38;5;28;01mreturn\u001b[39;00m DataFrame(\u001b[38;5;28mself\u001b[39m\u001b[38;5;241m.\u001b[39m_jsparkSession\u001b[38;5;241m.\u001b[39msql(sqlQuery, litArgs), \u001b[38;5;28mself\u001b[39m)\n\u001b[0;32m   1632\u001b[0m \u001b[38;5;28;01mfinally\u001b[39;00m:\n\u001b[0;32m   1633\u001b[0m     \u001b[38;5;28;01mif\u001b[39;00m \u001b[38;5;28mlen\u001b[39m(kwargs) \u001b[38;5;241m>\u001b[39m \u001b[38;5;241m0\u001b[39m:\n",
      "File \u001b[1;32mC:\\spark\\spark-3.5.2-bin-hadoop3\\python\\lib\\py4j-0.10.9.7-src.zip\\py4j\\java_gateway.py:1322\u001b[0m, in \u001b[0;36mJavaMember.__call__\u001b[1;34m(self, *args)\u001b[0m\n\u001b[0;32m   1316\u001b[0m command \u001b[38;5;241m=\u001b[39m proto\u001b[38;5;241m.\u001b[39mCALL_COMMAND_NAME \u001b[38;5;241m+\u001b[39m\\\n\u001b[0;32m   1317\u001b[0m     \u001b[38;5;28mself\u001b[39m\u001b[38;5;241m.\u001b[39mcommand_header \u001b[38;5;241m+\u001b[39m\\\n\u001b[0;32m   1318\u001b[0m     args_command \u001b[38;5;241m+\u001b[39m\\\n\u001b[0;32m   1319\u001b[0m     proto\u001b[38;5;241m.\u001b[39mEND_COMMAND_PART\n\u001b[0;32m   1321\u001b[0m answer \u001b[38;5;241m=\u001b[39m \u001b[38;5;28mself\u001b[39m\u001b[38;5;241m.\u001b[39mgateway_client\u001b[38;5;241m.\u001b[39msend_command(command)\n\u001b[1;32m-> 1322\u001b[0m return_value \u001b[38;5;241m=\u001b[39m get_return_value(\n\u001b[0;32m   1323\u001b[0m     answer, \u001b[38;5;28mself\u001b[39m\u001b[38;5;241m.\u001b[39mgateway_client, \u001b[38;5;28mself\u001b[39m\u001b[38;5;241m.\u001b[39mtarget_id, \u001b[38;5;28mself\u001b[39m\u001b[38;5;241m.\u001b[39mname)\n\u001b[0;32m   1325\u001b[0m \u001b[38;5;28;01mfor\u001b[39;00m temp_arg \u001b[38;5;129;01min\u001b[39;00m temp_args:\n\u001b[0;32m   1326\u001b[0m     \u001b[38;5;28;01mif\u001b[39;00m \u001b[38;5;28mhasattr\u001b[39m(temp_arg, \u001b[38;5;124m\"\u001b[39m\u001b[38;5;124m_detach\u001b[39m\u001b[38;5;124m\"\u001b[39m):\n",
      "File \u001b[1;32mC:\\spark\\spark-3.5.2-bin-hadoop3\\python\\pyspark\\errors\\exceptions\\captured.py:179\u001b[0m, in \u001b[0;36mcapture_sql_exception.<locals>.deco\u001b[1;34m(*a, **kw)\u001b[0m\n\u001b[0;32m    177\u001b[0m \u001b[38;5;28;01mdef\u001b[39;00m \u001b[38;5;21mdeco\u001b[39m(\u001b[38;5;241m*\u001b[39ma: Any, \u001b[38;5;241m*\u001b[39m\u001b[38;5;241m*\u001b[39mkw: Any) \u001b[38;5;241m-\u001b[39m\u001b[38;5;241m>\u001b[39m Any:\n\u001b[0;32m    178\u001b[0m     \u001b[38;5;28;01mtry\u001b[39;00m:\n\u001b[1;32m--> 179\u001b[0m         \u001b[38;5;28;01mreturn\u001b[39;00m f(\u001b[38;5;241m*\u001b[39ma, \u001b[38;5;241m*\u001b[39m\u001b[38;5;241m*\u001b[39mkw)\n\u001b[0;32m    180\u001b[0m     \u001b[38;5;28;01mexcept\u001b[39;00m Py4JJavaError \u001b[38;5;28;01mas\u001b[39;00m e:\n\u001b[0;32m    181\u001b[0m         converted \u001b[38;5;241m=\u001b[39m convert_exception(e\u001b[38;5;241m.\u001b[39mjava_exception)\n",
      "File \u001b[1;32mC:\\spark\\spark-3.5.2-bin-hadoop3\\python\\lib\\py4j-0.10.9.7-src.zip\\py4j\\protocol.py:326\u001b[0m, in \u001b[0;36mget_return_value\u001b[1;34m(answer, gateway_client, target_id, name)\u001b[0m\n\u001b[0;32m    324\u001b[0m value \u001b[38;5;241m=\u001b[39m OUTPUT_CONVERTER[\u001b[38;5;28mtype\u001b[39m](answer[\u001b[38;5;241m2\u001b[39m:], gateway_client)\n\u001b[0;32m    325\u001b[0m \u001b[38;5;28;01mif\u001b[39;00m answer[\u001b[38;5;241m1\u001b[39m] \u001b[38;5;241m==\u001b[39m REFERENCE_TYPE:\n\u001b[1;32m--> 326\u001b[0m     \u001b[38;5;28;01mraise\u001b[39;00m Py4JJavaError(\n\u001b[0;32m    327\u001b[0m         \u001b[38;5;124m\"\u001b[39m\u001b[38;5;124mAn error occurred while calling \u001b[39m\u001b[38;5;132;01m{0}\u001b[39;00m\u001b[38;5;132;01m{1}\u001b[39;00m\u001b[38;5;132;01m{2}\u001b[39;00m\u001b[38;5;124m.\u001b[39m\u001b[38;5;130;01m\\n\u001b[39;00m\u001b[38;5;124m\"\u001b[39m\u001b[38;5;241m.\u001b[39m\n\u001b[0;32m    328\u001b[0m         \u001b[38;5;28mformat\u001b[39m(target_id, \u001b[38;5;124m\"\u001b[39m\u001b[38;5;124m.\u001b[39m\u001b[38;5;124m\"\u001b[39m, name), value)\n\u001b[0;32m    329\u001b[0m \u001b[38;5;28;01melse\u001b[39;00m:\n\u001b[0;32m    330\u001b[0m     \u001b[38;5;28;01mraise\u001b[39;00m Py4JError(\n\u001b[0;32m    331\u001b[0m         \u001b[38;5;124m\"\u001b[39m\u001b[38;5;124mAn error occurred while calling \u001b[39m\u001b[38;5;132;01m{0}\u001b[39;00m\u001b[38;5;132;01m{1}\u001b[39;00m\u001b[38;5;132;01m{2}\u001b[39;00m\u001b[38;5;124m. Trace:\u001b[39m\u001b[38;5;130;01m\\n\u001b[39;00m\u001b[38;5;132;01m{3}\u001b[39;00m\u001b[38;5;130;01m\\n\u001b[39;00m\u001b[38;5;124m\"\u001b[39m\u001b[38;5;241m.\u001b[39m\n\u001b[0;32m    332\u001b[0m         \u001b[38;5;28mformat\u001b[39m(target_id, \u001b[38;5;124m\"\u001b[39m\u001b[38;5;124m.\u001b[39m\u001b[38;5;124m\"\u001b[39m, name, value))\n",
      "\u001b[1;31mPy4JJavaError\u001b[0m: An error occurred while calling o33.sql.\n: org.apache.spark.sql.delta.schema.DeltaInvariantViolationException: [DELTA_VIOLATE_CONSTRAINT_WITH_VALUES] CHECK constraint passengercheck ((PassengerCount <= 9) OR (PassengerCount IS NULL)) violated by row with values:\n - PassengerCount : 20.0\r\n\tat org.apache.spark.sql.delta.schema.DeltaInvariantViolationException$.getConstraintViolationWithValuesException(InvariantViolationException.scala:75)\r\n\tat org.apache.spark.sql.delta.schema.DeltaInvariantViolationException$.apply(InvariantViolationException.scala:101)\r\n\tat org.apache.spark.sql.delta.schema.DeltaInvariantViolationException$.apply(InvariantViolationException.scala:112)\r\n\tat org.apache.spark.sql.delta.schema.DeltaInvariantViolationException.apply(InvariantViolationException.scala)\r\n\tat org.apache.spark.sql.catalyst.expressions.GeneratedClass$SpecificUnsafeProjection.apply(Unknown Source)\r\n\tat org.apache.spark.sql.delta.constraints.DeltaInvariantCheckerExec.$anonfun$doExecute$3(DeltaInvariantCheckerExec.scala:89)\r\n\tat scala.collection.Iterator$$anon$10.next(Iterator.scala:461)\r\n\tat org.apache.spark.sql.execution.UnsafeExternalRowSorter.sort(UnsafeExternalRowSorter.java:226)\r\n\tat org.apache.spark.sql.execution.SortExec.$anonfun$doExecute$1(SortExec.scala:119)\r\n\tat org.apache.spark.rdd.RDD.$anonfun$mapPartitionsInternal$2(RDD.scala:893)\r\n\tat org.apache.spark.rdd.RDD.$anonfun$mapPartitionsInternal$2$adapted(RDD.scala:893)\r\n\tat org.apache.spark.rdd.MapPartitionsRDD.compute(MapPartitionsRDD.scala:52)\r\n\tat org.apache.spark.rdd.RDD.computeOrReadCheckpoint(RDD.scala:367)\r\n\tat org.apache.spark.rdd.RDD.iterator(RDD.scala:331)\r\n\tat org.apache.spark.scheduler.ResultTask.runTask(ResultTask.scala:93)\r\n\tat org.apache.spark.TaskContext.runTaskWithListeners(TaskContext.scala:166)\r\n\tat org.apache.spark.scheduler.Task.run(Task.scala:141)\r\n\tat org.apache.spark.executor.Executor$TaskRunner.$anonfun$run$4(Executor.scala:620)\r\n\tat org.apache.spark.util.SparkErrorUtils.tryWithSafeFinally(SparkErrorUtils.scala:64)\r\n\tat org.apache.spark.util.SparkErrorUtils.tryWithSafeFinally$(SparkErrorUtils.scala:61)\r\n\tat org.apache.spark.util.Utils$.tryWithSafeFinally(Utils.scala:94)\r\n\tat org.apache.spark.executor.Executor$TaskRunner.run(Executor.scala:623)\r\n\tat java.base/java.util.concurrent.ThreadPoolExecutor.runWorker(ThreadPoolExecutor.java:1128)\r\n\tat java.base/java.util.concurrent.ThreadPoolExecutor$Worker.run(ThreadPoolExecutor.java:628)\r\n\tat java.base/java.lang.Thread.run(Thread.java:834)\r\n"
     ]
    }
   ],
   "source": [
    "spark.sql(\"\"\"\n",
    "\n",
    "INSERT INTO TaxisDB.YellowTaxis\n",
    "\n",
    "--(VendorId, PickupTime, DropTime, PickupLocationId, DropLocationId, PassengerCount, TripDistance, RateCodeId, StoreAndFwdFlag, PaymentType, FareAmount, Extra, MtaTax, TipAmount, TollsAmount, ImprovementSurcharge, TotalAmount, CongestionSurcharge, AirportFee)\n",
    "\n",
    "VALUES (3, '2022-12-01T00:00:00.000Z', '2022-12-01T00:15:34.000Z', 170, 140, \n",
    "\n",
    "        20,  -- PassengerCount\n",
    "\n",
    "        2.9, 1.0, '1', 1, 13.0, 0.5, 0.5, 1.0, 0.0, 0.3, 15.3, 0.0, 0.0)\n",
    "\n",
    "\"\"\")"
   ]
  },
  {
   "cell_type": "code",
   "execution_count": 75,
   "id": "512a6de7",
   "metadata": {},
   "outputs": [
    {
     "data": {
      "text/plain": [
       "DataFrame[]"
      ]
     },
     "execution_count": 75,
     "metadata": {},
     "output_type": "execute_result"
    }
   ],
   "source": [
    "spark.sql(\"\"\"\n",
    "\n",
    "ALTER TABLE TaxisDB.YellowTaxis\n",
    "\n",
    "    DROP CONSTRAINT PassengerCheck\n",
    "\n",
    "\"\"\")"
   ]
  },
  {
   "cell_type": "code",
   "execution_count": 76,
   "id": "f16431ca",
   "metadata": {},
   "outputs": [
    {
     "name": "stdout",
     "output_type": "stream",
     "text": [
      "+-------+-----------------------+------+--------+---------------+-----------------------------------------------------------------------------------------------------------------------------------------------------------------------------------------------------------------------------------------------------------------------------------------------------------+----+--------+---------+-----------+--------------+-------------+--------------------------------------------------------------------------------------------------------------------------------------------------------------------------------------------------------------------------------------------------------------------------------------------------------------------------------------------------------------------------------------------------------------------------------------------------------------------------------------------------------------------------------------------------------------------------------------------------------------------------------------------------------+------------+-----------------------------------+\n",
      "|version|timestamp              |userId|userName|operation      |operationParameters                                                                                                                                                                                                                                                                                        |job |notebook|clusterId|readVersion|isolationLevel|isBlindAppend|operationMetrics                                                                                                                                                                                                                                                                                                                                                                                                                                                                                                                                                                                                                                        |userMetadata|engineInfo                         |\n",
      "+-------+-----------------------+------+--------+---------------+-----------------------------------------------------------------------------------------------------------------------------------------------------------------------------------------------------------------------------------------------------------------------------------------------------------+----+--------+---------+-----------+--------------+-------------+--------------------------------------------------------------------------------------------------------------------------------------------------------------------------------------------------------------------------------------------------------------------------------------------------------------------------------------------------------------------------------------------------------------------------------------------------------------------------------------------------------------------------------------------------------------------------------------------------------------------------------------------------------+------------+-----------------------------------+\n",
      "|13     |2024-11-16 00:35:18.749|NULL  |NULL    |DROP CONSTRAINT|{name -> PassengerCheck, expr -> PassengerCount <= 9 OR PassengerCount IS NULL, existed -> true}                                                                                                                                                                                                           |NULL|NULL    |NULL     |12         |Serializable  |true         |{}                                                                                                                                                                                                                                                                                                                                                                                                                                                                                                                                                                                                                                                      |NULL        |Apache-Spark/3.5.2 Delta-Lake/3.2.0|\n",
      "|12     |2024-11-16 00:35:03.936|NULL  |NULL    |ADD CONSTRAINT |{name -> PassengerCheck, expr -> PassengerCount <= 9 OR PassengerCount IS NULL}                                                                                                                                                                                                                            |NULL|NULL    |NULL     |11         |Serializable  |false        |{}                                                                                                                                                                                                                                                                                                                                                                                                                                                                                                                                                                                                                                                      |NULL        |Apache-Spark/3.5.2 Delta-Lake/3.2.0|\n",
      "|11     |2024-11-16 00:34:40.692|NULL  |NULL    |CHANGE COLUMN  |{column -> {\"name\":\"PickupLocationId\",\"type\":\"integer\",\"nullable\":true,\"metadata\":{}}}                                                                                                                                                                                                                     |NULL|NULL    |NULL     |10         |Serializable  |true         |{}                                                                                                                                                                                                                                                                                                                                                                                                                                                                                                                                                                                                                                                      |NULL        |Apache-Spark/3.5.2 Delta-Lake/3.2.0|\n",
      "|10     |2024-11-16 00:34:26.938|NULL  |NULL    |CHANGE COLUMN  |{column -> {\"name\":\"PickupLocationId\",\"type\":\"integer\",\"nullable\":true,\"metadata\":{}}}                                                                                                                                                                                                                     |NULL|NULL    |NULL     |9          |Serializable  |true         |{}                                                                                                                                                                                                                                                                                                                                                                                                                                                                                                                                                                                                                                                      |NULL        |Apache-Spark/3.5.2 Delta-Lake/3.2.0|\n",
      "|9      |2024-11-16 00:34:07.69 |NULL  |NULL    |CHANGE COLUMN  |{column -> {\"name\":\"PickupLocationId\",\"type\":\"integer\",\"nullable\":true,\"metadata\":{}}}                                                                                                                                                                                                                     |NULL|NULL    |NULL     |8          |Serializable  |true         |{}                                                                                                                                                                                                                                                                                                                                                                                                                                                                                                                                                                                                                                                      |NULL        |Apache-Spark/3.5.2 Delta-Lake/3.2.0|\n",
      "|8      |2024-11-16 00:33:02.221|NULL  |NULL    |CHANGE COLUMN  |{column -> {\"name\":\"PickupLocationId\",\"type\":\"integer\",\"nullable\":true,\"metadata\":{}}}                                                                                                                                                                                                                     |NULL|NULL    |NULL     |7          |Serializable  |true         |{}                                                                                                                                                                                                                                                                                                                                                                                                                                                                                                                                                                                                                                                      |NULL        |Apache-Spark/3.5.2 Delta-Lake/3.2.0|\n",
      "|7      |2024-11-16 00:32:37.744|NULL  |NULL    |CHANGE COLUMN  |{column -> {\"name\":\"PickupLocationId\",\"type\":\"integer\",\"nullable\":false,\"metadata\":{}}}                                                                                                                                                                                                                    |NULL|NULL    |NULL     |6          |Serializable  |true         |{}                                                                                                                                                                                                                                                                                                                                                                                                                                                                                                                                                                                                                                                      |NULL        |Apache-Spark/3.5.2 Delta-Lake/3.2.0|\n",
      "|6      |2024-11-16 00:32:31.291|NULL  |NULL    |MERGE          |{predicate -> [\"((VendorId#17367 = VendorId#17117) AND (PickupLocationId#17370 = PickupLocationId#17124))\"], matchedPredicates -> [{\"actionType\":\"update\"}], notMatchedPredicates -> [{\"predicate\":\"(PickupTime#17118 >= 2022-03-01 00:00:00)\",\"actionType\":\"insert\"}], notMatchedBySourcePredicates -> []}|NULL|NULL    |NULL     |5          |Serializable  |false        |{numTargetRowsCopied -> 0, numTargetRowsDeleted -> 0, numTargetFilesAdded -> 1, numTargetBytesAdded -> 5637, numTargetBytesRemoved -> 10405, numTargetDeletionVectorsAdded -> 0, numTargetRowsMatchedUpdated -> 3, executionTimeMs -> 1545, numTargetRowsInserted -> 1, numTargetRowsMatchedDeleted -> 0, numTargetDeletionVectorsUpdated -> 0, scanTimeMs -> 1047, numTargetRowsUpdated -> 3, numOutputRows -> 4, numTargetDeletionVectorsRemoved -> 0, numTargetRowsNotMatchedBySourceUpdated -> 0, numTargetChangeFilesAdded -> 0, numSourceRows -> 4, numTargetFilesRemoved -> 2, numTargetRowsNotMatchedBySourceDeleted -> 0, rewriteTimeMs -> 419}|NULL        |Apache-Spark/3.5.2 Delta-Lake/3.2.0|\n",
      "|5      |2024-11-16 00:32:26.853|NULL  |NULL    |DELETE         |{predicate -> [\"((VendorId#15366 = 3) AND (PickupLocationId#15369 = 151))\"]}                                                                                                                                                                                                                               |NULL|NULL    |NULL     |4          |Serializable  |false        |{numRemovedFiles -> 1, numRemovedBytes -> 5469, numCopiedRows -> 2, numDeletionVectorsAdded -> 0, numDeletionVectorsRemoved -> 0, numAddedChangeFiles -> 0, executionTimeMs -> 800, numDeletionVectorsUpdated -> 0, numDeletedRows -> 1, scanTimeMs -> 636, numAddedFiles -> 1, numAddedBytes -> 5309, rewriteTimeMs -> 164}                                                                                                                                                                                                                                                                                                                            |NULL        |Apache-Spark/3.5.2 Delta-Lake/3.2.0|\n",
      "|4      |2024-11-16 00:32:24.483|NULL  |NULL    |UPDATE         |{predicate -> [\"((VendorId#13944 = 3) AND (PickupLocationId#13947 = 249))\"]}                                                                                                                                                                                                                               |NULL|NULL    |NULL     |3          |Serializable  |false        |{numRemovedFiles -> 1, numRemovedBytes -> 5469, numCopiedRows -> 2, numDeletionVectorsAdded -> 0, numDeletionVectorsRemoved -> 0, numAddedChangeFiles -> 0, executionTimeMs -> 768, numDeletionVectorsUpdated -> 0, scanTimeMs -> 522, numAddedFiles -> 1, numUpdatedRows -> 1, numAddedBytes -> 5469, rewriteTimeMs -> 245}                                                                                                                                                                                                                                                                                                                            |NULL        |Apache-Spark/3.5.2 Delta-Lake/3.2.0|\n",
      "|3      |2024-11-16 00:32:21.448|NULL  |NULL    |WRITE          |{mode -> Append, partitionBy -> [\"VendorId\"]}                                                                                                                                                                                                                                                              |NULL|NULL    |NULL     |2          |Serializable  |true         |{numFiles -> 33, numOutputRows -> 3675412, numOutputBytes -> 81722236}                                                                                                                                                                                                                                                                                                                                                                                                                                                                                                                                                                                  |NULL        |Apache-Spark/3.5.2 Delta-Lake/3.2.0|\n",
      "|2      |2024-11-16 00:32:11.577|NULL  |NULL    |WRITE          |{mode -> Append, partitionBy -> [\"VendorId\"]}                                                                                                                                                                                                                                                              |NULL|NULL    |NULL     |1          |Serializable  |true         |{numFiles -> 1, numOutputRows -> 3, numOutputBytes -> 5469}                                                                                                                                                                                                                                                                                                                                                                                                                                                                                                                                                                                             |NULL        |Apache-Spark/3.5.2 Delta-Lake/3.2.0|\n",
      "|1      |2024-11-16 00:32:05.936|NULL  |NULL    |WRITE          |{mode -> Append, partitionBy -> []}                                                                                                                                                                                                                                                                        |NULL|NULL    |NULL     |0          |Serializable  |true         |{numFiles -> 1, numOutputRows -> 1, numOutputBytes -> 5096}                                                                                                                                                                                                                                                                                                                                                                                                                                                                                                                                                                                             |NULL        |Apache-Spark/3.5.2 Delta-Lake/3.2.0|\n",
      "|0      |2024-11-16 00:31:47.963|NULL  |NULL    |CREATE TABLE   |{partitionBy -> [\"VendorId\"], clusterBy -> [], description -> This table stores ride information for Yellow Taxis, isManaged -> false, properties -> {}}                                                                                                                                                   |NULL|NULL    |NULL     |NULL       |Serializable  |true         |{}                                                                                                                                                                                                                                                                                                                                                                                                                                                                                                                                                                                                                                                      |NULL        |Apache-Spark/3.5.2 Delta-Lake/3.2.0|\n",
      "+-------+-----------------------+------+--------+---------------+-----------------------------------------------------------------------------------------------------------------------------------------------------------------------------------------------------------------------------------------------------------------------------------------------------------+----+--------+---------+-----------+--------------+-------------+--------------------------------------------------------------------------------------------------------------------------------------------------------------------------------------------------------------------------------------------------------------------------------------------------------------------------------------------------------------------------------------------------------------------------------------------------------------------------------------------------------------------------------------------------------------------------------------------------------------------------------------------------------+------------+-----------------------------------+\n",
      "\n"
     ]
    }
   ],
   "source": [
    "spark.sql(\"\"\"\n",
    "\n",
    "DESCRIBE HISTORY TaxisDB.YellowTaxis\n",
    "\n",
    "\"\"\").show(truncate=False)"
   ]
  },
  {
   "cell_type": "markdown",
   "id": "5aac57f5",
   "metadata": {},
   "source": [
    "### Update a record"
   ]
  },
  {
   "cell_type": "code",
   "execution_count": 77,
   "id": "9316e360",
   "metadata": {},
   "outputs": [
    {
     "name": "stdout",
     "output_type": "stream",
     "text": [
      "+--------------+\n",
      "|PassengerCount|\n",
      "+--------------+\n",
      "|           0.0|\n",
      "+--------------+\n",
      "\n"
     ]
    }
   ],
   "source": [
    "# Check passenger count before update\n",
    "\n",
    "spark.sql(\"\"\"\n",
    "\n",
    "SELECT PassengerCount\n",
    "\n",
    "FROM TaxisDB.YellowTaxis\n",
    "\n",
    "WHERE VendorId = 3\n",
    "    AND PickupLocationId = 1\n",
    "\n",
    "\"\"\").show()"
   ]
  },
  {
   "cell_type": "code",
   "execution_count": 78,
   "id": "e145c7b4",
   "metadata": {},
   "outputs": [
    {
     "name": "stdout",
     "output_type": "stream",
     "text": [
      "+-----------------+\n",
      "|num_affected_rows|\n",
      "+-----------------+\n",
      "|                1|\n",
      "+-----------------+\n",
      "\n"
     ]
    }
   ],
   "source": [
    "# Update passenger count\n",
    "\n",
    "spark.sql(\"\"\"\n",
    "\n",
    "UPDATE TaxisDB.YellowTaxis\n",
    "\n",
    "SET PassengerCount = 1\n",
    "\n",
    "WHERE VendorId = 3\n",
    "    AND PickupLocationId = 1\n",
    "\n",
    "\"\"\").show()"
   ]
  },
  {
   "cell_type": "code",
   "execution_count": 79,
   "id": "69b5c641",
   "metadata": {},
   "outputs": [
    {
     "name": "stdout",
     "output_type": "stream",
     "text": [
      "+-------+-----------------------+------+--------+---------------+-----------------------------------------------------------------------------------------------------------------------------------------------------------------------------------------------------------------------------------------------------------------------------------------------------------+----+--------+---------+-----------+--------------+-------------+--------------------------------------------------------------------------------------------------------------------------------------------------------------------------------------------------------------------------------------------------------------------------------------------------------------------------------------------------------------------------------------------------------------------------------------------------------------------------------------------------------------------------------------------------------------------------------------------------------------------------------------------------------+------------+-----------------------------------+\n",
      "|version|timestamp              |userId|userName|operation      |operationParameters                                                                                                                                                                                                                                                                                        |job |notebook|clusterId|readVersion|isolationLevel|isBlindAppend|operationMetrics                                                                                                                                                                                                                                                                                                                                                                                                                                                                                                                                                                                                                                        |userMetadata|engineInfo                         |\n",
      "+-------+-----------------------+------+--------+---------------+-----------------------------------------------------------------------------------------------------------------------------------------------------------------------------------------------------------------------------------------------------------------------------------------------------------+----+--------+---------+-----------+--------------+-------------+--------------------------------------------------------------------------------------------------------------------------------------------------------------------------------------------------------------------------------------------------------------------------------------------------------------------------------------------------------------------------------------------------------------------------------------------------------------------------------------------------------------------------------------------------------------------------------------------------------------------------------------------------------+------------+-----------------------------------+\n",
      "|14     |2024-11-16 00:35:28.793|NULL  |NULL    |UPDATE         |{predicate -> [\"((VendorId#24028 = 3) AND (PickupLocationId#24031 = 1))\"]}                                                                                                                                                                                                                                 |NULL|NULL    |NULL     |13         |Serializable  |false        |{numRemovedFiles -> 1, numRemovedBytes -> 5637, numCopiedRows -> 3, numDeletionVectorsAdded -> 0, numDeletionVectorsRemoved -> 0, numAddedChangeFiles -> 0, executionTimeMs -> 835, numDeletionVectorsUpdated -> 0, scanTimeMs -> 643, numAddedFiles -> 1, numUpdatedRows -> 1, numAddedBytes -> 5637, rewriteTimeMs -> 192}                                                                                                                                                                                                                                                                                                                            |NULL        |Apache-Spark/3.5.2 Delta-Lake/3.2.0|\n",
      "|13     |2024-11-16 00:35:18.749|NULL  |NULL    |DROP CONSTRAINT|{name -> PassengerCheck, expr -> PassengerCount <= 9 OR PassengerCount IS NULL, existed -> true}                                                                                                                                                                                                           |NULL|NULL    |NULL     |12         |Serializable  |true         |{}                                                                                                                                                                                                                                                                                                                                                                                                                                                                                                                                                                                                                                                      |NULL        |Apache-Spark/3.5.2 Delta-Lake/3.2.0|\n",
      "|12     |2024-11-16 00:35:03.936|NULL  |NULL    |ADD CONSTRAINT |{name -> PassengerCheck, expr -> PassengerCount <= 9 OR PassengerCount IS NULL}                                                                                                                                                                                                                            |NULL|NULL    |NULL     |11         |Serializable  |false        |{}                                                                                                                                                                                                                                                                                                                                                                                                                                                                                                                                                                                                                                                      |NULL        |Apache-Spark/3.5.2 Delta-Lake/3.2.0|\n",
      "|11     |2024-11-16 00:34:40.692|NULL  |NULL    |CHANGE COLUMN  |{column -> {\"name\":\"PickupLocationId\",\"type\":\"integer\",\"nullable\":true,\"metadata\":{}}}                                                                                                                                                                                                                     |NULL|NULL    |NULL     |10         |Serializable  |true         |{}                                                                                                                                                                                                                                                                                                                                                                                                                                                                                                                                                                                                                                                      |NULL        |Apache-Spark/3.5.2 Delta-Lake/3.2.0|\n",
      "|10     |2024-11-16 00:34:26.938|NULL  |NULL    |CHANGE COLUMN  |{column -> {\"name\":\"PickupLocationId\",\"type\":\"integer\",\"nullable\":true,\"metadata\":{}}}                                                                                                                                                                                                                     |NULL|NULL    |NULL     |9          |Serializable  |true         |{}                                                                                                                                                                                                                                                                                                                                                                                                                                                                                                                                                                                                                                                      |NULL        |Apache-Spark/3.5.2 Delta-Lake/3.2.0|\n",
      "|9      |2024-11-16 00:34:07.69 |NULL  |NULL    |CHANGE COLUMN  |{column -> {\"name\":\"PickupLocationId\",\"type\":\"integer\",\"nullable\":true,\"metadata\":{}}}                                                                                                                                                                                                                     |NULL|NULL    |NULL     |8          |Serializable  |true         |{}                                                                                                                                                                                                                                                                                                                                                                                                                                                                                                                                                                                                                                                      |NULL        |Apache-Spark/3.5.2 Delta-Lake/3.2.0|\n",
      "|8      |2024-11-16 00:33:02.221|NULL  |NULL    |CHANGE COLUMN  |{column -> {\"name\":\"PickupLocationId\",\"type\":\"integer\",\"nullable\":true,\"metadata\":{}}}                                                                                                                                                                                                                     |NULL|NULL    |NULL     |7          |Serializable  |true         |{}                                                                                                                                                                                                                                                                                                                                                                                                                                                                                                                                                                                                                                                      |NULL        |Apache-Spark/3.5.2 Delta-Lake/3.2.0|\n",
      "|7      |2024-11-16 00:32:37.744|NULL  |NULL    |CHANGE COLUMN  |{column -> {\"name\":\"PickupLocationId\",\"type\":\"integer\",\"nullable\":false,\"metadata\":{}}}                                                                                                                                                                                                                    |NULL|NULL    |NULL     |6          |Serializable  |true         |{}                                                                                                                                                                                                                                                                                                                                                                                                                                                                                                                                                                                                                                                      |NULL        |Apache-Spark/3.5.2 Delta-Lake/3.2.0|\n",
      "|6      |2024-11-16 00:32:31.291|NULL  |NULL    |MERGE          |{predicate -> [\"((VendorId#17367 = VendorId#17117) AND (PickupLocationId#17370 = PickupLocationId#17124))\"], matchedPredicates -> [{\"actionType\":\"update\"}], notMatchedPredicates -> [{\"predicate\":\"(PickupTime#17118 >= 2022-03-01 00:00:00)\",\"actionType\":\"insert\"}], notMatchedBySourcePredicates -> []}|NULL|NULL    |NULL     |5          |Serializable  |false        |{numTargetRowsCopied -> 0, numTargetRowsDeleted -> 0, numTargetFilesAdded -> 1, numTargetBytesAdded -> 5637, numTargetBytesRemoved -> 10405, numTargetDeletionVectorsAdded -> 0, numTargetRowsMatchedUpdated -> 3, executionTimeMs -> 1545, numTargetRowsInserted -> 1, numTargetRowsMatchedDeleted -> 0, numTargetDeletionVectorsUpdated -> 0, scanTimeMs -> 1047, numTargetRowsUpdated -> 3, numOutputRows -> 4, numTargetDeletionVectorsRemoved -> 0, numTargetRowsNotMatchedBySourceUpdated -> 0, numTargetChangeFilesAdded -> 0, numSourceRows -> 4, numTargetFilesRemoved -> 2, numTargetRowsNotMatchedBySourceDeleted -> 0, rewriteTimeMs -> 419}|NULL        |Apache-Spark/3.5.2 Delta-Lake/3.2.0|\n",
      "|5      |2024-11-16 00:32:26.853|NULL  |NULL    |DELETE         |{predicate -> [\"((VendorId#15366 = 3) AND (PickupLocationId#15369 = 151))\"]}                                                                                                                                                                                                                               |NULL|NULL    |NULL     |4          |Serializable  |false        |{numRemovedFiles -> 1, numRemovedBytes -> 5469, numCopiedRows -> 2, numDeletionVectorsAdded -> 0, numDeletionVectorsRemoved -> 0, numAddedChangeFiles -> 0, executionTimeMs -> 800, numDeletionVectorsUpdated -> 0, numDeletedRows -> 1, scanTimeMs -> 636, numAddedFiles -> 1, numAddedBytes -> 5309, rewriteTimeMs -> 164}                                                                                                                                                                                                                                                                                                                            |NULL        |Apache-Spark/3.5.2 Delta-Lake/3.2.0|\n",
      "|4      |2024-11-16 00:32:24.483|NULL  |NULL    |UPDATE         |{predicate -> [\"((VendorId#13944 = 3) AND (PickupLocationId#13947 = 249))\"]}                                                                                                                                                                                                                               |NULL|NULL    |NULL     |3          |Serializable  |false        |{numRemovedFiles -> 1, numRemovedBytes -> 5469, numCopiedRows -> 2, numDeletionVectorsAdded -> 0, numDeletionVectorsRemoved -> 0, numAddedChangeFiles -> 0, executionTimeMs -> 768, numDeletionVectorsUpdated -> 0, scanTimeMs -> 522, numAddedFiles -> 1, numUpdatedRows -> 1, numAddedBytes -> 5469, rewriteTimeMs -> 245}                                                                                                                                                                                                                                                                                                                            |NULL        |Apache-Spark/3.5.2 Delta-Lake/3.2.0|\n",
      "|3      |2024-11-16 00:32:21.448|NULL  |NULL    |WRITE          |{mode -> Append, partitionBy -> [\"VendorId\"]}                                                                                                                                                                                                                                                              |NULL|NULL    |NULL     |2          |Serializable  |true         |{numFiles -> 33, numOutputRows -> 3675412, numOutputBytes -> 81722236}                                                                                                                                                                                                                                                                                                                                                                                                                                                                                                                                                                                  |NULL        |Apache-Spark/3.5.2 Delta-Lake/3.2.0|\n",
      "|2      |2024-11-16 00:32:11.577|NULL  |NULL    |WRITE          |{mode -> Append, partitionBy -> [\"VendorId\"]}                                                                                                                                                                                                                                                              |NULL|NULL    |NULL     |1          |Serializable  |true         |{numFiles -> 1, numOutputRows -> 3, numOutputBytes -> 5469}                                                                                                                                                                                                                                                                                                                                                                                                                                                                                                                                                                                             |NULL        |Apache-Spark/3.5.2 Delta-Lake/3.2.0|\n",
      "|1      |2024-11-16 00:32:05.936|NULL  |NULL    |WRITE          |{mode -> Append, partitionBy -> []}                                                                                                                                                                                                                                                                        |NULL|NULL    |NULL     |0          |Serializable  |true         |{numFiles -> 1, numOutputRows -> 1, numOutputBytes -> 5096}                                                                                                                                                                                                                                                                                                                                                                                                                                                                                                                                                                                             |NULL        |Apache-Spark/3.5.2 Delta-Lake/3.2.0|\n",
      "|0      |2024-11-16 00:31:47.963|NULL  |NULL    |CREATE TABLE   |{partitionBy -> [\"VendorId\"], clusterBy -> [], description -> This table stores ride information for Yellow Taxis, isManaged -> false, properties -> {}}                                                                                                                                                   |NULL|NULL    |NULL     |NULL       |Serializable  |true         |{}                                                                                                                                                                                                                                                                                                                                                                                                                                                                                                                                                                                                                                                      |NULL        |Apache-Spark/3.5.2 Delta-Lake/3.2.0|\n",
      "+-------+-----------------------+------+--------+---------------+-----------------------------------------------------------------------------------------------------------------------------------------------------------------------------------------------------------------------------------------------------------------------------------------------------------+----+--------+---------+-----------+--------------+-------------+--------------------------------------------------------------------------------------------------------------------------------------------------------------------------------------------------------------------------------------------------------------------------------------------------------------------------------------------------------------------------------------------------------------------------------------------------------------------------------------------------------------------------------------------------------------------------------------------------------------------------------------------------------+------------+-----------------------------------+\n",
      "\n"
     ]
    }
   ],
   "source": [
    "spark.sql(\"\"\"\n",
    "\n",
    "DESCRIBE HISTORY TaxisDB.YellowTaxis\n",
    "\n",
    "\"\"\").show(truncate=False)"
   ]
  },
  {
   "cell_type": "markdown",
   "id": "691fb04c",
   "metadata": {},
   "source": [
    "### Time Travel: Access using Version Number"
   ]
  },
  {
   "cell_type": "code",
   "execution_count": 80,
   "id": "6e2a1945",
   "metadata": {},
   "outputs": [
    {
     "name": "stdout",
     "output_type": "stream",
     "text": [
      "+--------------+\n",
      "|PassengerCount|\n",
      "+--------------+\n",
      "+--------------+\n",
      "\n"
     ]
    }
   ],
   "source": [
    "# Check at initial version\n",
    "\n",
    "spark.sql(\"\"\"\n",
    "\n",
    "SELECT PassengerCount\n",
    "\n",
    "FROM TaxisDB.YellowTaxis        VERSION AS OF 0\n",
    "\n",
    "WHERE VendorId = 3\n",
    "    AND PickupLocationId = 1\n",
    "\n",
    "\"\"\").show(truncate=False)"
   ]
  },
  {
   "cell_type": "code",
   "execution_count": 64,
   "id": "2f35f1de",
   "metadata": {},
   "outputs": [
    {
     "name": "stdout",
     "output_type": "stream",
     "text": [
      "+--------------+\n",
      "|PassengerCount|\n",
      "+--------------+\n",
      "|0.0           |\n",
      "+--------------+\n",
      "\n"
     ]
    }
   ],
   "source": [
    "# Check at one prior version\n",
    "\n",
    "spark.sql(\"\"\"\n",
    "\n",
    "SELECT PassengerCount\n",
    "\n",
    "FROM TaxisDB.YellowTaxis        VERSION AS OF 6\n",
    "\n",
    "WHERE VendorId = 3\n",
    "    AND PickupLocationId = 1\n",
    "\n",
    "\"\"\").show(truncate=False)"
   ]
  },
  {
   "cell_type": "markdown",
   "id": "dda55aa4",
   "metadata": {},
   "source": [
    "### Time Travel: Access using Timestamp"
   ]
  },
  {
   "cell_type": "code",
   "execution_count": 82,
   "id": "4f970a1b",
   "metadata": {},
   "outputs": [
    {
     "name": "stdout",
     "output_type": "stream",
     "text": [
      "+--------------+\n",
      "|PassengerCount|\n",
      "+--------------+\n",
      "|0.0           |\n",
      "+--------------+\n",
      "\n"
     ]
    }
   ],
   "source": [
    "spark.sql(\"\"\"\n",
    "\n",
    "SELECT PassengerCount\n",
    "\n",
    "FROM TaxisDB.YellowTaxis        TIMESTAMP AS OF '2024-11-16 00:32:37.744'\n",
    "\n",
    "WHERE VendorId = 3\n",
    "    AND PickupLocationId = 1\n",
    "\n",
    "\"\"\").show(truncate=False)"
   ]
  },
  {
   "cell_type": "markdown",
   "id": "aeb0d7d3",
   "metadata": {},
   "source": [
    "### Restore Table to older version"
   ]
  },
  {
   "cell_type": "code",
   "execution_count": 83,
   "id": "c137c072",
   "metadata": {},
   "outputs": [
    {
     "name": "stdout",
     "output_type": "stream",
     "text": [
      "+------------------------+--------------------------+-----------------+------------------+------------------+-------------------+\n",
      "|table_size_after_restore|num_of_files_after_restore|num_removed_files|num_restored_files|removed_files_size|restored_files_size|\n",
      "+------------------------+--------------------------+-----------------+------------------+------------------+-------------------+\n",
      "|81727873                |34                        |1                |1                 |5637              |5637               |\n",
      "+------------------------+--------------------------+-----------------+------------------+------------------+-------------------+\n",
      "\n"
     ]
    }
   ],
   "source": [
    "spark.sql(\"\"\"\n",
    "\n",
    "RESTORE TABLE TaxisDB.YellowTaxis    TO VERSION AS OF 6\n",
    "\n",
    "\"\"\").show(truncate=False)"
   ]
  },
  {
   "cell_type": "code",
   "execution_count": 84,
   "id": "a9d086fe",
   "metadata": {},
   "outputs": [
    {
     "name": "stdout",
     "output_type": "stream",
     "text": [
      "+-------+-----------------------+------+--------+---------------+-----------------------------------------------------------------------------------------------------------------------------------------------------------------------------------------------------------------------------------------------------------------------------------------------------------+----+--------+---------+-----------+--------------+-------------+--------------------------------------------------------------------------------------------------------------------------------------------------------------------------------------------------------------------------------------------------------------------------------------------------------------------------------------------------------------------------------------------------------------------------------------------------------------------------------------------------------------------------------------------------------------------------------------------------------------------------------------------------------+------------+-----------------------------------+\n",
      "|version|timestamp              |userId|userName|operation      |operationParameters                                                                                                                                                                                                                                                                                        |job |notebook|clusterId|readVersion|isolationLevel|isBlindAppend|operationMetrics                                                                                                                                                                                                                                                                                                                                                                                                                                                                                                                                                                                                                                        |userMetadata|engineInfo                         |\n",
      "+-------+-----------------------+------+--------+---------------+-----------------------------------------------------------------------------------------------------------------------------------------------------------------------------------------------------------------------------------------------------------------------------------------------------------+----+--------+---------+-----------+--------------+-------------+--------------------------------------------------------------------------------------------------------------------------------------------------------------------------------------------------------------------------------------------------------------------------------------------------------------------------------------------------------------------------------------------------------------------------------------------------------------------------------------------------------------------------------------------------------------------------------------------------------------------------------------------------------+------------+-----------------------------------+\n",
      "|15     |2024-11-16 00:36:20.08 |NULL  |NULL    |RESTORE        |{version -> 6, timestamp -> NULL}                                                                                                                                                                                                                                                                          |NULL|NULL    |NULL     |14         |Serializable  |false        |{numRestoredFiles -> 1, removedFilesSize -> 5637, numRemovedFiles -> 1, restoredFilesSize -> 5637, numOfFilesAfterRestore -> 34, tableSizeAfterRestore -> 81727873}                                                                                                                                                                                                                                                                                                                                                                                                                                                                                     |NULL        |Apache-Spark/3.5.2 Delta-Lake/3.2.0|\n",
      "|14     |2024-11-16 00:35:28.793|NULL  |NULL    |UPDATE         |{predicate -> [\"((VendorId#24028 = 3) AND (PickupLocationId#24031 = 1))\"]}                                                                                                                                                                                                                                 |NULL|NULL    |NULL     |13         |Serializable  |false        |{numRemovedFiles -> 1, numRemovedBytes -> 5637, numCopiedRows -> 3, numDeletionVectorsAdded -> 0, numDeletionVectorsRemoved -> 0, numAddedChangeFiles -> 0, executionTimeMs -> 835, numDeletionVectorsUpdated -> 0, scanTimeMs -> 643, numAddedFiles -> 1, numUpdatedRows -> 1, numAddedBytes -> 5637, rewriteTimeMs -> 192}                                                                                                                                                                                                                                                                                                                            |NULL        |Apache-Spark/3.5.2 Delta-Lake/3.2.0|\n",
      "|13     |2024-11-16 00:35:18.749|NULL  |NULL    |DROP CONSTRAINT|{name -> PassengerCheck, expr -> PassengerCount <= 9 OR PassengerCount IS NULL, existed -> true}                                                                                                                                                                                                           |NULL|NULL    |NULL     |12         |Serializable  |true         |{}                                                                                                                                                                                                                                                                                                                                                                                                                                                                                                                                                                                                                                                      |NULL        |Apache-Spark/3.5.2 Delta-Lake/3.2.0|\n",
      "|12     |2024-11-16 00:35:03.936|NULL  |NULL    |ADD CONSTRAINT |{name -> PassengerCheck, expr -> PassengerCount <= 9 OR PassengerCount IS NULL}                                                                                                                                                                                                                            |NULL|NULL    |NULL     |11         |Serializable  |false        |{}                                                                                                                                                                                                                                                                                                                                                                                                                                                                                                                                                                                                                                                      |NULL        |Apache-Spark/3.5.2 Delta-Lake/3.2.0|\n",
      "|11     |2024-11-16 00:34:40.692|NULL  |NULL    |CHANGE COLUMN  |{column -> {\"name\":\"PickupLocationId\",\"type\":\"integer\",\"nullable\":true,\"metadata\":{}}}                                                                                                                                                                                                                     |NULL|NULL    |NULL     |10         |Serializable  |true         |{}                                                                                                                                                                                                                                                                                                                                                                                                                                                                                                                                                                                                                                                      |NULL        |Apache-Spark/3.5.2 Delta-Lake/3.2.0|\n",
      "|10     |2024-11-16 00:34:26.938|NULL  |NULL    |CHANGE COLUMN  |{column -> {\"name\":\"PickupLocationId\",\"type\":\"integer\",\"nullable\":true,\"metadata\":{}}}                                                                                                                                                                                                                     |NULL|NULL    |NULL     |9          |Serializable  |true         |{}                                                                                                                                                                                                                                                                                                                                                                                                                                                                                                                                                                                                                                                      |NULL        |Apache-Spark/3.5.2 Delta-Lake/3.2.0|\n",
      "|9      |2024-11-16 00:34:07.69 |NULL  |NULL    |CHANGE COLUMN  |{column -> {\"name\":\"PickupLocationId\",\"type\":\"integer\",\"nullable\":true,\"metadata\":{}}}                                                                                                                                                                                                                     |NULL|NULL    |NULL     |8          |Serializable  |true         |{}                                                                                                                                                                                                                                                                                                                                                                                                                                                                                                                                                                                                                                                      |NULL        |Apache-Spark/3.5.2 Delta-Lake/3.2.0|\n",
      "|8      |2024-11-16 00:33:02.221|NULL  |NULL    |CHANGE COLUMN  |{column -> {\"name\":\"PickupLocationId\",\"type\":\"integer\",\"nullable\":true,\"metadata\":{}}}                                                                                                                                                                                                                     |NULL|NULL    |NULL     |7          |Serializable  |true         |{}                                                                                                                                                                                                                                                                                                                                                                                                                                                                                                                                                                                                                                                      |NULL        |Apache-Spark/3.5.2 Delta-Lake/3.2.0|\n",
      "|7      |2024-11-16 00:32:37.744|NULL  |NULL    |CHANGE COLUMN  |{column -> {\"name\":\"PickupLocationId\",\"type\":\"integer\",\"nullable\":false,\"metadata\":{}}}                                                                                                                                                                                                                    |NULL|NULL    |NULL     |6          |Serializable  |true         |{}                                                                                                                                                                                                                                                                                                                                                                                                                                                                                                                                                                                                                                                      |NULL        |Apache-Spark/3.5.2 Delta-Lake/3.2.0|\n",
      "|6      |2024-11-16 00:32:31.291|NULL  |NULL    |MERGE          |{predicate -> [\"((VendorId#17367 = VendorId#17117) AND (PickupLocationId#17370 = PickupLocationId#17124))\"], matchedPredicates -> [{\"actionType\":\"update\"}], notMatchedPredicates -> [{\"predicate\":\"(PickupTime#17118 >= 2022-03-01 00:00:00)\",\"actionType\":\"insert\"}], notMatchedBySourcePredicates -> []}|NULL|NULL    |NULL     |5          |Serializable  |false        |{numTargetRowsCopied -> 0, numTargetRowsDeleted -> 0, numTargetFilesAdded -> 1, numTargetBytesAdded -> 5637, numTargetBytesRemoved -> 10405, numTargetDeletionVectorsAdded -> 0, numTargetRowsMatchedUpdated -> 3, executionTimeMs -> 1545, numTargetRowsInserted -> 1, numTargetRowsMatchedDeleted -> 0, numTargetDeletionVectorsUpdated -> 0, scanTimeMs -> 1047, numTargetRowsUpdated -> 3, numOutputRows -> 4, numTargetDeletionVectorsRemoved -> 0, numTargetRowsNotMatchedBySourceUpdated -> 0, numTargetChangeFilesAdded -> 0, numSourceRows -> 4, numTargetFilesRemoved -> 2, numTargetRowsNotMatchedBySourceDeleted -> 0, rewriteTimeMs -> 419}|NULL        |Apache-Spark/3.5.2 Delta-Lake/3.2.0|\n",
      "|5      |2024-11-16 00:32:26.853|NULL  |NULL    |DELETE         |{predicate -> [\"((VendorId#15366 = 3) AND (PickupLocationId#15369 = 151))\"]}                                                                                                                                                                                                                               |NULL|NULL    |NULL     |4          |Serializable  |false        |{numRemovedFiles -> 1, numRemovedBytes -> 5469, numCopiedRows -> 2, numDeletionVectorsAdded -> 0, numDeletionVectorsRemoved -> 0, numAddedChangeFiles -> 0, executionTimeMs -> 800, numDeletionVectorsUpdated -> 0, numDeletedRows -> 1, scanTimeMs -> 636, numAddedFiles -> 1, numAddedBytes -> 5309, rewriteTimeMs -> 164}                                                                                                                                                                                                                                                                                                                            |NULL        |Apache-Spark/3.5.2 Delta-Lake/3.2.0|\n",
      "|4      |2024-11-16 00:32:24.483|NULL  |NULL    |UPDATE         |{predicate -> [\"((VendorId#13944 = 3) AND (PickupLocationId#13947 = 249))\"]}                                                                                                                                                                                                                               |NULL|NULL    |NULL     |3          |Serializable  |false        |{numRemovedFiles -> 1, numRemovedBytes -> 5469, numCopiedRows -> 2, numDeletionVectorsAdded -> 0, numDeletionVectorsRemoved -> 0, numAddedChangeFiles -> 0, executionTimeMs -> 768, numDeletionVectorsUpdated -> 0, scanTimeMs -> 522, numAddedFiles -> 1, numUpdatedRows -> 1, numAddedBytes -> 5469, rewriteTimeMs -> 245}                                                                                                                                                                                                                                                                                                                            |NULL        |Apache-Spark/3.5.2 Delta-Lake/3.2.0|\n",
      "|3      |2024-11-16 00:32:21.448|NULL  |NULL    |WRITE          |{mode -> Append, partitionBy -> [\"VendorId\"]}                                                                                                                                                                                                                                                              |NULL|NULL    |NULL     |2          |Serializable  |true         |{numFiles -> 33, numOutputRows -> 3675412, numOutputBytes -> 81722236}                                                                                                                                                                                                                                                                                                                                                                                                                                                                                                                                                                                  |NULL        |Apache-Spark/3.5.2 Delta-Lake/3.2.0|\n",
      "|2      |2024-11-16 00:32:11.577|NULL  |NULL    |WRITE          |{mode -> Append, partitionBy -> [\"VendorId\"]}                                                                                                                                                                                                                                                              |NULL|NULL    |NULL     |1          |Serializable  |true         |{numFiles -> 1, numOutputRows -> 3, numOutputBytes -> 5469}                                                                                                                                                                                                                                                                                                                                                                                                                                                                                                                                                                                             |NULL        |Apache-Spark/3.5.2 Delta-Lake/3.2.0|\n",
      "|1      |2024-11-16 00:32:05.936|NULL  |NULL    |WRITE          |{mode -> Append, partitionBy -> []}                                                                                                                                                                                                                                                                        |NULL|NULL    |NULL     |0          |Serializable  |true         |{numFiles -> 1, numOutputRows -> 1, numOutputBytes -> 5096}                                                                                                                                                                                                                                                                                                                                                                                                                                                                                                                                                                                             |NULL        |Apache-Spark/3.5.2 Delta-Lake/3.2.0|\n",
      "|0      |2024-11-16 00:31:47.963|NULL  |NULL    |CREATE TABLE   |{partitionBy -> [\"VendorId\"], clusterBy -> [], description -> This table stores ride information for Yellow Taxis, isManaged -> false, properties -> {}}                                                                                                                                                   |NULL|NULL    |NULL     |NULL       |Serializable  |true         |{}                                                                                                                                                                                                                                                                                                                                                                                                                                                                                                                                                                                                                                                      |NULL        |Apache-Spark/3.5.2 Delta-Lake/3.2.0|\n",
      "+-------+-----------------------+------+--------+---------------+-----------------------------------------------------------------------------------------------------------------------------------------------------------------------------------------------------------------------------------------------------------------------------------------------------------+----+--------+---------+-----------+--------------+-------------+--------------------------------------------------------------------------------------------------------------------------------------------------------------------------------------------------------------------------------------------------------------------------------------------------------------------------------------------------------------------------------------------------------------------------------------------------------------------------------------------------------------------------------------------------------------------------------------------------------------------------------------------------------+------------+-----------------------------------+\n",
      "\n"
     ]
    }
   ],
   "source": [
    "spark.sql(\"\"\"\n",
    "\n",
    "DESCRIBE HISTORY TaxisDB.YellowTaxis\n",
    "\n",
    "\"\"\").show(truncate=False)"
   ]
  },
  {
   "cell_type": "code",
   "execution_count": 85,
   "id": "8118e4b4",
   "metadata": {},
   "outputs": [
    {
     "name": "stdout",
     "output_type": "stream",
     "text": [
      "+--------------+\n",
      "|PassengerCount|\n",
      "+--------------+\n",
      "|           0.0|\n",
      "+--------------+\n",
      "\n"
     ]
    }
   ],
   "source": [
    "# Check data after restore\n",
    "\n",
    "spark.sql(\"\"\"\n",
    "\n",
    "SELECT PassengerCount\n",
    "\n",
    "FROM TaxisDB.YellowTaxis\n",
    "\n",
    "WHERE VendorId = 3\n",
    "    AND PickupLocationId = 1\n",
    "\n",
    "\"\"\").show()"
   ]
  },
  {
   "cell_type": "code",
   "execution_count": null,
   "id": "68b356cf",
   "metadata": {},
   "outputs": [],
   "source": []
  },
  {
   "cell_type": "code",
   "execution_count": null,
   "id": "8229769e",
   "metadata": {},
   "outputs": [],
   "source": []
  },
  {
   "cell_type": "code",
   "execution_count": null,
   "id": "6b911317",
   "metadata": {},
   "outputs": [],
   "source": []
  },
  {
   "cell_type": "code",
   "execution_count": null,
   "id": "73f67430",
   "metadata": {},
   "outputs": [],
   "source": []
  },
  {
   "cell_type": "code",
   "execution_count": null,
   "id": "85c813c7",
   "metadata": {},
   "outputs": [],
   "source": []
  },
  {
   "cell_type": "code",
   "execution_count": null,
   "id": "c23d631c",
   "metadata": {},
   "outputs": [],
   "source": []
  },
  {
   "cell_type": "code",
   "execution_count": null,
   "id": "bd7ab284",
   "metadata": {},
   "outputs": [],
   "source": []
  },
  {
   "cell_type": "code",
   "execution_count": null,
   "id": "81a91ed7",
   "metadata": {},
   "outputs": [],
   "source": []
  },
  {
   "cell_type": "code",
   "execution_count": null,
   "id": "f338d50e",
   "metadata": {},
   "outputs": [],
   "source": []
  },
  {
   "cell_type": "code",
   "execution_count": null,
   "id": "cb2d6b45",
   "metadata": {},
   "outputs": [],
   "source": []
  },
  {
   "cell_type": "code",
   "execution_count": null,
   "id": "8973a295",
   "metadata": {},
   "outputs": [],
   "source": []
  }
 ],
 "metadata": {
  "kernelspec": {
   "display_name": "base",
   "language": "python",
   "name": "python3"
  },
  "language_info": {
   "codemirror_mode": {
    "name": "ipython",
    "version": 3
   },
   "file_extension": ".py",
   "mimetype": "text/x-python",
   "name": "python",
   "nbconvert_exporter": "python",
   "pygments_lexer": "ipython3",
   "version": "3.11.5"
  }
 },
 "nbformat": 4,
 "nbformat_minor": 5
}
