{
 "cells": [
  {
   "cell_type": "code",
   "execution_count": 0,
   "metadata": {
    "application/vnd.databricks.v1+cell": {
     "cellMetadata": {
      "byteLimit": 2048000,
      "rowLimit": 10000
     },
     "inputWidgets": {},
     "nuid": "c169811e-8201-4a8e-ad97-948826fc9843",
     "showTitle": false,
     "tableResultSettingsMap": {},
     "title": ""
    }
   },
   "outputs": [
    {
     "output_type": "display_data",
     "data": {
      "text/html": [
       "\n",
       "            <div>\n",
       "                <p><b>SparkSession - hive</b></p>\n",
       "                \n",
       "        <div>\n",
       "            <p><b>SparkContext</b></p>\n",
       "\n",
       "            <p><a href=\"/?o=2935262652118254#setting/sparkui/1115-213231-jgi8bw2d/driver-5314017676735440796\">Spark UI</a></p>\n",
       "\n",
       "            <dl>\n",
       "              <dt>Version</dt>\n",
       "                <dd><code>v3.3.2</code></dd>\n",
       "              <dt>Master</dt>\n",
       "                <dd><code>local[8]</code></dd>\n",
       "              <dt>AppName</dt>\n",
       "                <dd><code>Databricks Shell</code></dd>\n",
       "            </dl>\n",
       "        </div>\n",
       "        \n",
       "            </div>\n",
       "        "
      ]
     },
     "metadata": {
      "application/vnd.databricks.v1+output": {
       "addedWidgets": {},
       "arguments": {},
       "data": "\n            <div>\n                <p><b>SparkSession - hive</b></p>\n                \n        <div>\n            <p><b>SparkContext</b></p>\n\n            <p><a href=\"/?o=2935262652118254#setting/sparkui/1115-213231-jgi8bw2d/driver-5314017676735440796\">Spark UI</a></p>\n\n            <dl>\n              <dt>Version</dt>\n                <dd><code>v3.3.2</code></dd>\n              <dt>Master</dt>\n                <dd><code>local[8]</code></dd>\n              <dt>AppName</dt>\n                <dd><code>Databricks Shell</code></dd>\n            </dl>\n        </div>\n        \n            </div>\n        ",
       "datasetInfos": [],
       "metadata": {},
       "removedWidgets": [],
       "textData": null,
       "type": "htmlSandbox"
      }
     },
     "output_type": "display_data"
    }
   ],
   "source": [
    "from pyspark.sql import SparkSession\n",
    "from pyspark.sql.types import *\n",
    "from pyspark.sql.functions import *\n",
    "\n",
    "spark = (\n",
    "            SparkSession\n",
    "                .builder\n",
    "                .appName(\"DeltaLakeApp\")\n",
    "    \n",
    "                .master(\"local[*]\")    \n",
    "                .config(\"spark.dynamicAllocation.enabled\", \"false\")     \n",
    "    \n",
    "    \n",
    "                # Add package for Delta Lake\n",
    "                .config(\"spark.jars.packages\", \"io.delta:delta-core_2.12:3.2.5\")\n",
    "    \n",
    "    \n",
    "                # Add settings to use Delta Lake with Spark session\n",
    "                .config(\"spark.sql.extensions\", \"io.delta.sql.DeltaSparkSessionExtension\")\n",
    "    \n",
    "                .config(\"spark.sql.catalog.spark_catalog\", \n",
    "                        \"org.apache.spark.sql.delta.catalog.DeltaCatalog\")\n",
    "    \n",
    "                .getOrCreate()\n",
    "        )\n",
    "\n",
    "sc = spark.sparkContext\n",
    "\n",
    "spark"
   ]
  },
  {
   "cell_type": "code",
   "execution_count": 0,
   "metadata": {
    "application/vnd.databricks.v1+cell": {
     "cellMetadata": {
      "byteLimit": 2048000,
      "rowLimit": 10000
     },
     "inputWidgets": {},
     "nuid": "85dea622-e00c-480e-9bef-8043e497281f",
     "showTitle": false,
     "tableResultSettingsMap": {},
     "title": ""
    }
   },
   "outputs": [
    {
     "output_type": "stream",
     "name": "stdout",
     "output_type": "stream",
     "text": [
      "root\n |-- VendorId: integer (nullable = true)\n |-- PickupTime: timestamp (nullable = true)\n |-- DropTime: timestamp (nullable = true)\n |-- PassengerCount: double (nullable = true)\n |-- TripDistance: double (nullable = true)\n |-- RateCodeId: double (nullable = true)\n |-- StoreAndFwdFlag: string (nullable = true)\n |-- PickupLocationId: integer (nullable = true)\n |-- DropLocationId: integer (nullable = true)\n |-- PaymentType: integer (nullable = true)\n |-- FareAmount: double (nullable = true)\n |-- Extra: double (nullable = true)\n |-- MtaTax: double (nullable = true)\n |-- TipAmount: double (nullable = true)\n |-- TollsAmount: double (nullable = true)\n |-- ImprovementSurcharge: double (nullable = true)\n |-- TotalAmount: double (nullable = true)\n |-- CongestionSurcharge: double (nullable = true)\n |-- AirportFee: double (nullable = true)\n\n"
     ]
    }
   ],
   "source": [
    "# Create schema for Yellow Taxi data\n",
    "yellowTaxiSchema = (\n",
    "                        StructType\n",
    "                        ([ \n",
    "                            StructField(\"VendorId\"               , IntegerType()   , True),\n",
    "                            StructField(\"PickupTime\"             , TimestampType() , True),\n",
    "                            StructField(\"DropTime\"               , TimestampType() , True),\n",
    "                            StructField(\"PassengerCount\"         , DoubleType()    , True),\n",
    "                            StructField(\"TripDistance\"           , DoubleType()    , True),\n",
    "                            StructField(\"RateCodeId\"             , DoubleType()    , True),\n",
    "                            StructField(\"StoreAndFwdFlag\"        , StringType()    , True),\n",
    "                            StructField(\"PickupLocationId\"       , IntegerType()   , True),\n",
    "                            StructField(\"DropLocationId\"         , IntegerType()   , True),\n",
    "                            StructField(\"PaymentType\"            , IntegerType()   , True),\n",
    "                            StructField(\"FareAmount\"             , DoubleType()    , True),\n",
    "                            StructField(\"Extra\"                  , DoubleType()    , True),\n",
    "                            StructField(\"MtaTax\"                 , DoubleType()    , True),\n",
    "                            StructField(\"TipAmount\"              , DoubleType()    , True),\n",
    "                            StructField(\"TollsAmount\"            , DoubleType()    , True),\n",
    "                            StructField(\"ImprovementSurcharge\"   , DoubleType()    , True),\n",
    "                            StructField(\"TotalAmount\"            , DoubleType()    , True),\n",
    "                            StructField(\"CongestionSurcharge\"    , DoubleType()    , True),\n",
    "                            StructField(\"AirportFee\"             , DoubleType()    , True)\n",
    "                        ])\n",
    "                   )\n",
    "\n",
    "\n",
    "# Read Yellow Taxis file\n",
    "yellowTaxiDF = (\n",
    "                  spark\n",
    "                    .read\n",
    "                    .option(\"header\", \"true\")    \n",
    "                    .schema(yellowTaxiSchema)    \n",
    "                    .csv(\"/FileStore/tables/YellowTaxis_202210.csv\")\n",
    "               )\n",
    "\n",
    "\n",
    "# Print schema of DataFrame\n",
    "yellowTaxiDF.printSchema()"
   ]
  },
  {
   "cell_type": "markdown",
   "metadata": {
    "application/vnd.databricks.v1+cell": {
     "cellMetadata": {},
     "inputWidgets": {},
     "nuid": "e33b3112-eeff-4592-845b-a92816cf4ef6",
     "showTitle": false,
     "tableResultSettingsMap": {},
     "title": ""
    }
   },
   "source": [
    "### Create database in metastore"
   ]
  },
  {
   "cell_type": "code",
   "execution_count": 0,
   "metadata": {
    "application/vnd.databricks.v1+cell": {
     "cellMetadata": {
      "byteLimit": 2048000,
      "rowLimit": 10000
     },
     "inputWidgets": {},
     "nuid": "765dfa10-7964-4614-9e2b-38e35ea9485a",
     "showTitle": false,
     "tableResultSettingsMap": {},
     "title": ""
    }
   },
   "outputs": [
    {
     "output_type": "stream",
     "name": "stdout",
     "output_type": "stream",
     "text": [
      "Out[5]: DataFrame[]"
     ]
    }
   ],
   "source": [
    "spark.sql(\"\"\"\n",
    "\n",
    "CREATE DATABASE IF NOT EXISTS TaxisDB\n",
    "\n",
    "\"\"\")"
   ]
  },
  {
   "cell_type": "markdown",
   "metadata": {
    "application/vnd.databricks.v1+cell": {
     "cellMetadata": {},
     "inputWidgets": {},
     "nuid": "e0757602-a900-4c02-81fc-ef573bccd948",
     "showTitle": false,
     "tableResultSettingsMap": {},
     "title": ""
    }
   },
   "source": [
    "### Parquet format: Save DataFrame as a Table"
   ]
  },
  {
   "cell_type": "code",
   "execution_count": 0,
   "metadata": {
    "application/vnd.databricks.v1+cell": {
     "cellMetadata": {
      "byteLimit": 2048000,
      "rowLimit": 10000
     },
     "inputWidgets": {},
     "nuid": "1d28c4c3-2298-448a-82ae-080a84ca97f8",
     "showTitle": false,
     "tableResultSettingsMap": {},
     "title": ""
    }
   },
   "outputs": [],
   "source": [
    "(\n",
    "    yellowTaxiDF\n",
    "            .write    \n",
    "            .mode(\"overwrite\")\n",
    "    \n",
    "            .partitionBy(\"VendorId\")\n",
    "    \n",
    "            .format(\"parquet\")\n",
    "    \n",
    "            .option(\"path\", \"/FileStore/tables/Output/YellowTaxis.parquet\")\n",
    "    \n",
    "            .saveAsTable(\"TaxisDB.YellowTaxisParquet\")\n",
    ")"
   ]
  },
  {
   "cell_type": "code",
   "execution_count": 0,
   "metadata": {
    "application/vnd.databricks.v1+cell": {
     "cellMetadata": {
      "byteLimit": 2048000,
      "rowLimit": 10000
     },
     "inputWidgets": {},
     "nuid": "9bbc880f-c42b-428a-a6f5-ebc8ba3520bb",
     "showTitle": false,
     "tableResultSettingsMap": {},
     "title": ""
    }
   },
   "outputs": [
    {
     "output_type": "display_data",
     "data": {
      "text/html": [
       "<style scoped>\n",
       "  .table-result-container {\n",
       "    max-height: 300px;\n",
       "    overflow: auto;\n",
       "  }\n",
       "  table, th, td {\n",
       "    border: 1px solid black;\n",
       "    border-collapse: collapse;\n",
       "  }\n",
       "  th, td {\n",
       "    padding: 5px;\n",
       "  }\n",
       "  th {\n",
       "    text-align: left;\n",
       "  }\n",
       "</style><div class='table-result-container'><table class='table-result'><thead style='background-color: white'><tr><th>path</th><th>name</th><th>size</th><th>modificationTime</th></tr></thead><tbody><tr><td>dbfs:/FileStore/tables/2010_12_01-1.csv</td><td>2010_12_01-1.csv</td><td>275001</td><td>1729878680000</td></tr><tr><td>dbfs:/FileStore/tables/2010_12_01-2.csv</td><td>2010_12_01-2.csv</td><td>275001</td><td>1729932035000</td></tr><tr><td>dbfs:/FileStore/tables/2010_12_01.csv</td><td>2010_12_01.csv</td><td>275001</td><td>1729878505000</td></tr><tr><td>dbfs:/FileStore/tables/Cabs.csv</td><td>Cabs.csv</td><td>1365691</td><td>1730487220000</td></tr><tr><td>dbfs:/FileStore/tables/CacheTest_EnabledAndCached.csv/</td><td>CacheTest_EnabledAndCached.csv/</td><td>0</td><td>0</td></tr><tr><td>dbfs:/FileStore/tables/CacheTest_EnabledFirstTime.csv/</td><td>CacheTest_EnabledFirstTime.csv/</td><td>0</td><td>0</td></tr><tr><td>dbfs:/FileStore/tables/CacheTest_WithoutEnabling.csv/</td><td>CacheTest_WithoutEnabling.csv/</td><td>0</td><td>0</td></tr><tr><td>dbfs:/FileStore/tables/Drivers.csv</td><td>Drivers.csv</td><td>11061205</td><td>1730487592000</td></tr><tr><td>dbfs:/FileStore/tables/GreenTaxis_202210.csv</td><td>GreenTaxis_202210.csv</td><td>8747800</td><td>1730487440000</td></tr><tr><td>dbfs:/FileStore/tables/Output/</td><td>Output/</td><td>0</td><td>0</td></tr><tr><td>dbfs:/FileStore/tables/Output\\YellowTaxis.parquet/</td><td>Output\\YellowTaxis.parquet/</td><td>0</td><td>0</td></tr><tr><td>dbfs:/FileStore/tables/PaymentTypes.json</td><td>PaymentTypes.json</td><td>277</td><td>1730487635000</td></tr><tr><td>dbfs:/FileStore/tables/RateCodes.csv</td><td>RateCodes.csv</td><td>139</td><td>1730487630000</td></tr><tr><td>dbfs:/FileStore/tables/RateCodes.json</td><td>RateCodes.json</td><td>252</td><td>1730487604000</td></tr><tr><td>dbfs:/FileStore/tables/TaxiBases.json</td><td>TaxiBases.json</td><td>464836</td><td>1730487625000</td></tr><tr><td>dbfs:/FileStore/tables/TaxiZones.csv</td><td>TaxiZones.csv</td><td>10686</td><td>1730487598000</td></tr><tr><td>dbfs:/FileStore/tables/YellowTaxis_202210.csv</td><td>YellowTaxis_202210.csv</td><td>462328966</td><td>1730489401000</td></tr><tr><td>dbfs:/FileStore/tables/YellowTaxis_append.csv</td><td>YellowTaxis_append.csv</td><td>645</td><td>1730487159000</td></tr><tr><td>dbfs:/FileStore/tables/YellowTaxis_changes.csv</td><td>YellowTaxis_changes.csv</td><td>770</td><td>1730487154000</td></tr></tbody></table></div>"
      ]
     },
     "metadata": {
      "application/vnd.databricks.v1+output": {
       "addedWidgets": {},
       "aggData": [],
       "aggError": "",
       "aggOverflow": false,
       "aggSchema": [],
       "aggSeriesLimitReached": false,
       "aggType": "",
       "arguments": {},
       "columnCustomDisplayInfos": {},
       "data": [
        [
         "dbfs:/FileStore/tables/2010_12_01-1.csv",
         "2010_12_01-1.csv",
         275001,
         1729878680000
        ],
        [
         "dbfs:/FileStore/tables/2010_12_01-2.csv",
         "2010_12_01-2.csv",
         275001,
         1729932035000
        ],
        [
         "dbfs:/FileStore/tables/2010_12_01.csv",
         "2010_12_01.csv",
         275001,
         1729878505000
        ],
        [
         "dbfs:/FileStore/tables/Cabs.csv",
         "Cabs.csv",
         1365691,
         1730487220000
        ],
        [
         "dbfs:/FileStore/tables/CacheTest_EnabledAndCached.csv/",
         "CacheTest_EnabledAndCached.csv/",
         0,
         0
        ],
        [
         "dbfs:/FileStore/tables/CacheTest_EnabledFirstTime.csv/",
         "CacheTest_EnabledFirstTime.csv/",
         0,
         0
        ],
        [
         "dbfs:/FileStore/tables/CacheTest_WithoutEnabling.csv/",
         "CacheTest_WithoutEnabling.csv/",
         0,
         0
        ],
        [
         "dbfs:/FileStore/tables/Drivers.csv",
         "Drivers.csv",
         11061205,
         1730487592000
        ],
        [
         "dbfs:/FileStore/tables/GreenTaxis_202210.csv",
         "GreenTaxis_202210.csv",
         8747800,
         1730487440000
        ],
        [
         "dbfs:/FileStore/tables/Output/",
         "Output/",
         0,
         0
        ],
        [
         "dbfs:/FileStore/tables/Output\\YellowTaxis.parquet/",
         "Output\\YellowTaxis.parquet/",
         0,
         0
        ],
        [
         "dbfs:/FileStore/tables/PaymentTypes.json",
         "PaymentTypes.json",
         277,
         1730487635000
        ],
        [
         "dbfs:/FileStore/tables/RateCodes.csv",
         "RateCodes.csv",
         139,
         1730487630000
        ],
        [
         "dbfs:/FileStore/tables/RateCodes.json",
         "RateCodes.json",
         252,
         1730487604000
        ],
        [
         "dbfs:/FileStore/tables/TaxiBases.json",
         "TaxiBases.json",
         464836,
         1730487625000
        ],
        [
         "dbfs:/FileStore/tables/TaxiZones.csv",
         "TaxiZones.csv",
         10686,
         1730487598000
        ],
        [
         "dbfs:/FileStore/tables/YellowTaxis_202210.csv",
         "YellowTaxis_202210.csv",
         462328966,
         1730489401000
        ],
        [
         "dbfs:/FileStore/tables/YellowTaxis_append.csv",
         "YellowTaxis_append.csv",
         645,
         1730487159000
        ],
        [
         "dbfs:/FileStore/tables/YellowTaxis_changes.csv",
         "YellowTaxis_changes.csv",
         770,
         1730487154000
        ]
       ],
       "datasetInfos": [],
       "dbfsResultPath": null,
       "isJsonSchema": true,
       "metadata": {},
       "overflow": false,
       "plotOptions": {
        "customPlotOptions": {},
        "displayType": "table",
        "pivotAggregation": null,
        "pivotColumns": null,
        "xColumns": null,
        "yColumns": null
       },
       "removedWidgets": [],
       "schema": [
        {
         "metadata": "{}",
         "name": "path",
         "type": "\"string\""
        },
        {
         "metadata": "{}",
         "name": "name",
         "type": "\"string\""
        },
        {
         "metadata": "{}",
         "name": "size",
         "type": "\"long\""
        },
        {
         "metadata": "{}",
         "name": "modificationTime",
         "type": "\"long\""
        }
       ],
       "type": "table"
      }
     },
     "output_type": "display_data"
    }
   ],
   "source": [
    "display(dbutils.fs.ls(\"/FileStore/tables/\"))\n"
   ]
  },
  {
   "cell_type": "markdown",
   "metadata": {
    "application/vnd.databricks.v1+cell": {
     "cellMetadata": {},
     "inputWidgets": {},
     "nuid": "4959034a-fcf3-4525-808a-3c61d691e73a",
     "showTitle": false,
     "tableResultSettingsMap": {},
     "title": ""
    }
   },
   "source": [
    "### Delta format: Save DataFrame as Table"
   ]
  },
  {
   "cell_type": "code",
   "execution_count": 0,
   "metadata": {
    "application/vnd.databricks.v1+cell": {
     "cellMetadata": {
      "byteLimit": 2048000,
      "rowLimit": 10000
     },
     "inputWidgets": {},
     "nuid": "97bae726-ba4a-45c2-a93f-5bf4b42abbc9",
     "showTitle": false,
     "tableResultSettingsMap": {},
     "title": ""
    }
   },
   "outputs": [],
   "source": [
    "# If you have already run this command, and want to start from beginning,\n",
    "# delete folder from file system first\n",
    "\n",
    "from delta import *\n",
    "\n",
    "(\n",
    "    yellowTaxiDF\n",
    "            .write    \n",
    "            .mode(\"overwrite\")\n",
    "    \n",
    "            .partitionBy(\"VendorId\")\n",
    "    \n",
    "            .format(\"delta\")\n",
    "    \n",
    "            .option(\"path\", \"/FileStore/tables/Output/YellowTaxis.delta\")\n",
    "    \n",
    "            .saveAsTable(\"TaxisDB.YellowTaxis\")\n",
    ")"
   ]
  },
  {
   "cell_type": "code",
   "execution_count": 0,
   "metadata": {
    "application/vnd.databricks.v1+cell": {
     "cellMetadata": {
      "byteLimit": 2048000,
      "rowLimit": 10000
     },
     "inputWidgets": {},
     "nuid": "e1bb03d0-3b6a-4de3-b3e2-1f6264033b17",
     "showTitle": false,
     "tableResultSettingsMap": {},
     "title": ""
    }
   },
   "outputs": [
    {
     "output_type": "display_data",
     "data": {
      "text/html": [
       "<style scoped>\n",
       "  .table-result-container {\n",
       "    max-height: 300px;\n",
       "    overflow: auto;\n",
       "  }\n",
       "  table, th, td {\n",
       "    border: 1px solid black;\n",
       "    border-collapse: collapse;\n",
       "  }\n",
       "  th, td {\n",
       "    padding: 5px;\n",
       "  }\n",
       "  th {\n",
       "    text-align: left;\n",
       "  }\n",
       "</style><div class='table-result-container'><table class='table-result'><thead style='background-color: white'><tr><th>path</th><th>name</th><th>size</th><th>modificationTime</th></tr></thead><tbody><tr><td>dbfs:/FileStore/tables/2010_12_01-1.csv</td><td>2010_12_01-1.csv</td><td>275001</td><td>1729878680000</td></tr><tr><td>dbfs:/FileStore/tables/2010_12_01-2.csv</td><td>2010_12_01-2.csv</td><td>275001</td><td>1729932035000</td></tr><tr><td>dbfs:/FileStore/tables/2010_12_01.csv</td><td>2010_12_01.csv</td><td>275001</td><td>1729878505000</td></tr><tr><td>dbfs:/FileStore/tables/Cabs.csv</td><td>Cabs.csv</td><td>1365691</td><td>1730487220000</td></tr><tr><td>dbfs:/FileStore/tables/CacheTest_EnabledAndCached.csv/</td><td>CacheTest_EnabledAndCached.csv/</td><td>0</td><td>0</td></tr><tr><td>dbfs:/FileStore/tables/CacheTest_EnabledFirstTime.csv/</td><td>CacheTest_EnabledFirstTime.csv/</td><td>0</td><td>0</td></tr><tr><td>dbfs:/FileStore/tables/CacheTest_WithoutEnabling.csv/</td><td>CacheTest_WithoutEnabling.csv/</td><td>0</td><td>0</td></tr><tr><td>dbfs:/FileStore/tables/Drivers.csv</td><td>Drivers.csv</td><td>11061205</td><td>1730487592000</td></tr><tr><td>dbfs:/FileStore/tables/GreenTaxis_202210.csv</td><td>GreenTaxis_202210.csv</td><td>8747800</td><td>1730487440000</td></tr><tr><td>dbfs:/FileStore/tables/Output/</td><td>Output/</td><td>0</td><td>0</td></tr><tr><td>dbfs:/FileStore/tables/Output\\YellowTaxis.parquet/</td><td>Output\\YellowTaxis.parquet/</td><td>0</td><td>0</td></tr><tr><td>dbfs:/FileStore/tables/PaymentTypes.json</td><td>PaymentTypes.json</td><td>277</td><td>1730487635000</td></tr><tr><td>dbfs:/FileStore/tables/RateCodes.csv</td><td>RateCodes.csv</td><td>139</td><td>1730487630000</td></tr><tr><td>dbfs:/FileStore/tables/RateCodes.json</td><td>RateCodes.json</td><td>252</td><td>1730487604000</td></tr><tr><td>dbfs:/FileStore/tables/TaxiBases.json</td><td>TaxiBases.json</td><td>464836</td><td>1730487625000</td></tr><tr><td>dbfs:/FileStore/tables/TaxiZones.csv</td><td>TaxiZones.csv</td><td>10686</td><td>1730487598000</td></tr><tr><td>dbfs:/FileStore/tables/YellowTaxis_202210.csv</td><td>YellowTaxis_202210.csv</td><td>462328966</td><td>1730489401000</td></tr><tr><td>dbfs:/FileStore/tables/YellowTaxis_append.csv</td><td>YellowTaxis_append.csv</td><td>645</td><td>1730487159000</td></tr><tr><td>dbfs:/FileStore/tables/YellowTaxis_changes.csv</td><td>YellowTaxis_changes.csv</td><td>770</td><td>1730487154000</td></tr></tbody></table></div>"
      ]
     },
     "metadata": {
      "application/vnd.databricks.v1+output": {
       "addedWidgets": {},
       "aggData": [],
       "aggError": "",
       "aggOverflow": false,
       "aggSchema": [],
       "aggSeriesLimitReached": false,
       "aggType": "",
       "arguments": {},
       "columnCustomDisplayInfos": {},
       "data": [
        [
         "dbfs:/FileStore/tables/2010_12_01-1.csv",
         "2010_12_01-1.csv",
         275001,
         1729878680000
        ],
        [
         "dbfs:/FileStore/tables/2010_12_01-2.csv",
         "2010_12_01-2.csv",
         275001,
         1729932035000
        ],
        [
         "dbfs:/FileStore/tables/2010_12_01.csv",
         "2010_12_01.csv",
         275001,
         1729878505000
        ],
        [
         "dbfs:/FileStore/tables/Cabs.csv",
         "Cabs.csv",
         1365691,
         1730487220000
        ],
        [
         "dbfs:/FileStore/tables/CacheTest_EnabledAndCached.csv/",
         "CacheTest_EnabledAndCached.csv/",
         0,
         0
        ],
        [
         "dbfs:/FileStore/tables/CacheTest_EnabledFirstTime.csv/",
         "CacheTest_EnabledFirstTime.csv/",
         0,
         0
        ],
        [
         "dbfs:/FileStore/tables/CacheTest_WithoutEnabling.csv/",
         "CacheTest_WithoutEnabling.csv/",
         0,
         0
        ],
        [
         "dbfs:/FileStore/tables/Drivers.csv",
         "Drivers.csv",
         11061205,
         1730487592000
        ],
        [
         "dbfs:/FileStore/tables/GreenTaxis_202210.csv",
         "GreenTaxis_202210.csv",
         8747800,
         1730487440000
        ],
        [
         "dbfs:/FileStore/tables/Output/",
         "Output/",
         0,
         0
        ],
        [
         "dbfs:/FileStore/tables/Output\\YellowTaxis.parquet/",
         "Output\\YellowTaxis.parquet/",
         0,
         0
        ],
        [
         "dbfs:/FileStore/tables/PaymentTypes.json",
         "PaymentTypes.json",
         277,
         1730487635000
        ],
        [
         "dbfs:/FileStore/tables/RateCodes.csv",
         "RateCodes.csv",
         139,
         1730487630000
        ],
        [
         "dbfs:/FileStore/tables/RateCodes.json",
         "RateCodes.json",
         252,
         1730487604000
        ],
        [
         "dbfs:/FileStore/tables/TaxiBases.json",
         "TaxiBases.json",
         464836,
         1730487625000
        ],
        [
         "dbfs:/FileStore/tables/TaxiZones.csv",
         "TaxiZones.csv",
         10686,
         1730487598000
        ],
        [
         "dbfs:/FileStore/tables/YellowTaxis_202210.csv",
         "YellowTaxis_202210.csv",
         462328966,
         1730489401000
        ],
        [
         "dbfs:/FileStore/tables/YellowTaxis_append.csv",
         "YellowTaxis_append.csv",
         645,
         1730487159000
        ],
        [
         "dbfs:/FileStore/tables/YellowTaxis_changes.csv",
         "YellowTaxis_changes.csv",
         770,
         1730487154000
        ]
       ],
       "datasetInfos": [],
       "dbfsResultPath": null,
       "isJsonSchema": true,
       "metadata": {},
       "overflow": false,
       "plotOptions": {
        "customPlotOptions": {},
        "displayType": "table",
        "pivotAggregation": null,
        "pivotColumns": null,
        "xColumns": null,
        "yColumns": null
       },
       "removedWidgets": [],
       "schema": [
        {
         "metadata": "{}",
         "name": "path",
         "type": "\"string\""
        },
        {
         "metadata": "{}",
         "name": "name",
         "type": "\"string\""
        },
        {
         "metadata": "{}",
         "name": "size",
         "type": "\"long\""
        },
        {
         "metadata": "{}",
         "name": "modificationTime",
         "type": "\"long\""
        }
       ],
       "type": "table"
      }
     },
     "output_type": "display_data"
    }
   ],
   "source": [
    "display(dbutils.fs.ls(\"/FileStore/tables/\"))\n"
   ]
  },
  {
   "cell_type": "code",
   "execution_count": 0,
   "metadata": {
    "application/vnd.databricks.v1+cell": {
     "cellMetadata": {
      "byteLimit": 2048000,
      "rowLimit": 10000
     },
     "inputWidgets": {},
     "nuid": "819a9dd8-4597-4bf4-b3b5-0f034a396d7f",
     "showTitle": false,
     "tableResultSettingsMap": {},
     "title": ""
    }
   },
   "outputs": [
    {
     "output_type": "stream",
     "name": "stdout",
     "output_type": "stream",
     "text": [
      "+--------+\n|count(1)|\n+--------+\n| 3675412|\n+--------+\n\n"
     ]
    }
   ],
   "source": [
    "spark.sql(\"\"\"\n",
    "\n",
    "SELECT COUNT(*)\n",
    "FROM TaxisDB.YellowTaxis\n",
    "\n",
    "\"\"\").show()"
   ]
  },
  {
   "cell_type": "markdown",
   "metadata": {
    "application/vnd.databricks.v1+cell": {
     "cellMetadata": {},
     "inputWidgets": {},
     "nuid": "7717c967-d602-4174-b0ba-0d6bfbbd94f2",
     "showTitle": false,
     "tableResultSettingsMap": {},
     "title": ""
    }
   },
   "source": [
    "### Audit History of Delta Table\n",
    "\n",
    "This shows transaction log of Delta Table"
   ]
  },
  {
   "cell_type": "code",
   "execution_count": 0,
   "metadata": {
    "application/vnd.databricks.v1+cell": {
     "cellMetadata": {
      "byteLimit": 2048000,
      "rowLimit": 10000
     },
     "inputWidgets": {},
     "nuid": "6391c778-28a8-430f-84cb-e81d14f96b02",
     "showTitle": false,
     "tableResultSettingsMap": {},
     "title": ""
    }
   },
   "outputs": [
    {
     "output_type": "stream",
     "name": "stdout",
     "output_type": "stream",
     "text": [
      "+-------+-------------------+----------------+------------------+---------------------------------+----------------------------------------------------------------------------------------+----+-----------------+--------------------+-----------+-----------------+-------------+----------------------------------------------------------------------+------------+-----------------------------------+\n|version|timestamp          |userId          |userName          |operation                        |operationParameters                                                                     |job |notebook         |clusterId           |readVersion|isolationLevel   |isBlindAppend|operationMetrics                                                      |userMetadata|engineInfo                         |\n+-------+-------------------+----------------+------------------+---------------------------------+----------------------------------------------------------------------------------------+----+-----------------+--------------------+-----------+-----------------+-------------+----------------------------------------------------------------------+------------+-----------------------------------+\n|0      |2024-11-15 21:45:34|6904895112410171|mlawande@nu.edu.eg|CREATE OR REPLACE TABLE AS SELECT|{isManaged -> false, description -> null, partitionBy -> [\"VendorId\"], properties -> {}}|null|{958133425625928}|1115-213231-jgi8bw2d|null       |WriteSerializable|false        |{numFiles -> 17, numOutputRows -> 3675412, numOutputBytes -> 79993408}|null        |Databricks-Runtime/12.2.x-scala2.12|\n+-------+-------------------+----------------+------------------+---------------------------------+----------------------------------------------------------------------------------------+----+-----------------+--------------------+-----------+-----------------+-------------+----------------------------------------------------------------------+------------+-----------------------------------+\n\n"
     ]
    }
   ],
   "source": [
    "spark.sql(\"\"\"\n",
    "\n",
    "DESCRIBE HISTORY TaxisDB.YellowTaxis\n",
    "\n",
    "\"\"\").show(truncate=False)"
   ]
  },
  {
   "cell_type": "markdown",
   "metadata": {
    "application/vnd.databricks.v1+cell": {
     "cellMetadata": {},
     "inputWidgets": {},
     "nuid": "2e229ec0-fd4c-4ae9-a005-4883903a99e9",
     "showTitle": false,
     "tableResultSettingsMap": {},
     "title": ""
    }
   },
   "source": [
    "### Overwrite data in Delta table"
   ]
  },
  {
   "cell_type": "code",
   "execution_count": 0,
   "metadata": {
    "application/vnd.databricks.v1+cell": {
     "cellMetadata": {
      "byteLimit": 2048000,
      "rowLimit": 10000
     },
     "inputWidgets": {},
     "nuid": "5689e640-2fc3-44df-8346-8d7a6366ed08",
     "showTitle": false,
     "tableResultSettingsMap": {},
     "title": ""
    }
   },
   "outputs": [],
   "source": [
    "# Overwrite data by re-running the command\n",
    "\n",
    "(\n",
    "    yellowTaxiDF\n",
    "            .write    \n",
    "            .mode(\"overwrite\")\n",
    "    \n",
    "            .partitionBy(\"VendorId\")\n",
    "    \n",
    "            .format(\"delta\")\n",
    "    \n",
    "            .option(\"path\", \"/FileStore/tables/Output/YellowTaxis.delta\")\n",
    "    \n",
    "            .saveAsTable(\"TaxisDB.YellowTaxis\")\n",
    ")"
   ]
  },
  {
   "cell_type": "code",
   "execution_count": 0,
   "metadata": {
    "application/vnd.databricks.v1+cell": {
     "cellMetadata": {
      "byteLimit": 2048000,
      "rowLimit": 10000
     },
     "inputWidgets": {},
     "nuid": "2505240d-fc13-4699-b458-a7aee7cb2b6d",
     "showTitle": false,
     "tableResultSettingsMap": {},
     "title": ""
    }
   },
   "outputs": [
    {
     "output_type": "stream",
     "name": "stdout",
     "output_type": "stream",
     "text": [
      "+-------+-------------------+----------------+------------------+---------------------------------+----------------------------------------------------------------------------------------+----+-----------------+--------------------+-----------+-----------------+-------------+----------------------------------------------------------------------+------------+-----------------------------------+\n|version|timestamp          |userId          |userName          |operation                        |operationParameters                                                                     |job |notebook         |clusterId           |readVersion|isolationLevel   |isBlindAppend|operationMetrics                                                      |userMetadata|engineInfo                         |\n+-------+-------------------+----------------+------------------+---------------------------------+----------------------------------------------------------------------------------------+----+-----------------+--------------------+-----------+-----------------+-------------+----------------------------------------------------------------------+------------+-----------------------------------+\n|1      |2024-11-15 21:47:14|6904895112410171|mlawande@nu.edu.eg|CREATE OR REPLACE TABLE AS SELECT|{isManaged -> false, description -> null, partitionBy -> [\"VendorId\"], properties -> {}}|null|{958133425625928}|1115-213231-jgi8bw2d|0          |WriteSerializable|false        |{numFiles -> 17, numOutputRows -> 3675412, numOutputBytes -> 79993408}|null        |Databricks-Runtime/12.2.x-scala2.12|\n|0      |2024-11-15 21:45:34|6904895112410171|mlawande@nu.edu.eg|CREATE OR REPLACE TABLE AS SELECT|{isManaged -> false, description -> null, partitionBy -> [\"VendorId\"], properties -> {}}|null|{958133425625928}|1115-213231-jgi8bw2d|null       |WriteSerializable|false        |{numFiles -> 17, numOutputRows -> 3675412, numOutputBytes -> 79993408}|null        |Databricks-Runtime/12.2.x-scala2.12|\n+-------+-------------------+----------------+------------------+---------------------------------+----------------------------------------------------------------------------------------+----+-----------------+--------------------+-----------+-----------------+-------------+----------------------------------------------------------------------+------------+-----------------------------------+\n\n"
     ]
    }
   ],
   "source": [
    "spark.sql(\"\"\"\n",
    "\n",
    "DESCRIBE HISTORY TaxisDB.YellowTaxis\n",
    "\n",
    "\"\"\").show(truncate=False)"
   ]
  },
  {
   "cell_type": "code",
   "execution_count": 0,
   "metadata": {
    "application/vnd.databricks.v1+cell": {
     "cellMetadata": {
      "byteLimit": 2048000,
      "rowLimit": 10000
     },
     "inputWidgets": {},
     "nuid": "870c4783-9d2e-4c9e-9d7f-6e6a1a69d232",
     "showTitle": false,
     "tableResultSettingsMap": {},
     "title": ""
    }
   },
   "outputs": [
    {
     "output_type": "stream",
     "name": "stdout",
     "output_type": "stream",
     "text": [
      "Out[18]: DataFrame[]"
     ]
    }
   ],
   "source": [
    "spark.sql(\"\"\"\n",
    "\n",
    "DROP TABLE TaxisDB.YellowTaxis\n",
    "\n",
    "\"\"\")"
   ]
  },
  {
   "cell_type": "code",
   "execution_count": 0,
   "metadata": {
    "application/vnd.databricks.v1+cell": {
     "cellMetadata": {
      "byteLimit": 2048000,
      "rowLimit": 10000
     },
     "inputWidgets": {},
     "nuid": "31fb1b35-5516-44e0-b41a-fed5ed1d00f5",
     "showTitle": false,
     "tableResultSettingsMap": {},
     "title": ""
    }
   },
   "outputs": [
    {
     "output_type": "stream",
     "name": "stdout",
     "output_type": "stream",
     "text": [
      "Out[28]: False"
     ]
    }
   ],
   "source": [
    "dbutils.fs.rm(\"/FileStore/tables/Output/\", recurse=True)\n",
    "\n"
   ]
  },
  {
   "cell_type": "code",
   "execution_count": 0,
   "metadata": {
    "application/vnd.databricks.v1+cell": {
     "cellMetadata": {
      "byteLimit": 2048000,
      "rowLimit": 10000
     },
     "inputWidgets": {},
     "nuid": "5ee4037b-0932-4b73-b133-3174622a7fc6",
     "showTitle": false,
     "tableResultSettingsMap": {},
     "title": ""
    }
   },
   "outputs": [
    {
     "output_type": "stream",
     "name": "stdout",
     "output_type": "stream",
     "text": [
      "[FileInfo(path='dbfs:/FileStore/tables/2010_12_01-1.csv', name='2010_12_01-1.csv', size=275001, modificationTime=1729878680000),\n FileInfo(path='dbfs:/FileStore/tables/2010_12_01-2.csv', name='2010_12_01-2.csv', size=275001, modificationTime=1729932035000),\n FileInfo(path='dbfs:/FileStore/tables/2010_12_01.csv', name='2010_12_01.csv', size=275001, modificationTime=1729878505000),\n FileInfo(path='dbfs:/FileStore/tables/Cabs.csv', name='Cabs.csv', size=1365691, modificationTime=1730487220000),\n FileInfo(path='dbfs:/FileStore/tables/CacheTest_EnabledAndCached.csv/', name='CacheTest_EnabledAndCached.csv/', size=0, modificationTime=0),\n FileInfo(path='dbfs:/FileStore/tables/CacheTest_EnabledFirstTime.csv/', name='CacheTest_EnabledFirstTime.csv/', size=0, modificationTime=0),\n FileInfo(path='dbfs:/FileStore/tables/CacheTest_WithoutEnabling.csv/', name='CacheTest_WithoutEnabling.csv/', size=0, modificationTime=0),\n FileInfo(path='dbfs:/FileStore/tables/Drivers.csv', name='Drivers.csv', size=11061205, modificationTime=1730487592000),\n FileInfo(path='dbfs:/FileStore/tables/GreenTaxis_202210.csv', name='GreenTaxis_202210.csv', size=8747800, modificationTime=1730487440000),\n FileInfo(path='dbfs:/FileStore/tables/Output\\\\YellowTaxis.parquet/', name='Output\\\\YellowTaxis.parquet/', size=0, modificationTime=0),\n FileInfo(path='dbfs:/FileStore/tables/PaymentTypes.json', name='PaymentTypes.json', size=277, modificationTime=1730487635000),\n FileInfo(path='dbfs:/FileStore/tables/RateCodes.csv', name='RateCodes.csv', size=139, modificationTime=1730487630000),\n FileInfo(path='dbfs:/FileStore/tables/RateCodes.json', name='RateCodes.json', size=252, modificationTime=1730487604000),\n FileInfo(path='dbfs:/FileStore/tables/TaxiBases.json', name='TaxiBases.json', size=464836, modificationTime=1730487625000),\n FileInfo(path='dbfs:/FileStore/tables/TaxiZones.csv', name='TaxiZones.csv', size=10686, modificationTime=1730487598000),\n FileInfo(path='dbfs:/FileStore/tables/YellowTaxis_202210.csv', name='YellowTaxis_202210.csv', size=462328966, modificationTime=1730489401000),\n FileInfo(path='dbfs:/FileStore/tables/YellowTaxis_append.csv', name='YellowTaxis_append.csv', size=645, modificationTime=1730487159000),\n FileInfo(path='dbfs:/FileStore/tables/YellowTaxis_changes.csv', name='YellowTaxis_changes.csv', size=770, modificationTime=1730487154000)]"
     ]
    }
   ],
   "source": [
    "display(dbutils.fs.ls(\"/FileStore/tables/\"))"
   ]
  },
  {
   "cell_type": "markdown",
   "metadata": {
    "application/vnd.databricks.v1+cell": {
     "cellMetadata": {},
     "inputWidgets": {},
     "nuid": "a7fca252-825b-472b-b1db-4ed18adafda9",
     "showTitle": false,
     "tableResultSettingsMap": {},
     "title": ""
    }
   },
   "source": [
    "### Create Table Definition\n",
    "\n",
    "Create table using DDL command, and later add the data"
   ]
  },
  {
   "cell_type": "code",
   "execution_count": 0,
   "metadata": {
    "application/vnd.databricks.v1+cell": {
     "cellMetadata": {
      "byteLimit": 2048000,
      "rowLimit": 10000
     },
     "inputWidgets": {},
     "nuid": "d5349ac2-dd2c-4d35-859f-709d2bd2dd7a",
     "showTitle": false,
     "tableResultSettingsMap": {},
     "title": ""
    }
   },
   "outputs": [
    {
     "output_type": "stream",
     "name": "stdout",
     "output_type": "stream",
     "text": [
      "Out[30]: DataFrame[]"
     ]
    }
   ],
   "source": [
    "spark.sql(\"\"\"\n",
    "\n",
    "CREATE TABLE TaxisDB.YellowTaxis\n",
    "(\n",
    "    VendorId                INT               COMMENT 'Vendor providing the ride',\n",
    "    \n",
    "    PickupTime              TIMESTAMP,\n",
    "    DropTime                TIMESTAMP,\n",
    "    \n",
    "    PickupLocationId        INT               NOT NULL,\n",
    "    DropLocationId          INT,\n",
    "    \n",
    "    PassengerCount          DOUBLE,\n",
    "    TripDistance            DOUBLE,\n",
    "    \n",
    "    RateCodeId              DOUBLE,\n",
    "    StoreAndFwdFlag         STRING,\n",
    "    PaymentType             INT,\n",
    "    \n",
    "    FareAmount              DOUBLE,\n",
    "    Extra                   DOUBLE,\n",
    "    MtaTax                  DOUBLE,\n",
    "    TipAmount               DOUBLE,\n",
    "    TollsAmount             DOUBLE,\n",
    "    ImprovementSurcharge    DOUBLE,\n",
    "    TotalAmount             DOUBLE,\n",
    "    CongestionSurcharge     DOUBLE,\n",
    "    AirportFee              DOUBLE\n",
    ")\n",
    "\n",
    "USING DELTA                  -- default is Parquet\n",
    "\n",
    "LOCATION \"/FileStore/tables/Output/YellowTaxis.delta/\"\n",
    "\n",
    "PARTITIONED BY (VendorId)    -- optional\n",
    "\n",
    "COMMENT 'This table stores ride information for Yellow Taxis'\n",
    "\n",
    "\"\"\")"
   ]
  },
  {
   "cell_type": "code",
   "execution_count": 0,
   "metadata": {
    "application/vnd.databricks.v1+cell": {
     "cellMetadata": {
      "byteLimit": 2048000,
      "rowLimit": 10000
     },
     "inputWidgets": {},
     "nuid": "153055a1-0275-4686-8317-4363ad17f9a4",
     "showTitle": false,
     "tableResultSettingsMap": {},
     "title": ""
    }
   },
   "outputs": [
    {
     "output_type": "stream",
     "name": "stdout",
     "output_type": "stream",
     "text": [
      "+----------------------------+---------------------------------------------------+-------------------------+\n|col_name                    |data_type                                          |comment                  |\n+----------------------------+---------------------------------------------------+-------------------------+\n|VendorId                    |int                                                |Vendor providing the ride|\n|PickupTime                  |timestamp                                          |null                     |\n|DropTime                    |timestamp                                          |null                     |\n|PickupLocationId            |int                                                |null                     |\n|DropLocationId              |int                                                |null                     |\n|PassengerCount              |double                                             |null                     |\n|TripDistance                |double                                             |null                     |\n|RateCodeId                  |double                                             |null                     |\n|StoreAndFwdFlag             |string                                             |null                     |\n|PaymentType                 |int                                                |null                     |\n|FareAmount                  |double                                             |null                     |\n|Extra                       |double                                             |null                     |\n|MtaTax                      |double                                             |null                     |\n|TipAmount                   |double                                             |null                     |\n|TollsAmount                 |double                                             |null                     |\n|ImprovementSurcharge        |double                                             |null                     |\n|TotalAmount                 |double                                             |null                     |\n|CongestionSurcharge         |double                                             |null                     |\n|AirportFee                  |double                                             |null                     |\n|# Partition Information     |                                                   |                         |\n|# col_name                  |data_type                                          |comment                  |\n|VendorId                    |int                                                |Vendor providing the ride|\n|                            |                                                   |                         |\n|# Detailed Table Information|                                                   |                         |\n|Catalog                     |spark_catalog                                      |                         |\n|Database                    |TaxisDB                                            |                         |\n|Table                       |YellowTaxis                                        |                         |\n|Created Time                |Fri Nov 15 21:53:57 UTC 2024                       |                         |\n|Last Access                 |UNKNOWN                                            |                         |\n|Created By                  |Spark 3.3.2                                        |                         |\n|Type                        |EXTERNAL                                           |                         |\n|Comment                     |This table stores ride information for Yellow Taxis|                         |\n|Location                    |dbfs:/FileStore/tables/Output/YellowTaxis.delta    |                         |\n|Provider                    |delta                                              |                         |\n|Owner                       |root                                               |                         |\n|Table Properties            |[delta.minReaderVersion=1,delta.minWriterVersion=2]|                         |\n+----------------------------+---------------------------------------------------+-------------------------+\n\n"
     ]
    }
   ],
   "source": [
    "spark.sql(\"\"\"\n",
    "\n",
    "DESCRIBE TABLE EXTENDED TaxisDB.YellowTaxis\n",
    "\n",
    "\"\"\").show(50, truncate=False)"
   ]
  },
  {
   "cell_type": "markdown",
   "metadata": {
    "application/vnd.databricks.v1+cell": {
     "cellMetadata": {},
     "inputWidgets": {},
     "nuid": "049f0502-0ea9-43ed-a9d8-8e4cae359be4",
     "showTitle": false,
     "tableResultSettingsMap": {},
     "title": ""
    }
   },
   "source": [
    "### Options to Add Data to Delta Table"
   ]
  },
  {
   "cell_type": "markdown",
   "metadata": {
    "application/vnd.databricks.v1+cell": {
     "cellMetadata": {},
     "inputWidgets": {},
     "nuid": "1a542f27-c997-4532-88f7-0e9cc0bc43e1",
     "showTitle": false,
     "tableResultSettingsMap": {},
     "title": ""
    }
   },
   "source": [
    "#### Option 1: Insert command\n",
    "\n",
    "Use typical SQL Insert command to add data to table"
   ]
  },
  {
   "cell_type": "code",
   "execution_count": 0,
   "metadata": {
    "application/vnd.databricks.v1+cell": {
     "cellMetadata": {
      "byteLimit": 2048000,
      "rowLimit": 10000
     },
     "inputWidgets": {},
     "nuid": "ca651284-5491-4964-977c-79a3d8063b7d",
     "showTitle": false,
     "tableResultSettingsMap": {},
     "title": ""
    }
   },
   "outputs": [
    {
     "output_type": "stream",
     "name": "stdout",
     "output_type": "stream",
     "text": [
      "Out[32]: DataFrame[num_affected_rows: bigint, num_inserted_rows: bigint]"
     ]
    }
   ],
   "source": [
    "spark.sql(\"\"\"\n",
    "\n",
    "INSERT INTO TaxisDB.YellowTaxis\n",
    "\n",
    "-- (VendorId, PickupTime, DropTime, PickupLocationId, DropLocationId, PassengerCount, TripDistance, RateCodeId, StoreAndFwdFlag, PaymentType, FareAmount, Extra, MtaTax, TipAmount, TollsAmount, ImprovementSurcharge, TotalAmount, CongestionSurcharge, AirportFee)\n",
    "\n",
    "VALUES (3, '2022-12-01T00:00:00.000Z', '2022-12-01T00:15:34.000Z', 170, 140, 1.0, 2.9, 1.0, '1', 1, 13.0, 0.5, 0.5, 1.0, 0.0, 0.3, 15.3, 0.0, 0.0)\n",
    "\n",
    "\"\"\")"
   ]
  },
  {
   "cell_type": "code",
   "execution_count": 0,
   "metadata": {
    "application/vnd.databricks.v1+cell": {
     "cellMetadata": {
      "byteLimit": 2048000,
      "rowLimit": 10000
     },
     "inputWidgets": {},
     "nuid": "a2d02a44-dd83-428f-9f8a-e5bf12912d42",
     "showTitle": false,
     "tableResultSettingsMap": {},
     "title": ""
    }
   },
   "outputs": [
    {
     "output_type": "stream",
     "name": "stdout",
     "output_type": "stream",
     "text": [
      "+--------+-------------------+-------------------+----------------+--------------+--------------+------------+----------+---------------+-----------+----------+-----+------+---------+-----------+--------------------+-----------+-------------------+----------+\n|VendorId|PickupTime         |DropTime           |PickupLocationId|DropLocationId|PassengerCount|TripDistance|RateCodeId|StoreAndFwdFlag|PaymentType|FareAmount|Extra|MtaTax|TipAmount|TollsAmount|ImprovementSurcharge|TotalAmount|CongestionSurcharge|AirportFee|\n+--------+-------------------+-------------------+----------------+--------------+--------------+------------+----------+---------------+-----------+----------+-----+------+---------+-----------+--------------------+-----------+-------------------+----------+\n|3       |2022-12-01 00:00:00|2022-12-01 00:15:34|170             |140           |1.0           |2.9         |1.0       |1              |1          |13.0      |0.5  |0.5   |1.0      |0.0        |0.3                 |15.3       |0.0                |0.0       |\n+--------+-------------------+-------------------+----------------+--------------+--------------+------------+----------+---------------+-----------+----------+-----+------+---------+-----------+--------------------+-----------+-------------------+----------+\n\n"
     ]
    }
   ],
   "source": [
    "spark.sql(\"\"\"\n",
    "\n",
    "SELECT * FROM TaxisDB.YellowTaxis\n",
    "\n",
    "\"\"\").show(truncate=False)"
   ]
  },
  {
   "cell_type": "code",
   "execution_count": 0,
   "metadata": {
    "application/vnd.databricks.v1+cell": {
     "cellMetadata": {
      "byteLimit": 2048000,
      "rowLimit": 10000
     },
     "inputWidgets": {},
     "nuid": "29a64f20-e7ab-4a5a-a6d1-1fd758118084",
     "showTitle": false,
     "tableResultSettingsMap": {},
     "title": ""
    }
   },
   "outputs": [
    {
     "output_type": "stream",
     "name": "stdout",
     "output_type": "stream",
     "text": [
      "+-------+-------------------+----------------+------------------+------------+---------------------------------------------------------------------------------------------------------------------------------------+----+-----------------+--------------------+-----------+-----------------+-------------+-----------------------------------------------------------+------------+-----------------------------------+\n|version|timestamp          |userId          |userName          |operation   |operationParameters                                                                                                                    |job |notebook         |clusterId           |readVersion|isolationLevel   |isBlindAppend|operationMetrics                                           |userMetadata|engineInfo                         |\n+-------+-------------------+----------------+------------------+------------+---------------------------------------------------------------------------------------------------------------------------------------+----+-----------------+--------------------+-----------+-----------------+-------------+-----------------------------------------------------------+------------+-----------------------------------+\n|1      |2024-11-15 21:54:16|6904895112410171|mlawande@nu.edu.eg|WRITE       |{mode -> Append, partitionBy -> []}                                                                                                    |null|{958133425625928}|1115-213231-jgi8bw2d|0          |WriteSerializable|true         |{numFiles -> 1, numOutputRows -> 1, numOutputBytes -> 5218}|null        |Databricks-Runtime/12.2.x-scala2.12|\n|0      |2024-11-15 21:53:55|6904895112410171|mlawande@nu.edu.eg|CREATE TABLE|{isManaged -> false, description -> This table stores ride information for Yellow Taxis, partitionBy -> [\"VendorId\"], properties -> {}}|null|{958133425625928}|1115-213231-jgi8bw2d|null       |WriteSerializable|true         |{}                                                         |null        |Databricks-Runtime/12.2.x-scala2.12|\n+-------+-------------------+----------------+------------------+------------+---------------------------------------------------------------------------------------------------------------------------------------+----+-----------------+--------------------+-----------+-----------------+-------------+-----------------------------------------------------------+------------+-----------------------------------+\n\n"
     ]
    }
   ],
   "source": [
    "spark.sql(\"\"\"\n",
    "\n",
    "DESCRIBE HISTORY TaxisDB.YellowTaxis\n",
    "\n",
    "\"\"\").show(truncate=False)"
   ]
  },
  {
   "cell_type": "markdown",
   "metadata": {
    "application/vnd.databricks.v1+cell": {
     "cellMetadata": {},
     "inputWidgets": {},
     "nuid": "394d341a-1610-460b-8810-74a0d1182de1",
     "showTitle": false,
     "tableResultSettingsMap": {},
     "title": ""
    }
   },
   "source": [
    "#### Option 2: Append a DataFrame\n",
    "\n",
    "Read data as a DataFrame and append to Delta Table using PySpark"
   ]
  },
  {
   "cell_type": "code",
   "execution_count": 0,
   "metadata": {
    "application/vnd.databricks.v1+cell": {
     "cellMetadata": {
      "byteLimit": 2048000,
      "rowLimit": 10000
     },
     "inputWidgets": {},
     "nuid": "4366dde3-0ae9-478a-b174-cd989598873b",
     "showTitle": false,
     "tableResultSettingsMap": {},
     "title": ""
    }
   },
   "outputs": [
    {
     "output_type": "stream",
     "name": "stdout",
     "output_type": "stream",
     "text": [
      "+--------+-------------------+-------------------+--------------+------------+----------+---------------+----------------+--------------+-----------+----------+-----+------+---------+-----------+--------------------+-----------+-------------------+----------+\n|VendorId|         PickupTime|           DropTime|PassengerCount|TripDistance|RateCodeId|StoreAndFwdFlag|PickupLocationId|DropLocationId|PaymentType|FareAmount|Extra|MtaTax|TipAmount|TollsAmount|ImprovementSurcharge|TotalAmount|CongestionSurcharge|AirportFee|\n+--------+-------------------+-------------------+--------------+------------+----------+---------------+----------------+--------------+-----------+----------+-----+------+---------+-----------+--------------------+-----------+-------------------+----------+\n|       3|2022-10-01 00:03:41|2022-10-01 00:18:39|           1.0|         1.7|       1.0|              N|             249|           107|          1|       9.5|  3.0|   0.5|     2.65|        0.0|                 0.3|      15.95|                2.5|       0.0|\n|       3|2022-10-01 00:14:30|2022-10-01 00:19:48|           2.0|        0.72|       1.0|              N|             151|           238|          2|       5.5|  0.5|   0.5|      0.0|        0.0|                 0.3|        9.3|                2.5|       0.0|\n|       3|2022-10-01 00:27:13|2022-10-01 00:37:41|           1.0|        1.74|       1.0|              N|             238|           166|          1|       9.0|  0.5|   0.5|     2.06|        0.0|                 0.3|      12.36|                0.0|       0.0|\n+--------+-------------------+-------------------+--------------+------------+----------+---------------+----------------+--------------+-----------+----------+-----+------+---------+-----------+--------------------+-----------+-------------------+----------+\n\n"
     ]
    }
   ],
   "source": [
    "# Extract new records from Storage/Data Lake\n",
    "\n",
    "yellowTaxisAppendDF = (\n",
    "                          spark\n",
    "                            .read\n",
    "                            .option(\"header\", \"true\")\n",
    "                            .schema(yellowTaxiSchema)\n",
    "                            .csv(\"/FileStore/tables/YellowTaxis_append.csv\")\n",
    "                      )\n",
    "\n",
    "yellowTaxisAppendDF.show()"
   ]
  },
  {
   "cell_type": "code",
   "execution_count": 0,
   "metadata": {
    "application/vnd.databricks.v1+cell": {
     "cellMetadata": {
      "byteLimit": 2048000,
      "rowLimit": 10000
     },
     "inputWidgets": {},
     "nuid": "1e0421f9-f197-4fd2-851e-6b9031a30bef",
     "showTitle": false,
     "tableResultSettingsMap": {},
     "title": ""
    }
   },
   "outputs": [],
   "source": [
    "# Append to data lake in delta format\n",
    "\n",
    "(\n",
    "    yellowTaxisAppendDF\n",
    "        .write\n",
    "  \n",
    "        .mode(\"append\")\n",
    "  \n",
    "        .partitionBy(\"VendorId\")  \n",
    "        .format(\"delta\")           \n",
    "        .save(\"/FileStore/tables/Output/YellowTaxis.delta\")\n",
    ")"
   ]
  },
  {
   "cell_type": "code",
   "execution_count": 0,
   "metadata": {
    "application/vnd.databricks.v1+cell": {
     "cellMetadata": {
      "byteLimit": 2048000,
      "rowLimit": 10000
     },
     "inputWidgets": {},
     "nuid": "28f6487c-8c21-43e8-bd46-ba26e18dc3ca",
     "showTitle": false,
     "tableResultSettingsMap": {},
     "title": ""
    }
   },
   "outputs": [
    {
     "output_type": "stream",
     "name": "stdout",
     "output_type": "stream",
     "text": [
      "+--------+-------------------+-------------------+----------------+--------------+--------------+------------+----------+---------------+-----------+----------+-----+------+---------+-----------+--------------------+-----------+-------------------+----------+\n|VendorId|         PickupTime|           DropTime|PickupLocationId|DropLocationId|PassengerCount|TripDistance|RateCodeId|StoreAndFwdFlag|PaymentType|FareAmount|Extra|MtaTax|TipAmount|TollsAmount|ImprovementSurcharge|TotalAmount|CongestionSurcharge|AirportFee|\n+--------+-------------------+-------------------+----------------+--------------+--------------+------------+----------+---------------+-----------+----------+-----+------+---------+-----------+--------------------+-----------+-------------------+----------+\n|       3|2022-10-01 00:03:41|2022-10-01 00:18:39|             249|           107|           1.0|         1.7|       1.0|              N|          1|       9.5|  3.0|   0.5|     2.65|        0.0|                 0.3|      15.95|                2.5|       0.0|\n|       3|2022-10-01 00:14:30|2022-10-01 00:19:48|             151|           238|           2.0|        0.72|       1.0|              N|          2|       5.5|  0.5|   0.5|      0.0|        0.0|                 0.3|        9.3|                2.5|       0.0|\n|       3|2022-10-01 00:27:13|2022-10-01 00:37:41|             238|           166|           1.0|        1.74|       1.0|              N|          1|       9.0|  0.5|   0.5|     2.06|        0.0|                 0.3|      12.36|                0.0|       0.0|\n|       3|2022-12-01 00:00:00|2022-12-01 00:15:34|             170|           140|           1.0|         2.9|       1.0|              1|          1|      13.0|  0.5|   0.5|      1.0|        0.0|                 0.3|       15.3|                0.0|       0.0|\n+--------+-------------------+-------------------+----------------+--------------+--------------+------------+----------+---------------+-----------+----------+-----+------+---------+-----------+--------------------+-----------+-------------------+----------+\n\n"
     ]
    }
   ],
   "source": [
    "spark.sql(\"\"\"\n",
    "\n",
    "SELECT * \n",
    "FROM TaxisDB.YellowTaxis\n",
    "\n",
    "\"\"\").show()"
   ]
  },
  {
   "cell_type": "code",
   "execution_count": 0,
   "metadata": {
    "application/vnd.databricks.v1+cell": {
     "cellMetadata": {
      "byteLimit": 2048000,
      "rowLimit": 10000
     },
     "inputWidgets": {},
     "nuid": "2f5d583f-3104-4c52-b788-7d0e3a4a5fb2",
     "showTitle": false,
     "tableResultSettingsMap": {},
     "title": ""
    }
   },
   "outputs": [
    {
     "output_type": "stream",
     "name": "stdout",
     "output_type": "stream",
     "text": [
      "+-------+-------------------+----------------+------------------+------------+---------------------------------------------------------------------------------------------------------------------------------------+----+-----------------+--------------------+-----------+-----------------+-------------+-----------------------------------------------------------+------------+-----------------------------------+\n|version|timestamp          |userId          |userName          |operation   |operationParameters                                                                                                                    |job |notebook         |clusterId           |readVersion|isolationLevel   |isBlindAppend|operationMetrics                                           |userMetadata|engineInfo                         |\n+-------+-------------------+----------------+------------------+------------+---------------------------------------------------------------------------------------------------------------------------------------+----+-----------------+--------------------+-----------+-----------------+-------------+-----------------------------------------------------------+------------+-----------------------------------+\n|2      |2024-11-15 21:54:45|6904895112410171|mlawande@nu.edu.eg|WRITE       |{mode -> Append, partitionBy -> [\"VendorId\"]}                                                                                          |null|{958133425625928}|1115-213231-jgi8bw2d|1          |WriteSerializable|true         |{numFiles -> 1, numOutputRows -> 3, numOutputBytes -> 5591}|null        |Databricks-Runtime/12.2.x-scala2.12|\n|1      |2024-11-15 21:54:16|6904895112410171|mlawande@nu.edu.eg|WRITE       |{mode -> Append, partitionBy -> []}                                                                                                    |null|{958133425625928}|1115-213231-jgi8bw2d|0          |WriteSerializable|true         |{numFiles -> 1, numOutputRows -> 1, numOutputBytes -> 5218}|null        |Databricks-Runtime/12.2.x-scala2.12|\n|0      |2024-11-15 21:53:55|6904895112410171|mlawande@nu.edu.eg|CREATE TABLE|{isManaged -> false, description -> This table stores ride information for Yellow Taxis, partitionBy -> [\"VendorId\"], properties -> {}}|null|{958133425625928}|1115-213231-jgi8bw2d|null       |WriteSerializable|true         |{}                                                         |null        |Databricks-Runtime/12.2.x-scala2.12|\n+-------+-------------------+----------------+------------------+------------+---------------------------------------------------------------------------------------------------------------------------------------+----+-----------------+--------------------+-----------+-----------------+-------------+-----------------------------------------------------------+------------+-----------------------------------+\n\n"
     ]
    }
   ],
   "source": [
    "spark.sql(\"\"\"\n",
    "\n",
    "DESCRIBE HISTORY TaxisDB.YellowTaxis\n",
    "\n",
    "\"\"\").show(truncate=False)"
   ]
  },
  {
   "cell_type": "code",
   "execution_count": 0,
   "metadata": {
    "application/vnd.databricks.v1+cell": {
     "cellMetadata": {
      "byteLimit": 2048000,
      "rowLimit": 10000
     },
     "inputWidgets": {},
     "nuid": "cbdc29a9-d6fb-42d4-a238-0b9d087e798e",
     "showTitle": false,
     "tableResultSettingsMap": {},
     "title": ""
    }
   },
   "outputs": [],
   "source": [
    "# Append to data lake in delta format\n",
    "(\n",
    "    yellowTaxiDF\n",
    "        .write\n",
    "  \n",
    "        .mode(\"append\")\n",
    "  \n",
    "        .partitionBy(\"VendorId\")  \n",
    "        .format(\"delta\")\n",
    "        .save(\"/FileStore/tables/Output/YellowTaxis.delta\")\n",
    ")"
   ]
  },
  {
   "cell_type": "code",
   "execution_count": 0,
   "metadata": {
    "application/vnd.databricks.v1+cell": {
     "cellMetadata": {
      "byteLimit": 2048000,
      "rowLimit": 10000
     },
     "inputWidgets": {},
     "nuid": "2bf64fc6-ada6-47cb-9066-72d697bd8211",
     "showTitle": false,
     "tableResultSettingsMap": {},
     "title": ""
    }
   },
   "outputs": [
    {
     "output_type": "stream",
     "name": "stdout",
     "output_type": "stream",
     "text": [
      "+--------+\n|count(1)|\n+--------+\n| 3675416|\n+--------+\n\n"
     ]
    }
   ],
   "source": [
    "spark.sql(\"\"\"\n",
    "\n",
    "SELECT COUNT(1)\n",
    "FROM TaxisDB.YellowTaxis\n",
    "\n",
    "\"\"\").show()"
   ]
  },
  {
   "cell_type": "markdown",
   "metadata": {
    "application/vnd.databricks.v1+cell": {
     "cellMetadata": {},
     "inputWidgets": {},
     "nuid": "3fe1af0d-d72d-4fe6-9d8b-a93df4349fc3",
     "showTitle": false,
     "tableResultSettingsMap": {},
     "title": ""
    }
   },
   "source": [
    "### Check files holding the data"
   ]
  },
  {
   "cell_type": "code",
   "execution_count": 0,
   "metadata": {
    "application/vnd.databricks.v1+cell": {
     "cellMetadata": {
      "byteLimit": 2048000,
      "rowLimit": 10000
     },
     "inputWidgets": {},
     "nuid": "933dbc77-0428-4996-a112-637ed7766616",
     "showTitle": false,
     "tableResultSettingsMap": {},
     "title": ""
    }
   },
   "outputs": [
    {
     "output_type": "stream",
     "name": "stdout",
     "output_type": "stream",
     "text": [
      "+------------------------------------------------------------------------------------------------------------------------------+--------+----------------+--------------+\n|input_file_name()                                                                                                             |VendorId|PickupLocationId|PassengerCount|\n+------------------------------------------------------------------------------------------------------------------------------+--------+----------------+--------------+\n|dbfs:/FileStore/tables/Output/YellowTaxis.delta/VendorId=3/part-00000-7f73dcb3-2345-4812-9938-5f95b3af4d03.c000.snappy.parquet|3       |249             |1.0           |\n|dbfs:/FileStore/tables/Output/YellowTaxis.delta/VendorId=3/part-00000-7f73dcb3-2345-4812-9938-5f95b3af4d03.c000.snappy.parquet|3       |151             |2.0           |\n|dbfs:/FileStore/tables/Output/YellowTaxis.delta/VendorId=3/part-00000-7f73dcb3-2345-4812-9938-5f95b3af4d03.c000.snappy.parquet|3       |238             |1.0           |\n|dbfs:/FileStore/tables/Output/YellowTaxis.delta/VendorId=3/part-00000-48c5c22b-5584-4d2a-b60c-6afafb3c1275.c000.snappy.parquet|3       |170             |1.0           |\n+------------------------------------------------------------------------------------------------------------------------------+--------+----------------+--------------+\n\n"
     ]
    }
   ],
   "source": [
    "spark.sql(\"\"\"\n",
    "\n",
    "SELECT INPUT_FILE_NAME()\n",
    "     \n",
    "     , VendorId\n",
    "     , PickupLocationId\n",
    "     , PassengerCount\n",
    "     \n",
    "FROM TaxisDB.YellowTaxis\n",
    "\n",
    "WHERE VendorId = 3\n",
    "\n",
    "\"\"\").show(truncate=False)"
   ]
  },
  {
   "cell_type": "markdown",
   "metadata": {
    "application/vnd.databricks.v1+cell": {
     "cellMetadata": {},
     "inputWidgets": {},
     "nuid": "2f30ae8d-8556-432e-b7f9-0445ae0e32e1",
     "showTitle": false,
     "tableResultSettingsMap": {},
     "title": ""
    }
   },
   "source": [
    "### UPDATE command"
   ]
  },
  {
   "cell_type": "code",
   "execution_count": 0,
   "metadata": {
    "application/vnd.databricks.v1+cell": {
     "cellMetadata": {
      "byteLimit": 2048000,
      "rowLimit": 10000
     },
     "inputWidgets": {},
     "nuid": "c8ea6f1d-65e3-4c44-8491-d2a3ab6d3e4b",
     "showTitle": false,
     "tableResultSettingsMap": {},
     "title": ""
    }
   },
   "outputs": [
    {
     "output_type": "stream",
     "name": "stdout",
     "output_type": "stream",
     "text": [
      "+--------+----------------+--------------+\n|VendorId|PickupLocationId|PassengerCount|\n+--------+----------------+--------------+\n|       3|             249|           1.0|\n+--------+----------------+--------------+\n\n"
     ]
    }
   ],
   "source": [
    "# Check passenger count\n",
    "\n",
    "spark.sql(\"\"\"\n",
    "\n",
    "SELECT VendorId\n",
    "     , PickupLocationId\n",
    "     , PassengerCount\n",
    "\n",
    "FROM TaxisDB.YellowTaxis\n",
    "\n",
    "WHERE VendorId = 3\n",
    "    AND PickupLocationId = 249\n",
    "\n",
    "\"\"\").show()"
   ]
  },
  {
   "cell_type": "code",
   "execution_count": 0,
   "metadata": {
    "application/vnd.databricks.v1+cell": {
     "cellMetadata": {
      "byteLimit": 2048000,
      "rowLimit": 10000
     },
     "inputWidgets": {},
     "nuid": "1f6840e5-f50e-4b3b-9137-f5104567618d",
     "showTitle": false,
     "tableResultSettingsMap": {},
     "title": ""
    }
   },
   "outputs": [
    {
     "output_type": "stream",
     "name": "stdout",
     "output_type": "stream",
     "text": [
      "+-----------------+\n|num_affected_rows|\n+-----------------+\n|                1|\n+-----------------+\n\n"
     ]
    }
   ],
   "source": [
    "# Run update statement to change passenger count\n",
    "\n",
    "spark.sql(\"\"\"\n",
    "\n",
    "UPDATE TaxisDB.YellowTaxis\n",
    "\n",
    "SET PassengerCount = 2\n",
    "\n",
    "WHERE VendorId = 3\n",
    "    AND PickupLocationId = 249\n",
    "\n",
    "\"\"\").show()"
   ]
  },
  {
   "cell_type": "code",
   "execution_count": 0,
   "metadata": {
    "application/vnd.databricks.v1+cell": {
     "cellMetadata": {
      "byteLimit": 2048000,
      "rowLimit": 10000
     },
     "inputWidgets": {},
     "nuid": "a8ab12c0-20a3-4b4c-9d08-e60d30077b5d",
     "showTitle": false,
     "tableResultSettingsMap": {},
     "title": ""
    }
   },
   "outputs": [
    {
     "output_type": "stream",
     "name": "stdout",
     "output_type": "stream",
     "text": [
      "+--------+----------------+--------------+\n|VendorId|PickupLocationId|PassengerCount|\n+--------+----------------+--------------+\n|       3|             249|           2.0|\n+--------+----------------+--------------+\n\n"
     ]
    }
   ],
   "source": [
    "# Check passenger count after update\n",
    "\n",
    "spark.sql(\"\"\"\n",
    "\n",
    "SELECT VendorId\n",
    "     , PickupLocationId\n",
    "     , PassengerCount\n",
    "\n",
    "FROM TaxisDB.YellowTaxis\n",
    "\n",
    "WHERE VendorId = 3\n",
    "    AND PickupLocationId = 249\n",
    "\n",
    "\"\"\").show()"
   ]
  },
  {
   "cell_type": "code",
   "execution_count": 0,
   "metadata": {
    "application/vnd.databricks.v1+cell": {
     "cellMetadata": {
      "byteLimit": 2048000,
      "rowLimit": 10000
     },
     "inputWidgets": {},
     "nuid": "bc8cc490-8d40-403d-8398-44073224a433",
     "showTitle": false,
     "tableResultSettingsMap": {},
     "title": ""
    }
   },
   "outputs": [
    {
     "output_type": "stream",
     "name": "stdout",
     "output_type": "stream",
     "text": [
      "+-------+-------------------+----------------+------------------+------------+---------------------------------------------------------------------------------------------------------------------------------------+----+-----------------+--------------------+-----------+-----------------+-------------+-----------------------------------------------------------------------------------------------------------------------------------------------------------------------------------------------------------------------------------------------------------------------------------------------+------------+-----------------------------------+\n|version|timestamp          |userId          |userName          |operation   |operationParameters                                                                                                                    |job |notebook         |clusterId           |readVersion|isolationLevel   |isBlindAppend|operationMetrics                                                                                                                                                                                                                                                                               |userMetadata|engineInfo                         |\n+-------+-------------------+----------------+------------------+------------+---------------------------------------------------------------------------------------------------------------------------------------+----+-----------------+--------------------+-----------+-----------------+-------------+-----------------------------------------------------------------------------------------------------------------------------------------------------------------------------------------------------------------------------------------------------------------------------------------------+------------+-----------------------------------+\n|4      |2024-11-15 21:56:09|6904895112410171|mlawande@nu.edu.eg|UPDATE      |{predicate -> [\"((VendorId#7885 = 3) AND (PickupLocationId#7888 = 249))\"]}                                                             |null|{958133425625928}|1115-213231-jgi8bw2d|3          |WriteSerializable|false        |{numRemovedFiles -> 1, numRemovedBytes -> 5591, numCopiedRows -> 2, numDeletionVectorsAdded -> 0, numDeletionVectorsRemoved -> 0, numAddedChangeFiles -> 0, executionTimeMs -> 2542, scanTimeMs -> 1273, numAddedFiles -> 1, numUpdatedRows -> 1, numAddedBytes -> 5591, rewriteTimeMs -> 1240}|null        |Databricks-Runtime/12.2.x-scala2.12|\n|3      |2024-11-15 21:55:58|6904895112410171|mlawande@nu.edu.eg|WRITE       |{mode -> Append, partitionBy -> [\"VendorId\"]}                                                                                          |null|{958133425625928}|1115-213231-jgi8bw2d|2          |WriteSerializable|true         |{numFiles -> 17, numOutputRows -> 3675412, numOutputBytes -> 79993408}                                                                                                                                                                                                                         |null        |Databricks-Runtime/12.2.x-scala2.12|\n|2      |2024-11-15 21:54:45|6904895112410171|mlawande@nu.edu.eg|WRITE       |{mode -> Append, partitionBy -> [\"VendorId\"]}                                                                                          |null|{958133425625928}|1115-213231-jgi8bw2d|1          |WriteSerializable|true         |{numFiles -> 1, numOutputRows -> 3, numOutputBytes -> 5591}                                                                                                                                                                                                                                    |null        |Databricks-Runtime/12.2.x-scala2.12|\n|1      |2024-11-15 21:54:16|6904895112410171|mlawande@nu.edu.eg|WRITE       |{mode -> Append, partitionBy -> []}                                                                                                    |null|{958133425625928}|1115-213231-jgi8bw2d|0          |WriteSerializable|true         |{numFiles -> 1, numOutputRows -> 1, numOutputBytes -> 5218}                                                                                                                                                                                                                                    |null        |Databricks-Runtime/12.2.x-scala2.12|\n|0      |2024-11-15 21:53:55|6904895112410171|mlawande@nu.edu.eg|CREATE TABLE|{isManaged -> false, description -> This table stores ride information for Yellow Taxis, partitionBy -> [\"VendorId\"], properties -> {}}|null|{958133425625928}|1115-213231-jgi8bw2d|null       |WriteSerializable|true         |{}                                                                                                                                                                                                                                                                                             |null        |Databricks-Runtime/12.2.x-scala2.12|\n+-------+-------------------+----------------+------------------+------------+---------------------------------------------------------------------------------------------------------------------------------------+----+-----------------+--------------------+-----------+-----------------+-------------+-----------------------------------------------------------------------------------------------------------------------------------------------------------------------------------------------------------------------------------------------------------------------------------------------+------------+-----------------------------------+\n\n"
     ]
    }
   ],
   "source": [
    "spark.sql(\"\"\"\n",
    "\n",
    "DESCRIBE HISTORY TaxisDB.YellowTaxis\n",
    "\n",
    "\"\"\").show(truncate=False)"
   ]
  },
  {
   "cell_type": "markdown",
   "metadata": {
    "application/vnd.databricks.v1+cell": {
     "cellMetadata": {},
     "inputWidgets": {},
     "nuid": "c9134769-7309-435e-a387-741ccf91b038",
     "showTitle": false,
     "tableResultSettingsMap": {},
     "title": ""
    }
   },
   "source": [
    "### DELETE command"
   ]
  },
  {
   "cell_type": "code",
   "execution_count": 0,
   "metadata": {
    "application/vnd.databricks.v1+cell": {
     "cellMetadata": {
      "byteLimit": 2048000,
      "rowLimit": 10000
     },
     "inputWidgets": {},
     "nuid": "34e71a8f-69fb-4e48-96fc-e1f31b8cf0f4",
     "showTitle": false,
     "tableResultSettingsMap": {},
     "title": ""
    }
   },
   "outputs": [
    {
     "output_type": "stream",
     "name": "stdout",
     "output_type": "stream",
     "text": [
      "+--------+----------------+--------------+\n|VendorId|PickupLocationId|PassengerCount|\n+--------+----------------+--------------+\n|       3|             151|           2.0|\n+--------+----------------+--------------+\n\n"
     ]
    }
   ],
   "source": [
    "# Check if record exist\n",
    "\n",
    "spark.sql(\"\"\"\n",
    "\n",
    "SELECT VendorId\n",
    "     , PickupLocationId\n",
    "     , PassengerCount\n",
    "\n",
    "FROM TaxisDB.YellowTaxis\n",
    "\n",
    "WHERE VendorId = 3\n",
    "    AND PickupLocationId = 151\n",
    "\n",
    "\"\"\").show()"
   ]
  },
  {
   "cell_type": "code",
   "execution_count": 0,
   "metadata": {
    "application/vnd.databricks.v1+cell": {
     "cellMetadata": {
      "byteLimit": 2048000,
      "rowLimit": 10000
     },
     "inputWidgets": {},
     "nuid": "4c91b922-4ab3-4f00-83c6-c0ff6232fe34",
     "showTitle": false,
     "tableResultSettingsMap": {},
     "title": ""
    }
   },
   "outputs": [
    {
     "output_type": "stream",
     "name": "stdout",
     "output_type": "stream",
     "text": [
      "+-----------------+\n|num_affected_rows|\n+-----------------+\n|                1|\n+-----------------+\n\n"
     ]
    }
   ],
   "source": [
    "# Delete the record\n",
    "\n",
    "spark.sql(\"\"\"\n",
    "\n",
    "DELETE FROM TaxisDB.YellowTaxis\n",
    "\n",
    "WHERE VendorId = 3\n",
    "    AND PickupLocationId = 151\n",
    "\n",
    "\"\"\").show()"
   ]
  },
  {
   "cell_type": "code",
   "execution_count": 0,
   "metadata": {
    "application/vnd.databricks.v1+cell": {
     "cellMetadata": {
      "byteLimit": 2048000,
      "rowLimit": 10000
     },
     "inputWidgets": {},
     "nuid": "7e8c594f-05fb-4426-86af-022641499d6f",
     "showTitle": false,
     "tableResultSettingsMap": {},
     "title": ""
    }
   },
   "outputs": [
    {
     "output_type": "stream",
     "name": "stdout",
     "output_type": "stream",
     "text": [
      "+--------+----------------+--------------+\n|VendorId|PickupLocationId|PassengerCount|\n+--------+----------------+--------------+\n+--------+----------------+--------------+\n\n"
     ]
    }
   ],
   "source": [
    "# Check if record exist after delete operation\n",
    "\n",
    "spark.sql(\"\"\"\n",
    "\n",
    "SELECT VendorId\n",
    "     , PickupLocationId\n",
    "     , PassengerCount\n",
    "\n",
    "FROM TaxisDB.YellowTaxis\n",
    "\n",
    "WHERE VendorId = 3\n",
    "    AND PickupLocationId = 151\n",
    "\n",
    "\"\"\").show()"
   ]
  },
  {
   "cell_type": "code",
   "execution_count": 0,
   "metadata": {
    "application/vnd.databricks.v1+cell": {
     "cellMetadata": {
      "byteLimit": 2048000,
      "rowLimit": 10000
     },
     "inputWidgets": {},
     "nuid": "18515ecd-ed84-4b16-8248-c8ea17f00ee8",
     "showTitle": false,
     "tableResultSettingsMap": {},
     "title": ""
    }
   },
   "outputs": [
    {
     "output_type": "stream",
     "name": "stdout",
     "output_type": "stream",
     "text": [
      "+-------+-------------------+----------------+------------------+------------+---------------------------------------------------------------------------------------------------------------------------------------+----+-----------------+--------------------+-----------+-----------------+-------------+-----------------------------------------------------------------------------------------------------------------------------------------------------------------------------------------------------------------------------------------------------------------------------------------------+------------+-----------------------------------+\n|version|timestamp          |userId          |userName          |operation   |operationParameters                                                                                                                    |job |notebook         |clusterId           |readVersion|isolationLevel   |isBlindAppend|operationMetrics                                                                                                                                                                                                                                                                               |userMetadata|engineInfo                         |\n+-------+-------------------+----------------+------------------+------------+---------------------------------------------------------------------------------------------------------------------------------------+----+-----------------+--------------------+-----------+-----------------+-------------+-----------------------------------------------------------------------------------------------------------------------------------------------------------------------------------------------------------------------------------------------------------------------------------------------+------------+-----------------------------------+\n|5      |2024-11-15 21:56:19|6904895112410171|mlawande@nu.edu.eg|DELETE      |{predicate -> [\"((VendorId#9191 = 3) AND (PickupLocationId#9194 = 151))\"]}                                                             |null|{958133425625928}|1115-213231-jgi8bw2d|4          |WriteSerializable|false        |{numRemovedFiles -> 1, numRemovedBytes -> 5591, numCopiedRows -> 2, numDeletionVectorsAdded -> 0, numDeletionVectorsRemoved -> 0, numAddedChangeFiles -> 0, executionTimeMs -> 2252, numDeletedRows -> 1, scanTimeMs -> 974, numAddedFiles -> 1, numAddedBytes -> 5431, rewriteTimeMs -> 1277} |null        |Databricks-Runtime/12.2.x-scala2.12|\n|4      |2024-11-15 21:56:09|6904895112410171|mlawande@nu.edu.eg|UPDATE      |{predicate -> [\"((VendorId#7885 = 3) AND (PickupLocationId#7888 = 249))\"]}                                                             |null|{958133425625928}|1115-213231-jgi8bw2d|3          |WriteSerializable|false        |{numRemovedFiles -> 1, numRemovedBytes -> 5591, numCopiedRows -> 2, numDeletionVectorsAdded -> 0, numDeletionVectorsRemoved -> 0, numAddedChangeFiles -> 0, executionTimeMs -> 2542, scanTimeMs -> 1273, numAddedFiles -> 1, numUpdatedRows -> 1, numAddedBytes -> 5591, rewriteTimeMs -> 1240}|null        |Databricks-Runtime/12.2.x-scala2.12|\n|3      |2024-11-15 21:55:58|6904895112410171|mlawande@nu.edu.eg|WRITE       |{mode -> Append, partitionBy -> [\"VendorId\"]}                                                                                          |null|{958133425625928}|1115-213231-jgi8bw2d|2          |WriteSerializable|true         |{numFiles -> 17, numOutputRows -> 3675412, numOutputBytes -> 79993408}                                                                                                                                                                                                                         |null        |Databricks-Runtime/12.2.x-scala2.12|\n|2      |2024-11-15 21:54:45|6904895112410171|mlawande@nu.edu.eg|WRITE       |{mode -> Append, partitionBy -> [\"VendorId\"]}                                                                                          |null|{958133425625928}|1115-213231-jgi8bw2d|1          |WriteSerializable|true         |{numFiles -> 1, numOutputRows -> 3, numOutputBytes -> 5591}                                                                                                                                                                                                                                    |null        |Databricks-Runtime/12.2.x-scala2.12|\n|1      |2024-11-15 21:54:16|6904895112410171|mlawande@nu.edu.eg|WRITE       |{mode -> Append, partitionBy -> []}                                                                                                    |null|{958133425625928}|1115-213231-jgi8bw2d|0          |WriteSerializable|true         |{numFiles -> 1, numOutputRows -> 1, numOutputBytes -> 5218}                                                                                                                                                                                                                                    |null        |Databricks-Runtime/12.2.x-scala2.12|\n|0      |2024-11-15 21:53:55|6904895112410171|mlawande@nu.edu.eg|CREATE TABLE|{isManaged -> false, description -> This table stores ride information for Yellow Taxis, partitionBy -> [\"VendorId\"], properties -> {}}|null|{958133425625928}|1115-213231-jgi8bw2d|null       |WriteSerializable|true         |{}                                                                                                                                                                                                                                                                                             |null        |Databricks-Runtime/12.2.x-scala2.12|\n+-------+-------------------+----------------+------------------+------------+---------------------------------------------------------------------------------------------------------------------------------------+----+-----------------+--------------------+-----------+-----------------+-------------+-----------------------------------------------------------------------------------------------------------------------------------------------------------------------------------------------------------------------------------------------------------------------------------------------+------------+-----------------------------------+\n\n"
     ]
    }
   ],
   "source": [
    "spark.sql(\"\"\"\n",
    "\n",
    "DESCRIBE HISTORY TaxisDB.YellowTaxis\n",
    "\n",
    "\"\"\").show(truncate=False)"
   ]
  },
  {
   "cell_type": "markdown",
   "metadata": {
    "application/vnd.databricks.v1+cell": {
     "cellMetadata": {},
     "inputWidgets": {},
     "nuid": "948baaa7-1868-4337-80ac-d470bcadc3f1",
     "showTitle": false,
     "tableResultSettingsMap": {},
     "title": ""
    }
   },
   "source": [
    "### MERGE command"
   ]
  },
  {
   "cell_type": "code",
   "execution_count": 0,
   "metadata": {
    "application/vnd.databricks.v1+cell": {
     "cellMetadata": {
      "byteLimit": 2048000,
      "rowLimit": 10000
     },
     "inputWidgets": {},
     "nuid": "ec3d0961-d2b9-4025-a0ae-979cd6f1e03c",
     "showTitle": false,
     "tableResultSettingsMap": {},
     "title": ""
    }
   },
   "outputs": [
    {
     "output_type": "stream",
     "name": "stdout",
     "output_type": "stream",
     "text": [
      "+--------+-------------------+-------------------+--------------+------------+----------+---------------+----------------+--------------+-----------+----------+-----+------+---------+-----------+--------------------+-----------+-------------------+----------+\n|VendorId|         PickupTime|           DropTime|PassengerCount|TripDistance|RateCodeId|StoreAndFwdFlag|PickupLocationId|DropLocationId|PaymentType|FareAmount|Extra|MtaTax|TipAmount|TollsAmount|ImprovementSurcharge|TotalAmount|CongestionSurcharge|AirportFee|\n+--------+-------------------+-------------------+--------------+------------+----------+---------------+----------------+--------------+-----------+----------+-----+------+---------+-----------+--------------------+-----------+-------------------+----------+\n|       3|2022-10-01 00:03:41|2022-10-01 00:18:39|           1.0|         1.7|       1.0|              N|             249|           107|          3|       9.5|  3.0|   0.5|     2.65|        0.0|                 0.3|      15.95|                2.5|       0.0|\n|       3|2022-10-01 00:14:30|2022-10-01 00:19:48|           2.0|        0.72|       1.0|              N|             170|           140|          3|       5.5|  0.5|   0.5|      0.0|        0.0|                 0.3|        9.3|                2.5|       0.0|\n|       3|2022-10-01 00:27:13|2022-10-01 00:37:41|           1.0|        1.74|       1.0|              N|             238|           166|          3|       9.0|  0.5|   0.5|     2.06|        0.0|                 0.3|      12.36|                0.0|       0.0|\n|       3|2022-10-01 00:35:13|2022-10-01 00:37:41|           0.0|        1.74|       1.0|              N|               1|           166|          3|       9.0|  0.5|   0.5|     2.06|        0.0|                 0.3|      12.36|                0.0|       0.0|\n+--------+-------------------+-------------------+--------------+------------+----------+---------------+----------------+--------------+-----------+----------+-----+------+---------+-----------+--------------------+-----------+-------------------+----------+\n\n"
     ]
    }
   ],
   "source": [
    "# Extract changed records from Storage/Data Lake\n",
    "\n",
    "yellowTaxiChangesDF = (\n",
    "                          spark\n",
    "                            .read\n",
    "                            .option(\"header\", \"true\")\n",
    "                            .schema(yellowTaxiSchema)\n",
    "                            .csv(\"/FileStore/tables/YellowTaxis_changes.csv\")\n",
    "                      )\n",
    "\n",
    "yellowTaxiChangesDF.show()"
   ]
  },
  {
   "cell_type": "code",
   "execution_count": 0,
   "metadata": {
    "application/vnd.databricks.v1+cell": {
     "cellMetadata": {
      "byteLimit": 2048000,
      "rowLimit": 10000
     },
     "inputWidgets": {},
     "nuid": "b01cea36-487a-461a-96a4-2dbf146930cd",
     "showTitle": false,
     "tableResultSettingsMap": {},
     "title": ""
    }
   },
   "outputs": [],
   "source": [
    "yellowTaxiChangesDF.createOrReplaceTempView(\"YellowTaxiChanges\")"
   ]
  },
  {
   "cell_type": "code",
   "execution_count": 0,
   "metadata": {
    "application/vnd.databricks.v1+cell": {
     "cellMetadata": {
      "byteLimit": 2048000,
      "rowLimit": 10000
     },
     "inputWidgets": {},
     "nuid": "b3e9c075-c8a9-4fa8-874a-1512bae23cd7",
     "showTitle": false,
     "tableResultSettingsMap": {},
     "title": ""
    }
   },
   "outputs": [
    {
     "output_type": "stream",
     "name": "stdout",
     "output_type": "stream",
     "text": [
      "+--------+-------------------+-------------------+--------------+------------+----------+---------------+----------------+--------------+-----------+----------+-----+------+---------+-----------+--------------------+-----------+-------------------+----------+\n|VendorId|         PickupTime|           DropTime|PassengerCount|TripDistance|RateCodeId|StoreAndFwdFlag|PickupLocationId|DropLocationId|PaymentType|FareAmount|Extra|MtaTax|TipAmount|TollsAmount|ImprovementSurcharge|TotalAmount|CongestionSurcharge|AirportFee|\n+--------+-------------------+-------------------+--------------+------------+----------+---------------+----------------+--------------+-----------+----------+-----+------+---------+-----------+--------------------+-----------+-------------------+----------+\n|       3|2022-10-01 00:03:41|2022-10-01 00:18:39|           1.0|         1.7|       1.0|              N|             249|           107|          3|       9.5|  3.0|   0.5|     2.65|        0.0|                 0.3|      15.95|                2.5|       0.0|\n|       3|2022-10-01 00:14:30|2022-10-01 00:19:48|           2.0|        0.72|       1.0|              N|             170|           140|          3|       5.5|  0.5|   0.5|      0.0|        0.0|                 0.3|        9.3|                2.5|       0.0|\n|       3|2022-10-01 00:27:13|2022-10-01 00:37:41|           1.0|        1.74|       1.0|              N|             238|           166|          3|       9.0|  0.5|   0.5|     2.06|        0.0|                 0.3|      12.36|                0.0|       0.0|\n|       3|2022-10-01 00:35:13|2022-10-01 00:37:41|           0.0|        1.74|       1.0|              N|               1|           166|          3|       9.0|  0.5|   0.5|     2.06|        0.0|                 0.3|      12.36|                0.0|       0.0|\n+--------+-------------------+-------------------+--------------+------------+----------+---------------+----------------+--------------+-----------+----------+-----+------+---------+-----------+--------------------+-----------+-------------------+----------+\n\n"
     ]
    }
   ],
   "source": [
    "spark.sql(\"\"\"\n",
    "\n",
    "SELECT *\n",
    "FROM YellowTaxiChanges\n",
    "\n",
    "\"\"\").show()"
   ]
  },
  {
   "cell_type": "code",
   "execution_count": 0,
   "metadata": {
    "application/vnd.databricks.v1+cell": {
     "cellMetadata": {
      "byteLimit": 2048000,
      "rowLimit": 10000
     },
     "inputWidgets": {},
     "nuid": "788547fe-0696-4c42-8cbe-bba1f4abcb34",
     "showTitle": false,
     "tableResultSettingsMap": {},
     "title": ""
    }
   },
   "outputs": [
    {
     "output_type": "stream",
     "name": "stdout",
     "output_type": "stream",
     "text": [
      "+-----------------+----------------+----------------+-----------------+\n|num_affected_rows|num_updated_rows|num_deleted_rows|num_inserted_rows|\n+-----------------+----------------+----------------+-----------------+\n|                4|               3|               0|                1|\n+-----------------+----------------+----------------+-----------------+\n\n"
     ]
    }
   ],
   "source": [
    "spark.sql(\"\"\"\n",
    "\n",
    "MERGE INTO TaxisDB.YellowTaxis tgt\n",
    "\n",
    "    USING YellowTaxiChanges    src\n",
    "\n",
    "        ON    tgt.VendorId          =  src.VendorId\n",
    "          AND tgt.PickupLocationId  =  src.PickupLocationId\n",
    "  \n",
    "-- Update row if join conditions match\n",
    "WHEN MATCHED\n",
    "      \n",
    "      THEN  \n",
    "          UPDATE SET    tgt.PaymentType = src.PaymentType   \n",
    "          \n",
    "                                                      -- Use 'UPDATE SET *' to update all columns\n",
    "\n",
    "-- Insert row if row is not present in target table\n",
    "WHEN NOT MATCHED \n",
    "      AND PickupTime >= '2022-03-01'\n",
    "\n",
    "      THEN \n",
    "          INSERT (VendorId, PickupTime, DropTime, PickupLocationId, DropLocationId, PassengerCount, TripDistance, \n",
    "                  RateCodeId, StoreAndFwdFlag, PaymentType, FareAmount, Extra, MtaTax, TipAmount, TollsAmount, \n",
    "                  ImprovementSurcharge, TotalAmount, CongestionSurcharge, AirportFee)\n",
    "          \n",
    "          VALUES (VendorId, PickupTime, DropTime, PickupLocationId, DropLocationId, PassengerCount, TripDistance,\n",
    "                  RateCodeId, StoreAndFwdFlag, PaymentType, FareAmount, Extra, MtaTax, TipAmount, TollsAmount, \n",
    "                  ImprovementSurcharge, TotalAmount, CongestionSurcharge, AirportFee)\n",
    "                                                                         \n",
    "\n",
    "\n",
    "\"\"\").show()"
   ]
  },
  {
   "cell_type": "code",
   "execution_count": 0,
   "metadata": {
    "application/vnd.databricks.v1+cell": {
     "cellMetadata": {
      "byteLimit": 2048000,
      "rowLimit": 10000
     },
     "inputWidgets": {},
     "nuid": "018bc310-5b61-417a-8f3d-482c9966f6d5",
     "showTitle": false,
     "tableResultSettingsMap": {},
     "title": ""
    }
   },
   "outputs": [
    {
     "output_type": "stream",
     "name": "stdout",
     "output_type": "stream",
     "text": [
      "+-------+-------------------+----------------+------------------+------------+-----------------------------------------------------------------------------------------------------------------------------------------------------------------------------------------------------------------------------------------------------------------------------------------------------------+----+-----------------+--------------------+-----------+-----------------+-------------+---------------------------------------------------------------------------------------------------------------------------------------------------------------------------------------------------------------------------------------------------------------------------------------------------------------------------------------------------------------------------------------------------------------------------------------------------------------------------------------------------------------------------------------------------------------------------------------------------------------------------------------------------+------------+-----------------------------------+\n|version|timestamp          |userId          |userName          |operation   |operationParameters                                                                                                                                                                                                                                                                                        |job |notebook         |clusterId           |readVersion|isolationLevel   |isBlindAppend|operationMetrics                                                                                                                                                                                                                                                                                                                                                                                                                                                                                                                                                                                                                                   |userMetadata|engineInfo                         |\n+-------+-------------------+----------------+------------------+------------+-----------------------------------------------------------------------------------------------------------------------------------------------------------------------------------------------------------------------------------------------------------------------------------------------------------+----+-----------------+--------------------+-----------+-----------------+-------------+---------------------------------------------------------------------------------------------------------------------------------------------------------------------------------------------------------------------------------------------------------------------------------------------------------------------------------------------------------------------------------------------------------------------------------------------------------------------------------------------------------------------------------------------------------------------------------------------------------------------------------------------------+------------+-----------------------------------+\n|6      |2024-11-15 21:56:53|6904895112410171|mlawande@nu.edu.eg|MERGE       |{predicate -> [\"((VendorId#10600 = VendorId#10331) AND (PickupLocationId#10603 = PickupLocationId#10338))\"], matchedPredicates -> [{\"actionType\":\"update\"}], notMatchedPredicates -> [{\"predicate\":\"(PickupTime#10332 >= 2022-03-01 00:00:00)\",\"actionType\":\"insert\"}], notMatchedBySourcePredicates -> []}|null|{958133425625928}|1115-213231-jgi8bw2d|5          |WriteSerializable|false        |{numTargetRowsCopied -> 0, numTargetRowsDeleted -> 0, numTargetFilesAdded -> 1, numTargetBytesAdded -> 5759, numTargetBytesRemoved -> 10649, numTargetDeletionVectorsAdded -> 0, numTargetRowsMatchedUpdated -> 3, executionTimeMs -> 9108, materializeSourceTimeMs -> 552, numTargetRowsInserted -> 1, numTargetRowsMatchedDeleted -> 0, scanTimeMs -> 5809, numTargetRowsUpdated -> 3, numOutputRows -> 4, numTargetDeletionVectorsRemoved -> 0, numTargetRowsNotMatchedBySourceUpdated -> 0, numTargetChangeFilesAdded -> 0, numSourceRows -> 4, numTargetFilesRemoved -> 2, numTargetRowsNotMatchedBySourceDeleted -> 0, rewriteTimeMs -> 2419}|null        |Databricks-Runtime/12.2.x-scala2.12|\n|5      |2024-11-15 21:56:19|6904895112410171|mlawande@nu.edu.eg|DELETE      |{predicate -> [\"((VendorId#9191 = 3) AND (PickupLocationId#9194 = 151))\"]}                                                                                                                                                                                                                                 |null|{958133425625928}|1115-213231-jgi8bw2d|4          |WriteSerializable|false        |{numRemovedFiles -> 1, numRemovedBytes -> 5591, numCopiedRows -> 2, numDeletionVectorsAdded -> 0, numDeletionVectorsRemoved -> 0, numAddedChangeFiles -> 0, executionTimeMs -> 2252, numDeletedRows -> 1, scanTimeMs -> 974, numAddedFiles -> 1, numAddedBytes -> 5431, rewriteTimeMs -> 1277}                                                                                                                                                                                                                                                                                                                                                     |null        |Databricks-Runtime/12.2.x-scala2.12|\n|4      |2024-11-15 21:56:09|6904895112410171|mlawande@nu.edu.eg|UPDATE      |{predicate -> [\"((VendorId#7885 = 3) AND (PickupLocationId#7888 = 249))\"]}                                                                                                                                                                                                                                 |null|{958133425625928}|1115-213231-jgi8bw2d|3          |WriteSerializable|false        |{numRemovedFiles -> 1, numRemovedBytes -> 5591, numCopiedRows -> 2, numDeletionVectorsAdded -> 0, numDeletionVectorsRemoved -> 0, numAddedChangeFiles -> 0, executionTimeMs -> 2542, scanTimeMs -> 1273, numAddedFiles -> 1, numUpdatedRows -> 1, numAddedBytes -> 5591, rewriteTimeMs -> 1240}                                                                                                                                                                                                                                                                                                                                                    |null        |Databricks-Runtime/12.2.x-scala2.12|\n|3      |2024-11-15 21:55:58|6904895112410171|mlawande@nu.edu.eg|WRITE       |{mode -> Append, partitionBy -> [\"VendorId\"]}                                                                                                                                                                                                                                                              |null|{958133425625928}|1115-213231-jgi8bw2d|2          |WriteSerializable|true         |{numFiles -> 17, numOutputRows -> 3675412, numOutputBytes -> 79993408}                                                                                                                                                                                                                                                                                                                                                                                                                                                                                                                                                                             |null        |Databricks-Runtime/12.2.x-scala2.12|\n|2      |2024-11-15 21:54:45|6904895112410171|mlawande@nu.edu.eg|WRITE       |{mode -> Append, partitionBy -> [\"VendorId\"]}                                                                                                                                                                                                                                                              |null|{958133425625928}|1115-213231-jgi8bw2d|1          |WriteSerializable|true         |{numFiles -> 1, numOutputRows -> 3, numOutputBytes -> 5591}                                                                                                                                                                                                                                                                                                                                                                                                                                                                                                                                                                                        |null        |Databricks-Runtime/12.2.x-scala2.12|\n|1      |2024-11-15 21:54:16|6904895112410171|mlawande@nu.edu.eg|WRITE       |{mode -> Append, partitionBy -> []}                                                                                                                                                                                                                                                                        |null|{958133425625928}|1115-213231-jgi8bw2d|0          |WriteSerializable|true         |{numFiles -> 1, numOutputRows -> 1, numOutputBytes -> 5218}                                                                                                                                                                                                                                                                                                                                                                                                                                                                                                                                                                                        |null        |Databricks-Runtime/12.2.x-scala2.12|\n|0      |2024-11-15 21:53:55|6904895112410171|mlawande@nu.edu.eg|CREATE TABLE|{isManaged -> false, description -> This table stores ride information for Yellow Taxis, partitionBy -> [\"VendorId\"], properties -> {}}                                                                                                                                                                    |null|{958133425625928}|1115-213231-jgi8bw2d|null       |WriteSerializable|true         |{}                                                                                                                                                                                                                                                                                                                                                                                                                                                                                                                                                                                                                                                 |null        |Databricks-Runtime/12.2.x-scala2.12|\n+-------+-------------------+----------------+------------------+------------+-----------------------------------------------------------------------------------------------------------------------------------------------------------------------------------------------------------------------------------------------------------------------------------------------------------+----+-----------------+--------------------+-----------+-----------------+-------------+---------------------------------------------------------------------------------------------------------------------------------------------------------------------------------------------------------------------------------------------------------------------------------------------------------------------------------------------------------------------------------------------------------------------------------------------------------------------------------------------------------------------------------------------------------------------------------------------------------------------------------------------------+------------+-----------------------------------+\n\n"
     ]
    }
   ],
   "source": [
    "spark.sql(\"\"\"\n",
    "\n",
    "DESCRIBE HISTORY TaxisDB.YellowTaxis\n",
    "\n",
    "\"\"\").show(truncate=False)"
   ]
  },
  {
   "cell_type": "markdown",
   "metadata": {
    "application/vnd.databricks.v1+cell": {
     "cellMetadata": {},
     "inputWidgets": {},
     "nuid": "5885ea6f-eceb-45fe-b901-bf461a06e7bb",
     "showTitle": false,
     "tableResultSettingsMap": {},
     "title": ""
    }
   },
   "source": [
    "### Constraints on Delta Table"
   ]
  },
  {
   "cell_type": "markdown",
   "metadata": {
    "application/vnd.databricks.v1+cell": {
     "cellMetadata": {},
     "inputWidgets": {},
     "nuid": "bdfc04f7-b44b-4d99-b424-46b8a25cef24",
     "showTitle": false,
     "tableResultSettingsMap": {},
     "title": ""
    }
   },
   "source": [
    "#### NOT NULL constraint\n",
    "\n",
    "Drop the constraint here which was previously created\n",
    "\n",
    "<i>- Define NOT NULL constraint on column to avoid insertion of NULL values </i> <br/>"
   ]
  },
  {
   "cell_type": "code",
   "execution_count": 0,
   "metadata": {
    "application/vnd.databricks.v1+cell": {
     "cellMetadata": {
      "byteLimit": 2048000,
      "rowLimit": 10000
     },
     "inputWidgets": {},
     "nuid": "aa878734-632b-4aca-9d5c-2a3733898215",
     "showTitle": false,
     "tableResultSettingsMap": {},
     "title": ""
    }
   },
   "outputs": [
    {
     "output_type": "stream",
     "name": "stdout",
     "output_type": "stream",
     "text": [
      "++\n||\n++\n++\n\n"
     ]
    }
   ],
   "source": [
    "spark.sql(\"\"\"\n",
    "\n",
    "ALTER TABLE TaxisDB.YellowTaxis\n",
    "\n",
    "      CHANGE COLUMN PickupLocationId DROP NOT NULL\n",
    "\n",
    "\"\"\").show()\n",
    "\n",
    "\n",
    "# ALTER TABLE TaxisDB.YellowTaxis\n",
    "#      CHANGE COLUMN PickupLocationId SET NOT NULL"
   ]
  },
  {
   "cell_type": "code",
   "execution_count": 0,
   "metadata": {
    "application/vnd.databricks.v1+cell": {
     "cellMetadata": {},
     "inputWidgets": {},
     "nuid": "5f13a6c7-45cc-4f5e-8ebf-2113f13cfe0c",
     "showTitle": false,
     "tableResultSettingsMap": {},
     "title": ""
    }
   },
   "outputs": [],
   "source": [
    "spark.sql(\"\"\"\n",
    "\n",
    "ALTER TABLE TaxisDB.YellowTaxis\n",
    "\n",
    "      CHANGE COLUMN PickupLocationId SET NOT NULL\n",
    "\n",
    "\"\"\").show()\n",
    "\n",
    "\n",
    "# ALTER TABLE TaxisDB.YellowTaxis\n",
    "#      CHANGE COLUMN PickupLocationId SET NOT NULL"
   ]
  },
  {
   "cell_type": "code",
   "execution_count": 0,
   "metadata": {
    "application/vnd.databricks.v1+cell": {
     "cellMetadata": {
      "byteLimit": 2048000,
      "rowLimit": 10000
     },
     "inputWidgets": {},
     "nuid": "0d5087aa-32bc-4ed0-9ff4-ca838952313a",
     "showTitle": false,
     "tableResultSettingsMap": {},
     "title": ""
    }
   },
   "outputs": [
    {
     "output_type": "stream",
     "name": "stdout",
     "output_type": "stream",
     "text": [
      "+-------+-------------------+----------------+------------------+-------------+-----------------------------------------------------------------------------------------------------------------------------------------------------------------------------------------------------------------------------------------------------------------------------------------------------------+----+-----------------+--------------------+-----------+-----------------+-------------+---------------------------------------------------------------------------------------------------------------------------------------------------------------------------------------------------------------------------------------------------------------------------------------------------------------------------------------------------------------------------------------------------------------------------------------------------------------------------------------------------------------------------------------------------------------------------------------------------------------------------------------------------+------------+-----------------------------------+\n|version|timestamp          |userId          |userName          |operation    |operationParameters                                                                                                                                                                                                                                                                                        |job |notebook         |clusterId           |readVersion|isolationLevel   |isBlindAppend|operationMetrics                                                                                                                                                                                                                                                                                                                                                                                                                                                                                                                                                                                                                                   |userMetadata|engineInfo                         |\n+-------+-------------------+----------------+------------------+-------------+-----------------------------------------------------------------------------------------------------------------------------------------------------------------------------------------------------------------------------------------------------------------------------------------------------------+----+-----------------+--------------------+-----------+-----------------+-------------+---------------------------------------------------------------------------------------------------------------------------------------------------------------------------------------------------------------------------------------------------------------------------------------------------------------------------------------------------------------------------------------------------------------------------------------------------------------------------------------------------------------------------------------------------------------------------------------------------------------------------------------------------+------------+-----------------------------------+\n|8      |2024-11-15 22:05:53|6904895112410171|mlawande@nu.edu.eg|CHANGE COLUMN|{column -> {\"name\":\"PickupLocationId\",\"type\":\"integer\",\"nullable\":true,\"metadata\":{}}}                                                                                                                                                                                                                     |null|{958133425625928}|1115-213231-jgi8bw2d|7          |WriteSerializable|true         |{}                                                                                                                                                                                                                                                                                                                                                                                                                                                                                                                                                                                                                                                 |null        |Databricks-Runtime/12.2.x-scala2.12|\n|7      |2024-11-15 22:05:09|6904895112410171|mlawande@nu.edu.eg|CHANGE COLUMN|{column -> {\"name\":\"PickupLocationId\",\"type\":\"integer\",\"nullable\":false,\"metadata\":{}}}                                                                                                                                                                                                                    |null|{958133425625928}|1115-213231-jgi8bw2d|6          |WriteSerializable|true         |{}                                                                                                                                                                                                                                                                                                                                                                                                                                                                                                                                                                                                                                                 |null        |Databricks-Runtime/12.2.x-scala2.12|\n|6      |2024-11-15 21:56:53|6904895112410171|mlawande@nu.edu.eg|MERGE        |{predicate -> [\"((VendorId#10600 = VendorId#10331) AND (PickupLocationId#10603 = PickupLocationId#10338))\"], matchedPredicates -> [{\"actionType\":\"update\"}], notMatchedPredicates -> [{\"predicate\":\"(PickupTime#10332 >= 2022-03-01 00:00:00)\",\"actionType\":\"insert\"}], notMatchedBySourcePredicates -> []}|null|{958133425625928}|1115-213231-jgi8bw2d|5          |WriteSerializable|false        |{numTargetRowsCopied -> 0, numTargetRowsDeleted -> 0, numTargetFilesAdded -> 1, numTargetBytesAdded -> 5759, numTargetBytesRemoved -> 10649, numTargetDeletionVectorsAdded -> 0, numTargetRowsMatchedUpdated -> 3, executionTimeMs -> 9108, materializeSourceTimeMs -> 552, numTargetRowsInserted -> 1, numTargetRowsMatchedDeleted -> 0, scanTimeMs -> 5809, numTargetRowsUpdated -> 3, numOutputRows -> 4, numTargetDeletionVectorsRemoved -> 0, numTargetRowsNotMatchedBySourceUpdated -> 0, numTargetChangeFilesAdded -> 0, numSourceRows -> 4, numTargetFilesRemoved -> 2, numTargetRowsNotMatchedBySourceDeleted -> 0, rewriteTimeMs -> 2419}|null        |Databricks-Runtime/12.2.x-scala2.12|\n|5      |2024-11-15 21:56:19|6904895112410171|mlawande@nu.edu.eg|DELETE       |{predicate -> [\"((VendorId#9191 = 3) AND (PickupLocationId#9194 = 151))\"]}                                                                                                                                                                                                                                 |null|{958133425625928}|1115-213231-jgi8bw2d|4          |WriteSerializable|false        |{numRemovedFiles -> 1, numRemovedBytes -> 5591, numCopiedRows -> 2, numDeletionVectorsAdded -> 0, numDeletionVectorsRemoved -> 0, numAddedChangeFiles -> 0, executionTimeMs -> 2252, numDeletedRows -> 1, scanTimeMs -> 974, numAddedFiles -> 1, numAddedBytes -> 5431, rewriteTimeMs -> 1277}                                                                                                                                                                                                                                                                                                                                                     |null        |Databricks-Runtime/12.2.x-scala2.12|\n|4      |2024-11-15 21:56:09|6904895112410171|mlawande@nu.edu.eg|UPDATE       |{predicate -> [\"((VendorId#7885 = 3) AND (PickupLocationId#7888 = 249))\"]}                                                                                                                                                                                                                                 |null|{958133425625928}|1115-213231-jgi8bw2d|3          |WriteSerializable|false        |{numRemovedFiles -> 1, numRemovedBytes -> 5591, numCopiedRows -> 2, numDeletionVectorsAdded -> 0, numDeletionVectorsRemoved -> 0, numAddedChangeFiles -> 0, executionTimeMs -> 2542, scanTimeMs -> 1273, numAddedFiles -> 1, numUpdatedRows -> 1, numAddedBytes -> 5591, rewriteTimeMs -> 1240}                                                                                                                                                                                                                                                                                                                                                    |null        |Databricks-Runtime/12.2.x-scala2.12|\n|3      |2024-11-15 21:55:58|6904895112410171|mlawande@nu.edu.eg|WRITE        |{mode -> Append, partitionBy -> [\"VendorId\"]}                                                                                                                                                                                                                                                              |null|{958133425625928}|1115-213231-jgi8bw2d|2          |WriteSerializable|true         |{numFiles -> 17, numOutputRows -> 3675412, numOutputBytes -> 79993408}                                                                                                                                                                                                                                                                                                                                                                                                                                                                                                                                                                             |null        |Databricks-Runtime/12.2.x-scala2.12|\n|2      |2024-11-15 21:54:45|6904895112410171|mlawande@nu.edu.eg|WRITE        |{mode -> Append, partitionBy -> [\"VendorId\"]}                                                                                                                                                                                                                                                              |null|{958133425625928}|1115-213231-jgi8bw2d|1          |WriteSerializable|true         |{numFiles -> 1, numOutputRows -> 3, numOutputBytes -> 5591}                                                                                                                                                                                                                                                                                                                                                                                                                                                                                                                                                                                        |null        |Databricks-Runtime/12.2.x-scala2.12|\n|1      |2024-11-15 21:54:16|6904895112410171|mlawande@nu.edu.eg|WRITE        |{mode -> Append, partitionBy -> []}                                                                                                                                                                                                                                                                        |null|{958133425625928}|1115-213231-jgi8bw2d|0          |WriteSerializable|true         |{numFiles -> 1, numOutputRows -> 1, numOutputBytes -> 5218}                                                                                                                                                                                                                                                                                                                                                                                                                                                                                                                                                                                        |null        |Databricks-Runtime/12.2.x-scala2.12|\n|0      |2024-11-15 21:53:55|6904895112410171|mlawande@nu.edu.eg|CREATE TABLE |{isManaged -> false, description -> This table stores ride information for Yellow Taxis, partitionBy -> [\"VendorId\"], properties -> {}}                                                                                                                                                                    |null|{958133425625928}|1115-213231-jgi8bw2d|null       |WriteSerializable|true         |{}                                                                                                                                                                                                                                                                                                                                                                                                                                                                                                                                                                                                                                                 |null        |Databricks-Runtime/12.2.x-scala2.12|\n+-------+-------------------+----------------+------------------+-------------+-----------------------------------------------------------------------------------------------------------------------------------------------------------------------------------------------------------------------------------------------------------------------------------------------------------+----+-----------------+--------------------+-----------+-----------------+-------------+---------------------------------------------------------------------------------------------------------------------------------------------------------------------------------------------------------------------------------------------------------------------------------------------------------------------------------------------------------------------------------------------------------------------------------------------------------------------------------------------------------------------------------------------------------------------------------------------------------------------------------------------------+------------+-----------------------------------+\n\n"
     ]
    }
   ],
   "source": [
    "spark.sql(\"\"\"\n",
    "\n",
    "DESCRIBE HISTORY TaxisDB.YellowTaxis\n",
    "\n",
    "\"\"\").show(truncate=False)"
   ]
  },
  {
   "cell_type": "markdown",
   "metadata": {
    "application/vnd.databricks.v1+cell": {
     "cellMetadata": {},
     "inputWidgets": {},
     "nuid": "48ac4d74-6db7-4686-9a3f-ea92c8a7b18a",
     "showTitle": false,
     "tableResultSettingsMap": {},
     "title": ""
    }
   },
   "source": [
    "#### CHECK constraint\n",
    "\n",
    "Check constraint helps to enforce certain conditions on the table"
   ]
  },
  {
   "cell_type": "code",
   "execution_count": 0,
   "metadata": {
    "application/vnd.databricks.v1+cell": {
     "cellMetadata": {
      "byteLimit": 2048000,
      "rowLimit": 10000
     },
     "inputWidgets": {},
     "nuid": "0cf1430b-171e-4019-a757-2521e536ac37",
     "showTitle": false,
     "tableResultSettingsMap": {},
     "title": ""
    }
   },
   "outputs": [
    {
     "output_type": "display_data",
     "data": {
      "text/plain": [
       "\u001B[0;31m---------------------------------------------------------------------------\u001B[0m\n",
       "\u001B[0;31mAnalysisException\u001B[0m                         Traceback (most recent call last)\n",
       "File \u001B[0;32m<command-958133425625982>:1\u001B[0m\n",
       "\u001B[0;32m----> 1\u001B[0m \u001B[43mspark\u001B[49m\u001B[38;5;241;43m.\u001B[39;49m\u001B[43msql\u001B[49m\u001B[43m(\u001B[49m\u001B[38;5;124;43m\"\"\"\u001B[39;49m\n",
       "\u001B[1;32m      2\u001B[0m \n",
       "\u001B[1;32m      3\u001B[0m \u001B[38;5;124;43mALTER TABLE TaxisDB.YellowTaxis\u001B[39;49m\n",
       "\u001B[1;32m      4\u001B[0m \n",
       "\u001B[1;32m      5\u001B[0m \u001B[38;5;124;43m    ADD CONSTRAINT PassengerCountCheck CHECK (PassengerCount <= 5)\u001B[39;49m\n",
       "\u001B[1;32m      6\u001B[0m \n",
       "\u001B[1;32m      7\u001B[0m \u001B[38;5;124;43m\"\"\"\u001B[39;49m\u001B[43m)\u001B[49m\u001B[38;5;241m.\u001B[39mshow()\n",
       "\n",
       "File \u001B[0;32m/databricks/spark/python/pyspark/instrumentation_utils.py:48\u001B[0m, in \u001B[0;36m_wrap_function.<locals>.wrapper\u001B[0;34m(*args, **kwargs)\u001B[0m\n",
       "\u001B[1;32m     46\u001B[0m start \u001B[38;5;241m=\u001B[39m time\u001B[38;5;241m.\u001B[39mperf_counter()\n",
       "\u001B[1;32m     47\u001B[0m \u001B[38;5;28;01mtry\u001B[39;00m:\n",
       "\u001B[0;32m---> 48\u001B[0m     res \u001B[38;5;241m=\u001B[39m \u001B[43mfunc\u001B[49m\u001B[43m(\u001B[49m\u001B[38;5;241;43m*\u001B[39;49m\u001B[43margs\u001B[49m\u001B[43m,\u001B[49m\u001B[43m \u001B[49m\u001B[38;5;241;43m*\u001B[39;49m\u001B[38;5;241;43m*\u001B[39;49m\u001B[43mkwargs\u001B[49m\u001B[43m)\u001B[49m\n",
       "\u001B[1;32m     49\u001B[0m     logger\u001B[38;5;241m.\u001B[39mlog_success(\n",
       "\u001B[1;32m     50\u001B[0m         module_name, class_name, function_name, time\u001B[38;5;241m.\u001B[39mperf_counter() \u001B[38;5;241m-\u001B[39m start, signature\n",
       "\u001B[1;32m     51\u001B[0m     )\n",
       "\u001B[1;32m     52\u001B[0m     \u001B[38;5;28;01mreturn\u001B[39;00m res\n",
       "\n",
       "File \u001B[0;32m/databricks/spark/python/pyspark/sql/session.py:1387\u001B[0m, in \u001B[0;36mSparkSession.sql\u001B[0;34m(self, sqlQuery, args, **kwargs)\u001B[0m\n",
       "\u001B[1;32m   1385\u001B[0m \u001B[38;5;28;01mtry\u001B[39;00m:\n",
       "\u001B[1;32m   1386\u001B[0m     litArgs \u001B[38;5;241m=\u001B[39m {k: _to_java_column(lit(v)) \u001B[38;5;28;01mfor\u001B[39;00m k, v \u001B[38;5;129;01min\u001B[39;00m (args \u001B[38;5;129;01mor\u001B[39;00m {})\u001B[38;5;241m.\u001B[39mitems()}\n",
       "\u001B[0;32m-> 1387\u001B[0m     \u001B[38;5;28;01mreturn\u001B[39;00m DataFrame(\u001B[38;5;28;43mself\u001B[39;49m\u001B[38;5;241;43m.\u001B[39;49m\u001B[43m_jsparkSession\u001B[49m\u001B[38;5;241;43m.\u001B[39;49m\u001B[43msql\u001B[49m\u001B[43m(\u001B[49m\u001B[43msqlQuery\u001B[49m\u001B[43m,\u001B[49m\u001B[43m \u001B[49m\u001B[43mlitArgs\u001B[49m\u001B[43m)\u001B[49m, \u001B[38;5;28mself\u001B[39m)\n",
       "\u001B[1;32m   1388\u001B[0m \u001B[38;5;28;01mfinally\u001B[39;00m:\n",
       "\u001B[1;32m   1389\u001B[0m     \u001B[38;5;28;01mif\u001B[39;00m \u001B[38;5;28mlen\u001B[39m(kwargs) \u001B[38;5;241m>\u001B[39m \u001B[38;5;241m0\u001B[39m:\n",
       "\n",
       "File \u001B[0;32m/databricks/spark/python/lib/py4j-0.10.9.5-src.zip/py4j/java_gateway.py:1321\u001B[0m, in \u001B[0;36mJavaMember.__call__\u001B[0;34m(self, *args)\u001B[0m\n",
       "\u001B[1;32m   1315\u001B[0m command \u001B[38;5;241m=\u001B[39m proto\u001B[38;5;241m.\u001B[39mCALL_COMMAND_NAME \u001B[38;5;241m+\u001B[39m\\\n",
       "\u001B[1;32m   1316\u001B[0m     \u001B[38;5;28mself\u001B[39m\u001B[38;5;241m.\u001B[39mcommand_header \u001B[38;5;241m+\u001B[39m\\\n",
       "\u001B[1;32m   1317\u001B[0m     args_command \u001B[38;5;241m+\u001B[39m\\\n",
       "\u001B[1;32m   1318\u001B[0m     proto\u001B[38;5;241m.\u001B[39mEND_COMMAND_PART\n",
       "\u001B[1;32m   1320\u001B[0m answer \u001B[38;5;241m=\u001B[39m \u001B[38;5;28mself\u001B[39m\u001B[38;5;241m.\u001B[39mgateway_client\u001B[38;5;241m.\u001B[39msend_command(command)\n",
       "\u001B[0;32m-> 1321\u001B[0m return_value \u001B[38;5;241m=\u001B[39m \u001B[43mget_return_value\u001B[49m\u001B[43m(\u001B[49m\n",
       "\u001B[1;32m   1322\u001B[0m \u001B[43m    \u001B[49m\u001B[43manswer\u001B[49m\u001B[43m,\u001B[49m\u001B[43m \u001B[49m\u001B[38;5;28;43mself\u001B[39;49m\u001B[38;5;241;43m.\u001B[39;49m\u001B[43mgateway_client\u001B[49m\u001B[43m,\u001B[49m\u001B[43m \u001B[49m\u001B[38;5;28;43mself\u001B[39;49m\u001B[38;5;241;43m.\u001B[39;49m\u001B[43mtarget_id\u001B[49m\u001B[43m,\u001B[49m\u001B[43m \u001B[49m\u001B[38;5;28;43mself\u001B[39;49m\u001B[38;5;241;43m.\u001B[39;49m\u001B[43mname\u001B[49m\u001B[43m)\u001B[49m\n",
       "\u001B[1;32m   1324\u001B[0m \u001B[38;5;28;01mfor\u001B[39;00m temp_arg \u001B[38;5;129;01min\u001B[39;00m temp_args:\n",
       "\u001B[1;32m   1325\u001B[0m     temp_arg\u001B[38;5;241m.\u001B[39m_detach()\n",
       "\n",
       "File \u001B[0;32m/databricks/spark/python/pyspark/errors/exceptions.py:234\u001B[0m, in \u001B[0;36mcapture_sql_exception.<locals>.deco\u001B[0;34m(*a, **kw)\u001B[0m\n",
       "\u001B[1;32m    230\u001B[0m converted \u001B[38;5;241m=\u001B[39m convert_exception(e\u001B[38;5;241m.\u001B[39mjava_exception)\n",
       "\u001B[1;32m    231\u001B[0m \u001B[38;5;28;01mif\u001B[39;00m \u001B[38;5;129;01mnot\u001B[39;00m \u001B[38;5;28misinstance\u001B[39m(converted, UnknownException):\n",
       "\u001B[1;32m    232\u001B[0m     \u001B[38;5;66;03m# Hide where the exception came from that shows a non-Pythonic\u001B[39;00m\n",
       "\u001B[1;32m    233\u001B[0m     \u001B[38;5;66;03m# JVM exception message.\u001B[39;00m\n",
       "\u001B[0;32m--> 234\u001B[0m     \u001B[38;5;28;01mraise\u001B[39;00m converted \u001B[38;5;28;01mfrom\u001B[39;00m \u001B[38;5;28mNone\u001B[39m\n",
       "\u001B[1;32m    235\u001B[0m \u001B[38;5;28;01melse\u001B[39;00m:\n",
       "\u001B[1;32m    236\u001B[0m     \u001B[38;5;28;01mraise\u001B[39;00m\n",
       "\n",
       "\u001B[0;31mAnalysisException\u001B[0m: 170881 rows in spark_catalog.taxisdb.yellowtaxis violate the new CHECK constraint (PassengerCount <= 5)"
      ]
     },
     "metadata": {
      "application/vnd.databricks.v1+output": {
       "arguments": {},
       "data": "\u001B[0;31m---------------------------------------------------------------------------\u001B[0m\n\u001B[0;31mAnalysisException\u001B[0m                         Traceback (most recent call last)\nFile \u001B[0;32m<command-958133425625982>:1\u001B[0m\n\u001B[0;32m----> 1\u001B[0m \u001B[43mspark\u001B[49m\u001B[38;5;241;43m.\u001B[39;49m\u001B[43msql\u001B[49m\u001B[43m(\u001B[49m\u001B[38;5;124;43m\"\"\"\u001B[39;49m\n\u001B[1;32m      2\u001B[0m \n\u001B[1;32m      3\u001B[0m \u001B[38;5;124;43mALTER TABLE TaxisDB.YellowTaxis\u001B[39;49m\n\u001B[1;32m      4\u001B[0m \n\u001B[1;32m      5\u001B[0m \u001B[38;5;124;43m    ADD CONSTRAINT PassengerCountCheck CHECK (PassengerCount <= 5)\u001B[39;49m\n\u001B[1;32m      6\u001B[0m \n\u001B[1;32m      7\u001B[0m \u001B[38;5;124;43m\"\"\"\u001B[39;49m\u001B[43m)\u001B[49m\u001B[38;5;241m.\u001B[39mshow()\n\nFile \u001B[0;32m/databricks/spark/python/pyspark/instrumentation_utils.py:48\u001B[0m, in \u001B[0;36m_wrap_function.<locals>.wrapper\u001B[0;34m(*args, **kwargs)\u001B[0m\n\u001B[1;32m     46\u001B[0m start \u001B[38;5;241m=\u001B[39m time\u001B[38;5;241m.\u001B[39mperf_counter()\n\u001B[1;32m     47\u001B[0m \u001B[38;5;28;01mtry\u001B[39;00m:\n\u001B[0;32m---> 48\u001B[0m     res \u001B[38;5;241m=\u001B[39m \u001B[43mfunc\u001B[49m\u001B[43m(\u001B[49m\u001B[38;5;241;43m*\u001B[39;49m\u001B[43margs\u001B[49m\u001B[43m,\u001B[49m\u001B[43m \u001B[49m\u001B[38;5;241;43m*\u001B[39;49m\u001B[38;5;241;43m*\u001B[39;49m\u001B[43mkwargs\u001B[49m\u001B[43m)\u001B[49m\n\u001B[1;32m     49\u001B[0m     logger\u001B[38;5;241m.\u001B[39mlog_success(\n\u001B[1;32m     50\u001B[0m         module_name, class_name, function_name, time\u001B[38;5;241m.\u001B[39mperf_counter() \u001B[38;5;241m-\u001B[39m start, signature\n\u001B[1;32m     51\u001B[0m     )\n\u001B[1;32m     52\u001B[0m     \u001B[38;5;28;01mreturn\u001B[39;00m res\n\nFile \u001B[0;32m/databricks/spark/python/pyspark/sql/session.py:1387\u001B[0m, in \u001B[0;36mSparkSession.sql\u001B[0;34m(self, sqlQuery, args, **kwargs)\u001B[0m\n\u001B[1;32m   1385\u001B[0m \u001B[38;5;28;01mtry\u001B[39;00m:\n\u001B[1;32m   1386\u001B[0m     litArgs \u001B[38;5;241m=\u001B[39m {k: _to_java_column(lit(v)) \u001B[38;5;28;01mfor\u001B[39;00m k, v \u001B[38;5;129;01min\u001B[39;00m (args \u001B[38;5;129;01mor\u001B[39;00m {})\u001B[38;5;241m.\u001B[39mitems()}\n\u001B[0;32m-> 1387\u001B[0m     \u001B[38;5;28;01mreturn\u001B[39;00m DataFrame(\u001B[38;5;28;43mself\u001B[39;49m\u001B[38;5;241;43m.\u001B[39;49m\u001B[43m_jsparkSession\u001B[49m\u001B[38;5;241;43m.\u001B[39;49m\u001B[43msql\u001B[49m\u001B[43m(\u001B[49m\u001B[43msqlQuery\u001B[49m\u001B[43m,\u001B[49m\u001B[43m \u001B[49m\u001B[43mlitArgs\u001B[49m\u001B[43m)\u001B[49m, \u001B[38;5;28mself\u001B[39m)\n\u001B[1;32m   1388\u001B[0m \u001B[38;5;28;01mfinally\u001B[39;00m:\n\u001B[1;32m   1389\u001B[0m     \u001B[38;5;28;01mif\u001B[39;00m \u001B[38;5;28mlen\u001B[39m(kwargs) \u001B[38;5;241m>\u001B[39m \u001B[38;5;241m0\u001B[39m:\n\nFile \u001B[0;32m/databricks/spark/python/lib/py4j-0.10.9.5-src.zip/py4j/java_gateway.py:1321\u001B[0m, in \u001B[0;36mJavaMember.__call__\u001B[0;34m(self, *args)\u001B[0m\n\u001B[1;32m   1315\u001B[0m command \u001B[38;5;241m=\u001B[39m proto\u001B[38;5;241m.\u001B[39mCALL_COMMAND_NAME \u001B[38;5;241m+\u001B[39m\\\n\u001B[1;32m   1316\u001B[0m     \u001B[38;5;28mself\u001B[39m\u001B[38;5;241m.\u001B[39mcommand_header \u001B[38;5;241m+\u001B[39m\\\n\u001B[1;32m   1317\u001B[0m     args_command \u001B[38;5;241m+\u001B[39m\\\n\u001B[1;32m   1318\u001B[0m     proto\u001B[38;5;241m.\u001B[39mEND_COMMAND_PART\n\u001B[1;32m   1320\u001B[0m answer \u001B[38;5;241m=\u001B[39m \u001B[38;5;28mself\u001B[39m\u001B[38;5;241m.\u001B[39mgateway_client\u001B[38;5;241m.\u001B[39msend_command(command)\n\u001B[0;32m-> 1321\u001B[0m return_value \u001B[38;5;241m=\u001B[39m \u001B[43mget_return_value\u001B[49m\u001B[43m(\u001B[49m\n\u001B[1;32m   1322\u001B[0m \u001B[43m    \u001B[49m\u001B[43manswer\u001B[49m\u001B[43m,\u001B[49m\u001B[43m \u001B[49m\u001B[38;5;28;43mself\u001B[39;49m\u001B[38;5;241;43m.\u001B[39;49m\u001B[43mgateway_client\u001B[49m\u001B[43m,\u001B[49m\u001B[43m \u001B[49m\u001B[38;5;28;43mself\u001B[39;49m\u001B[38;5;241;43m.\u001B[39;49m\u001B[43mtarget_id\u001B[49m\u001B[43m,\u001B[49m\u001B[43m \u001B[49m\u001B[38;5;28;43mself\u001B[39;49m\u001B[38;5;241;43m.\u001B[39;49m\u001B[43mname\u001B[49m\u001B[43m)\u001B[49m\n\u001B[1;32m   1324\u001B[0m \u001B[38;5;28;01mfor\u001B[39;00m temp_arg \u001B[38;5;129;01min\u001B[39;00m temp_args:\n\u001B[1;32m   1325\u001B[0m     temp_arg\u001B[38;5;241m.\u001B[39m_detach()\n\nFile \u001B[0;32m/databricks/spark/python/pyspark/errors/exceptions.py:234\u001B[0m, in \u001B[0;36mcapture_sql_exception.<locals>.deco\u001B[0;34m(*a, **kw)\u001B[0m\n\u001B[1;32m    230\u001B[0m converted \u001B[38;5;241m=\u001B[39m convert_exception(e\u001B[38;5;241m.\u001B[39mjava_exception)\n\u001B[1;32m    231\u001B[0m \u001B[38;5;28;01mif\u001B[39;00m \u001B[38;5;129;01mnot\u001B[39;00m \u001B[38;5;28misinstance\u001B[39m(converted, UnknownException):\n\u001B[1;32m    232\u001B[0m     \u001B[38;5;66;03m# Hide where the exception came from that shows a non-Pythonic\u001B[39;00m\n\u001B[1;32m    233\u001B[0m     \u001B[38;5;66;03m# JVM exception message.\u001B[39;00m\n\u001B[0;32m--> 234\u001B[0m     \u001B[38;5;28;01mraise\u001B[39;00m converted \u001B[38;5;28;01mfrom\u001B[39;00m \u001B[38;5;28mNone\u001B[39m\n\u001B[1;32m    235\u001B[0m \u001B[38;5;28;01melse\u001B[39;00m:\n\u001B[1;32m    236\u001B[0m     \u001B[38;5;28;01mraise\u001B[39;00m\n\n\u001B[0;31mAnalysisException\u001B[0m: 170881 rows in spark_catalog.taxisdb.yellowtaxis violate the new CHECK constraint (PassengerCount <= 5)",
       "errorSummary": "<span class='ansi-red-fg'>AnalysisException</span>: 170881 rows in spark_catalog.taxisdb.yellowtaxis violate the new CHECK constraint (PassengerCount <= 5)",
       "errorTraceType": "ansi",
       "metadata": {},
       "type": "ipynbError"
      }
     },
     "output_type": "display_data"
    }
   ],
   "source": [
    "spark.sql(\"\"\"\n",
    "\n",
    "ALTER TABLE TaxisDB.YellowTaxis\n",
    "\n",
    "    ADD CONSTRAINT PassengerCountCheck CHECK (PassengerCount <= 5)\n",
    "\n",
    "\"\"\").show()"
   ]
  },
  {
   "cell_type": "code",
   "execution_count": 0,
   "metadata": {
    "application/vnd.databricks.v1+cell": {
     "cellMetadata": {
      "byteLimit": 2048000,
      "rowLimit": 10000
     },
     "inputWidgets": {},
     "nuid": "4304e38a-6e59-49c0-a35f-57c554ce5a77",
     "showTitle": false,
     "tableResultSettingsMap": {},
     "title": ""
    }
   },
   "outputs": [
    {
     "output_type": "stream",
     "name": "stdout",
     "output_type": "stream",
     "text": [
      "Out[60]: DataFrame[]"
     ]
    }
   ],
   "source": [
    "spark.sql(\"\"\"\n",
    "\n",
    "ALTER TABLE TaxisDB.YellowTaxis\n",
    "\n",
    "    ADD CONSTRAINT PassengerCheck CHECK (PassengerCount <= 9 OR PassengerCount IS NULL)\n",
    "\n",
    "\"\"\")"
   ]
  },
  {
   "cell_type": "code",
   "execution_count": 0,
   "metadata": {
    "application/vnd.databricks.v1+cell": {
     "cellMetadata": {
      "byteLimit": 2048000,
      "rowLimit": 10000
     },
     "inputWidgets": {},
     "nuid": "7f532943-0ef4-4159-b5af-b370b4a43a3e",
     "showTitle": false,
     "tableResultSettingsMap": {},
     "title": ""
    }
   },
   "outputs": [
    {
     "output_type": "display_data",
     "data": {
      "text/plain": [
       "\u001B[0;31m---------------------------------------------------------------------------\u001B[0m\n",
       "\u001B[0;31mPy4JJavaError\u001B[0m                             Traceback (most recent call last)\n",
       "File \u001B[0;32m<command-958133425625984>:1\u001B[0m\n",
       "\u001B[0;32m----> 1\u001B[0m \u001B[43mspark\u001B[49m\u001B[38;5;241;43m.\u001B[39;49m\u001B[43msql\u001B[49m\u001B[43m(\u001B[49m\u001B[38;5;124;43m\"\"\"\u001B[39;49m\n",
       "\u001B[1;32m      2\u001B[0m \n",
       "\u001B[1;32m      3\u001B[0m \u001B[38;5;124;43mINSERT INTO TaxisDB.YellowTaxis\u001B[39;49m\n",
       "\u001B[1;32m      4\u001B[0m \n",
       "\u001B[1;32m      5\u001B[0m \u001B[38;5;124;43m--(VendorId, PickupTime, DropTime, PickupLocationId, DropLocationId, PassengerCount, TripDistance, RateCodeId, StoreAndFwdFlag, PaymentType, FareAmount, Extra, MtaTax, TipAmount, TollsAmount, ImprovementSurcharge, TotalAmount, CongestionSurcharge, AirportFee)\u001B[39;49m\n",
       "\u001B[1;32m      6\u001B[0m \n",
       "\u001B[1;32m      7\u001B[0m \u001B[38;5;124;43mVALUES (3, \u001B[39;49m\u001B[38;5;124;43m'\u001B[39;49m\u001B[38;5;124;43m2022-12-01T00:00:00.000Z\u001B[39;49m\u001B[38;5;124;43m'\u001B[39;49m\u001B[38;5;124;43m, \u001B[39;49m\u001B[38;5;124;43m'\u001B[39;49m\u001B[38;5;124;43m2022-12-01T00:15:34.000Z\u001B[39;49m\u001B[38;5;124;43m'\u001B[39;49m\u001B[38;5;124;43m, 170, 140, \u001B[39;49m\n",
       "\u001B[1;32m      8\u001B[0m \n",
       "\u001B[1;32m      9\u001B[0m \u001B[38;5;124;43m        20,  -- PassengerCount\u001B[39;49m\n",
       "\u001B[1;32m     10\u001B[0m \n",
       "\u001B[1;32m     11\u001B[0m \u001B[38;5;124;43m        2.9, 1.0, \u001B[39;49m\u001B[38;5;124;43m'\u001B[39;49m\u001B[38;5;124;43m1\u001B[39;49m\u001B[38;5;124;43m'\u001B[39;49m\u001B[38;5;124;43m, 1, 13.0, 0.5, 0.5, 1.0, 0.0, 0.3, 15.3, 0.0, 0.0)\u001B[39;49m\n",
       "\u001B[1;32m     12\u001B[0m \n",
       "\u001B[1;32m     13\u001B[0m \u001B[38;5;124;43m\"\"\"\u001B[39;49m\u001B[43m)\u001B[49m\n",
       "\n",
       "File \u001B[0;32m/databricks/spark/python/pyspark/instrumentation_utils.py:48\u001B[0m, in \u001B[0;36m_wrap_function.<locals>.wrapper\u001B[0;34m(*args, **kwargs)\u001B[0m\n",
       "\u001B[1;32m     46\u001B[0m start \u001B[38;5;241m=\u001B[39m time\u001B[38;5;241m.\u001B[39mperf_counter()\n",
       "\u001B[1;32m     47\u001B[0m \u001B[38;5;28;01mtry\u001B[39;00m:\n",
       "\u001B[0;32m---> 48\u001B[0m     res \u001B[38;5;241m=\u001B[39m \u001B[43mfunc\u001B[49m\u001B[43m(\u001B[49m\u001B[38;5;241;43m*\u001B[39;49m\u001B[43margs\u001B[49m\u001B[43m,\u001B[49m\u001B[43m \u001B[49m\u001B[38;5;241;43m*\u001B[39;49m\u001B[38;5;241;43m*\u001B[39;49m\u001B[43mkwargs\u001B[49m\u001B[43m)\u001B[49m\n",
       "\u001B[1;32m     49\u001B[0m     logger\u001B[38;5;241m.\u001B[39mlog_success(\n",
       "\u001B[1;32m     50\u001B[0m         module_name, class_name, function_name, time\u001B[38;5;241m.\u001B[39mperf_counter() \u001B[38;5;241m-\u001B[39m start, signature\n",
       "\u001B[1;32m     51\u001B[0m     )\n",
       "\u001B[1;32m     52\u001B[0m     \u001B[38;5;28;01mreturn\u001B[39;00m res\n",
       "\n",
       "File \u001B[0;32m/databricks/spark/python/pyspark/sql/session.py:1387\u001B[0m, in \u001B[0;36mSparkSession.sql\u001B[0;34m(self, sqlQuery, args, **kwargs)\u001B[0m\n",
       "\u001B[1;32m   1385\u001B[0m \u001B[38;5;28;01mtry\u001B[39;00m:\n",
       "\u001B[1;32m   1386\u001B[0m     litArgs \u001B[38;5;241m=\u001B[39m {k: _to_java_column(lit(v)) \u001B[38;5;28;01mfor\u001B[39;00m k, v \u001B[38;5;129;01min\u001B[39;00m (args \u001B[38;5;129;01mor\u001B[39;00m {})\u001B[38;5;241m.\u001B[39mitems()}\n",
       "\u001B[0;32m-> 1387\u001B[0m     \u001B[38;5;28;01mreturn\u001B[39;00m DataFrame(\u001B[38;5;28;43mself\u001B[39;49m\u001B[38;5;241;43m.\u001B[39;49m\u001B[43m_jsparkSession\u001B[49m\u001B[38;5;241;43m.\u001B[39;49m\u001B[43msql\u001B[49m\u001B[43m(\u001B[49m\u001B[43msqlQuery\u001B[49m\u001B[43m,\u001B[49m\u001B[43m \u001B[49m\u001B[43mlitArgs\u001B[49m\u001B[43m)\u001B[49m, \u001B[38;5;28mself\u001B[39m)\n",
       "\u001B[1;32m   1388\u001B[0m \u001B[38;5;28;01mfinally\u001B[39;00m:\n",
       "\u001B[1;32m   1389\u001B[0m     \u001B[38;5;28;01mif\u001B[39;00m \u001B[38;5;28mlen\u001B[39m(kwargs) \u001B[38;5;241m>\u001B[39m \u001B[38;5;241m0\u001B[39m:\n",
       "\n",
       "File \u001B[0;32m/databricks/spark/python/lib/py4j-0.10.9.5-src.zip/py4j/java_gateway.py:1321\u001B[0m, in \u001B[0;36mJavaMember.__call__\u001B[0;34m(self, *args)\u001B[0m\n",
       "\u001B[1;32m   1315\u001B[0m command \u001B[38;5;241m=\u001B[39m proto\u001B[38;5;241m.\u001B[39mCALL_COMMAND_NAME \u001B[38;5;241m+\u001B[39m\\\n",
       "\u001B[1;32m   1316\u001B[0m     \u001B[38;5;28mself\u001B[39m\u001B[38;5;241m.\u001B[39mcommand_header \u001B[38;5;241m+\u001B[39m\\\n",
       "\u001B[1;32m   1317\u001B[0m     args_command \u001B[38;5;241m+\u001B[39m\\\n",
       "\u001B[1;32m   1318\u001B[0m     proto\u001B[38;5;241m.\u001B[39mEND_COMMAND_PART\n",
       "\u001B[1;32m   1320\u001B[0m answer \u001B[38;5;241m=\u001B[39m \u001B[38;5;28mself\u001B[39m\u001B[38;5;241m.\u001B[39mgateway_client\u001B[38;5;241m.\u001B[39msend_command(command)\n",
       "\u001B[0;32m-> 1321\u001B[0m return_value \u001B[38;5;241m=\u001B[39m \u001B[43mget_return_value\u001B[49m\u001B[43m(\u001B[49m\n",
       "\u001B[1;32m   1322\u001B[0m \u001B[43m    \u001B[49m\u001B[43manswer\u001B[49m\u001B[43m,\u001B[49m\u001B[43m \u001B[49m\u001B[38;5;28;43mself\u001B[39;49m\u001B[38;5;241;43m.\u001B[39;49m\u001B[43mgateway_client\u001B[49m\u001B[43m,\u001B[49m\u001B[43m \u001B[49m\u001B[38;5;28;43mself\u001B[39;49m\u001B[38;5;241;43m.\u001B[39;49m\u001B[43mtarget_id\u001B[49m\u001B[43m,\u001B[49m\u001B[43m \u001B[49m\u001B[38;5;28;43mself\u001B[39;49m\u001B[38;5;241;43m.\u001B[39;49m\u001B[43mname\u001B[49m\u001B[43m)\u001B[49m\n",
       "\u001B[1;32m   1324\u001B[0m \u001B[38;5;28;01mfor\u001B[39;00m temp_arg \u001B[38;5;129;01min\u001B[39;00m temp_args:\n",
       "\u001B[1;32m   1325\u001B[0m     temp_arg\u001B[38;5;241m.\u001B[39m_detach()\n",
       "\n",
       "File \u001B[0;32m/databricks/spark/python/pyspark/errors/exceptions.py:228\u001B[0m, in \u001B[0;36mcapture_sql_exception.<locals>.deco\u001B[0;34m(*a, **kw)\u001B[0m\n",
       "\u001B[1;32m    226\u001B[0m \u001B[38;5;28;01mdef\u001B[39;00m \u001B[38;5;21mdeco\u001B[39m(\u001B[38;5;241m*\u001B[39ma: Any, \u001B[38;5;241m*\u001B[39m\u001B[38;5;241m*\u001B[39mkw: Any) \u001B[38;5;241m-\u001B[39m\u001B[38;5;241m>\u001B[39m Any:\n",
       "\u001B[1;32m    227\u001B[0m     \u001B[38;5;28;01mtry\u001B[39;00m:\n",
       "\u001B[0;32m--> 228\u001B[0m         \u001B[38;5;28;01mreturn\u001B[39;00m \u001B[43mf\u001B[49m\u001B[43m(\u001B[49m\u001B[38;5;241;43m*\u001B[39;49m\u001B[43ma\u001B[49m\u001B[43m,\u001B[49m\u001B[43m \u001B[49m\u001B[38;5;241;43m*\u001B[39;49m\u001B[38;5;241;43m*\u001B[39;49m\u001B[43mkw\u001B[49m\u001B[43m)\u001B[49m\n",
       "\u001B[1;32m    229\u001B[0m     \u001B[38;5;28;01mexcept\u001B[39;00m Py4JJavaError \u001B[38;5;28;01mas\u001B[39;00m e:\n",
       "\u001B[1;32m    230\u001B[0m         converted \u001B[38;5;241m=\u001B[39m convert_exception(e\u001B[38;5;241m.\u001B[39mjava_exception)\n",
       "\n",
       "File \u001B[0;32m/databricks/spark/python/lib/py4j-0.10.9.5-src.zip/py4j/protocol.py:326\u001B[0m, in \u001B[0;36mget_return_value\u001B[0;34m(answer, gateway_client, target_id, name)\u001B[0m\n",
       "\u001B[1;32m    324\u001B[0m value \u001B[38;5;241m=\u001B[39m OUTPUT_CONVERTER[\u001B[38;5;28mtype\u001B[39m](answer[\u001B[38;5;241m2\u001B[39m:], gateway_client)\n",
       "\u001B[1;32m    325\u001B[0m \u001B[38;5;28;01mif\u001B[39;00m answer[\u001B[38;5;241m1\u001B[39m] \u001B[38;5;241m==\u001B[39m REFERENCE_TYPE:\n",
       "\u001B[0;32m--> 326\u001B[0m     \u001B[38;5;28;01mraise\u001B[39;00m Py4JJavaError(\n",
       "\u001B[1;32m    327\u001B[0m         \u001B[38;5;124m\"\u001B[39m\u001B[38;5;124mAn error occurred while calling \u001B[39m\u001B[38;5;132;01m{0}\u001B[39;00m\u001B[38;5;132;01m{1}\u001B[39;00m\u001B[38;5;132;01m{2}\u001B[39;00m\u001B[38;5;124m.\u001B[39m\u001B[38;5;130;01m\\n\u001B[39;00m\u001B[38;5;124m\"\u001B[39m\u001B[38;5;241m.\u001B[39m\n",
       "\u001B[1;32m    328\u001B[0m         \u001B[38;5;28mformat\u001B[39m(target_id, \u001B[38;5;124m\"\u001B[39m\u001B[38;5;124m.\u001B[39m\u001B[38;5;124m\"\u001B[39m, name), value)\n",
       "\u001B[1;32m    329\u001B[0m \u001B[38;5;28;01melse\u001B[39;00m:\n",
       "\u001B[1;32m    330\u001B[0m     \u001B[38;5;28;01mraise\u001B[39;00m Py4JError(\n",
       "\u001B[1;32m    331\u001B[0m         \u001B[38;5;124m\"\u001B[39m\u001B[38;5;124mAn error occurred while calling \u001B[39m\u001B[38;5;132;01m{0}\u001B[39;00m\u001B[38;5;132;01m{1}\u001B[39;00m\u001B[38;5;132;01m{2}\u001B[39;00m\u001B[38;5;124m. Trace:\u001B[39m\u001B[38;5;130;01m\\n\u001B[39;00m\u001B[38;5;132;01m{3}\u001B[39;00m\u001B[38;5;130;01m\\n\u001B[39;00m\u001B[38;5;124m\"\u001B[39m\u001B[38;5;241m.\u001B[39m\n",
       "\u001B[1;32m    332\u001B[0m         \u001B[38;5;28mformat\u001B[39m(target_id, \u001B[38;5;124m\"\u001B[39m\u001B[38;5;124m.\u001B[39m\u001B[38;5;124m\"\u001B[39m, name, value))\n",
       "\n",
       "\u001B[0;31mPy4JJavaError\u001B[0m: An error occurred while calling o364.sql.\n",
       ": com.databricks.sql.transaction.tahoe.schema.DeltaInvariantViolationException: CHECK constraint passengercheck ((PassengerCount <= 9) OR (PassengerCount IS NULL)) violated by row with values:\n",
       " - PassengerCount : 20.0\n",
       "\tat com.databricks.sql.transaction.tahoe.schema.DeltaInvariantViolationException$.apply(InvariantViolationException.scala:64)\n",
       "\tat com.databricks.sql.transaction.tahoe.schema.DeltaInvariantViolationException$.apply(InvariantViolationException.scala:74)\n",
       "\tat com.databricks.sql.transaction.tahoe.schema.DeltaInvariantViolationException.apply(InvariantViolationException.scala)\n",
       "\tat org.apache.spark.sql.catalyst.expressions.GeneratedClass$SpecificUnsafeProjection.apply(Unknown Source)\n",
       "\tat com.databricks.sql.transaction.tahoe.constraints.DeltaInvariantCheckerExec.$anonfun$doExecute$3(DeltaInvariantCheckerExec.scala:82)\n",
       "\tat scala.collection.Iterator$$anon$10.next(Iterator.scala:461)\n",
       "\tat org.apache.spark.sql.execution.UnsafeExternalRowSorter.sort(UnsafeExternalRowSorter.java:241)\n",
       "\tat org.apache.spark.sql.execution.SortExec$$anon$2.sortedIterator(SortExec.scala:133)\n",
       "\tat org.apache.spark.sql.execution.SortExec$$anon$2.hasNext(SortExec.scala:147)\n",
       "\tat org.apache.spark.sql.execution.datasources.FileFormatWriter$.executeTask(FileFormatWriter.scala:470)\n",
       "\tat org.apache.spark.sql.execution.datasources.FileFormatWriter$.$anonfun$executeWrite$3(FileFormatWriter.scala:322)\n",
       "\tat org.apache.spark.scheduler.ResultTask.$anonfun$runTask$3(ResultTask.scala:75)\n",
       "\tat com.databricks.spark.util.ExecutorFrameProfiler$.record(ExecutorFrameProfiler.scala:110)\n",
       "\tat org.apache.spark.scheduler.ResultTask.$anonfun$runTask$1(ResultTask.scala:75)\n",
       "\tat com.databricks.spark.util.ExecutorFrameProfiler$.record(ExecutorFrameProfiler.scala:110)\n",
       "\tat org.apache.spark.scheduler.ResultTask.runTask(ResultTask.scala:55)\n",
       "\tat org.apache.spark.scheduler.Task.doRunTask(Task.scala:179)\n",
       "\tat org.apache.spark.scheduler.Task.$anonfun$run$5(Task.scala:142)\n",
       "\tat com.databricks.unity.EmptyHandle$.runWithAndClose(UCSHandle.scala:126)\n",
       "\tat org.apache.spark.scheduler.Task.$anonfun$run$1(Task.scala:142)\n",
       "\tat com.databricks.spark.util.ExecutorFrameProfiler$.record(ExecutorFrameProfiler.scala:110)\n",
       "\tat org.apache.spark.scheduler.Task.run(Task.scala:97)\n",
       "\tat org.apache.spark.executor.Executor$TaskRunner.$anonfun$run$13(Executor.scala:904)\n",
       "\tat org.apache.spark.util.Utils$.tryWithSafeFinally(Utils.scala:1740)\n",
       "\tat org.apache.spark.executor.Executor$TaskRunner.$anonfun$run$4(Executor.scala:907)\n",
       "\tat scala.runtime.java8.JFunction0$mcV$sp.apply(JFunction0$mcV$sp.java:23)\n",
       "\tat com.databricks.spark.util.ExecutorFrameProfiler$.record(ExecutorFrameProfiler.scala:110)\n",
       "\tat org.apache.spark.executor.Executor$TaskRunner.run(Executor.scala:761)\n",
       "\tat java.util.concurrent.ThreadPoolExecutor.runWorker(ThreadPoolExecutor.java:1149)\n",
       "\tat java.util.concurrent.ThreadPoolExecutor$Worker.run(ThreadPoolExecutor.java:624)\n",
       "\tat java.lang.Thread.run(Thread.java:750)\n"
      ]
     },
     "metadata": {
      "application/vnd.databricks.v1+output": {
       "arguments": {},
       "data": "\u001B[0;31m---------------------------------------------------------------------------\u001B[0m\n\u001B[0;31mPy4JJavaError\u001B[0m                             Traceback (most recent call last)\nFile \u001B[0;32m<command-958133425625984>:1\u001B[0m\n\u001B[0;32m----> 1\u001B[0m \u001B[43mspark\u001B[49m\u001B[38;5;241;43m.\u001B[39;49m\u001B[43msql\u001B[49m\u001B[43m(\u001B[49m\u001B[38;5;124;43m\"\"\"\u001B[39;49m\n\u001B[1;32m      2\u001B[0m \n\u001B[1;32m      3\u001B[0m \u001B[38;5;124;43mINSERT INTO TaxisDB.YellowTaxis\u001B[39;49m\n\u001B[1;32m      4\u001B[0m \n\u001B[1;32m      5\u001B[0m \u001B[38;5;124;43m--(VendorId, PickupTime, DropTime, PickupLocationId, DropLocationId, PassengerCount, TripDistance, RateCodeId, StoreAndFwdFlag, PaymentType, FareAmount, Extra, MtaTax, TipAmount, TollsAmount, ImprovementSurcharge, TotalAmount, CongestionSurcharge, AirportFee)\u001B[39;49m\n\u001B[1;32m      6\u001B[0m \n\u001B[1;32m      7\u001B[0m \u001B[38;5;124;43mVALUES (3, \u001B[39;49m\u001B[38;5;124;43m'\u001B[39;49m\u001B[38;5;124;43m2022-12-01T00:00:00.000Z\u001B[39;49m\u001B[38;5;124;43m'\u001B[39;49m\u001B[38;5;124;43m, \u001B[39;49m\u001B[38;5;124;43m'\u001B[39;49m\u001B[38;5;124;43m2022-12-01T00:15:34.000Z\u001B[39;49m\u001B[38;5;124;43m'\u001B[39;49m\u001B[38;5;124;43m, 170, 140, \u001B[39;49m\n\u001B[1;32m      8\u001B[0m \n\u001B[1;32m      9\u001B[0m \u001B[38;5;124;43m        20,  -- PassengerCount\u001B[39;49m\n\u001B[1;32m     10\u001B[0m \n\u001B[1;32m     11\u001B[0m \u001B[38;5;124;43m        2.9, 1.0, \u001B[39;49m\u001B[38;5;124;43m'\u001B[39;49m\u001B[38;5;124;43m1\u001B[39;49m\u001B[38;5;124;43m'\u001B[39;49m\u001B[38;5;124;43m, 1, 13.0, 0.5, 0.5, 1.0, 0.0, 0.3, 15.3, 0.0, 0.0)\u001B[39;49m\n\u001B[1;32m     12\u001B[0m \n\u001B[1;32m     13\u001B[0m \u001B[38;5;124;43m\"\"\"\u001B[39;49m\u001B[43m)\u001B[49m\n\nFile \u001B[0;32m/databricks/spark/python/pyspark/instrumentation_utils.py:48\u001B[0m, in \u001B[0;36m_wrap_function.<locals>.wrapper\u001B[0;34m(*args, **kwargs)\u001B[0m\n\u001B[1;32m     46\u001B[0m start \u001B[38;5;241m=\u001B[39m time\u001B[38;5;241m.\u001B[39mperf_counter()\n\u001B[1;32m     47\u001B[0m \u001B[38;5;28;01mtry\u001B[39;00m:\n\u001B[0;32m---> 48\u001B[0m     res \u001B[38;5;241m=\u001B[39m \u001B[43mfunc\u001B[49m\u001B[43m(\u001B[49m\u001B[38;5;241;43m*\u001B[39;49m\u001B[43margs\u001B[49m\u001B[43m,\u001B[49m\u001B[43m \u001B[49m\u001B[38;5;241;43m*\u001B[39;49m\u001B[38;5;241;43m*\u001B[39;49m\u001B[43mkwargs\u001B[49m\u001B[43m)\u001B[49m\n\u001B[1;32m     49\u001B[0m     logger\u001B[38;5;241m.\u001B[39mlog_success(\n\u001B[1;32m     50\u001B[0m         module_name, class_name, function_name, time\u001B[38;5;241m.\u001B[39mperf_counter() \u001B[38;5;241m-\u001B[39m start, signature\n\u001B[1;32m     51\u001B[0m     )\n\u001B[1;32m     52\u001B[0m     \u001B[38;5;28;01mreturn\u001B[39;00m res\n\nFile \u001B[0;32m/databricks/spark/python/pyspark/sql/session.py:1387\u001B[0m, in \u001B[0;36mSparkSession.sql\u001B[0;34m(self, sqlQuery, args, **kwargs)\u001B[0m\n\u001B[1;32m   1385\u001B[0m \u001B[38;5;28;01mtry\u001B[39;00m:\n\u001B[1;32m   1386\u001B[0m     litArgs \u001B[38;5;241m=\u001B[39m {k: _to_java_column(lit(v)) \u001B[38;5;28;01mfor\u001B[39;00m k, v \u001B[38;5;129;01min\u001B[39;00m (args \u001B[38;5;129;01mor\u001B[39;00m {})\u001B[38;5;241m.\u001B[39mitems()}\n\u001B[0;32m-> 1387\u001B[0m     \u001B[38;5;28;01mreturn\u001B[39;00m DataFrame(\u001B[38;5;28;43mself\u001B[39;49m\u001B[38;5;241;43m.\u001B[39;49m\u001B[43m_jsparkSession\u001B[49m\u001B[38;5;241;43m.\u001B[39;49m\u001B[43msql\u001B[49m\u001B[43m(\u001B[49m\u001B[43msqlQuery\u001B[49m\u001B[43m,\u001B[49m\u001B[43m \u001B[49m\u001B[43mlitArgs\u001B[49m\u001B[43m)\u001B[49m, \u001B[38;5;28mself\u001B[39m)\n\u001B[1;32m   1388\u001B[0m \u001B[38;5;28;01mfinally\u001B[39;00m:\n\u001B[1;32m   1389\u001B[0m     \u001B[38;5;28;01mif\u001B[39;00m \u001B[38;5;28mlen\u001B[39m(kwargs) \u001B[38;5;241m>\u001B[39m \u001B[38;5;241m0\u001B[39m:\n\nFile \u001B[0;32m/databricks/spark/python/lib/py4j-0.10.9.5-src.zip/py4j/java_gateway.py:1321\u001B[0m, in \u001B[0;36mJavaMember.__call__\u001B[0;34m(self, *args)\u001B[0m\n\u001B[1;32m   1315\u001B[0m command \u001B[38;5;241m=\u001B[39m proto\u001B[38;5;241m.\u001B[39mCALL_COMMAND_NAME \u001B[38;5;241m+\u001B[39m\\\n\u001B[1;32m   1316\u001B[0m     \u001B[38;5;28mself\u001B[39m\u001B[38;5;241m.\u001B[39mcommand_header \u001B[38;5;241m+\u001B[39m\\\n\u001B[1;32m   1317\u001B[0m     args_command \u001B[38;5;241m+\u001B[39m\\\n\u001B[1;32m   1318\u001B[0m     proto\u001B[38;5;241m.\u001B[39mEND_COMMAND_PART\n\u001B[1;32m   1320\u001B[0m answer \u001B[38;5;241m=\u001B[39m \u001B[38;5;28mself\u001B[39m\u001B[38;5;241m.\u001B[39mgateway_client\u001B[38;5;241m.\u001B[39msend_command(command)\n\u001B[0;32m-> 1321\u001B[0m return_value \u001B[38;5;241m=\u001B[39m \u001B[43mget_return_value\u001B[49m\u001B[43m(\u001B[49m\n\u001B[1;32m   1322\u001B[0m \u001B[43m    \u001B[49m\u001B[43manswer\u001B[49m\u001B[43m,\u001B[49m\u001B[43m \u001B[49m\u001B[38;5;28;43mself\u001B[39;49m\u001B[38;5;241;43m.\u001B[39;49m\u001B[43mgateway_client\u001B[49m\u001B[43m,\u001B[49m\u001B[43m \u001B[49m\u001B[38;5;28;43mself\u001B[39;49m\u001B[38;5;241;43m.\u001B[39;49m\u001B[43mtarget_id\u001B[49m\u001B[43m,\u001B[49m\u001B[43m \u001B[49m\u001B[38;5;28;43mself\u001B[39;49m\u001B[38;5;241;43m.\u001B[39;49m\u001B[43mname\u001B[49m\u001B[43m)\u001B[49m\n\u001B[1;32m   1324\u001B[0m \u001B[38;5;28;01mfor\u001B[39;00m temp_arg \u001B[38;5;129;01min\u001B[39;00m temp_args:\n\u001B[1;32m   1325\u001B[0m     temp_arg\u001B[38;5;241m.\u001B[39m_detach()\n\nFile \u001B[0;32m/databricks/spark/python/pyspark/errors/exceptions.py:228\u001B[0m, in \u001B[0;36mcapture_sql_exception.<locals>.deco\u001B[0;34m(*a, **kw)\u001B[0m\n\u001B[1;32m    226\u001B[0m \u001B[38;5;28;01mdef\u001B[39;00m \u001B[38;5;21mdeco\u001B[39m(\u001B[38;5;241m*\u001B[39ma: Any, \u001B[38;5;241m*\u001B[39m\u001B[38;5;241m*\u001B[39mkw: Any) \u001B[38;5;241m-\u001B[39m\u001B[38;5;241m>\u001B[39m Any:\n\u001B[1;32m    227\u001B[0m     \u001B[38;5;28;01mtry\u001B[39;00m:\n\u001B[0;32m--> 228\u001B[0m         \u001B[38;5;28;01mreturn\u001B[39;00m \u001B[43mf\u001B[49m\u001B[43m(\u001B[49m\u001B[38;5;241;43m*\u001B[39;49m\u001B[43ma\u001B[49m\u001B[43m,\u001B[49m\u001B[43m \u001B[49m\u001B[38;5;241;43m*\u001B[39;49m\u001B[38;5;241;43m*\u001B[39;49m\u001B[43mkw\u001B[49m\u001B[43m)\u001B[49m\n\u001B[1;32m    229\u001B[0m     \u001B[38;5;28;01mexcept\u001B[39;00m Py4JJavaError \u001B[38;5;28;01mas\u001B[39;00m e:\n\u001B[1;32m    230\u001B[0m         converted \u001B[38;5;241m=\u001B[39m convert_exception(e\u001B[38;5;241m.\u001B[39mjava_exception)\n\nFile \u001B[0;32m/databricks/spark/python/lib/py4j-0.10.9.5-src.zip/py4j/protocol.py:326\u001B[0m, in \u001B[0;36mget_return_value\u001B[0;34m(answer, gateway_client, target_id, name)\u001B[0m\n\u001B[1;32m    324\u001B[0m value \u001B[38;5;241m=\u001B[39m OUTPUT_CONVERTER[\u001B[38;5;28mtype\u001B[39m](answer[\u001B[38;5;241m2\u001B[39m:], gateway_client)\n\u001B[1;32m    325\u001B[0m \u001B[38;5;28;01mif\u001B[39;00m answer[\u001B[38;5;241m1\u001B[39m] \u001B[38;5;241m==\u001B[39m REFERENCE_TYPE:\n\u001B[0;32m--> 326\u001B[0m     \u001B[38;5;28;01mraise\u001B[39;00m Py4JJavaError(\n\u001B[1;32m    327\u001B[0m         \u001B[38;5;124m\"\u001B[39m\u001B[38;5;124mAn error occurred while calling \u001B[39m\u001B[38;5;132;01m{0}\u001B[39;00m\u001B[38;5;132;01m{1}\u001B[39;00m\u001B[38;5;132;01m{2}\u001B[39;00m\u001B[38;5;124m.\u001B[39m\u001B[38;5;130;01m\\n\u001B[39;00m\u001B[38;5;124m\"\u001B[39m\u001B[38;5;241m.\u001B[39m\n\u001B[1;32m    328\u001B[0m         \u001B[38;5;28mformat\u001B[39m(target_id, \u001B[38;5;124m\"\u001B[39m\u001B[38;5;124m.\u001B[39m\u001B[38;5;124m\"\u001B[39m, name), value)\n\u001B[1;32m    329\u001B[0m \u001B[38;5;28;01melse\u001B[39;00m:\n\u001B[1;32m    330\u001B[0m     \u001B[38;5;28;01mraise\u001B[39;00m Py4JError(\n\u001B[1;32m    331\u001B[0m         \u001B[38;5;124m\"\u001B[39m\u001B[38;5;124mAn error occurred while calling \u001B[39m\u001B[38;5;132;01m{0}\u001B[39;00m\u001B[38;5;132;01m{1}\u001B[39;00m\u001B[38;5;132;01m{2}\u001B[39;00m\u001B[38;5;124m. Trace:\u001B[39m\u001B[38;5;130;01m\\n\u001B[39;00m\u001B[38;5;132;01m{3}\u001B[39;00m\u001B[38;5;130;01m\\n\u001B[39;00m\u001B[38;5;124m\"\u001B[39m\u001B[38;5;241m.\u001B[39m\n\u001B[1;32m    332\u001B[0m         \u001B[38;5;28mformat\u001B[39m(target_id, \u001B[38;5;124m\"\u001B[39m\u001B[38;5;124m.\u001B[39m\u001B[38;5;124m\"\u001B[39m, name, value))\n\n\u001B[0;31mPy4JJavaError\u001B[0m: An error occurred while calling o364.sql.\n: com.databricks.sql.transaction.tahoe.schema.DeltaInvariantViolationException: CHECK constraint passengercheck ((PassengerCount <= 9) OR (PassengerCount IS NULL)) violated by row with values:\n - PassengerCount : 20.0\n\tat com.databricks.sql.transaction.tahoe.schema.DeltaInvariantViolationException$.apply(InvariantViolationException.scala:64)\n\tat com.databricks.sql.transaction.tahoe.schema.DeltaInvariantViolationException$.apply(InvariantViolationException.scala:74)\n\tat com.databricks.sql.transaction.tahoe.schema.DeltaInvariantViolationException.apply(InvariantViolationException.scala)\n\tat org.apache.spark.sql.catalyst.expressions.GeneratedClass$SpecificUnsafeProjection.apply(Unknown Source)\n\tat com.databricks.sql.transaction.tahoe.constraints.DeltaInvariantCheckerExec.$anonfun$doExecute$3(DeltaInvariantCheckerExec.scala:82)\n\tat scala.collection.Iterator$$anon$10.next(Iterator.scala:461)\n\tat org.apache.spark.sql.execution.UnsafeExternalRowSorter.sort(UnsafeExternalRowSorter.java:241)\n\tat org.apache.spark.sql.execution.SortExec$$anon$2.sortedIterator(SortExec.scala:133)\n\tat org.apache.spark.sql.execution.SortExec$$anon$2.hasNext(SortExec.scala:147)\n\tat org.apache.spark.sql.execution.datasources.FileFormatWriter$.executeTask(FileFormatWriter.scala:470)\n\tat org.apache.spark.sql.execution.datasources.FileFormatWriter$.$anonfun$executeWrite$3(FileFormatWriter.scala:322)\n\tat org.apache.spark.scheduler.ResultTask.$anonfun$runTask$3(ResultTask.scala:75)\n\tat com.databricks.spark.util.ExecutorFrameProfiler$.record(ExecutorFrameProfiler.scala:110)\n\tat org.apache.spark.scheduler.ResultTask.$anonfun$runTask$1(ResultTask.scala:75)\n\tat com.databricks.spark.util.ExecutorFrameProfiler$.record(ExecutorFrameProfiler.scala:110)\n\tat org.apache.spark.scheduler.ResultTask.runTask(ResultTask.scala:55)\n\tat org.apache.spark.scheduler.Task.doRunTask(Task.scala:179)\n\tat org.apache.spark.scheduler.Task.$anonfun$run$5(Task.scala:142)\n\tat com.databricks.unity.EmptyHandle$.runWithAndClose(UCSHandle.scala:126)\n\tat org.apache.spark.scheduler.Task.$anonfun$run$1(Task.scala:142)\n\tat com.databricks.spark.util.ExecutorFrameProfiler$.record(ExecutorFrameProfiler.scala:110)\n\tat org.apache.spark.scheduler.Task.run(Task.scala:97)\n\tat org.apache.spark.executor.Executor$TaskRunner.$anonfun$run$13(Executor.scala:904)\n\tat org.apache.spark.util.Utils$.tryWithSafeFinally(Utils.scala:1740)\n\tat org.apache.spark.executor.Executor$TaskRunner.$anonfun$run$4(Executor.scala:907)\n\tat scala.runtime.java8.JFunction0$mcV$sp.apply(JFunction0$mcV$sp.java:23)\n\tat com.databricks.spark.util.ExecutorFrameProfiler$.record(ExecutorFrameProfiler.scala:110)\n\tat org.apache.spark.executor.Executor$TaskRunner.run(Executor.scala:761)\n\tat java.util.concurrent.ThreadPoolExecutor.runWorker(ThreadPoolExecutor.java:1149)\n\tat java.util.concurrent.ThreadPoolExecutor$Worker.run(ThreadPoolExecutor.java:624)\n\tat java.lang.Thread.run(Thread.java:750)\n",
       "errorSummary": "com.databricks.sql.transaction.tahoe.schema.DeltaInvariantViolationException: CHECK constraint passengercheck ((PassengerCount <= 9) OR (PassengerCount IS NULL)) violated by row with values:",
       "errorTraceType": "ansi",
       "metadata": {},
       "type": "ipynbError"
      }
     },
     "output_type": "display_data"
    }
   ],
   "source": [
    "spark.sql(\"\"\"\n",
    "\n",
    "INSERT INTO TaxisDB.YellowTaxis\n",
    "\n",
    "--(VendorId, PickupTime, DropTime, PickupLocationId, DropLocationId, PassengerCount, TripDistance, RateCodeId, StoreAndFwdFlag, PaymentType, FareAmount, Extra, MtaTax, TipAmount, TollsAmount, ImprovementSurcharge, TotalAmount, CongestionSurcharge, AirportFee)\n",
    "\n",
    "VALUES (3, '2022-12-01T00:00:00.000Z', '2022-12-01T00:15:34.000Z', 170, 140, \n",
    "\n",
    "        20,  -- PassengerCount\n",
    "\n",
    "        2.9, 1.0, '1', 1, 13.0, 0.5, 0.5, 1.0, 0.0, 0.3, 15.3, 0.0, 0.0)\n",
    "\n",
    "\"\"\")"
   ]
  },
  {
   "cell_type": "code",
   "execution_count": 0,
   "metadata": {
    "application/vnd.databricks.v1+cell": {
     "cellMetadata": {
      "byteLimit": 2048000,
      "rowLimit": 10000
     },
     "inputWidgets": {},
     "nuid": "5dc04259-56e1-49d6-ac4d-fd5f0dfa6a78",
     "showTitle": false,
     "tableResultSettingsMap": {},
     "title": ""
    }
   },
   "outputs": [
    {
     "output_type": "stream",
     "name": "stdout",
     "output_type": "stream",
     "text": [
      "Out[62]: DataFrame[]"
     ]
    }
   ],
   "source": [
    "spark.sql(\"\"\"\n",
    "\n",
    "ALTER TABLE TaxisDB.YellowTaxis\n",
    "\n",
    "    DROP CONSTRAINT PassengerCheck\n",
    "\n",
    "\"\"\")"
   ]
  },
  {
   "cell_type": "code",
   "execution_count": 0,
   "metadata": {
    "application/vnd.databricks.v1+cell": {
     "cellMetadata": {
      "byteLimit": 2048000,
      "rowLimit": 10000
     },
     "inputWidgets": {},
     "nuid": "6d86cbb1-302d-4115-8037-adad23fd976f",
     "showTitle": false,
     "tableResultSettingsMap": {},
     "title": ""
    }
   },
   "outputs": [
    {
     "output_type": "stream",
     "name": "stdout",
     "output_type": "stream",
     "text": [
      "+-------+-------------------+----------------+------------------+---------------+-----------------------------------------------------------------------------------------------------------------------------------------------------------------------------------------------------------------------------------------------------------------------------------------------------------+----+-----------------+--------------------+-----------+-----------------+-------------+---------------------------------------------------------------------------------------------------------------------------------------------------------------------------------------------------------------------------------------------------------------------------------------------------------------------------------------------------------------------------------------------------------------------------------------------------------------------------------------------------------------------------------------------------------------------------------------------------------------------------------------------------+------------+-----------------------------------+\n|version|timestamp          |userId          |userName          |operation      |operationParameters                                                                                                                                                                                                                                                                                        |job |notebook         |clusterId           |readVersion|isolationLevel   |isBlindAppend|operationMetrics                                                                                                                                                                                                                                                                                                                                                                                                                                                                                                                                                                                                                                   |userMetadata|engineInfo                         |\n+-------+-------------------+----------------+------------------+---------------+-----------------------------------------------------------------------------------------------------------------------------------------------------------------------------------------------------------------------------------------------------------------------------------------------------------+----+-----------------+--------------------+-----------+-----------------+-------------+---------------------------------------------------------------------------------------------------------------------------------------------------------------------------------------------------------------------------------------------------------------------------------------------------------------------------------------------------------------------------------------------------------------------------------------------------------------------------------------------------------------------------------------------------------------------------------------------------------------------------------------------------+------------+-----------------------------------+\n|10     |2024-11-15 22:12:03|6904895112410171|mlawande@nu.edu.eg|DROP CONSTRAINT|{name -> PassengerCheck, expr -> PassengerCount <= 9 OR PassengerCount IS NULL, existed -> true}                                                                                                                                                                                                           |null|{958133425625928}|1115-213231-jgi8bw2d|9          |WriteSerializable|true         |{}                                                                                                                                                                                                                                                                                                                                                                                                                                                                                                                                                                                                                                                 |null        |Databricks-Runtime/12.2.x-scala2.12|\n|9      |2024-11-15 22:11:39|6904895112410171|mlawande@nu.edu.eg|ADD CONSTRAINT |{name -> PassengerCheck, expr -> PassengerCount <= 9 OR PassengerCount IS NULL}                                                                                                                                                                                                                            |null|{958133425625928}|1115-213231-jgi8bw2d|8          |WriteSerializable|false        |{}                                                                                                                                                                                                                                                                                                                                                                                                                                                                                                                                                                                                                                                 |null        |Databricks-Runtime/12.2.x-scala2.12|\n|8      |2024-11-15 22:05:53|6904895112410171|mlawande@nu.edu.eg|CHANGE COLUMN  |{column -> {\"name\":\"PickupLocationId\",\"type\":\"integer\",\"nullable\":true,\"metadata\":{}}}                                                                                                                                                                                                                     |null|{958133425625928}|1115-213231-jgi8bw2d|7          |WriteSerializable|true         |{}                                                                                                                                                                                                                                                                                                                                                                                                                                                                                                                                                                                                                                                 |null        |Databricks-Runtime/12.2.x-scala2.12|\n|7      |2024-11-15 22:05:09|6904895112410171|mlawande@nu.edu.eg|CHANGE COLUMN  |{column -> {\"name\":\"PickupLocationId\",\"type\":\"integer\",\"nullable\":false,\"metadata\":{}}}                                                                                                                                                                                                                    |null|{958133425625928}|1115-213231-jgi8bw2d|6          |WriteSerializable|true         |{}                                                                                                                                                                                                                                                                                                                                                                                                                                                                                                                                                                                                                                                 |null        |Databricks-Runtime/12.2.x-scala2.12|\n|6      |2024-11-15 21:56:53|6904895112410171|mlawande@nu.edu.eg|MERGE          |{predicate -> [\"((VendorId#10600 = VendorId#10331) AND (PickupLocationId#10603 = PickupLocationId#10338))\"], matchedPredicates -> [{\"actionType\":\"update\"}], notMatchedPredicates -> [{\"predicate\":\"(PickupTime#10332 >= 2022-03-01 00:00:00)\",\"actionType\":\"insert\"}], notMatchedBySourcePredicates -> []}|null|{958133425625928}|1115-213231-jgi8bw2d|5          |WriteSerializable|false        |{numTargetRowsCopied -> 0, numTargetRowsDeleted -> 0, numTargetFilesAdded -> 1, numTargetBytesAdded -> 5759, numTargetBytesRemoved -> 10649, numTargetDeletionVectorsAdded -> 0, numTargetRowsMatchedUpdated -> 3, executionTimeMs -> 9108, materializeSourceTimeMs -> 552, numTargetRowsInserted -> 1, numTargetRowsMatchedDeleted -> 0, scanTimeMs -> 5809, numTargetRowsUpdated -> 3, numOutputRows -> 4, numTargetDeletionVectorsRemoved -> 0, numTargetRowsNotMatchedBySourceUpdated -> 0, numTargetChangeFilesAdded -> 0, numSourceRows -> 4, numTargetFilesRemoved -> 2, numTargetRowsNotMatchedBySourceDeleted -> 0, rewriteTimeMs -> 2419}|null        |Databricks-Runtime/12.2.x-scala2.12|\n|5      |2024-11-15 21:56:19|6904895112410171|mlawande@nu.edu.eg|DELETE         |{predicate -> [\"((VendorId#9191 = 3) AND (PickupLocationId#9194 = 151))\"]}                                                                                                                                                                                                                                 |null|{958133425625928}|1115-213231-jgi8bw2d|4          |WriteSerializable|false        |{numRemovedFiles -> 1, numRemovedBytes -> 5591, numCopiedRows -> 2, numDeletionVectorsAdded -> 0, numDeletionVectorsRemoved -> 0, numAddedChangeFiles -> 0, executionTimeMs -> 2252, numDeletedRows -> 1, scanTimeMs -> 974, numAddedFiles -> 1, numAddedBytes -> 5431, rewriteTimeMs -> 1277}                                                                                                                                                                                                                                                                                                                                                     |null        |Databricks-Runtime/12.2.x-scala2.12|\n|4      |2024-11-15 21:56:09|6904895112410171|mlawande@nu.edu.eg|UPDATE         |{predicate -> [\"((VendorId#7885 = 3) AND (PickupLocationId#7888 = 249))\"]}                                                                                                                                                                                                                                 |null|{958133425625928}|1115-213231-jgi8bw2d|3          |WriteSerializable|false        |{numRemovedFiles -> 1, numRemovedBytes -> 5591, numCopiedRows -> 2, numDeletionVectorsAdded -> 0, numDeletionVectorsRemoved -> 0, numAddedChangeFiles -> 0, executionTimeMs -> 2542, scanTimeMs -> 1273, numAddedFiles -> 1, numUpdatedRows -> 1, numAddedBytes -> 5591, rewriteTimeMs -> 1240}                                                                                                                                                                                                                                                                                                                                                    |null        |Databricks-Runtime/12.2.x-scala2.12|\n|3      |2024-11-15 21:55:58|6904895112410171|mlawande@nu.edu.eg|WRITE          |{mode -> Append, partitionBy -> [\"VendorId\"]}                                                                                                                                                                                                                                                              |null|{958133425625928}|1115-213231-jgi8bw2d|2          |WriteSerializable|true         |{numFiles -> 17, numOutputRows -> 3675412, numOutputBytes -> 79993408}                                                                                                                                                                                                                                                                                                                                                                                                                                                                                                                                                                             |null        |Databricks-Runtime/12.2.x-scala2.12|\n|2      |2024-11-15 21:54:45|6904895112410171|mlawande@nu.edu.eg|WRITE          |{mode -> Append, partitionBy -> [\"VendorId\"]}                                                                                                                                                                                                                                                              |null|{958133425625928}|1115-213231-jgi8bw2d|1          |WriteSerializable|true         |{numFiles -> 1, numOutputRows -> 3, numOutputBytes -> 5591}                                                                                                                                                                                                                                                                                                                                                                                                                                                                                                                                                                                        |null        |Databricks-Runtime/12.2.x-scala2.12|\n|1      |2024-11-15 21:54:16|6904895112410171|mlawande@nu.edu.eg|WRITE          |{mode -> Append, partitionBy -> []}                                                                                                                                                                                                                                                                        |null|{958133425625928}|1115-213231-jgi8bw2d|0          |WriteSerializable|true         |{numFiles -> 1, numOutputRows -> 1, numOutputBytes -> 5218}                                                                                                                                                                                                                                                                                                                                                                                                                                                                                                                                                                                        |null        |Databricks-Runtime/12.2.x-scala2.12|\n|0      |2024-11-15 21:53:55|6904895112410171|mlawande@nu.edu.eg|CREATE TABLE   |{isManaged -> false, description -> This table stores ride information for Yellow Taxis, partitionBy -> [\"VendorId\"], properties -> {}}                                                                                                                                                                    |null|{958133425625928}|1115-213231-jgi8bw2d|null       |WriteSerializable|true         |{}                                                                                                                                                                                                                                                                                                                                                                                                                                                                                                                                                                                                                                                 |null        |Databricks-Runtime/12.2.x-scala2.12|\n+-------+-------------------+----------------+------------------+---------------+-----------------------------------------------------------------------------------------------------------------------------------------------------------------------------------------------------------------------------------------------------------------------------------------------------------+----+-----------------+--------------------+-----------+-----------------+-------------+---------------------------------------------------------------------------------------------------------------------------------------------------------------------------------------------------------------------------------------------------------------------------------------------------------------------------------------------------------------------------------------------------------------------------------------------------------------------------------------------------------------------------------------------------------------------------------------------------------------------------------------------------+------------+-----------------------------------+\n\n"
     ]
    }
   ],
   "source": [
    "spark.sql(\"\"\"\n",
    "\n",
    "DESCRIBE HISTORY TaxisDB.YellowTaxis\n",
    "\n",
    "\"\"\").show(truncate=False)"
   ]
  },
  {
   "cell_type": "markdown",
   "metadata": {
    "application/vnd.databricks.v1+cell": {
     "cellMetadata": {},
     "inputWidgets": {},
     "nuid": "4d77131f-ad30-4f69-ab66-d4d1f8e32181",
     "showTitle": false,
     "tableResultSettingsMap": {},
     "title": ""
    }
   },
   "source": [
    "### Update a record"
   ]
  },
  {
   "cell_type": "code",
   "execution_count": 0,
   "metadata": {
    "application/vnd.databricks.v1+cell": {
     "cellMetadata": {
      "byteLimit": 2048000,
      "rowLimit": 10000
     },
     "inputWidgets": {},
     "nuid": "48009090-b0df-451c-8709-0b73bfc4f7d5",
     "showTitle": false,
     "tableResultSettingsMap": {},
     "title": ""
    }
   },
   "outputs": [
    {
     "output_type": "stream",
     "name": "stdout",
     "output_type": "stream",
     "text": [
      "+--------------+\n|PassengerCount|\n+--------------+\n|           0.0|\n+--------------+\n\n"
     ]
    }
   ],
   "source": [
    "# Check passenger count before update\n",
    "\n",
    "spark.sql(\"\"\"\n",
    "\n",
    "SELECT PassengerCount\n",
    "\n",
    "FROM TaxisDB.YellowTaxis\n",
    "\n",
    "WHERE VendorId = 3\n",
    "    AND PickupLocationId = 1\n",
    "\n",
    "\"\"\").show()"
   ]
  },
  {
   "cell_type": "code",
   "execution_count": 0,
   "metadata": {
    "application/vnd.databricks.v1+cell": {
     "cellMetadata": {
      "byteLimit": 2048000,
      "rowLimit": 10000
     },
     "inputWidgets": {},
     "nuid": "0ba0d013-cb09-4281-a61c-53e13ec8b687",
     "showTitle": false,
     "tableResultSettingsMap": {},
     "title": ""
    }
   },
   "outputs": [
    {
     "output_type": "stream",
     "name": "stdout",
     "output_type": "stream",
     "text": [
      "+-----------------+\n|num_affected_rows|\n+-----------------+\n|                1|\n+-----------------+\n\n"
     ]
    }
   ],
   "source": [
    "# Update passenger count\n",
    "\n",
    "spark.sql(\"\"\"\n",
    "\n",
    "UPDATE TaxisDB.YellowTaxis\n",
    "\n",
    "SET PassengerCount = 1\n",
    "\n",
    "WHERE VendorId = 3\n",
    "    AND PickupLocationId = 1\n",
    "\n",
    "\"\"\").show()"
   ]
  },
  {
   "cell_type": "code",
   "execution_count": 0,
   "metadata": {
    "application/vnd.databricks.v1+cell": {
     "cellMetadata": {
      "byteLimit": 2048000,
      "rowLimit": 10000
     },
     "inputWidgets": {},
     "nuid": "6faa1f55-75ef-4608-8c48-7fbac77d9f4c",
     "showTitle": false,
     "tableResultSettingsMap": {},
     "title": ""
    }
   },
   "outputs": [
    {
     "output_type": "stream",
     "name": "stdout",
     "output_type": "stream",
     "text": [
      "+-------+-------------------+----------------+------------------+---------------+-----------------------------------------------------------------------------------------------------------------------------------------------------------------------------------------------------------------------------------------------------------------------------------------------------------+----+-----------------+--------------------+-----------+-----------------+-------------+---------------------------------------------------------------------------------------------------------------------------------------------------------------------------------------------------------------------------------------------------------------------------------------------------------------------------------------------------------------------------------------------------------------------------------------------------------------------------------------------------------------------------------------------------------------------------------------------------------------------------------------------------+------------+-----------------------------------+\n|version|timestamp          |userId          |userName          |operation      |operationParameters                                                                                                                                                                                                                                                                                        |job |notebook         |clusterId           |readVersion|isolationLevel   |isBlindAppend|operationMetrics                                                                                                                                                                                                                                                                                                                                                                                                                                                                                                                                                                                                                                   |userMetadata|engineInfo                         |\n+-------+-------------------+----------------+------------------+---------------+-----------------------------------------------------------------------------------------------------------------------------------------------------------------------------------------------------------------------------------------------------------------------------------------------------------+----+-----------------+--------------------+-----------+-----------------+-------------+---------------------------------------------------------------------------------------------------------------------------------------------------------------------------------------------------------------------------------------------------------------------------------------------------------------------------------------------------------------------------------------------------------------------------------------------------------------------------------------------------------------------------------------------------------------------------------------------------------------------------------------------------+------------+-----------------------------------+\n|11     |2024-11-15 22:12:58|6904895112410171|mlawande@nu.edu.eg|UPDATE         |{predicate -> [\"((VendorId#15288 = 3) AND (PickupLocationId#15291 = 1))\"]}                                                                                                                                                                                                                                 |null|{958133425625928}|1115-213231-jgi8bw2d|10         |WriteSerializable|false        |{numRemovedFiles -> 1, numRemovedBytes -> 5759, numCopiedRows -> 3, numDeletionVectorsAdded -> 0, numDeletionVectorsRemoved -> 0, numAddedChangeFiles -> 0, executionTimeMs -> 1927, scanTimeMs -> 762, numAddedFiles -> 1, numUpdatedRows -> 1, numAddedBytes -> 5756, rewriteTimeMs -> 1165}                                                                                                                                                                                                                                                                                                                                                     |null        |Databricks-Runtime/12.2.x-scala2.12|\n|10     |2024-11-15 22:12:03|6904895112410171|mlawande@nu.edu.eg|DROP CONSTRAINT|{name -> PassengerCheck, expr -> PassengerCount <= 9 OR PassengerCount IS NULL, existed -> true}                                                                                                                                                                                                           |null|{958133425625928}|1115-213231-jgi8bw2d|9          |WriteSerializable|true         |{}                                                                                                                                                                                                                                                                                                                                                                                                                                                                                                                                                                                                                                                 |null        |Databricks-Runtime/12.2.x-scala2.12|\n|9      |2024-11-15 22:11:39|6904895112410171|mlawande@nu.edu.eg|ADD CONSTRAINT |{name -> PassengerCheck, expr -> PassengerCount <= 9 OR PassengerCount IS NULL}                                                                                                                                                                                                                            |null|{958133425625928}|1115-213231-jgi8bw2d|8          |WriteSerializable|false        |{}                                                                                                                                                                                                                                                                                                                                                                                                                                                                                                                                                                                                                                                 |null        |Databricks-Runtime/12.2.x-scala2.12|\n|8      |2024-11-15 22:05:53|6904895112410171|mlawande@nu.edu.eg|CHANGE COLUMN  |{column -> {\"name\":\"PickupLocationId\",\"type\":\"integer\",\"nullable\":true,\"metadata\":{}}}                                                                                                                                                                                                                     |null|{958133425625928}|1115-213231-jgi8bw2d|7          |WriteSerializable|true         |{}                                                                                                                                                                                                                                                                                                                                                                                                                                                                                                                                                                                                                                                 |null        |Databricks-Runtime/12.2.x-scala2.12|\n|7      |2024-11-15 22:05:09|6904895112410171|mlawande@nu.edu.eg|CHANGE COLUMN  |{column -> {\"name\":\"PickupLocationId\",\"type\":\"integer\",\"nullable\":false,\"metadata\":{}}}                                                                                                                                                                                                                    |null|{958133425625928}|1115-213231-jgi8bw2d|6          |WriteSerializable|true         |{}                                                                                                                                                                                                                                                                                                                                                                                                                                                                                                                                                                                                                                                 |null        |Databricks-Runtime/12.2.x-scala2.12|\n|6      |2024-11-15 21:56:53|6904895112410171|mlawande@nu.edu.eg|MERGE          |{predicate -> [\"((VendorId#10600 = VendorId#10331) AND (PickupLocationId#10603 = PickupLocationId#10338))\"], matchedPredicates -> [{\"actionType\":\"update\"}], notMatchedPredicates -> [{\"predicate\":\"(PickupTime#10332 >= 2022-03-01 00:00:00)\",\"actionType\":\"insert\"}], notMatchedBySourcePredicates -> []}|null|{958133425625928}|1115-213231-jgi8bw2d|5          |WriteSerializable|false        |{numTargetRowsCopied -> 0, numTargetRowsDeleted -> 0, numTargetFilesAdded -> 1, numTargetBytesAdded -> 5759, numTargetBytesRemoved -> 10649, numTargetDeletionVectorsAdded -> 0, numTargetRowsMatchedUpdated -> 3, executionTimeMs -> 9108, materializeSourceTimeMs -> 552, numTargetRowsInserted -> 1, numTargetRowsMatchedDeleted -> 0, scanTimeMs -> 5809, numTargetRowsUpdated -> 3, numOutputRows -> 4, numTargetDeletionVectorsRemoved -> 0, numTargetRowsNotMatchedBySourceUpdated -> 0, numTargetChangeFilesAdded -> 0, numSourceRows -> 4, numTargetFilesRemoved -> 2, numTargetRowsNotMatchedBySourceDeleted -> 0, rewriteTimeMs -> 2419}|null        |Databricks-Runtime/12.2.x-scala2.12|\n|5      |2024-11-15 21:56:19|6904895112410171|mlawande@nu.edu.eg|DELETE         |{predicate -> [\"((VendorId#9191 = 3) AND (PickupLocationId#9194 = 151))\"]}                                                                                                                                                                                                                                 |null|{958133425625928}|1115-213231-jgi8bw2d|4          |WriteSerializable|false        |{numRemovedFiles -> 1, numRemovedBytes -> 5591, numCopiedRows -> 2, numDeletionVectorsAdded -> 0, numDeletionVectorsRemoved -> 0, numAddedChangeFiles -> 0, executionTimeMs -> 2252, numDeletedRows -> 1, scanTimeMs -> 974, numAddedFiles -> 1, numAddedBytes -> 5431, rewriteTimeMs -> 1277}                                                                                                                                                                                                                                                                                                                                                     |null        |Databricks-Runtime/12.2.x-scala2.12|\n|4      |2024-11-15 21:56:09|6904895112410171|mlawande@nu.edu.eg|UPDATE         |{predicate -> [\"((VendorId#7885 = 3) AND (PickupLocationId#7888 = 249))\"]}                                                                                                                                                                                                                                 |null|{958133425625928}|1115-213231-jgi8bw2d|3          |WriteSerializable|false        |{numRemovedFiles -> 1, numRemovedBytes -> 5591, numCopiedRows -> 2, numDeletionVectorsAdded -> 0, numDeletionVectorsRemoved -> 0, numAddedChangeFiles -> 0, executionTimeMs -> 2542, scanTimeMs -> 1273, numAddedFiles -> 1, numUpdatedRows -> 1, numAddedBytes -> 5591, rewriteTimeMs -> 1240}                                                                                                                                                                                                                                                                                                                                                    |null        |Databricks-Runtime/12.2.x-scala2.12|\n|3      |2024-11-15 21:55:58|6904895112410171|mlawande@nu.edu.eg|WRITE          |{mode -> Append, partitionBy -> [\"VendorId\"]}                                                                                                                                                                                                                                                              |null|{958133425625928}|1115-213231-jgi8bw2d|2          |WriteSerializable|true         |{numFiles -> 17, numOutputRows -> 3675412, numOutputBytes -> 79993408}                                                                                                                                                                                                                                                                                                                                                                                                                                                                                                                                                                             |null        |Databricks-Runtime/12.2.x-scala2.12|\n|2      |2024-11-15 21:54:45|6904895112410171|mlawande@nu.edu.eg|WRITE          |{mode -> Append, partitionBy -> [\"VendorId\"]}                                                                                                                                                                                                                                                              |null|{958133425625928}|1115-213231-jgi8bw2d|1          |WriteSerializable|true         |{numFiles -> 1, numOutputRows -> 3, numOutputBytes -> 5591}                                                                                                                                                                                                                                                                                                                                                                                                                                                                                                                                                                                        |null        |Databricks-Runtime/12.2.x-scala2.12|\n|1      |2024-11-15 21:54:16|6904895112410171|mlawande@nu.edu.eg|WRITE          |{mode -> Append, partitionBy -> []}                                                                                                                                                                                                                                                                        |null|{958133425625928}|1115-213231-jgi8bw2d|0          |WriteSerializable|true         |{numFiles -> 1, numOutputRows -> 1, numOutputBytes -> 5218}                                                                                                                                                                                                                                                                                                                                                                                                                                                                                                                                                                                        |null        |Databricks-Runtime/12.2.x-scala2.12|\n|0      |2024-11-15 21:53:55|6904895112410171|mlawande@nu.edu.eg|CREATE TABLE   |{isManaged -> false, description -> This table stores ride information for Yellow Taxis, partitionBy -> [\"VendorId\"], properties -> {}}                                                                                                                                                                    |null|{958133425625928}|1115-213231-jgi8bw2d|null       |WriteSerializable|true         |{}                                                                                                                                                                                                                                                                                                                                                                                                                                                                                                                                                                                                                                                 |null        |Databricks-Runtime/12.2.x-scala2.12|\n+-------+-------------------+----------------+------------------+---------------+-----------------------------------------------------------------------------------------------------------------------------------------------------------------------------------------------------------------------------------------------------------------------------------------------------------+----+-----------------+--------------------+-----------+-----------------+-------------+---------------------------------------------------------------------------------------------------------------------------------------------------------------------------------------------------------------------------------------------------------------------------------------------------------------------------------------------------------------------------------------------------------------------------------------------------------------------------------------------------------------------------------------------------------------------------------------------------------------------------------------------------+------------+-----------------------------------+\n\n"
     ]
    }
   ],
   "source": [
    "spark.sql(\"\"\"\n",
    "\n",
    "DESCRIBE HISTORY TaxisDB.YellowTaxis\n",
    "\n",
    "\"\"\").show(truncate=False)"
   ]
  },
  {
   "cell_type": "markdown",
   "metadata": {
    "application/vnd.databricks.v1+cell": {
     "cellMetadata": {},
     "inputWidgets": {},
     "nuid": "08f82d09-7a4c-43e3-899e-4e4eb057d239",
     "showTitle": false,
     "tableResultSettingsMap": {},
     "title": ""
    }
   },
   "source": [
    "### Time Travel: Access using Version Number"
   ]
  },
  {
   "cell_type": "code",
   "execution_count": 0,
   "metadata": {
    "application/vnd.databricks.v1+cell": {
     "cellMetadata": {
      "byteLimit": 2048000,
      "rowLimit": 10000
     },
     "inputWidgets": {},
     "nuid": "20be9e39-1927-4479-b219-7ee740382c16",
     "showTitle": false,
     "tableResultSettingsMap": {},
     "title": ""
    }
   },
   "outputs": [
    {
     "output_type": "stream",
     "name": "stdout",
     "output_type": "stream",
     "text": [
      "+--------------+\n|PassengerCount|\n+--------------+\n+--------------+\n\n"
     ]
    }
   ],
   "source": [
    "# Check at initial version\n",
    "\n",
    "spark.sql(\"\"\"\n",
    "\n",
    "SELECT PassengerCount\n",
    "\n",
    "FROM TaxisDB.YellowTaxis        VERSION AS OF 0\n",
    "\n",
    "WHERE VendorId = 3\n",
    "    AND PickupLocationId = 1\n",
    "\n",
    "\"\"\").show(truncate=False)"
   ]
  },
  {
   "cell_type": "code",
   "execution_count": 0,
   "metadata": {
    "application/vnd.databricks.v1+cell": {
     "cellMetadata": {
      "byteLimit": 2048000,
      "rowLimit": 10000
     },
     "inputWidgets": {},
     "nuid": "9e4b644b-8b56-4bbb-aed4-9be5963fed75",
     "showTitle": false,
     "tableResultSettingsMap": {},
     "title": ""
    }
   },
   "outputs": [
    {
     "output_type": "stream",
     "name": "stdout",
     "output_type": "stream",
     "text": [
      "+--------------+\n|PassengerCount|\n+--------------+\n|0.0           |\n+--------------+\n\n"
     ]
    }
   ],
   "source": [
    "# Check at one prior version\n",
    "\n",
    "spark.sql(\"\"\"\n",
    "\n",
    "SELECT PassengerCount\n",
    "\n",
    "FROM TaxisDB.YellowTaxis        VERSION AS OF 9\n",
    "\n",
    "WHERE VendorId = 3\n",
    "    AND PickupLocationId = 1\n",
    "\n",
    "\"\"\").show(truncate=False)"
   ]
  },
  {
   "cell_type": "markdown",
   "metadata": {
    "application/vnd.databricks.v1+cell": {
     "cellMetadata": {},
     "inputWidgets": {},
     "nuid": "2ba915a0-d4c5-48b5-a97e-f0f08db099d0",
     "showTitle": false,
     "tableResultSettingsMap": {},
     "title": ""
    }
   },
   "source": [
    "### Time Travel: Access using Timestamp"
   ]
  },
  {
   "cell_type": "code",
   "execution_count": 0,
   "metadata": {
    "application/vnd.databricks.v1+cell": {
     "cellMetadata": {
      "byteLimit": 2048000,
      "rowLimit": 10000
     },
     "inputWidgets": {},
     "nuid": "2c7ce0bd-68e9-43e3-96e7-d6c919e88f4d",
     "showTitle": false,
     "tableResultSettingsMap": {},
     "title": ""
    }
   },
   "outputs": [
    {
     "output_type": "stream",
     "name": "stdout",
     "output_type": "stream",
     "text": [
      "+--------------+\n|PassengerCount|\n+--------------+\n|0.0           |\n+--------------+\n\n"
     ]
    }
   ],
   "source": [
    "spark.sql(\"\"\"\n",
    "\n",
    "SELECT PassengerCount\n",
    "\n",
    "FROM TaxisDB.YellowTaxis        TIMESTAMP AS OF '2024-11-15 22:11:39'\n",
    "\n",
    "WHERE VendorId = 3\n",
    "    AND PickupLocationId = 1\n",
    "\n",
    "\"\"\").show(truncate=False)"
   ]
  },
  {
   "cell_type": "markdown",
   "metadata": {
    "application/vnd.databricks.v1+cell": {
     "cellMetadata": {},
     "inputWidgets": {},
     "nuid": "626b5577-5bf0-4df7-803e-38ca5e5343fb",
     "showTitle": false,
     "tableResultSettingsMap": {},
     "title": ""
    }
   },
   "source": [
    "### Restore Table to older version"
   ]
  },
  {
   "cell_type": "code",
   "execution_count": 0,
   "metadata": {
    "application/vnd.databricks.v1+cell": {
     "cellMetadata": {
      "byteLimit": 2048000,
      "rowLimit": 10000
     },
     "inputWidgets": {},
     "nuid": "5c8cb1c5-b0c9-47ac-ba1c-002af0c0c1ff",
     "showTitle": false,
     "tableResultSettingsMap": {},
     "title": ""
    }
   },
   "outputs": [
    {
     "output_type": "stream",
     "name": "stdout",
     "output_type": "stream",
     "text": [
      "+------------------------+--------------------------+-----------------+------------------+------------------+-------------------+\n|table_size_after_restore|num_of_files_after_restore|num_removed_files|num_restored_files|removed_files_size|restored_files_size|\n+------------------------+--------------------------+-----------------+------------------+------------------+-------------------+\n|79999167                |18                        |1                |1                 |5756              |5759               |\n+------------------------+--------------------------+-----------------+------------------+------------------+-------------------+\n\n"
     ]
    }
   ],
   "source": [
    "spark.sql(\"\"\"\n",
    "\n",
    "RESTORE TABLE TaxisDB.YellowTaxis    TO VERSION AS OF 9\n",
    "\n",
    "\"\"\").show(truncate=False)"
   ]
  },
  {
   "cell_type": "code",
   "execution_count": 0,
   "metadata": {
    "application/vnd.databricks.v1+cell": {
     "cellMetadata": {
      "byteLimit": 2048000,
      "rowLimit": 10000
     },
     "inputWidgets": {},
     "nuid": "f42975ee-3422-434c-99f8-99444eb6c2ee",
     "showTitle": false,
     "tableResultSettingsMap": {},
     "title": ""
    }
   },
   "outputs": [
    {
     "output_type": "stream",
     "name": "stdout",
     "output_type": "stream",
     "text": [
      "+-------+-------------------+----------------+------------------+---------------+-----------------------------------------------------------------------------------------------------------------------------------------------------------------------------------------------------------------------------------------------------------------------------------------------------------+----+-----------------+--------------------+-----------+-----------------+-------------+---------------------------------------------------------------------------------------------------------------------------------------------------------------------------------------------------------------------------------------------------------------------------------------------------------------------------------------------------------------------------------------------------------------------------------------------------------------------------------------------------------------------------------------------------------------------------------------------------------------------------------------------------+------------+-----------------------------------+\n|version|timestamp          |userId          |userName          |operation      |operationParameters                                                                                                                                                                                                                                                                                        |job |notebook         |clusterId           |readVersion|isolationLevel   |isBlindAppend|operationMetrics                                                                                                                                                                                                                                                                                                                                                                                                                                                                                                                                                                                                                                   |userMetadata|engineInfo                         |\n+-------+-------------------+----------------+------------------+---------------+-----------------------------------------------------------------------------------------------------------------------------------------------------------------------------------------------------------------------------------------------------------------------------------------------------------+----+-----------------+--------------------+-----------+-----------------+-------------+---------------------------------------------------------------------------------------------------------------------------------------------------------------------------------------------------------------------------------------------------------------------------------------------------------------------------------------------------------------------------------------------------------------------------------------------------------------------------------------------------------------------------------------------------------------------------------------------------------------------------------------------------+------------+-----------------------------------+\n|12     |2024-11-15 22:14:14|6904895112410171|mlawande@nu.edu.eg|RESTORE        |{version -> 9, timestamp -> null}                                                                                                                                                                                                                                                                          |null|{958133425625928}|1115-213231-jgi8bw2d|11         |Serializable     |false        |{numRestoredFiles -> 1, removedFilesSize -> 5756, numRemovedFiles -> 1, restoredFilesSize -> 5759, numOfFilesAfterRestore -> 18, tableSizeAfterRestore -> 79999167}                                                                                                                                                                                                                                                                                                                                                                                                                                                                                |null        |Databricks-Runtime/12.2.x-scala2.12|\n|11     |2024-11-15 22:12:58|6904895112410171|mlawande@nu.edu.eg|UPDATE         |{predicate -> [\"((VendorId#15288 = 3) AND (PickupLocationId#15291 = 1))\"]}                                                                                                                                                                                                                                 |null|{958133425625928}|1115-213231-jgi8bw2d|10         |WriteSerializable|false        |{numRemovedFiles -> 1, numRemovedBytes -> 5759, numCopiedRows -> 3, numDeletionVectorsAdded -> 0, numDeletionVectorsRemoved -> 0, numAddedChangeFiles -> 0, executionTimeMs -> 1927, scanTimeMs -> 762, numAddedFiles -> 1, numUpdatedRows -> 1, numAddedBytes -> 5756, rewriteTimeMs -> 1165}                                                                                                                                                                                                                                                                                                                                                     |null        |Databricks-Runtime/12.2.x-scala2.12|\n|10     |2024-11-15 22:12:03|6904895112410171|mlawande@nu.edu.eg|DROP CONSTRAINT|{name -> PassengerCheck, expr -> PassengerCount <= 9 OR PassengerCount IS NULL, existed -> true}                                                                                                                                                                                                           |null|{958133425625928}|1115-213231-jgi8bw2d|9          |WriteSerializable|true         |{}                                                                                                                                                                                                                                                                                                                                                                                                                                                                                                                                                                                                                                                 |null        |Databricks-Runtime/12.2.x-scala2.12|\n|9      |2024-11-15 22:11:39|6904895112410171|mlawande@nu.edu.eg|ADD CONSTRAINT |{name -> PassengerCheck, expr -> PassengerCount <= 9 OR PassengerCount IS NULL}                                                                                                                                                                                                                            |null|{958133425625928}|1115-213231-jgi8bw2d|8          |WriteSerializable|false        |{}                                                                                                                                                                                                                                                                                                                                                                                                                                                                                                                                                                                                                                                 |null        |Databricks-Runtime/12.2.x-scala2.12|\n|8      |2024-11-15 22:05:53|6904895112410171|mlawande@nu.edu.eg|CHANGE COLUMN  |{column -> {\"name\":\"PickupLocationId\",\"type\":\"integer\",\"nullable\":true,\"metadata\":{}}}                                                                                                                                                                                                                     |null|{958133425625928}|1115-213231-jgi8bw2d|7          |WriteSerializable|true         |{}                                                                                                                                                                                                                                                                                                                                                                                                                                                                                                                                                                                                                                                 |null        |Databricks-Runtime/12.2.x-scala2.12|\n|7      |2024-11-15 22:05:09|6904895112410171|mlawande@nu.edu.eg|CHANGE COLUMN  |{column -> {\"name\":\"PickupLocationId\",\"type\":\"integer\",\"nullable\":false,\"metadata\":{}}}                                                                                                                                                                                                                    |null|{958133425625928}|1115-213231-jgi8bw2d|6          |WriteSerializable|true         |{}                                                                                                                                                                                                                                                                                                                                                                                                                                                                                                                                                                                                                                                 |null        |Databricks-Runtime/12.2.x-scala2.12|\n|6      |2024-11-15 21:56:53|6904895112410171|mlawande@nu.edu.eg|MERGE          |{predicate -> [\"((VendorId#10600 = VendorId#10331) AND (PickupLocationId#10603 = PickupLocationId#10338))\"], matchedPredicates -> [{\"actionType\":\"update\"}], notMatchedPredicates -> [{\"predicate\":\"(PickupTime#10332 >= 2022-03-01 00:00:00)\",\"actionType\":\"insert\"}], notMatchedBySourcePredicates -> []}|null|{958133425625928}|1115-213231-jgi8bw2d|5          |WriteSerializable|false        |{numTargetRowsCopied -> 0, numTargetRowsDeleted -> 0, numTargetFilesAdded -> 1, numTargetBytesAdded -> 5759, numTargetBytesRemoved -> 10649, numTargetDeletionVectorsAdded -> 0, numTargetRowsMatchedUpdated -> 3, executionTimeMs -> 9108, materializeSourceTimeMs -> 552, numTargetRowsInserted -> 1, numTargetRowsMatchedDeleted -> 0, scanTimeMs -> 5809, numTargetRowsUpdated -> 3, numOutputRows -> 4, numTargetDeletionVectorsRemoved -> 0, numTargetRowsNotMatchedBySourceUpdated -> 0, numTargetChangeFilesAdded -> 0, numSourceRows -> 4, numTargetFilesRemoved -> 2, numTargetRowsNotMatchedBySourceDeleted -> 0, rewriteTimeMs -> 2419}|null        |Databricks-Runtime/12.2.x-scala2.12|\n|5      |2024-11-15 21:56:19|6904895112410171|mlawande@nu.edu.eg|DELETE         |{predicate -> [\"((VendorId#9191 = 3) AND (PickupLocationId#9194 = 151))\"]}                                                                                                                                                                                                                                 |null|{958133425625928}|1115-213231-jgi8bw2d|4          |WriteSerializable|false        |{numRemovedFiles -> 1, numRemovedBytes -> 5591, numCopiedRows -> 2, numDeletionVectorsAdded -> 0, numDeletionVectorsRemoved -> 0, numAddedChangeFiles -> 0, executionTimeMs -> 2252, numDeletedRows -> 1, scanTimeMs -> 974, numAddedFiles -> 1, numAddedBytes -> 5431, rewriteTimeMs -> 1277}                                                                                                                                                                                                                                                                                                                                                     |null        |Databricks-Runtime/12.2.x-scala2.12|\n|4      |2024-11-15 21:56:09|6904895112410171|mlawande@nu.edu.eg|UPDATE         |{predicate -> [\"((VendorId#7885 = 3) AND (PickupLocationId#7888 = 249))\"]}                                                                                                                                                                                                                                 |null|{958133425625928}|1115-213231-jgi8bw2d|3          |WriteSerializable|false        |{numRemovedFiles -> 1, numRemovedBytes -> 5591, numCopiedRows -> 2, numDeletionVectorsAdded -> 0, numDeletionVectorsRemoved -> 0, numAddedChangeFiles -> 0, executionTimeMs -> 2542, scanTimeMs -> 1273, numAddedFiles -> 1, numUpdatedRows -> 1, numAddedBytes -> 5591, rewriteTimeMs -> 1240}                                                                                                                                                                                                                                                                                                                                                    |null        |Databricks-Runtime/12.2.x-scala2.12|\n|3      |2024-11-15 21:55:58|6904895112410171|mlawande@nu.edu.eg|WRITE          |{mode -> Append, partitionBy -> [\"VendorId\"]}                                                                                                                                                                                                                                                              |null|{958133425625928}|1115-213231-jgi8bw2d|2          |WriteSerializable|true         |{numFiles -> 17, numOutputRows -> 3675412, numOutputBytes -> 79993408}                                                                                                                                                                                                                                                                                                                                                                                                                                                                                                                                                                             |null        |Databricks-Runtime/12.2.x-scala2.12|\n|2      |2024-11-15 21:54:45|6904895112410171|mlawande@nu.edu.eg|WRITE          |{mode -> Append, partitionBy -> [\"VendorId\"]}                                                                                                                                                                                                                                                              |null|{958133425625928}|1115-213231-jgi8bw2d|1          |WriteSerializable|true         |{numFiles -> 1, numOutputRows -> 3, numOutputBytes -> 5591}                                                                                                                                                                                                                                                                                                                                                                                                                                                                                                                                                                                        |null        |Databricks-Runtime/12.2.x-scala2.12|\n|1      |2024-11-15 21:54:16|6904895112410171|mlawande@nu.edu.eg|WRITE          |{mode -> Append, partitionBy -> []}                                                                                                                                                                                                                                                                        |null|{958133425625928}|1115-213231-jgi8bw2d|0          |WriteSerializable|true         |{numFiles -> 1, numOutputRows -> 1, numOutputBytes -> 5218}                                                                                                                                                                                                                                                                                                                                                                                                                                                                                                                                                                                        |null        |Databricks-Runtime/12.2.x-scala2.12|\n|0      |2024-11-15 21:53:55|6904895112410171|mlawande@nu.edu.eg|CREATE TABLE   |{isManaged -> false, description -> This table stores ride information for Yellow Taxis, partitionBy -> [\"VendorId\"], properties -> {}}                                                                                                                                                                    |null|{958133425625928}|1115-213231-jgi8bw2d|null       |WriteSerializable|true         |{}                                                                                                                                                                                                                                                                                                                                                                                                                                                                                                                                                                                                                                                 |null        |Databricks-Runtime/12.2.x-scala2.12|\n+-------+-------------------+----------------+------------------+---------------+-----------------------------------------------------------------------------------------------------------------------------------------------------------------------------------------------------------------------------------------------------------------------------------------------------------+----+-----------------+--------------------+-----------+-----------------+-------------+---------------------------------------------------------------------------------------------------------------------------------------------------------------------------------------------------------------------------------------------------------------------------------------------------------------------------------------------------------------------------------------------------------------------------------------------------------------------------------------------------------------------------------------------------------------------------------------------------------------------------------------------------+------------+-----------------------------------+\n\n"
     ]
    }
   ],
   "source": [
    "spark.sql(\"\"\"\n",
    "\n",
    "DESCRIBE HISTORY TaxisDB.YellowTaxis\n",
    "\n",
    "\"\"\").show(truncate=False)"
   ]
  },
  {
   "cell_type": "code",
   "execution_count": 0,
   "metadata": {
    "application/vnd.databricks.v1+cell": {
     "cellMetadata": {
      "byteLimit": 2048000,
      "rowLimit": 10000
     },
     "inputWidgets": {},
     "nuid": "0ba47968-7f44-4d9a-9a67-b190886d36fc",
     "showTitle": false,
     "tableResultSettingsMap": {},
     "title": ""
    }
   },
   "outputs": [
    {
     "output_type": "stream",
     "name": "stdout",
     "output_type": "stream",
     "text": [
      "+--------------+\n|PassengerCount|\n+--------------+\n|           0.0|\n+--------------+\n\n"
     ]
    }
   ],
   "source": [
    "# Check data after restore\n",
    "\n",
    "spark.sql(\"\"\"\n",
    "\n",
    "SELECT PassengerCount\n",
    "\n",
    "FROM TaxisDB.YellowTaxis\n",
    "\n",
    "WHERE VendorId = 3\n",
    "    AND PickupLocationId = 1\n",
    "\n",
    "\"\"\").show()"
   ]
  },
  {
   "cell_type": "code",
   "execution_count": 0,
   "metadata": {
    "application/vnd.databricks.v1+cell": {
     "cellMetadata": {},
     "inputWidgets": {},
     "nuid": "c64015d1-3cb2-469c-8f90-bd5bb18ab1e4",
     "showTitle": false,
     "tableResultSettingsMap": {},
     "title": ""
    }
   },
   "outputs": [],
   "source": []
  },
  {
   "cell_type": "code",
   "execution_count": 0,
   "metadata": {
    "application/vnd.databricks.v1+cell": {
     "cellMetadata": {},
     "inputWidgets": {},
     "nuid": "59061661-8071-44e2-bb65-350de0e2b1b9",
     "showTitle": false,
     "tableResultSettingsMap": {},
     "title": ""
    }
   },
   "outputs": [],
   "source": []
  },
  {
   "cell_type": "code",
   "execution_count": 0,
   "metadata": {
    "application/vnd.databricks.v1+cell": {
     "cellMetadata": {},
     "inputWidgets": {},
     "nuid": "72411bbb-9cd4-4264-a764-c067e44ec342",
     "showTitle": false,
     "tableResultSettingsMap": {},
     "title": ""
    }
   },
   "outputs": [],
   "source": []
  },
  {
   "cell_type": "code",
   "execution_count": 0,
   "metadata": {
    "application/vnd.databricks.v1+cell": {
     "cellMetadata": {},
     "inputWidgets": {},
     "nuid": "04a647b0-f02e-4c12-ab49-16f7a0327870",
     "showTitle": false,
     "tableResultSettingsMap": {},
     "title": ""
    }
   },
   "outputs": [],
   "source": []
  },
  {
   "cell_type": "code",
   "execution_count": 0,
   "metadata": {
    "application/vnd.databricks.v1+cell": {
     "cellMetadata": {},
     "inputWidgets": {},
     "nuid": "6cd70ebd-ea6c-4e69-a6c0-c387e49aea57",
     "showTitle": false,
     "tableResultSettingsMap": {},
     "title": ""
    }
   },
   "outputs": [],
   "source": []
  },
  {
   "cell_type": "code",
   "execution_count": 0,
   "metadata": {
    "application/vnd.databricks.v1+cell": {
     "cellMetadata": {},
     "inputWidgets": {},
     "nuid": "c186adb3-3544-4f74-805a-b24939f5f201",
     "showTitle": false,
     "tableResultSettingsMap": {},
     "title": ""
    }
   },
   "outputs": [],
   "source": []
  },
  {
   "cell_type": "code",
   "execution_count": 0,
   "metadata": {
    "application/vnd.databricks.v1+cell": {
     "cellMetadata": {},
     "inputWidgets": {},
     "nuid": "9785c28c-dca9-4ad3-9198-f6f546a5703f",
     "showTitle": false,
     "tableResultSettingsMap": {},
     "title": ""
    }
   },
   "outputs": [],
   "source": []
  },
  {
   "cell_type": "code",
   "execution_count": 0,
   "metadata": {
    "application/vnd.databricks.v1+cell": {
     "cellMetadata": {},
     "inputWidgets": {},
     "nuid": "5d7d7f31-f701-4d22-845a-3a77731688ba",
     "showTitle": false,
     "tableResultSettingsMap": {},
     "title": ""
    }
   },
   "outputs": [],
   "source": []
  },
  {
   "cell_type": "code",
   "execution_count": 0,
   "metadata": {
    "application/vnd.databricks.v1+cell": {
     "cellMetadata": {},
     "inputWidgets": {},
     "nuid": "e66c3776-36a8-41a8-9fc5-067aae263771",
     "showTitle": false,
     "tableResultSettingsMap": {},
     "title": ""
    }
   },
   "outputs": [],
   "source": []
  },
  {
   "cell_type": "code",
   "execution_count": 0,
   "metadata": {
    "application/vnd.databricks.v1+cell": {
     "cellMetadata": {},
     "inputWidgets": {},
     "nuid": "430e3b99-6687-46f5-8355-191176cb447b",
     "showTitle": false,
     "tableResultSettingsMap": {},
     "title": ""
    }
   },
   "outputs": [],
   "source": []
  },
  {
   "cell_type": "code",
   "execution_count": 0,
   "metadata": {
    "application/vnd.databricks.v1+cell": {
     "cellMetadata": {},
     "inputWidgets": {},
     "nuid": "bca86dff-4f20-468b-899c-ed264690a78f",
     "showTitle": false,
     "tableResultSettingsMap": {},
     "title": ""
    }
   },
   "outputs": [],
   "source": []
  },
  {
   "cell_type": "code",
   "execution_count": 0,
   "metadata": {
    "application/vnd.databricks.v1+cell": {
     "cellMetadata": {},
     "inputWidgets": {},
     "nuid": "5a758ed9-1558-40c4-8f40-d0144bea84c2",
     "showTitle": false,
     "tableResultSettingsMap": {},
     "title": ""
    }
   },
   "outputs": [],
   "source": []
  },
  {
   "cell_type": "code",
   "execution_count": 0,
   "metadata": {
    "application/vnd.databricks.v1+cell": {
     "cellMetadata": {},
     "inputWidgets": {},
     "nuid": "e4a5724b-e343-4c9c-b7ee-7830ba8dbeba",
     "showTitle": false,
     "tableResultSettingsMap": {},
     "title": ""
    }
   },
   "outputs": [],
   "source": []
  }
 ],
 "metadata": {
  "application/vnd.databricks.v1+notebook": {
   "dashboards": [],
   "environmentMetadata": null,
   "language": "python",
   "notebookMetadata": {
    "pythonIndentUnit": 2
   },
   "notebookName": "m9.1 - Delta Lake",
   "widgets": {}
  },
  "kernelspec": {
   "display_name": "Python 3 (ipykernel)",
   "language": "python",
   "name": "python3"
  },
  "language_info": {
   "codemirror_mode": {
    "name": "ipython",
    "version": 3
   },
   "file_extension": ".py",
   "mimetype": "text/x-python",
   "name": "python",
   "nbconvert_exporter": "python",
   "pygments_lexer": "ipython3",
   "version": "3.10.9"
  }
 },
 "nbformat": 4,
 "nbformat_minor": 0
}
